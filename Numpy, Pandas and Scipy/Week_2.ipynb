{
 "cells": [
  {
   "cell_type": "markdown",
   "metadata": {
    "id": "a0I2CdzTl7c5"
   },
   "source": [
    "# Week 2 - Numpy, Pandas and SciPy\n",
    "\n",
    "This week we are going to learn about the fundamental libraries for data science in Python - `numpy`, `pandas`, and `scipy`. These are workhorse libraries that make our work faster and more efficient, and give us some tools to make our lives far easier when working with data.\n",
    "\n",
    "## Numpy\n",
    "\n",
    "`numpy` (pronounced num-pie), concerns itself with multidimensional arrays. In Python, we can have lists, lists of list, and list of lists of lists etc, but working with these can be quite annoying, and relatively \"slow\" when compared with other languages. `numpy` speeds this up by working a a lower level than Python (closer to processor commands), and provides some more intuitive syntax for working with multidimensional arrays with two main drawbacks: an array must contain all the same type of object (typically numeric), and must have equally sized sub-arrays (we can only have 3x5 matrices for example, not a 3 row matrix with 2 rows of length 5 and one row of length 4). For mathematical computation (and data!), these drawbacks don't really matter, and in some cases can stop bad things from happening!\n",
    "\n",
    "So let's look at how we can start using `numpy`. As with `matplotlib`, the standard is to import `numpy` under and alias to save time (programmers are lazy!). `np` is what everyone uses. To define a `numpy` array, we pass a list into the `np.array` function, which will create a new `nd.array` (`nd` here standing for n-dimensional!) with our data. There is one common pitfall here and that is passing a bunch of numbers as different arguments instead of just one list, so watch out!\n"
   ]
  },
  {
   "cell_type": "code",
   "execution_count": 1,
   "metadata": {
    "colab": {
     "base_uri": "https://localhost:8080/"
    },
    "id": "31bQxb2bn3Xa",
    "outputId": "ec38f759-2b3c-45fa-a4de-09fe7ced8dec"
   },
   "outputs": [
    {
     "name": "stdout",
     "output_type": "stream",
     "text": [
      "[1 2 3 4]\n"
     ]
    }
   ],
   "source": [
    "import numpy as np\n",
    "\n",
    "# Define new array using a list. Note that there's one argument to the fn\n",
    "# not seperated by commas! Just 1 list!\n",
    "# Also now everything in the array has to have the same type\n",
    "a = np.array([1,2,3,4])\n",
    "\n",
    "print(a)"
   ]
  },
  {
   "cell_type": "markdown",
   "metadata": {},
   "source": [
    "There are a few helpful attributes of a `numpy` array that are helpful to know, for debugging purposes: "
   ]
  },
  {
   "cell_type": "code",
   "execution_count": 2,
   "metadata": {
    "colab": {
     "base_uri": "https://localhost:8080/"
    },
    "id": "fnojsu6wpIfk",
    "outputId": "8407c2d3-486b-4ec3-eff3-f7366cc8bf8b"
   },
   "outputs": [
    {
     "name": "stdout",
     "output_type": "stream",
     "text": [
      "Shape: (4,)\n",
      "Number of dimensions: 1\n",
      "Types of the items inside: int64\n",
      "Size of array: 4\n"
     ]
    }
   ],
   "source": [
    "# New debugging tools:\n",
    "print(\"Shape:\", a.shape)\n",
    "print(\"Number of dimensions:\", a.ndim)\n",
    "print(\"Types of the items inside:\", a.dtype.name)\n",
    "print(\"Size of array:\", a.size)"
   ]
  },
  {
   "cell_type": "markdown",
   "metadata": {},
   "source": [
    "Often it's helpful to have some ready-made arrays ready to go that are generated algorithmically - `numpy` has a lot of these (read the docs!), but the most common ones are as follows:"
   ]
  },
  {
   "cell_type": "code",
   "execution_count": 3,
   "metadata": {
    "colab": {
     "base_uri": "https://localhost:8080/"
    },
    "id": "QPIDp07zptbP",
    "outputId": "9f95f50e-c421-4967-8d40-a638a453ed5e"
   },
   "outputs": [
    {
     "name": "stdout",
     "output_type": "stream",
     "text": [
      "[ 0  1  2  3  4  5  6  7  8  9 10 11 12 13 14]\n",
      "[ 0.          1.11111111  2.22222222  3.33333333  4.44444444  5.55555556\n",
      "  6.66666667  7.77777778  8.88888889 10.        ]\n",
      "[[0. 0. 0. 0. 0.]\n",
      " [0. 0. 0. 0. 0.]\n",
      " [0. 0. 0. 0. 0.]]\n",
      "[[[1. 1. 1. 1.]\n",
      "  [1. 1. 1. 1.]\n",
      "  [1. 1. 1. 1.]]\n",
      "\n",
      " [[1. 1. 1. 1.]\n",
      "  [1. 1. 1. 1.]\n",
      "  [1. 1. 1. 1.]]]\n"
     ]
    }
   ],
   "source": [
    "# Other ways to make arrays:\n",
    "arranged = np.arange(15)\n",
    "linspace = np.linspace(0, 10, 10)\n",
    "zeros = np.zeros((3,5))\n",
    "ones = np.ones((2,3,4))\n",
    "\n",
    "print(arranged)\n",
    "print(linspace)\n",
    "print(zeros)\n",
    "print(ones)"
   ]
  },
  {
   "cell_type": "markdown",
   "metadata": {},
   "source": [
    "Manipulating arrays is extremely important - often knowing a few operations and combining them can get you where you need to be, but there is also often a shortcut function that is even more efficient - again, the documentation is your friend here! Here are my top 4 functions for manipulating data:"
   ]
  },
  {
   "cell_type": "code",
   "execution_count": 4,
   "metadata": {
    "colab": {
     "base_uri": "https://localhost:8080/"
    },
    "id": "0GMa6GFyqFUR",
    "outputId": "64cd3883-f9de-4a42-b387-30a58bb1ce9f"
   },
   "outputs": [
    {
     "name": "stdout",
     "output_type": "stream",
     "text": [
      "[[ 0  1  2  3  4]\n",
      " [ 5  6  7  8  9]\n",
      " [10 11 12 13 14]]\n",
      "[[[ 0  1  2]]\n",
      "\n",
      " [[ 3  4  5]]\n",
      "\n",
      " [[ 6  7  8]]\n",
      "\n",
      " [[ 9 10 11]]\n",
      "\n",
      " [[12 13 14]]]\n",
      "[[ 0  5 10]\n",
      " [ 1  6 11]\n",
      " [ 2  7 12]\n",
      " [ 3  8 13]\n",
      " [ 4  9 14]]\n",
      "[1. 1. 1. 1. 1. 1. 1. 1. 1. 1. 1. 1. 1. 1. 1. 1. 1. 1. 1. 1. 1. 1. 1. 1.]\n"
     ]
    }
   ],
   "source": [
    "# Reshaping arrays\n",
    "print(arranged.reshape(3,5)) \n",
    "\n",
    "# -1 means numpy infers size\n",
    "print(arranged.reshape(5, 1, -1))\n",
    "\n",
    "# Transpose array\n",
    "print(arranged.reshape(3,5).T)\n",
    "\n",
    "# Ravel array - flattens the array\n",
    "print(ones.ravel())"
   ]
  },
  {
   "cell_type": "markdown",
   "metadata": {},
   "source": [
    "Because we make some assumptions about the type of data we are working with (homogeneity of type, size constraints), we can perform operations directly on the arrays without using loops. If you are familiar with linear algebra, we can treat these as vectors, matrices or tensors (in fact, I may refer to these in this way be habit!)."
   ]
  },
  {
   "cell_type": "code",
   "execution_count": 5,
   "metadata": {
    "colab": {
     "base_uri": "https://localhost:8080/"
    },
    "id": "CL7xvwUAqakz",
    "outputId": "91defafd-7c02-4a0b-fb6f-09d881fbb6ab"
   },
   "outputs": [
    {
     "name": "stdout",
     "output_type": "stream",
     "text": [
      "[3 5 7]\n"
     ]
    }
   ],
   "source": [
    "# Operations on arrays\n",
    "# Good thing about numpy is because all the types are forced, we can add entire\n",
    "# arrays.\n",
    "\n",
    "a = np.array([1, 2, 3])\n",
    "b = np.array([2 ,3, 4])\n",
    "print(a+b)\n",
    "\n",
    "# These operations are vectorized, meaning they work faster than if we looped in\n",
    "# native Python, due to C backend magic\n"
   ]
  },
  {
   "cell_type": "markdown",
   "metadata": {},
   "source": [
    "Indexing a `numpy` array is done in the same way as normal Python lists, but it can be a bit confusing - we work from the outer axis in - so for 2D arrays, first the row then the column, and for 3D arrays; the \"block\", then the row, then the column. Slicing is done in exactly the same way - the first number is inclusive, the second exclusive."
   ]
  },
  {
   "cell_type": "code",
   "execution_count": 6,
   "metadata": {
    "colab": {
     "base_uri": "https://localhost:8080/"
    },
    "id": "yk8cyr-b9to2",
    "outputId": "12d06094-127c-4cb0-e060-b8e78cbb5f00"
   },
   "outputs": [
    {
     "name": "stdout",
     "output_type": "stream",
     "text": [
      "[[[ 0  1  2  3  4]\n",
      "  [ 5  6  7  8  9]\n",
      "  [10 11 12 13 14]]\n",
      "\n",
      " [[15 16 17 18 19]\n",
      "  [20 21 22 23 24]\n",
      "  [25 26 27 28 29]]]\n",
      "9\n",
      "[[16 17]\n",
      " [21 22]]\n",
      "[[[ 1  2  3  4]\n",
      "  [ 6  7  8  9]]\n",
      "\n",
      " [[16 17 18 19]\n",
      "  [21 22 23 24]]]\n"
     ]
    }
   ],
   "source": [
    "# Slicing in numpy\n",
    "# Take a multidimensional array\n",
    "\n",
    "b = np.arange(30).reshape((2,3,5))\n",
    "print(b)\n",
    "\n",
    "# We can think of this as a 3D array.\n",
    "# Slicing works just like in normal lists, but for multiple dims we seperate with\n",
    "# commas, working from the outer dimension in\n",
    "\n",
    "# First block, second row, 5th element as shown by numpy\n",
    "print(b[0,1,4])\n",
    "\n",
    "# Simple slice\n",
    "print(b[1, 0:2, 1:3])\n",
    "\n",
    "# Using colons to denote \"all\"\n",
    "print(b[:, 0:2, 1:])"
   ]
  },
  {
   "cell_type": "markdown",
   "metadata": {},
   "source": [
    "Working with these arrays is important, so we'll have a quick quiz to see if you can predict some indexing operations:"
   ]
  },
  {
   "cell_type": "code",
   "execution_count": 7,
   "metadata": {
    "colab": {
     "base_uri": "https://localhost:8080/"
    },
    "id": "H-UzYC6E-sr8",
    "outputId": "f8390b07-a3b3-4b18-a825-c64492088e5d"
   },
   "outputs": [
    {
     "name": "stdout",
     "output_type": "stream",
     "text": [
      "A:\n",
      " [ 0  1  4  9 16 25]\n",
      "B:\n",
      " [[ 0  1  2  3  4  5  6]\n",
      " [ 7  8  9 10 11 12 13]\n",
      " [14 15 16 17 18 19 20]]\n",
      "C:\n",
      " [[[ 0  1  2  3  4]\n",
      "  [ 5  6  7  8  9]\n",
      "  [10 11 12 13 14]]\n",
      "\n",
      " [[15 16 17 18 19]\n",
      "  [20 21 22 23 24]\n",
      "  [25 26 27 28 29]]\n",
      "\n",
      " [[30 31 32 33 34]\n",
      "  [35 36 37 38 39]\n",
      "  [40 41 42 43 44]]]\n",
      "Solutions!\n",
      "[ 1  4  9 16 25]\n",
      "[ 4  9 16]\n",
      "[ 8  9 10 11]\n",
      "[ 2  9 16]\n",
      "14\n",
      "[[[ 2  3  4]\n",
      "  [ 7  8  9]\n",
      "  [12 13 14]]\n",
      "\n",
      " [[17 18 19]\n",
      "  [22 23 24]\n",
      "  [27 28 29]]\n",
      "\n",
      " [[32 33 34]\n",
      "  [37 38 39]\n",
      "  [42 43 44]]]\n"
     ]
    }
   ],
   "source": [
    "# Quiz time!\n",
    "# Here we have 3 arrays with different dimensions. What do these expressions \n",
    "# evaluate to?\n",
    "\n",
    "a = np.arange(6) ** 2\n",
    "b = np.arange(21).reshape((3, 7))\n",
    "c = np.arange(45).reshape((3, 3, 5))\n",
    "\n",
    "print(\"A:\\n\", a)\n",
    "print(\"B:\\n\", b)\n",
    "print(\"C:\\n\", c)\n",
    "\n",
    "\n",
    "print(\"Solutions!\")\n",
    "print(a[1:])\n",
    "print(a[2:5])\n",
    "\n",
    "print(b[1,1:5])\n",
    "print(b[:, 2])\n",
    "\n",
    "print(c[0, 2, 4])\n",
    "print(c[:, :, 2:])"
   ]
  },
  {
   "cell_type": "markdown",
   "metadata": {},
   "source": [
    "As stated before, `numpy` arrays can be thought as vectors or matrices. For both of these types, there are multiple types of multiplication - `numpy` allows us to do them in different ways. It is a *very* common bug to choose the wrong type of operation, so take care when doing this, and always check for expected outputs!"
   ]
  },
  {
   "cell_type": "code",
   "execution_count": 8,
   "metadata": {
    "colab": {
     "base_uri": "https://localhost:8080/"
    },
    "id": "pQUyjTfBD16w",
    "outputId": "2230e617-4740-4742-ea7e-a6659942f8db"
   },
   "outputs": [
    {
     "name": "stdout",
     "output_type": "stream",
     "text": [
      "A:\n",
      " [[3 0 3]\n",
      " [0 2 0]\n",
      " [1 0 1]]\n",
      "B:\n",
      " [[0 1 2]\n",
      " [3 4 5]\n",
      " [6 7 8]]\n",
      "A * B\n",
      "[[0 0 6]\n",
      " [0 8 0]\n",
      " [6 0 8]]\n",
      "A @ B\n",
      "[[18 24 30]\n",
      " [ 6  8 10]\n",
      " [ 6  8 10]]\n"
     ]
    }
   ],
   "source": [
    "# Numpy is used a lot for linear algebra\n",
    "# Let's define two matricies and multiply them together\n",
    "\n",
    "a = np.array([[3, 0, 3], [0, 2, 0], [1, 0, 1]])\n",
    "b = np.arange(9).reshape((3,3))\n",
    "\n",
    "print(\"A:\\n\", a)\n",
    "print(\"B:\\n\", b)\n",
    "\n",
    "# Element-wise multiplication\n",
    "print(\"A * B\")\n",
    "print(a * b)\n",
    "\n",
    "# Proper matrix multiplication\n",
    "print(\"A @ B\")\n",
    "print(a @ b)"
   ]
  },
  {
   "cell_type": "markdown",
   "metadata": {},
   "source": [
    "We have just scratched the surface with `numpy`, but I implore you to check out the documentation and take a look at some of the other things it can do. For a peek behind the scenes - I use the `np.random` sublibrary a lot for generating anonymised data for the exercises for this course. Which ones? Well that would be telling!"
   ]
  },
  {
   "cell_type": "code",
   "execution_count": 9,
   "metadata": {
    "colab": {
     "base_uri": "https://localhost:8080/"
    },
    "id": "j6GYkCdWElEL",
    "outputId": "1b2c5f56-d7af-4c28-8f73-3e7779d54cde"
   },
   "outputs": [
    {
     "name": "stdout",
     "output_type": "stream",
     "text": [
      "[[0.98359663 0.15319418]\n",
      " [0.86003762 0.05319845]\n",
      " [0.91705835 0.14679482]]\n",
      "[[-0.3399506  -0.91514808  0.82797255 -1.01949448 -1.15611593]\n",
      " [-1.82972404 -1.47992147  0.22984392  0.08243601 -0.31533385]\n",
      " [-1.88517691  1.13227323 -0.56243918 -1.55937937 -0.9683959 ]\n",
      " [-1.40855793  2.41587126 -0.60313146  1.0696626  -0.53147466]]\n"
     ]
    }
   ],
   "source": [
    "# Lots more in the documentation for linear algebra. (numpy.linalg)\n",
    "# We also use the random sublibrary a lot\n",
    "\n",
    "# Uniform random\n",
    "print(np.random.rand(3,2))\n",
    "\n",
    "# Standard normal random\n",
    "print(np.random.randn(4,5))\n",
    "\n",
    "# Good for testing yourself, or sanity testing your code\n",
    "\n",
    "# IMPORTANT: Get used to googling how to manipulate these! It's not always easy.\n",
    "# Lots of methods, functions etc to use, lots of space for \"in-house\" optimisation"
   ]
  },
  {
   "cell_type": "markdown",
   "metadata": {
    "id": "hEeXTYvvpe1t"
   },
   "source": [
    "# pandas\n",
    "\n",
    "`pandas` is another workhorse module that is particularly powerful at making data more interpretable and understandable to us. It runs with `numpy` underneath, so it is still fairly fast, and gives us some very \"quick to code\" data reading/writing options which is often enough to justify its inclusion in small projects. If you have worked with the R programming language, Dataframes (the main `pandas` object) are lifted from there, with some slight differences to make them more Python friendly.\n",
    "\n",
    "Unlike `numpy` arrays, we can have different datatypes for each column, so it lends itself to working with data with meaningful labels attached, such as crime data with region annotations. This means that it is usually your first stop for exploratory data analysis, for asking questions about your data and manipulating it ready for AI models.\n",
    "\n",
    "Lastly, `pandas` does include some wrapper functions around `matplotlib` that let us make some \"quick and dirty\" plots of our data. Generally I avoid these, as any exploration of the data would also go into a report (to answer any \"why?\" questions), so I would make the effort to create a fully featured `matplotlib` plot (covered next week!), although you may find them helpful in showing the \"shape\" of your data, or getting a quick `matplotlib` object to refine more using that toolkit.\n",
    "\n",
    "Let's start by looking at the dataframe object itself, and some ways we can use it. First, we can define a DataFrame in a number of ways. One is by passing a dictionary of column names and data:"
   ]
  },
  {
   "cell_type": "code",
   "execution_count": 10,
   "metadata": {
    "colab": {
     "base_uri": "https://localhost:8080/",
     "height": 142
    },
    "id": "SstKGujMjxbY",
    "outputId": "20165e2f-bc47-4ef2-a964-3fef21eac857"
   },
   "outputs": [
    {
     "data": {
      "text/html": [
       "<div>\n",
       "<style scoped>\n",
       "    .dataframe tbody tr th:only-of-type {\n",
       "        vertical-align: middle;\n",
       "    }\n",
       "\n",
       "    .dataframe tbody tr th {\n",
       "        vertical-align: top;\n",
       "    }\n",
       "\n",
       "    .dataframe thead th {\n",
       "        text-align: right;\n",
       "    }\n",
       "</style>\n",
       "<table border=\"1\" class=\"dataframe\">\n",
       "  <thead>\n",
       "    <tr style=\"text-align: right;\">\n",
       "      <th></th>\n",
       "      <th>Name</th>\n",
       "      <th>Ages</th>\n",
       "      <th>Job</th>\n",
       "    </tr>\n",
       "  </thead>\n",
       "  <tbody>\n",
       "    <tr>\n",
       "      <th>0</th>\n",
       "      <td>John Smith</td>\n",
       "      <td>34</td>\n",
       "      <td>Lecturer</td>\n",
       "    </tr>\n",
       "    <tr>\n",
       "      <th>1</th>\n",
       "      <td>Jane Doe</td>\n",
       "      <td>55</td>\n",
       "      <td>Data Scientist</td>\n",
       "    </tr>\n",
       "    <tr>\n",
       "      <th>2</th>\n",
       "      <td>Joe Bloggs</td>\n",
       "      <td>15</td>\n",
       "      <td>Student</td>\n",
       "    </tr>\n",
       "  </tbody>\n",
       "</table>\n",
       "</div>"
      ],
      "text/plain": [
       "         Name  Ages             Job\n",
       "0  John Smith    34        Lecturer\n",
       "1    Jane Doe    55  Data Scientist\n",
       "2  Joe Bloggs    15         Student"
      ]
     },
     "execution_count": 10,
     "metadata": {},
     "output_type": "execute_result"
    }
   ],
   "source": [
    "import pandas as pd\n",
    "\n",
    "# Defining a dataframe from a dictionary\n",
    "test_df = pd.DataFrame({\n",
    "    \"Name\": [\"John Smith\", \"Jane Doe\", \"Joe Bloggs\"],\n",
    "    \"Ages\": [34, 55, 15],\n",
    "    \"Job\": [\"Lecturer\", \"Data Scientist\", \"Student\"]\n",
    "})\n",
    "\n",
    "# Breaking my own rule here. Outputting a dataframe in a cell formats it nicely.\n",
    "test_df"
   ]
  },
  {
   "cell_type": "markdown",
   "metadata": {},
   "source": [
    "Another way is to use a `numpy` array:"
   ]
  },
  {
   "cell_type": "code",
   "execution_count": 11,
   "metadata": {
    "colab": {
     "base_uri": "https://localhost:8080/",
     "height": 204
    },
    "id": "rC0DelnukxQ4",
    "outputId": "0a2b5318-c9ba-4867-ea0f-548284a760f6"
   },
   "outputs": [
    {
     "data": {
      "text/html": [
       "<div>\n",
       "<style scoped>\n",
       "    .dataframe tbody tr th:only-of-type {\n",
       "        vertical-align: middle;\n",
       "    }\n",
       "\n",
       "    .dataframe tbody tr th {\n",
       "        vertical-align: top;\n",
       "    }\n",
       "\n",
       "    .dataframe thead th {\n",
       "        text-align: right;\n",
       "    }\n",
       "</style>\n",
       "<table border=\"1\" class=\"dataframe\">\n",
       "  <thead>\n",
       "    <tr style=\"text-align: right;\">\n",
       "      <th></th>\n",
       "      <th>0</th>\n",
       "      <th>1</th>\n",
       "      <th>2</th>\n",
       "      <th>3</th>\n",
       "      <th>4</th>\n",
       "    </tr>\n",
       "  </thead>\n",
       "  <tbody>\n",
       "    <tr>\n",
       "      <th>0</th>\n",
       "      <td>-1.419171</td>\n",
       "      <td>-1.099854</td>\n",
       "      <td>0.818773</td>\n",
       "      <td>-1.049333</td>\n",
       "      <td>0.119632</td>\n",
       "    </tr>\n",
       "    <tr>\n",
       "      <th>1</th>\n",
       "      <td>0.569406</td>\n",
       "      <td>1.954995</td>\n",
       "      <td>2.260636</td>\n",
       "      <td>0.073445</td>\n",
       "      <td>-0.931863</td>\n",
       "    </tr>\n",
       "    <tr>\n",
       "      <th>2</th>\n",
       "      <td>1.358944</td>\n",
       "      <td>1.192691</td>\n",
       "      <td>-0.870942</td>\n",
       "      <td>1.069876</td>\n",
       "      <td>1.661209</td>\n",
       "    </tr>\n",
       "    <tr>\n",
       "      <th>3</th>\n",
       "      <td>1.650708</td>\n",
       "      <td>-1.473542</td>\n",
       "      <td>1.844979</td>\n",
       "      <td>-0.074414</td>\n",
       "      <td>-1.706066</td>\n",
       "    </tr>\n",
       "    <tr>\n",
       "      <th>4</th>\n",
       "      <td>0.819320</td>\n",
       "      <td>0.338527</td>\n",
       "      <td>2.336529</td>\n",
       "      <td>0.697865</td>\n",
       "      <td>-0.170014</td>\n",
       "    </tr>\n",
       "  </tbody>\n",
       "</table>\n",
       "</div>"
      ],
      "text/plain": [
       "          0         1         2         3         4\n",
       "0 -1.419171 -1.099854  0.818773 -1.049333  0.119632\n",
       "1  0.569406  1.954995  2.260636  0.073445 -0.931863\n",
       "2  1.358944  1.192691 -0.870942  1.069876  1.661209\n",
       "3  1.650708 -1.473542  1.844979 -0.074414 -1.706066\n",
       "4  0.819320  0.338527  2.336529  0.697865 -0.170014"
      ]
     },
     "execution_count": 11,
     "metadata": {},
     "output_type": "execute_result"
    }
   ],
   "source": [
    "# Creating a dataframe from a numpy array\n",
    "# Not that useful in practice but useful for sanity checks\n",
    "\n",
    "test_df2 = pd.DataFrame(np.random.randn(5,5))\n",
    "\n",
    "test_df2"
   ]
  },
  {
   "cell_type": "markdown",
   "metadata": {
    "id": "IbDMwHRSnGW6"
   },
   "source": [
    "The third way, which I would recommend, is by using the built in I/O functions. To get the course files, there are 3 options:\n",
    "\n",
    "* (The easy, but slow way). Download the files from the GitHub repo, then upload them to colab using the Files interface\n",
    "* (The cool, fast way). Use a terminal command to download the file (!wget)\n",
    "* (The lazy (good!), temporary way). Reference the URL directly. Only works sometimes!\n",
    "\n",
    "The first way will be demonstrated in the session, and will only work with `colab`. The second way will work as follow on any `jupyter` system:"
   ]
  },
  {
   "cell_type": "code",
   "execution_count": 12,
   "metadata": {
    "colab": {
     "base_uri": "https://localhost:8080/"
    },
    "id": "o0G2vXyioEdC",
    "outputId": "6692bcbb-2439-4f74-aa20-9ab320552a05"
   },
   "outputs": [
    {
     "name": "stdout",
     "output_type": "stream",
     "text": [
      "--2021-09-11 15:04:36--  https://raw.githubusercontent.com/stmball/PracticalPython/main/Numpy%2C%20Pandas%20and%20Scipy/io_test.csv\n",
      "Resolving raw.githubusercontent.com (raw.githubusercontent.com)... 185.199.110.133, 185.199.111.133, 185.199.108.133, ...\n",
      "Connecting to raw.githubusercontent.com (raw.githubusercontent.com)|185.199.110.133|:443... connected.\n",
      "HTTP request sent, awaiting response... 200 OK\n",
      "Length: 9941 (9.7K) [text/plain]\n",
      "Saving to: ‘io_test.csv.1’\n",
      "\n",
      "io_test.csv.1       100%[===================>]   9.71K  --.-KB/s    in 0s      \n",
      "\n",
      "2021-09-11 15:04:36 (37.5 MB/s) - ‘io_test.csv.1’ saved [9941/9941]\n",
      "\n"
     ]
    }
   ],
   "source": [
    "!wget \"https://raw.githubusercontent.com/stmball/PracticalPython/main/Numpy%2C%20Pandas%20and%20Scipy/io_test.csv\""
   ]
  },
  {
   "cell_type": "markdown",
   "metadata": {},
   "source": [
    "Once we have a file, we have two options - we can either import the code using the built in Python read functionality - I have put this below to show how long this would take moreso than as a learning moment!"
   ]
  },
  {
   "cell_type": "code",
   "execution_count": 13,
   "metadata": {
    "colab": {
     "base_uri": "https://localhost:8080/",
     "height": 450
    },
    "id": "k0_MG8tMlSP_",
    "outputId": "e55a2bf8-d7c5-46fc-c658-6f8f3c9d9ba4"
   },
   "outputs": [
    {
     "data": {
      "text/html": [
       "<div>\n",
       "<style scoped>\n",
       "    .dataframe tbody tr th:only-of-type {\n",
       "        vertical-align: middle;\n",
       "    }\n",
       "\n",
       "    .dataframe tbody tr th {\n",
       "        vertical-align: top;\n",
       "    }\n",
       "\n",
       "    .dataframe thead th {\n",
       "        text-align: right;\n",
       "    }\n",
       "</style>\n",
       "<table border=\"1\" class=\"dataframe\">\n",
       "  <thead>\n",
       "    <tr style=\"text-align: right;\">\n",
       "      <th></th>\n",
       "      <th>1</th>\n",
       "      <th>2</th>\n",
       "      <th>3</th>\n",
       "      <th>4</th>\n",
       "      <th>5</th>\n",
       "    </tr>\n",
       "    <tr>\n",
       "      <th>0</th>\n",
       "      <th></th>\n",
       "      <th></th>\n",
       "      <th></th>\n",
       "      <th></th>\n",
       "      <th></th>\n",
       "    </tr>\n",
       "  </thead>\n",
       "  <tbody>\n",
       "    <tr>\n",
       "      <th>0</th>\n",
       "      <td>0.1432153039712626</td>\n",
       "      <td>0.15799417876536237</td>\n",
       "      <td>0.4970620536852365</td>\n",
       "      <td>0.290791006116899</td>\n",
       "      <td>0.3636681047611162</td>\n",
       "    </tr>\n",
       "    <tr>\n",
       "      <th>1</th>\n",
       "      <td>0.7892551579434275</td>\n",
       "      <td>0.8871926894425783</td>\n",
       "      <td>0.49252115533893615</td>\n",
       "      <td>0.5102460328332956</td>\n",
       "      <td>0.6455994795409915</td>\n",
       "    </tr>\n",
       "    <tr>\n",
       "      <th>2</th>\n",
       "      <td>0.2899205925185674</td>\n",
       "      <td>0.5769737820205402</td>\n",
       "      <td>0.6723802975293791</td>\n",
       "      <td>0.9196821357573697</td>\n",
       "      <td>0.027258426325027174</td>\n",
       "    </tr>\n",
       "    <tr>\n",
       "      <th>3</th>\n",
       "      <td>0.80886369867763</td>\n",
       "      <td>0.15681802894458996</td>\n",
       "      <td>0.6128850225238877</td>\n",
       "      <td>0.5973486717979002</td>\n",
       "      <td>0.9997391897516252</td>\n",
       "    </tr>\n",
       "    <tr>\n",
       "      <th>4</th>\n",
       "      <td>0.006903865253541586</td>\n",
       "      <td>0.6797419936806534</td>\n",
       "      <td>0.3245179359996784</td>\n",
       "      <td>0.27516001973009674</td>\n",
       "      <td>0.8109816621353563</td>\n",
       "    </tr>\n",
       "    <tr>\n",
       "      <th>...</th>\n",
       "      <td>...</td>\n",
       "      <td>...</td>\n",
       "      <td>...</td>\n",
       "      <td>...</td>\n",
       "      <td>...</td>\n",
       "    </tr>\n",
       "    <tr>\n",
       "      <th>95</th>\n",
       "      <td>0.08101946738148469</td>\n",
       "      <td>0.2937648297298163</td>\n",
       "      <td>0.7209050136639791</td>\n",
       "      <td>0.7454826197056004</td>\n",
       "      <td>0.9981047591822249</td>\n",
       "    </tr>\n",
       "    <tr>\n",
       "      <th>96</th>\n",
       "      <td>0.7609923873425549</td>\n",
       "      <td>0.35279289438677386</td>\n",
       "      <td>0.6531495112737837</td>\n",
       "      <td>0.7370318867637822</td>\n",
       "      <td>0.09470934936612185</td>\n",
       "    </tr>\n",
       "    <tr>\n",
       "      <th>97</th>\n",
       "      <td>0.890704576008212</td>\n",
       "      <td>0.8110124288834771</td>\n",
       "      <td>0.8393249984193694</td>\n",
       "      <td>0.8651849461448687</td>\n",
       "      <td>0.7656888372170907</td>\n",
       "    </tr>\n",
       "    <tr>\n",
       "      <th>98</th>\n",
       "      <td>0.27112423481503944</td>\n",
       "      <td>0.2757726339648573</td>\n",
       "      <td>0.2553876243361819</td>\n",
       "      <td>0.47526252133864444</td>\n",
       "      <td>0.744313657288676</td>\n",
       "    </tr>\n",
       "    <tr>\n",
       "      <th>99</th>\n",
       "      <td>0.8585380358684338</td>\n",
       "      <td>0.7771551212579264</td>\n",
       "      <td>0.8776006801482198</td>\n",
       "      <td>0.7213260222313936</td>\n",
       "      <td>0.6172465065408053</td>\n",
       "    </tr>\n",
       "  </tbody>\n",
       "</table>\n",
       "<p>100 rows × 5 columns</p>\n",
       "</div>"
      ],
      "text/plain": [
       "                       1                    2                    3  \\\n",
       "0                                                                    \n",
       "0     0.1432153039712626  0.15799417876536237   0.4970620536852365   \n",
       "1     0.7892551579434275   0.8871926894425783  0.49252115533893615   \n",
       "2     0.2899205925185674   0.5769737820205402   0.6723802975293791   \n",
       "3       0.80886369867763  0.15681802894458996   0.6128850225238877   \n",
       "4   0.006903865253541586   0.6797419936806534   0.3245179359996784   \n",
       "..                   ...                  ...                  ...   \n",
       "95   0.08101946738148469   0.2937648297298163   0.7209050136639791   \n",
       "96    0.7609923873425549  0.35279289438677386   0.6531495112737837   \n",
       "97     0.890704576008212   0.8110124288834771   0.8393249984193694   \n",
       "98   0.27112423481503944   0.2757726339648573   0.2553876243361819   \n",
       "99    0.8585380358684338   0.7771551212579264   0.8776006801482198   \n",
       "\n",
       "                      4                     5  \n",
       "0                                              \n",
       "0     0.290791006116899    0.3636681047611162  \n",
       "1    0.5102460328332956    0.6455994795409915  \n",
       "2    0.9196821357573697  0.027258426325027174  \n",
       "3    0.5973486717979002    0.9997391897516252  \n",
       "4   0.27516001973009674    0.8109816621353563  \n",
       "..                  ...                   ...  \n",
       "95   0.7454826197056004    0.9981047591822249  \n",
       "96   0.7370318867637822   0.09470934936612185  \n",
       "97   0.8651849461448687    0.7656888372170907  \n",
       "98  0.47526252133864444     0.744313657288676  \n",
       "99   0.7213260222313936    0.6172465065408053  \n",
       "\n",
       "[100 rows x 5 columns]"
      ]
     },
     "execution_count": 13,
     "metadata": {},
     "output_type": "execute_result"
    }
   ],
   "source": [
    "# Let's talk about I/O for a bit.\n",
    "\n",
    "# Importing files into colab.\n",
    "\n",
    "\n",
    "with open(\"./io_test.csv\", \"r\") as my_file:\n",
    "    # Read data from file\n",
    "    data = my_file.read()\n",
    "\n",
    "    # Start to parse data\n",
    "    data = data.split(\"\\n\")\n",
    "\n",
    "\n",
    "    def col_split(string):\n",
    "        return string.split(\",\")\n",
    "\n",
    "    data = list(map(col_split, data))\n",
    "\n",
    "# Get rid of first and last lines due to artifacts when loading\n",
    "df = pd.DataFrame(data[1:-1])\n",
    "\n",
    "# Set index to the index column\n",
    "df = df.set_index(0)\n",
    "\n",
    "# Phew!\n",
    "df\n"
   ]
  },
  {
   "cell_type": "markdown",
   "metadata": {},
   "source": [
    "... or we can use the relevant `pandas` function to do the work for us. This is where way 3 of the \"getting the data\" comes in - sometimes we can reference the URL of where the data is and get it straight in. Whether you can do this or not depends on the settings of where you are trying to get the data from!"
   ]
  },
  {
   "cell_type": "code",
   "execution_count": 14,
   "metadata": {
    "colab": {
     "base_uri": "https://localhost:8080/",
     "height": 419
    },
    "id": "86QL4NlzoI25",
    "outputId": "72c56259-e2ec-4005-8594-7d4c8d4ddb93"
   },
   "outputs": [
    {
     "data": {
      "text/html": [
       "<div>\n",
       "<style scoped>\n",
       "    .dataframe tbody tr th:only-of-type {\n",
       "        vertical-align: middle;\n",
       "    }\n",
       "\n",
       "    .dataframe tbody tr th {\n",
       "        vertical-align: top;\n",
       "    }\n",
       "\n",
       "    .dataframe thead th {\n",
       "        text-align: right;\n",
       "    }\n",
       "</style>\n",
       "<table border=\"1\" class=\"dataframe\">\n",
       "  <thead>\n",
       "    <tr style=\"text-align: right;\">\n",
       "      <th></th>\n",
       "      <th>0</th>\n",
       "      <th>1</th>\n",
       "      <th>2</th>\n",
       "      <th>3</th>\n",
       "      <th>4</th>\n",
       "    </tr>\n",
       "  </thead>\n",
       "  <tbody>\n",
       "    <tr>\n",
       "      <th>0</th>\n",
       "      <td>0.143215</td>\n",
       "      <td>0.157994</td>\n",
       "      <td>0.497062</td>\n",
       "      <td>0.290791</td>\n",
       "      <td>0.363668</td>\n",
       "    </tr>\n",
       "    <tr>\n",
       "      <th>1</th>\n",
       "      <td>0.789255</td>\n",
       "      <td>0.887193</td>\n",
       "      <td>0.492521</td>\n",
       "      <td>0.510246</td>\n",
       "      <td>0.645599</td>\n",
       "    </tr>\n",
       "    <tr>\n",
       "      <th>2</th>\n",
       "      <td>0.289921</td>\n",
       "      <td>0.576974</td>\n",
       "      <td>0.672380</td>\n",
       "      <td>0.919682</td>\n",
       "      <td>0.027258</td>\n",
       "    </tr>\n",
       "    <tr>\n",
       "      <th>3</th>\n",
       "      <td>0.808864</td>\n",
       "      <td>0.156818</td>\n",
       "      <td>0.612885</td>\n",
       "      <td>0.597349</td>\n",
       "      <td>0.999739</td>\n",
       "    </tr>\n",
       "    <tr>\n",
       "      <th>4</th>\n",
       "      <td>0.006904</td>\n",
       "      <td>0.679742</td>\n",
       "      <td>0.324518</td>\n",
       "      <td>0.275160</td>\n",
       "      <td>0.810982</td>\n",
       "    </tr>\n",
       "    <tr>\n",
       "      <th>...</th>\n",
       "      <td>...</td>\n",
       "      <td>...</td>\n",
       "      <td>...</td>\n",
       "      <td>...</td>\n",
       "      <td>...</td>\n",
       "    </tr>\n",
       "    <tr>\n",
       "      <th>95</th>\n",
       "      <td>0.081019</td>\n",
       "      <td>0.293765</td>\n",
       "      <td>0.720905</td>\n",
       "      <td>0.745483</td>\n",
       "      <td>0.998105</td>\n",
       "    </tr>\n",
       "    <tr>\n",
       "      <th>96</th>\n",
       "      <td>0.760992</td>\n",
       "      <td>0.352793</td>\n",
       "      <td>0.653150</td>\n",
       "      <td>0.737032</td>\n",
       "      <td>0.094709</td>\n",
       "    </tr>\n",
       "    <tr>\n",
       "      <th>97</th>\n",
       "      <td>0.890705</td>\n",
       "      <td>0.811012</td>\n",
       "      <td>0.839325</td>\n",
       "      <td>0.865185</td>\n",
       "      <td>0.765689</td>\n",
       "    </tr>\n",
       "    <tr>\n",
       "      <th>98</th>\n",
       "      <td>0.271124</td>\n",
       "      <td>0.275773</td>\n",
       "      <td>0.255388</td>\n",
       "      <td>0.475263</td>\n",
       "      <td>0.744314</td>\n",
       "    </tr>\n",
       "    <tr>\n",
       "      <th>99</th>\n",
       "      <td>0.858538</td>\n",
       "      <td>0.777155</td>\n",
       "      <td>0.877601</td>\n",
       "      <td>0.721326</td>\n",
       "      <td>0.617247</td>\n",
       "    </tr>\n",
       "  </tbody>\n",
       "</table>\n",
       "<p>100 rows × 5 columns</p>\n",
       "</div>"
      ],
      "text/plain": [
       "           0         1         2         3         4\n",
       "0   0.143215  0.157994  0.497062  0.290791  0.363668\n",
       "1   0.789255  0.887193  0.492521  0.510246  0.645599\n",
       "2   0.289921  0.576974  0.672380  0.919682  0.027258\n",
       "3   0.808864  0.156818  0.612885  0.597349  0.999739\n",
       "4   0.006904  0.679742  0.324518  0.275160  0.810982\n",
       "..       ...       ...       ...       ...       ...\n",
       "95  0.081019  0.293765  0.720905  0.745483  0.998105\n",
       "96  0.760992  0.352793  0.653150  0.737032  0.094709\n",
       "97  0.890705  0.811012  0.839325  0.865185  0.765689\n",
       "98  0.271124  0.275773  0.255388  0.475263  0.744314\n",
       "99  0.858538  0.777155  0.877601  0.721326  0.617247\n",
       "\n",
       "[100 rows x 5 columns]"
      ]
     },
     "execution_count": 14,
     "metadata": {},
     "output_type": "execute_result"
    }
   ],
   "source": [
    "# Easier way to do it:\n",
    "\n",
    "df = pd.read_csv(\"./io_test.csv\", index_col=0)\n",
    "\n",
    "# Beautiful!!!\n",
    "df\n",
    "\n",
    "# Pandas also has functions for importing excel files, JSON files, HTML tables,\n",
    "# SAS, SPSS, SQL, GoogleBigQuery data etc, all (whith maybe the exception of JSON)\n",
    "# Would be HORRIBLE to parse manually using Python!"
   ]
  },
  {
   "cell_type": "markdown",
   "metadata": {
    "id": "HDsNWarzsGB3"
   },
   "source": [
    "Let's look at some pandas functionality using the publicly available \"iris\" dataset. It's a very popular test dataset for ML! Contains 4 measurements for 3 different species of the iris flower."
   ]
  },
  {
   "cell_type": "code",
   "execution_count": 15,
   "metadata": {
    "colab": {
     "base_uri": "https://localhost:8080/"
    },
    "id": "CzW_NaSmrQkl",
    "outputId": "2f41cf88-ed61-430d-8f27-307223761057"
   },
   "outputs": [
    {
     "name": "stdout",
     "output_type": "stream",
     "text": [
      "--2021-09-11 15:04:36--  https://raw.githubusercontent.com/stmball/PracticalPython/main/Numpy%2C%20Pandas%20and%20Scipy/iris.csv\n",
      "Resolving raw.githubusercontent.com (raw.githubusercontent.com)... 185.199.110.133, 185.199.111.133, 185.199.108.133, ...\n",
      "Connecting to raw.githubusercontent.com (raw.githubusercontent.com)|185.199.110.133|:443... connected.\n",
      "HTTP request sent, awaiting response... 200 OK\n",
      "Length: 4351 (4.2K) [text/plain]\n",
      "Saving to: ‘iris.csv.1’\n",
      "\n",
      "iris.csv.1          100%[===================>]   4.25K  --.-KB/s    in 0s      \n",
      "\n",
      "2021-09-11 15:04:37 (17.9 MB/s) - ‘iris.csv.1’ saved [4351/4351]\n",
      "\n"
     ]
    }
   ],
   "source": [
    "!wget \"https://raw.githubusercontent.com/stmball/PracticalPython/main/Numpy%2C%20Pandas%20and%20Scipy/iris.csv\""
   ]
  },
  {
   "cell_type": "markdown",
   "metadata": {},
   "source": [
    "Now that I've downloaded the data, we can import it using `pandas`. The `index_col=0` argument to the function is a common solution to an annoying `pandas` problem where you get an extra row in your dataframe of the index, in addition to the index column."
   ]
  },
  {
   "cell_type": "code",
   "execution_count": 16,
   "metadata": {
    "colab": {
     "base_uri": "https://localhost:8080/",
     "height": 204
    },
    "id": "izg1qpoxplUC",
    "outputId": "508241d4-0c64-40f0-857f-a35c6de572c3"
   },
   "outputs": [
    {
     "data": {
      "text/html": [
       "<div>\n",
       "<style scoped>\n",
       "    .dataframe tbody tr th:only-of-type {\n",
       "        vertical-align: middle;\n",
       "    }\n",
       "\n",
       "    .dataframe tbody tr th {\n",
       "        vertical-align: top;\n",
       "    }\n",
       "\n",
       "    .dataframe thead th {\n",
       "        text-align: right;\n",
       "    }\n",
       "</style>\n",
       "<table border=\"1\" class=\"dataframe\">\n",
       "  <thead>\n",
       "    <tr style=\"text-align: right;\">\n",
       "      <th></th>\n",
       "      <th>Sepal.Length</th>\n",
       "      <th>Sepal.Width</th>\n",
       "      <th>Petal.Length</th>\n",
       "      <th>Petal.Width</th>\n",
       "      <th>Species</th>\n",
       "    </tr>\n",
       "  </thead>\n",
       "  <tbody>\n",
       "    <tr>\n",
       "      <th>1</th>\n",
       "      <td>5.1</td>\n",
       "      <td>3.5</td>\n",
       "      <td>1.4</td>\n",
       "      <td>0.2</td>\n",
       "      <td>setosa</td>\n",
       "    </tr>\n",
       "    <tr>\n",
       "      <th>2</th>\n",
       "      <td>4.9</td>\n",
       "      <td>3.0</td>\n",
       "      <td>1.4</td>\n",
       "      <td>0.2</td>\n",
       "      <td>setosa</td>\n",
       "    </tr>\n",
       "    <tr>\n",
       "      <th>3</th>\n",
       "      <td>4.7</td>\n",
       "      <td>3.2</td>\n",
       "      <td>1.3</td>\n",
       "      <td>0.2</td>\n",
       "      <td>setosa</td>\n",
       "    </tr>\n",
       "    <tr>\n",
       "      <th>4</th>\n",
       "      <td>4.6</td>\n",
       "      <td>3.1</td>\n",
       "      <td>1.5</td>\n",
       "      <td>0.2</td>\n",
       "      <td>setosa</td>\n",
       "    </tr>\n",
       "    <tr>\n",
       "      <th>5</th>\n",
       "      <td>5.0</td>\n",
       "      <td>3.6</td>\n",
       "      <td>1.4</td>\n",
       "      <td>0.2</td>\n",
       "      <td>setosa</td>\n",
       "    </tr>\n",
       "  </tbody>\n",
       "</table>\n",
       "</div>"
      ],
      "text/plain": [
       "   Sepal.Length  Sepal.Width  Petal.Length  Petal.Width Species\n",
       "1           5.1          3.5           1.4          0.2  setosa\n",
       "2           4.9          3.0           1.4          0.2  setosa\n",
       "3           4.7          3.2           1.3          0.2  setosa\n",
       "4           4.6          3.1           1.5          0.2  setosa\n",
       "5           5.0          3.6           1.4          0.2  setosa"
      ]
     },
     "execution_count": 16,
     "metadata": {},
     "output_type": "execute_result"
    }
   ],
   "source": [
    "iris = pd.read_csv(\"./iris.csv\", index_col=0)\n",
    "\n",
    "# Let's take a look at the top 5 entries using the head method\n",
    "iris.head()"
   ]
  },
  {
   "cell_type": "markdown",
   "metadata": {},
   "source": [
    "As with `numpy`, we have some helpful ways of telling us information about our data without a lot of work. the `.info()` method gives us a breakdown of how many non-null (that is, without data missing) rows we have for each column, as well as the data type (Dtype)."
   ]
  },
  {
   "cell_type": "code",
   "execution_count": 17,
   "metadata": {
    "colab": {
     "base_uri": "https://localhost:8080/"
    },
    "id": "E-Aw2uMerOJL",
    "outputId": "76da3e09-75d4-45a3-dfb2-0d5fa42b7dbf"
   },
   "outputs": [
    {
     "name": "stdout",
     "output_type": "stream",
     "text": [
      "<class 'pandas.core.frame.DataFrame'>\n",
      "Int64Index: 150 entries, 1 to 150\n",
      "Data columns (total 5 columns):\n",
      " #   Column        Non-Null Count  Dtype  \n",
      "---  ------        --------------  -----  \n",
      " 0   Sepal.Length  150 non-null    float64\n",
      " 1   Sepal.Width   150 non-null    float64\n",
      " 2   Petal.Length  150 non-null    float64\n",
      " 3   Petal.Width   150 non-null    float64\n",
      " 4   Species       150 non-null    object \n",
      "dtypes: float64(4), object(1)\n",
      "memory usage: 7.0+ KB\n"
     ]
    }
   ],
   "source": [
    "# Some helpful methods\n",
    "iris.info()"
   ]
  },
  {
   "cell_type": "markdown",
   "metadata": {},
   "source": [
    "The output here is very nice - we see that we have 150 entries, and all of the data is available. All of our columns are numeric apart from the \"Species\" column which is an \"object\" (this typically means string).\n",
    "\n",
    "We could probably have guessed the data types from printing the head, but if you have a dataset that has 100+ columns, this method is probably the best way of getting an overview of your data.\n",
    "\n",
    "For some simple descriptive statistics, we can use the `.describe()` method:"
   ]
  },
  {
   "cell_type": "code",
   "execution_count": 18,
   "metadata": {
    "colab": {
     "base_uri": "https://localhost:8080/",
     "height": 297
    },
    "id": "1atWKaf5szp1",
    "outputId": "af68c294-db80-4e7b-e9e0-0fce582d09b9"
   },
   "outputs": [
    {
     "data": {
      "text/html": [
       "<div>\n",
       "<style scoped>\n",
       "    .dataframe tbody tr th:only-of-type {\n",
       "        vertical-align: middle;\n",
       "    }\n",
       "\n",
       "    .dataframe tbody tr th {\n",
       "        vertical-align: top;\n",
       "    }\n",
       "\n",
       "    .dataframe thead th {\n",
       "        text-align: right;\n",
       "    }\n",
       "</style>\n",
       "<table border=\"1\" class=\"dataframe\">\n",
       "  <thead>\n",
       "    <tr style=\"text-align: right;\">\n",
       "      <th></th>\n",
       "      <th>Sepal.Length</th>\n",
       "      <th>Sepal.Width</th>\n",
       "      <th>Petal.Length</th>\n",
       "      <th>Petal.Width</th>\n",
       "    </tr>\n",
       "  </thead>\n",
       "  <tbody>\n",
       "    <tr>\n",
       "      <th>count</th>\n",
       "      <td>150.000000</td>\n",
       "      <td>150.000000</td>\n",
       "      <td>150.000000</td>\n",
       "      <td>150.000000</td>\n",
       "    </tr>\n",
       "    <tr>\n",
       "      <th>mean</th>\n",
       "      <td>5.843333</td>\n",
       "      <td>3.057333</td>\n",
       "      <td>3.758000</td>\n",
       "      <td>1.199333</td>\n",
       "    </tr>\n",
       "    <tr>\n",
       "      <th>std</th>\n",
       "      <td>0.828066</td>\n",
       "      <td>0.435866</td>\n",
       "      <td>1.765298</td>\n",
       "      <td>0.762238</td>\n",
       "    </tr>\n",
       "    <tr>\n",
       "      <th>min</th>\n",
       "      <td>4.300000</td>\n",
       "      <td>2.000000</td>\n",
       "      <td>1.000000</td>\n",
       "      <td>0.100000</td>\n",
       "    </tr>\n",
       "    <tr>\n",
       "      <th>25%</th>\n",
       "      <td>5.100000</td>\n",
       "      <td>2.800000</td>\n",
       "      <td>1.600000</td>\n",
       "      <td>0.300000</td>\n",
       "    </tr>\n",
       "    <tr>\n",
       "      <th>50%</th>\n",
       "      <td>5.800000</td>\n",
       "      <td>3.000000</td>\n",
       "      <td>4.350000</td>\n",
       "      <td>1.300000</td>\n",
       "    </tr>\n",
       "    <tr>\n",
       "      <th>75%</th>\n",
       "      <td>6.400000</td>\n",
       "      <td>3.300000</td>\n",
       "      <td>5.100000</td>\n",
       "      <td>1.800000</td>\n",
       "    </tr>\n",
       "    <tr>\n",
       "      <th>max</th>\n",
       "      <td>7.900000</td>\n",
       "      <td>4.400000</td>\n",
       "      <td>6.900000</td>\n",
       "      <td>2.500000</td>\n",
       "    </tr>\n",
       "  </tbody>\n",
       "</table>\n",
       "</div>"
      ],
      "text/plain": [
       "       Sepal.Length  Sepal.Width  Petal.Length  Petal.Width\n",
       "count    150.000000   150.000000    150.000000   150.000000\n",
       "mean       5.843333     3.057333      3.758000     1.199333\n",
       "std        0.828066     0.435866      1.765298     0.762238\n",
       "min        4.300000     2.000000      1.000000     0.100000\n",
       "25%        5.100000     2.800000      1.600000     0.300000\n",
       "50%        5.800000     3.000000      4.350000     1.300000\n",
       "75%        6.400000     3.300000      5.100000     1.800000\n",
       "max        7.900000     4.400000      6.900000     2.500000"
      ]
     },
     "execution_count": 18,
     "metadata": {},
     "output_type": "execute_result"
    }
   ],
   "source": [
    "iris.describe()"
   ]
  },
  {
   "cell_type": "markdown",
   "metadata": {},
   "source": [
    "This might take a bit of reading but tells us a lot about the \"shape\" of our data - it only does this for the numeric columns but tells us some helpful information such as the mean, standard deviation (how spread out our data is), and the min/max. For me this is a \"sanity check\" - are any of these numbers larger/smaller than expected? If so, why?\n",
    "\n",
    "Very often we will want to sort our data by the values in one of the columns. Here's how we do that - notice we are now chaining methods together - we can do this because the `.sort_values()` method returns a copy of the dataframe that is sorted!"
   ]
  },
  {
   "cell_type": "code",
   "execution_count": 19,
   "metadata": {
    "colab": {
     "base_uri": "https://localhost:8080/",
     "height": 1000
    },
    "id": "t6ntAJ7us3g2",
    "outputId": "bf1bf7d7-bf61-47b0-ab1b-120b221c7fe5"
   },
   "outputs": [
    {
     "data": {
      "text/html": [
       "<div>\n",
       "<style scoped>\n",
       "    .dataframe tbody tr th:only-of-type {\n",
       "        vertical-align: middle;\n",
       "    }\n",
       "\n",
       "    .dataframe tbody tr th {\n",
       "        vertical-align: top;\n",
       "    }\n",
       "\n",
       "    .dataframe thead th {\n",
       "        text-align: right;\n",
       "    }\n",
       "</style>\n",
       "<table border=\"1\" class=\"dataframe\">\n",
       "  <thead>\n",
       "    <tr style=\"text-align: right;\">\n",
       "      <th></th>\n",
       "      <th>Sepal.Length</th>\n",
       "      <th>Sepal.Width</th>\n",
       "      <th>Petal.Length</th>\n",
       "      <th>Petal.Width</th>\n",
       "      <th>Species</th>\n",
       "    </tr>\n",
       "  </thead>\n",
       "  <tbody>\n",
       "    <tr>\n",
       "      <th>14</th>\n",
       "      <td>4.3</td>\n",
       "      <td>3.0</td>\n",
       "      <td>1.1</td>\n",
       "      <td>0.1</td>\n",
       "      <td>setosa</td>\n",
       "    </tr>\n",
       "    <tr>\n",
       "      <th>43</th>\n",
       "      <td>4.4</td>\n",
       "      <td>3.2</td>\n",
       "      <td>1.3</td>\n",
       "      <td>0.2</td>\n",
       "      <td>setosa</td>\n",
       "    </tr>\n",
       "    <tr>\n",
       "      <th>39</th>\n",
       "      <td>4.4</td>\n",
       "      <td>3.0</td>\n",
       "      <td>1.3</td>\n",
       "      <td>0.2</td>\n",
       "      <td>setosa</td>\n",
       "    </tr>\n",
       "    <tr>\n",
       "      <th>9</th>\n",
       "      <td>4.4</td>\n",
       "      <td>2.9</td>\n",
       "      <td>1.4</td>\n",
       "      <td>0.2</td>\n",
       "      <td>setosa</td>\n",
       "    </tr>\n",
       "    <tr>\n",
       "      <th>42</th>\n",
       "      <td>4.5</td>\n",
       "      <td>2.3</td>\n",
       "      <td>1.3</td>\n",
       "      <td>0.3</td>\n",
       "      <td>setosa</td>\n",
       "    </tr>\n",
       "  </tbody>\n",
       "</table>\n",
       "</div>"
      ],
      "text/plain": [
       "    Sepal.Length  Sepal.Width  Petal.Length  Petal.Width Species\n",
       "14           4.3          3.0           1.1          0.1  setosa\n",
       "43           4.4          3.2           1.3          0.2  setosa\n",
       "39           4.4          3.0           1.3          0.2  setosa\n",
       "9            4.4          2.9           1.4          0.2  setosa\n",
       "42           4.5          2.3           1.3          0.3  setosa"
      ]
     },
     "execution_count": 19,
     "metadata": {},
     "output_type": "execute_result"
    }
   ],
   "source": [
    "# Sorting data\n",
    "iris.sort_values(by=\"Sepal.Length\").head()"
   ]
  },
  {
   "cell_type": "markdown",
   "metadata": {},
   "source": [
    "Another common task is grouping by a categorical variable (such as species), and getting information on the aggregate groups. In `pandas` this is simple, but has a \"Gotcha!\" that trips me up all the time! If we use the `.groupby()` method, we actually don't get a dataframe out. We get this strange \"DataFrameGroupBy object\". This is because we need to tell pandas *how* to group the data together - do we average the values across the groups or take the maximum from each?"
   ]
  },
  {
   "cell_type": "code",
   "execution_count": 20,
   "metadata": {
    "colab": {
     "base_uri": "https://localhost:8080/"
    },
    "id": "ZfPatRKjtMf1",
    "outputId": "5517ca3b-b3d3-4364-8637-65c32591e5ba"
   },
   "outputs": [
    {
     "data": {
      "text/plain": [
       "<pandas.core.groupby.generic.DataFrameGroupBy object at 0x11d2fb6a0>"
      ]
     },
     "execution_count": 20,
     "metadata": {},
     "output_type": "execute_result"
    }
   ],
   "source": [
    "# Grouping. The group_by will give a pandas \"groupby\" object which we need to \n",
    "# give some more information about how to aggregate the values\n",
    "\n",
    "iris.groupby(\"Species\")"
   ]
  },
  {
   "cell_type": "markdown",
   "metadata": {},
   "source": [
    "This groupby object has a number of methods to get it back to a dataframe - here we use the `.mean()` method to mean each group. Now let's look at the output DataFrame:"
   ]
  },
  {
   "cell_type": "code",
   "execution_count": 21,
   "metadata": {
    "colab": {
     "base_uri": "https://localhost:8080/",
     "height": 173
    },
    "id": "FG25icfMtmbU",
    "outputId": "7ba394a9-bc4c-465e-f458-1f34407aa19c"
   },
   "outputs": [
    {
     "data": {
      "text/html": [
       "<div>\n",
       "<style scoped>\n",
       "    .dataframe tbody tr th:only-of-type {\n",
       "        vertical-align: middle;\n",
       "    }\n",
       "\n",
       "    .dataframe tbody tr th {\n",
       "        vertical-align: top;\n",
       "    }\n",
       "\n",
       "    .dataframe thead th {\n",
       "        text-align: right;\n",
       "    }\n",
       "</style>\n",
       "<table border=\"1\" class=\"dataframe\">\n",
       "  <thead>\n",
       "    <tr style=\"text-align: right;\">\n",
       "      <th></th>\n",
       "      <th>Sepal.Length</th>\n",
       "      <th>Sepal.Width</th>\n",
       "      <th>Petal.Length</th>\n",
       "      <th>Petal.Width</th>\n",
       "    </tr>\n",
       "    <tr>\n",
       "      <th>Species</th>\n",
       "      <th></th>\n",
       "      <th></th>\n",
       "      <th></th>\n",
       "      <th></th>\n",
       "    </tr>\n",
       "  </thead>\n",
       "  <tbody>\n",
       "    <tr>\n",
       "      <th>setosa</th>\n",
       "      <td>5.006</td>\n",
       "      <td>3.428</td>\n",
       "      <td>1.462</td>\n",
       "      <td>0.246</td>\n",
       "    </tr>\n",
       "    <tr>\n",
       "      <th>versicolor</th>\n",
       "      <td>5.936</td>\n",
       "      <td>2.770</td>\n",
       "      <td>4.260</td>\n",
       "      <td>1.326</td>\n",
       "    </tr>\n",
       "    <tr>\n",
       "      <th>virginica</th>\n",
       "      <td>6.588</td>\n",
       "      <td>2.974</td>\n",
       "      <td>5.552</td>\n",
       "      <td>2.026</td>\n",
       "    </tr>\n",
       "  </tbody>\n",
       "</table>\n",
       "</div>"
      ],
      "text/plain": [
       "            Sepal.Length  Sepal.Width  Petal.Length  Petal.Width\n",
       "Species                                                         \n",
       "setosa             5.006        3.428         1.462        0.246\n",
       "versicolor         5.936        2.770         4.260        1.326\n",
       "virginica          6.588        2.974         5.552        2.026"
      ]
     },
     "execution_count": 21,
     "metadata": {},
     "output_type": "execute_result"
    }
   ],
   "source": [
    "# Note that this is also a dataframe - often it is useful to transform your \n",
    "# data like this and then analyse this new form.\n",
    "# We can group by multiple axis as well - things get a bit messy but\n",
    "# it's possible!\n",
    "iris.groupby(\"Species\").mean()\n",
    "\n",
    "# See more aggregate functions in the documentation"
   ]
  },
  {
   "cell_type": "markdown",
   "metadata": {},
   "source": [
    "Fantastic - this gives us another dataframe with more helpful information. Now let's look at indexing our data - this can get a bit complex as there are multiple ways of getting the same thing. For indexing columns, we just use the column names as a list:"
   ]
  },
  {
   "cell_type": "code",
   "execution_count": 22,
   "metadata": {
    "colab": {
     "base_uri": "https://localhost:8080/",
     "height": 1000
    },
    "id": "obuQ5rB_t6dU",
    "outputId": "84e281f0-1af1-4ebb-8ddf-c80f2b39c457"
   },
   "outputs": [
    {
     "data": {
      "text/html": [
       "<div>\n",
       "<style scoped>\n",
       "    .dataframe tbody tr th:only-of-type {\n",
       "        vertical-align: middle;\n",
       "    }\n",
       "\n",
       "    .dataframe tbody tr th {\n",
       "        vertical-align: top;\n",
       "    }\n",
       "\n",
       "    .dataframe thead th {\n",
       "        text-align: right;\n",
       "    }\n",
       "</style>\n",
       "<table border=\"1\" class=\"dataframe\">\n",
       "  <thead>\n",
       "    <tr style=\"text-align: right;\">\n",
       "      <th></th>\n",
       "      <th>Species</th>\n",
       "      <th>Sepal.Length</th>\n",
       "    </tr>\n",
       "  </thead>\n",
       "  <tbody>\n",
       "    <tr>\n",
       "      <th>1</th>\n",
       "      <td>setosa</td>\n",
       "      <td>5.1</td>\n",
       "    </tr>\n",
       "    <tr>\n",
       "      <th>2</th>\n",
       "      <td>setosa</td>\n",
       "      <td>4.9</td>\n",
       "    </tr>\n",
       "    <tr>\n",
       "      <th>3</th>\n",
       "      <td>setosa</td>\n",
       "      <td>4.7</td>\n",
       "    </tr>\n",
       "    <tr>\n",
       "      <th>4</th>\n",
       "      <td>setosa</td>\n",
       "      <td>4.6</td>\n",
       "    </tr>\n",
       "    <tr>\n",
       "      <th>5</th>\n",
       "      <td>setosa</td>\n",
       "      <td>5.0</td>\n",
       "    </tr>\n",
       "    <tr>\n",
       "      <th>...</th>\n",
       "      <td>...</td>\n",
       "      <td>...</td>\n",
       "    </tr>\n",
       "    <tr>\n",
       "      <th>146</th>\n",
       "      <td>virginica</td>\n",
       "      <td>6.7</td>\n",
       "    </tr>\n",
       "    <tr>\n",
       "      <th>147</th>\n",
       "      <td>virginica</td>\n",
       "      <td>6.3</td>\n",
       "    </tr>\n",
       "    <tr>\n",
       "      <th>148</th>\n",
       "      <td>virginica</td>\n",
       "      <td>6.5</td>\n",
       "    </tr>\n",
       "    <tr>\n",
       "      <th>149</th>\n",
       "      <td>virginica</td>\n",
       "      <td>6.2</td>\n",
       "    </tr>\n",
       "    <tr>\n",
       "      <th>150</th>\n",
       "      <td>virginica</td>\n",
       "      <td>5.9</td>\n",
       "    </tr>\n",
       "  </tbody>\n",
       "</table>\n",
       "<p>150 rows × 2 columns</p>\n",
       "</div>"
      ],
      "text/plain": [
       "       Species  Sepal.Length\n",
       "1       setosa           5.1\n",
       "2       setosa           4.9\n",
       "3       setosa           4.7\n",
       "4       setosa           4.6\n",
       "5       setosa           5.0\n",
       "..         ...           ...\n",
       "146  virginica           6.7\n",
       "147  virginica           6.3\n",
       "148  virginica           6.5\n",
       "149  virginica           6.2\n",
       "150  virginica           5.9\n",
       "\n",
       "[150 rows x 2 columns]"
      ]
     },
     "execution_count": 22,
     "metadata": {},
     "output_type": "execute_result"
    }
   ],
   "source": [
    "# Indexing data - we now have two indexes to work with\n",
    "\n",
    "# Columns (pass a list of columns to select multiple):\n",
    "iris[[\"Species\", \"Sepal.Length\"]]"
   ]
  },
  {
   "cell_type": "markdown",
   "metadata": {},
   "source": [
    "Rows can be done via indexing as normal, but this might be unintuitive in cases where the index column is non-numeric (see below)."
   ]
  },
  {
   "cell_type": "code",
   "execution_count": 23,
   "metadata": {
    "colab": {
     "base_uri": "https://localhost:8080/",
     "height": 328
    },
    "id": "01jTcNjyuZpn",
    "outputId": "5ee70c07-68d4-46ac-aadd-37326e959131"
   },
   "outputs": [
    {
     "data": {
      "text/html": [
       "<div>\n",
       "<style scoped>\n",
       "    .dataframe tbody tr th:only-of-type {\n",
       "        vertical-align: middle;\n",
       "    }\n",
       "\n",
       "    .dataframe tbody tr th {\n",
       "        vertical-align: top;\n",
       "    }\n",
       "\n",
       "    .dataframe thead th {\n",
       "        text-align: right;\n",
       "    }\n",
       "</style>\n",
       "<table border=\"1\" class=\"dataframe\">\n",
       "  <thead>\n",
       "    <tr style=\"text-align: right;\">\n",
       "      <th></th>\n",
       "      <th>Sepal.Length</th>\n",
       "      <th>Sepal.Width</th>\n",
       "      <th>Petal.Length</th>\n",
       "      <th>Petal.Width</th>\n",
       "      <th>Species</th>\n",
       "    </tr>\n",
       "  </thead>\n",
       "  <tbody>\n",
       "    <tr>\n",
       "      <th>2</th>\n",
       "      <td>4.9</td>\n",
       "      <td>3.0</td>\n",
       "      <td>1.4</td>\n",
       "      <td>0.2</td>\n",
       "      <td>setosa</td>\n",
       "    </tr>\n",
       "    <tr>\n",
       "      <th>3</th>\n",
       "      <td>4.7</td>\n",
       "      <td>3.2</td>\n",
       "      <td>1.3</td>\n",
       "      <td>0.2</td>\n",
       "      <td>setosa</td>\n",
       "    </tr>\n",
       "    <tr>\n",
       "      <th>4</th>\n",
       "      <td>4.6</td>\n",
       "      <td>3.1</td>\n",
       "      <td>1.5</td>\n",
       "      <td>0.2</td>\n",
       "      <td>setosa</td>\n",
       "    </tr>\n",
       "    <tr>\n",
       "      <th>5</th>\n",
       "      <td>5.0</td>\n",
       "      <td>3.6</td>\n",
       "      <td>1.4</td>\n",
       "      <td>0.2</td>\n",
       "      <td>setosa</td>\n",
       "    </tr>\n",
       "    <tr>\n",
       "      <th>6</th>\n",
       "      <td>5.4</td>\n",
       "      <td>3.9</td>\n",
       "      <td>1.7</td>\n",
       "      <td>0.4</td>\n",
       "      <td>setosa</td>\n",
       "    </tr>\n",
       "    <tr>\n",
       "      <th>7</th>\n",
       "      <td>4.6</td>\n",
       "      <td>3.4</td>\n",
       "      <td>1.4</td>\n",
       "      <td>0.3</td>\n",
       "      <td>setosa</td>\n",
       "    </tr>\n",
       "    <tr>\n",
       "      <th>8</th>\n",
       "      <td>5.0</td>\n",
       "      <td>3.4</td>\n",
       "      <td>1.5</td>\n",
       "      <td>0.2</td>\n",
       "      <td>setosa</td>\n",
       "    </tr>\n",
       "    <tr>\n",
       "      <th>9</th>\n",
       "      <td>4.4</td>\n",
       "      <td>2.9</td>\n",
       "      <td>1.4</td>\n",
       "      <td>0.2</td>\n",
       "      <td>setosa</td>\n",
       "    </tr>\n",
       "    <tr>\n",
       "      <th>10</th>\n",
       "      <td>4.9</td>\n",
       "      <td>3.1</td>\n",
       "      <td>1.5</td>\n",
       "      <td>0.1</td>\n",
       "      <td>setosa</td>\n",
       "    </tr>\n",
       "  </tbody>\n",
       "</table>\n",
       "</div>"
      ],
      "text/plain": [
       "    Sepal.Length  Sepal.Width  Petal.Length  Petal.Width Species\n",
       "2            4.9          3.0           1.4          0.2  setosa\n",
       "3            4.7          3.2           1.3          0.2  setosa\n",
       "4            4.6          3.1           1.5          0.2  setosa\n",
       "5            5.0          3.6           1.4          0.2  setosa\n",
       "6            5.4          3.9           1.7          0.4  setosa\n",
       "7            4.6          3.4           1.4          0.3  setosa\n",
       "8            5.0          3.4           1.5          0.2  setosa\n",
       "9            4.4          2.9           1.4          0.2  setosa\n",
       "10           4.9          3.1           1.5          0.1  setosa"
      ]
     },
     "execution_count": 23,
     "metadata": {},
     "output_type": "execute_result"
    }
   ],
   "source": [
    "# Rows (done by index)\n",
    "iris[1:10]"
   ]
  },
  {
   "cell_type": "markdown",
   "metadata": {},
   "source": [
    "Now let's have a look at a dataframe without a numeric index column - the grouped dataframe from before will work nicely. The `.loc` attribute will allow us to index rows based on their index name:"
   ]
  },
  {
   "cell_type": "code",
   "execution_count": 24,
   "metadata": {
    "colab": {
     "base_uri": "https://localhost:8080/",
     "height": 142
    },
    "id": "v3gIR-PKuikD",
    "outputId": "5df84245-4990-4cc5-8799-145f68e24647"
   },
   "outputs": [
    {
     "data": {
      "text/html": [
       "<div>\n",
       "<style scoped>\n",
       "    .dataframe tbody tr th:only-of-type {\n",
       "        vertical-align: middle;\n",
       "    }\n",
       "\n",
       "    .dataframe tbody tr th {\n",
       "        vertical-align: top;\n",
       "    }\n",
       "\n",
       "    .dataframe thead th {\n",
       "        text-align: right;\n",
       "    }\n",
       "</style>\n",
       "<table border=\"1\" class=\"dataframe\">\n",
       "  <thead>\n",
       "    <tr style=\"text-align: right;\">\n",
       "      <th></th>\n",
       "      <th>Sepal.Length</th>\n",
       "      <th>Sepal.Width</th>\n",
       "      <th>Petal.Length</th>\n",
       "      <th>Petal.Width</th>\n",
       "    </tr>\n",
       "    <tr>\n",
       "      <th>Species</th>\n",
       "      <th></th>\n",
       "      <th></th>\n",
       "      <th></th>\n",
       "      <th></th>\n",
       "    </tr>\n",
       "  </thead>\n",
       "  <tbody>\n",
       "    <tr>\n",
       "      <th>setosa</th>\n",
       "      <td>5.006</td>\n",
       "      <td>3.428</td>\n",
       "      <td>1.462</td>\n",
       "      <td>0.246</td>\n",
       "    </tr>\n",
       "    <tr>\n",
       "      <th>versicolor</th>\n",
       "      <td>5.936</td>\n",
       "      <td>2.770</td>\n",
       "      <td>4.260</td>\n",
       "      <td>1.326</td>\n",
       "    </tr>\n",
       "  </tbody>\n",
       "</table>\n",
       "</div>"
      ],
      "text/plain": [
       "            Sepal.Length  Sepal.Width  Petal.Length  Petal.Width\n",
       "Species                                                         \n",
       "setosa             5.006        3.428         1.462        0.246\n",
       "versicolor         5.936        2.770         4.260        1.326"
      ]
     },
     "execution_count": 24,
     "metadata": {},
     "output_type": "execute_result"
    }
   ],
   "source": [
    "# The \"loc\" method does the same thing if your index is default, in certain\n",
    "# circumstances is needed for indexing rows\n",
    "iris_means = iris.groupby(\"Species\").mean()\n",
    "\n",
    "iris_means.loc[[\"setosa\", \"versicolor\"]]"
   ]
  },
  {
   "cell_type": "markdown",
   "metadata": {},
   "source": [
    "If we still want to index by the numeric index location of the rows, we must use `.iloc`:"
   ]
  },
  {
   "cell_type": "code",
   "execution_count": 25,
   "metadata": {
    "colab": {
     "base_uri": "https://localhost:8080/",
     "height": 142
    },
    "id": "HnjQhDBrvEzD",
    "outputId": "54470d71-063c-434e-ea5d-e9b37d042efc"
   },
   "outputs": [
    {
     "data": {
      "text/html": [
       "<div>\n",
       "<style scoped>\n",
       "    .dataframe tbody tr th:only-of-type {\n",
       "        vertical-align: middle;\n",
       "    }\n",
       "\n",
       "    .dataframe tbody tr th {\n",
       "        vertical-align: top;\n",
       "    }\n",
       "\n",
       "    .dataframe thead th {\n",
       "        text-align: right;\n",
       "    }\n",
       "</style>\n",
       "<table border=\"1\" class=\"dataframe\">\n",
       "  <thead>\n",
       "    <tr style=\"text-align: right;\">\n",
       "      <th></th>\n",
       "      <th>Sepal.Length</th>\n",
       "      <th>Sepal.Width</th>\n",
       "      <th>Petal.Length</th>\n",
       "      <th>Petal.Width</th>\n",
       "    </tr>\n",
       "    <tr>\n",
       "      <th>Species</th>\n",
       "      <th></th>\n",
       "      <th></th>\n",
       "      <th></th>\n",
       "      <th></th>\n",
       "    </tr>\n",
       "  </thead>\n",
       "  <tbody>\n",
       "    <tr>\n",
       "      <th>setosa</th>\n",
       "      <td>5.006</td>\n",
       "      <td>3.428</td>\n",
       "      <td>1.462</td>\n",
       "      <td>0.246</td>\n",
       "    </tr>\n",
       "    <tr>\n",
       "      <th>versicolor</th>\n",
       "      <td>5.936</td>\n",
       "      <td>2.770</td>\n",
       "      <td>4.260</td>\n",
       "      <td>1.326</td>\n",
       "    </tr>\n",
       "  </tbody>\n",
       "</table>\n",
       "</div>"
      ],
      "text/plain": [
       "            Sepal.Length  Sepal.Width  Petal.Length  Petal.Width\n",
       "Species                                                         \n",
       "setosa             5.006        3.428         1.462        0.246\n",
       "versicolor         5.936        2.770         4.260        1.326"
      ]
     },
     "execution_count": 25,
     "metadata": {},
     "output_type": "execute_result"
    }
   ],
   "source": [
    "# The \"iloc\" method will index non-numeric rows by index again, instead of label\n",
    "iris_means.iloc[0:2]"
   ]
  },
  {
   "cell_type": "markdown",
   "metadata": {},
   "source": [
    "`pandas` allows us to filter our data down by using a clever syntax. If we enter the expression below, look what we get out:"
   ]
  },
  {
   "cell_type": "code",
   "execution_count": 36,
   "metadata": {
    "colab": {
     "base_uri": "https://localhost:8080/"
    },
    "id": "adw6o8TQwQAm",
    "outputId": "e4456570-4d0f-4a3e-d71f-6b662c6d9f6d"
   },
   "outputs": [
    {
     "data": {
      "text/plain": [
       "1       True\n",
       "2       True\n",
       "3       True\n",
       "4       True\n",
       "5       True\n",
       "       ...  \n",
       "146    False\n",
       "147    False\n",
       "148    False\n",
       "149    False\n",
       "150    False\n",
       "Name: Species, Length: 150, dtype: bool"
      ]
     },
     "execution_count": 36,
     "metadata": {},
     "output_type": "execute_result"
    }
   ],
   "source": [
    "# Boolean indexing - this is super cool!\n",
    "# Look at the following expression\n",
    "iris[\"Species\"] == \"setosa\""
   ]
  },
  {
   "cell_type": "markdown",
   "metadata": {},
   "source": [
    "This is in fact a new dataframe with boolean entries where each row corresponds to if the iris row species is equal to \"setosa\". So the first row is of the species setosa, so has a true entry in this new dataframe, and the last entrie is of species \"virginica\" (not setosa!) so has a false entry.\n",
    "\n",
    "Given we have a dataframe like this of booleans, we can actually use this to filter our original dataframe as follows. This will give us a new dataframe only for the setosa species data:"
   ]
  },
  {
   "cell_type": "code",
   "execution_count": 27,
   "metadata": {
    "colab": {
     "base_uri": "https://localhost:8080/",
     "height": 1000
    },
    "id": "w6awMz-qwgBB",
    "outputId": "6ecf449b-59a0-40a1-c48c-636d01715d8b"
   },
   "outputs": [
    {
     "data": {
      "text/html": [
       "<div>\n",
       "<style scoped>\n",
       "    .dataframe tbody tr th:only-of-type {\n",
       "        vertical-align: middle;\n",
       "    }\n",
       "\n",
       "    .dataframe tbody tr th {\n",
       "        vertical-align: top;\n",
       "    }\n",
       "\n",
       "    .dataframe thead th {\n",
       "        text-align: right;\n",
       "    }\n",
       "</style>\n",
       "<table border=\"1\" class=\"dataframe\">\n",
       "  <thead>\n",
       "    <tr style=\"text-align: right;\">\n",
       "      <th></th>\n",
       "      <th>Sepal.Length</th>\n",
       "      <th>Sepal.Width</th>\n",
       "      <th>Petal.Length</th>\n",
       "      <th>Petal.Width</th>\n",
       "      <th>Species</th>\n",
       "    </tr>\n",
       "  </thead>\n",
       "  <tbody>\n",
       "    <tr>\n",
       "      <th>1</th>\n",
       "      <td>5.1</td>\n",
       "      <td>3.5</td>\n",
       "      <td>1.4</td>\n",
       "      <td>0.2</td>\n",
       "      <td>setosa</td>\n",
       "    </tr>\n",
       "    <tr>\n",
       "      <th>2</th>\n",
       "      <td>4.9</td>\n",
       "      <td>3.0</td>\n",
       "      <td>1.4</td>\n",
       "      <td>0.2</td>\n",
       "      <td>setosa</td>\n",
       "    </tr>\n",
       "    <tr>\n",
       "      <th>3</th>\n",
       "      <td>4.7</td>\n",
       "      <td>3.2</td>\n",
       "      <td>1.3</td>\n",
       "      <td>0.2</td>\n",
       "      <td>setosa</td>\n",
       "    </tr>\n",
       "    <tr>\n",
       "      <th>4</th>\n",
       "      <td>4.6</td>\n",
       "      <td>3.1</td>\n",
       "      <td>1.5</td>\n",
       "      <td>0.2</td>\n",
       "      <td>setosa</td>\n",
       "    </tr>\n",
       "    <tr>\n",
       "      <th>5</th>\n",
       "      <td>5.0</td>\n",
       "      <td>3.6</td>\n",
       "      <td>1.4</td>\n",
       "      <td>0.2</td>\n",
       "      <td>setosa</td>\n",
       "    </tr>\n",
       "    <tr>\n",
       "      <th>6</th>\n",
       "      <td>5.4</td>\n",
       "      <td>3.9</td>\n",
       "      <td>1.7</td>\n",
       "      <td>0.4</td>\n",
       "      <td>setosa</td>\n",
       "    </tr>\n",
       "    <tr>\n",
       "      <th>7</th>\n",
       "      <td>4.6</td>\n",
       "      <td>3.4</td>\n",
       "      <td>1.4</td>\n",
       "      <td>0.3</td>\n",
       "      <td>setosa</td>\n",
       "    </tr>\n",
       "    <tr>\n",
       "      <th>8</th>\n",
       "      <td>5.0</td>\n",
       "      <td>3.4</td>\n",
       "      <td>1.5</td>\n",
       "      <td>0.2</td>\n",
       "      <td>setosa</td>\n",
       "    </tr>\n",
       "    <tr>\n",
       "      <th>9</th>\n",
       "      <td>4.4</td>\n",
       "      <td>2.9</td>\n",
       "      <td>1.4</td>\n",
       "      <td>0.2</td>\n",
       "      <td>setosa</td>\n",
       "    </tr>\n",
       "    <tr>\n",
       "      <th>10</th>\n",
       "      <td>4.9</td>\n",
       "      <td>3.1</td>\n",
       "      <td>1.5</td>\n",
       "      <td>0.1</td>\n",
       "      <td>setosa</td>\n",
       "    </tr>\n",
       "    <tr>\n",
       "      <th>11</th>\n",
       "      <td>5.4</td>\n",
       "      <td>3.7</td>\n",
       "      <td>1.5</td>\n",
       "      <td>0.2</td>\n",
       "      <td>setosa</td>\n",
       "    </tr>\n",
       "    <tr>\n",
       "      <th>12</th>\n",
       "      <td>4.8</td>\n",
       "      <td>3.4</td>\n",
       "      <td>1.6</td>\n",
       "      <td>0.2</td>\n",
       "      <td>setosa</td>\n",
       "    </tr>\n",
       "    <tr>\n",
       "      <th>13</th>\n",
       "      <td>4.8</td>\n",
       "      <td>3.0</td>\n",
       "      <td>1.4</td>\n",
       "      <td>0.1</td>\n",
       "      <td>setosa</td>\n",
       "    </tr>\n",
       "    <tr>\n",
       "      <th>14</th>\n",
       "      <td>4.3</td>\n",
       "      <td>3.0</td>\n",
       "      <td>1.1</td>\n",
       "      <td>0.1</td>\n",
       "      <td>setosa</td>\n",
       "    </tr>\n",
       "    <tr>\n",
       "      <th>15</th>\n",
       "      <td>5.8</td>\n",
       "      <td>4.0</td>\n",
       "      <td>1.2</td>\n",
       "      <td>0.2</td>\n",
       "      <td>setosa</td>\n",
       "    </tr>\n",
       "    <tr>\n",
       "      <th>16</th>\n",
       "      <td>5.7</td>\n",
       "      <td>4.4</td>\n",
       "      <td>1.5</td>\n",
       "      <td>0.4</td>\n",
       "      <td>setosa</td>\n",
       "    </tr>\n",
       "    <tr>\n",
       "      <th>17</th>\n",
       "      <td>5.4</td>\n",
       "      <td>3.9</td>\n",
       "      <td>1.3</td>\n",
       "      <td>0.4</td>\n",
       "      <td>setosa</td>\n",
       "    </tr>\n",
       "    <tr>\n",
       "      <th>18</th>\n",
       "      <td>5.1</td>\n",
       "      <td>3.5</td>\n",
       "      <td>1.4</td>\n",
       "      <td>0.3</td>\n",
       "      <td>setosa</td>\n",
       "    </tr>\n",
       "    <tr>\n",
       "      <th>19</th>\n",
       "      <td>5.7</td>\n",
       "      <td>3.8</td>\n",
       "      <td>1.7</td>\n",
       "      <td>0.3</td>\n",
       "      <td>setosa</td>\n",
       "    </tr>\n",
       "    <tr>\n",
       "      <th>20</th>\n",
       "      <td>5.1</td>\n",
       "      <td>3.8</td>\n",
       "      <td>1.5</td>\n",
       "      <td>0.3</td>\n",
       "      <td>setosa</td>\n",
       "    </tr>\n",
       "    <tr>\n",
       "      <th>21</th>\n",
       "      <td>5.4</td>\n",
       "      <td>3.4</td>\n",
       "      <td>1.7</td>\n",
       "      <td>0.2</td>\n",
       "      <td>setosa</td>\n",
       "    </tr>\n",
       "    <tr>\n",
       "      <th>22</th>\n",
       "      <td>5.1</td>\n",
       "      <td>3.7</td>\n",
       "      <td>1.5</td>\n",
       "      <td>0.4</td>\n",
       "      <td>setosa</td>\n",
       "    </tr>\n",
       "    <tr>\n",
       "      <th>23</th>\n",
       "      <td>4.6</td>\n",
       "      <td>3.6</td>\n",
       "      <td>1.0</td>\n",
       "      <td>0.2</td>\n",
       "      <td>setosa</td>\n",
       "    </tr>\n",
       "    <tr>\n",
       "      <th>24</th>\n",
       "      <td>5.1</td>\n",
       "      <td>3.3</td>\n",
       "      <td>1.7</td>\n",
       "      <td>0.5</td>\n",
       "      <td>setosa</td>\n",
       "    </tr>\n",
       "    <tr>\n",
       "      <th>25</th>\n",
       "      <td>4.8</td>\n",
       "      <td>3.4</td>\n",
       "      <td>1.9</td>\n",
       "      <td>0.2</td>\n",
       "      <td>setosa</td>\n",
       "    </tr>\n",
       "    <tr>\n",
       "      <th>26</th>\n",
       "      <td>5.0</td>\n",
       "      <td>3.0</td>\n",
       "      <td>1.6</td>\n",
       "      <td>0.2</td>\n",
       "      <td>setosa</td>\n",
       "    </tr>\n",
       "    <tr>\n",
       "      <th>27</th>\n",
       "      <td>5.0</td>\n",
       "      <td>3.4</td>\n",
       "      <td>1.6</td>\n",
       "      <td>0.4</td>\n",
       "      <td>setosa</td>\n",
       "    </tr>\n",
       "    <tr>\n",
       "      <th>28</th>\n",
       "      <td>5.2</td>\n",
       "      <td>3.5</td>\n",
       "      <td>1.5</td>\n",
       "      <td>0.2</td>\n",
       "      <td>setosa</td>\n",
       "    </tr>\n",
       "    <tr>\n",
       "      <th>29</th>\n",
       "      <td>5.2</td>\n",
       "      <td>3.4</td>\n",
       "      <td>1.4</td>\n",
       "      <td>0.2</td>\n",
       "      <td>setosa</td>\n",
       "    </tr>\n",
       "    <tr>\n",
       "      <th>30</th>\n",
       "      <td>4.7</td>\n",
       "      <td>3.2</td>\n",
       "      <td>1.6</td>\n",
       "      <td>0.2</td>\n",
       "      <td>setosa</td>\n",
       "    </tr>\n",
       "    <tr>\n",
       "      <th>31</th>\n",
       "      <td>4.8</td>\n",
       "      <td>3.1</td>\n",
       "      <td>1.6</td>\n",
       "      <td>0.2</td>\n",
       "      <td>setosa</td>\n",
       "    </tr>\n",
       "    <tr>\n",
       "      <th>32</th>\n",
       "      <td>5.4</td>\n",
       "      <td>3.4</td>\n",
       "      <td>1.5</td>\n",
       "      <td>0.4</td>\n",
       "      <td>setosa</td>\n",
       "    </tr>\n",
       "    <tr>\n",
       "      <th>33</th>\n",
       "      <td>5.2</td>\n",
       "      <td>4.1</td>\n",
       "      <td>1.5</td>\n",
       "      <td>0.1</td>\n",
       "      <td>setosa</td>\n",
       "    </tr>\n",
       "    <tr>\n",
       "      <th>34</th>\n",
       "      <td>5.5</td>\n",
       "      <td>4.2</td>\n",
       "      <td>1.4</td>\n",
       "      <td>0.2</td>\n",
       "      <td>setosa</td>\n",
       "    </tr>\n",
       "    <tr>\n",
       "      <th>35</th>\n",
       "      <td>4.9</td>\n",
       "      <td>3.1</td>\n",
       "      <td>1.5</td>\n",
       "      <td>0.2</td>\n",
       "      <td>setosa</td>\n",
       "    </tr>\n",
       "    <tr>\n",
       "      <th>36</th>\n",
       "      <td>5.0</td>\n",
       "      <td>3.2</td>\n",
       "      <td>1.2</td>\n",
       "      <td>0.2</td>\n",
       "      <td>setosa</td>\n",
       "    </tr>\n",
       "    <tr>\n",
       "      <th>37</th>\n",
       "      <td>5.5</td>\n",
       "      <td>3.5</td>\n",
       "      <td>1.3</td>\n",
       "      <td>0.2</td>\n",
       "      <td>setosa</td>\n",
       "    </tr>\n",
       "    <tr>\n",
       "      <th>38</th>\n",
       "      <td>4.9</td>\n",
       "      <td>3.6</td>\n",
       "      <td>1.4</td>\n",
       "      <td>0.1</td>\n",
       "      <td>setosa</td>\n",
       "    </tr>\n",
       "    <tr>\n",
       "      <th>39</th>\n",
       "      <td>4.4</td>\n",
       "      <td>3.0</td>\n",
       "      <td>1.3</td>\n",
       "      <td>0.2</td>\n",
       "      <td>setosa</td>\n",
       "    </tr>\n",
       "    <tr>\n",
       "      <th>40</th>\n",
       "      <td>5.1</td>\n",
       "      <td>3.4</td>\n",
       "      <td>1.5</td>\n",
       "      <td>0.2</td>\n",
       "      <td>setosa</td>\n",
       "    </tr>\n",
       "    <tr>\n",
       "      <th>41</th>\n",
       "      <td>5.0</td>\n",
       "      <td>3.5</td>\n",
       "      <td>1.3</td>\n",
       "      <td>0.3</td>\n",
       "      <td>setosa</td>\n",
       "    </tr>\n",
       "    <tr>\n",
       "      <th>42</th>\n",
       "      <td>4.5</td>\n",
       "      <td>2.3</td>\n",
       "      <td>1.3</td>\n",
       "      <td>0.3</td>\n",
       "      <td>setosa</td>\n",
       "    </tr>\n",
       "    <tr>\n",
       "      <th>43</th>\n",
       "      <td>4.4</td>\n",
       "      <td>3.2</td>\n",
       "      <td>1.3</td>\n",
       "      <td>0.2</td>\n",
       "      <td>setosa</td>\n",
       "    </tr>\n",
       "    <tr>\n",
       "      <th>44</th>\n",
       "      <td>5.0</td>\n",
       "      <td>3.5</td>\n",
       "      <td>1.6</td>\n",
       "      <td>0.6</td>\n",
       "      <td>setosa</td>\n",
       "    </tr>\n",
       "    <tr>\n",
       "      <th>45</th>\n",
       "      <td>5.1</td>\n",
       "      <td>3.8</td>\n",
       "      <td>1.9</td>\n",
       "      <td>0.4</td>\n",
       "      <td>setosa</td>\n",
       "    </tr>\n",
       "    <tr>\n",
       "      <th>46</th>\n",
       "      <td>4.8</td>\n",
       "      <td>3.0</td>\n",
       "      <td>1.4</td>\n",
       "      <td>0.3</td>\n",
       "      <td>setosa</td>\n",
       "    </tr>\n",
       "    <tr>\n",
       "      <th>47</th>\n",
       "      <td>5.1</td>\n",
       "      <td>3.8</td>\n",
       "      <td>1.6</td>\n",
       "      <td>0.2</td>\n",
       "      <td>setosa</td>\n",
       "    </tr>\n",
       "    <tr>\n",
       "      <th>48</th>\n",
       "      <td>4.6</td>\n",
       "      <td>3.2</td>\n",
       "      <td>1.4</td>\n",
       "      <td>0.2</td>\n",
       "      <td>setosa</td>\n",
       "    </tr>\n",
       "    <tr>\n",
       "      <th>49</th>\n",
       "      <td>5.3</td>\n",
       "      <td>3.7</td>\n",
       "      <td>1.5</td>\n",
       "      <td>0.2</td>\n",
       "      <td>setosa</td>\n",
       "    </tr>\n",
       "    <tr>\n",
       "      <th>50</th>\n",
       "      <td>5.0</td>\n",
       "      <td>3.3</td>\n",
       "      <td>1.4</td>\n",
       "      <td>0.2</td>\n",
       "      <td>setosa</td>\n",
       "    </tr>\n",
       "  </tbody>\n",
       "</table>\n",
       "</div>"
      ],
      "text/plain": [
       "    Sepal.Length  Sepal.Width  Petal.Length  Petal.Width Species\n",
       "1            5.1          3.5           1.4          0.2  setosa\n",
       "2            4.9          3.0           1.4          0.2  setosa\n",
       "3            4.7          3.2           1.3          0.2  setosa\n",
       "4            4.6          3.1           1.5          0.2  setosa\n",
       "5            5.0          3.6           1.4          0.2  setosa\n",
       "6            5.4          3.9           1.7          0.4  setosa\n",
       "7            4.6          3.4           1.4          0.3  setosa\n",
       "8            5.0          3.4           1.5          0.2  setosa\n",
       "9            4.4          2.9           1.4          0.2  setosa\n",
       "10           4.9          3.1           1.5          0.1  setosa\n",
       "11           5.4          3.7           1.5          0.2  setosa\n",
       "12           4.8          3.4           1.6          0.2  setosa\n",
       "13           4.8          3.0           1.4          0.1  setosa\n",
       "14           4.3          3.0           1.1          0.1  setosa\n",
       "15           5.8          4.0           1.2          0.2  setosa\n",
       "16           5.7          4.4           1.5          0.4  setosa\n",
       "17           5.4          3.9           1.3          0.4  setosa\n",
       "18           5.1          3.5           1.4          0.3  setosa\n",
       "19           5.7          3.8           1.7          0.3  setosa\n",
       "20           5.1          3.8           1.5          0.3  setosa\n",
       "21           5.4          3.4           1.7          0.2  setosa\n",
       "22           5.1          3.7           1.5          0.4  setosa\n",
       "23           4.6          3.6           1.0          0.2  setosa\n",
       "24           5.1          3.3           1.7          0.5  setosa\n",
       "25           4.8          3.4           1.9          0.2  setosa\n",
       "26           5.0          3.0           1.6          0.2  setosa\n",
       "27           5.0          3.4           1.6          0.4  setosa\n",
       "28           5.2          3.5           1.5          0.2  setosa\n",
       "29           5.2          3.4           1.4          0.2  setosa\n",
       "30           4.7          3.2           1.6          0.2  setosa\n",
       "31           4.8          3.1           1.6          0.2  setosa\n",
       "32           5.4          3.4           1.5          0.4  setosa\n",
       "33           5.2          4.1           1.5          0.1  setosa\n",
       "34           5.5          4.2           1.4          0.2  setosa\n",
       "35           4.9          3.1           1.5          0.2  setosa\n",
       "36           5.0          3.2           1.2          0.2  setosa\n",
       "37           5.5          3.5           1.3          0.2  setosa\n",
       "38           4.9          3.6           1.4          0.1  setosa\n",
       "39           4.4          3.0           1.3          0.2  setosa\n",
       "40           5.1          3.4           1.5          0.2  setosa\n",
       "41           5.0          3.5           1.3          0.3  setosa\n",
       "42           4.5          2.3           1.3          0.3  setosa\n",
       "43           4.4          3.2           1.3          0.2  setosa\n",
       "44           5.0          3.5           1.6          0.6  setosa\n",
       "45           5.1          3.8           1.9          0.4  setosa\n",
       "46           4.8          3.0           1.4          0.3  setosa\n",
       "47           5.1          3.8           1.6          0.2  setosa\n",
       "48           4.6          3.2           1.4          0.2  setosa\n",
       "49           5.3          3.7           1.5          0.2  setosa\n",
       "50           5.0          3.3           1.4          0.2  setosa"
      ]
     },
     "execution_count": 27,
     "metadata": {},
     "output_type": "execute_result"
    }
   ],
   "source": [
    "# What?! This is actually a series (1D dataframe) with boolean values where\n",
    "# it is True if the species column is \"setosa\" and false otherwise.\n",
    "\n",
    "# To filter a dataframe we can use this boolean series - it will only return\n",
    "# rows where the corresponding row in the boolean table is \"True\"\n",
    "iris[iris[\"Species\"] == \"setosa\"]"
   ]
  },
  {
   "cell_type": "markdown",
   "metadata": {},
   "source": [
    "This looks a bit strange, but allows us to get pretty technical by using complex boolean logic. For example, say we want to find all the setosa iris flowers with a sepal length of over 5cm. We do that with the following:"
   ]
  },
  {
   "cell_type": "code",
   "execution_count": 28,
   "metadata": {
    "colab": {
     "base_uri": "https://localhost:8080/",
     "height": 731
    },
    "id": "-gx2lNVdy1Dh",
    "outputId": "cb912dba-4b4c-43a6-bb72-c783d2b52b10"
   },
   "outputs": [
    {
     "data": {
      "text/html": [
       "<div>\n",
       "<style scoped>\n",
       "    .dataframe tbody tr th:only-of-type {\n",
       "        vertical-align: middle;\n",
       "    }\n",
       "\n",
       "    .dataframe tbody tr th {\n",
       "        vertical-align: top;\n",
       "    }\n",
       "\n",
       "    .dataframe thead th {\n",
       "        text-align: right;\n",
       "    }\n",
       "</style>\n",
       "<table border=\"1\" class=\"dataframe\">\n",
       "  <thead>\n",
       "    <tr style=\"text-align: right;\">\n",
       "      <th></th>\n",
       "      <th>Sepal.Length</th>\n",
       "      <th>Sepal.Width</th>\n",
       "      <th>Petal.Length</th>\n",
       "      <th>Petal.Width</th>\n",
       "      <th>Species</th>\n",
       "    </tr>\n",
       "  </thead>\n",
       "  <tbody>\n",
       "    <tr>\n",
       "      <th>1</th>\n",
       "      <td>5.1</td>\n",
       "      <td>3.5</td>\n",
       "      <td>1.4</td>\n",
       "      <td>0.2</td>\n",
       "      <td>setosa</td>\n",
       "    </tr>\n",
       "    <tr>\n",
       "      <th>6</th>\n",
       "      <td>5.4</td>\n",
       "      <td>3.9</td>\n",
       "      <td>1.7</td>\n",
       "      <td>0.4</td>\n",
       "      <td>setosa</td>\n",
       "    </tr>\n",
       "    <tr>\n",
       "      <th>11</th>\n",
       "      <td>5.4</td>\n",
       "      <td>3.7</td>\n",
       "      <td>1.5</td>\n",
       "      <td>0.2</td>\n",
       "      <td>setosa</td>\n",
       "    </tr>\n",
       "    <tr>\n",
       "      <th>15</th>\n",
       "      <td>5.8</td>\n",
       "      <td>4.0</td>\n",
       "      <td>1.2</td>\n",
       "      <td>0.2</td>\n",
       "      <td>setosa</td>\n",
       "    </tr>\n",
       "    <tr>\n",
       "      <th>16</th>\n",
       "      <td>5.7</td>\n",
       "      <td>4.4</td>\n",
       "      <td>1.5</td>\n",
       "      <td>0.4</td>\n",
       "      <td>setosa</td>\n",
       "    </tr>\n",
       "    <tr>\n",
       "      <th>17</th>\n",
       "      <td>5.4</td>\n",
       "      <td>3.9</td>\n",
       "      <td>1.3</td>\n",
       "      <td>0.4</td>\n",
       "      <td>setosa</td>\n",
       "    </tr>\n",
       "    <tr>\n",
       "      <th>18</th>\n",
       "      <td>5.1</td>\n",
       "      <td>3.5</td>\n",
       "      <td>1.4</td>\n",
       "      <td>0.3</td>\n",
       "      <td>setosa</td>\n",
       "    </tr>\n",
       "    <tr>\n",
       "      <th>19</th>\n",
       "      <td>5.7</td>\n",
       "      <td>3.8</td>\n",
       "      <td>1.7</td>\n",
       "      <td>0.3</td>\n",
       "      <td>setosa</td>\n",
       "    </tr>\n",
       "    <tr>\n",
       "      <th>20</th>\n",
       "      <td>5.1</td>\n",
       "      <td>3.8</td>\n",
       "      <td>1.5</td>\n",
       "      <td>0.3</td>\n",
       "      <td>setosa</td>\n",
       "    </tr>\n",
       "    <tr>\n",
       "      <th>21</th>\n",
       "      <td>5.4</td>\n",
       "      <td>3.4</td>\n",
       "      <td>1.7</td>\n",
       "      <td>0.2</td>\n",
       "      <td>setosa</td>\n",
       "    </tr>\n",
       "    <tr>\n",
       "      <th>22</th>\n",
       "      <td>5.1</td>\n",
       "      <td>3.7</td>\n",
       "      <td>1.5</td>\n",
       "      <td>0.4</td>\n",
       "      <td>setosa</td>\n",
       "    </tr>\n",
       "    <tr>\n",
       "      <th>24</th>\n",
       "      <td>5.1</td>\n",
       "      <td>3.3</td>\n",
       "      <td>1.7</td>\n",
       "      <td>0.5</td>\n",
       "      <td>setosa</td>\n",
       "    </tr>\n",
       "    <tr>\n",
       "      <th>28</th>\n",
       "      <td>5.2</td>\n",
       "      <td>3.5</td>\n",
       "      <td>1.5</td>\n",
       "      <td>0.2</td>\n",
       "      <td>setosa</td>\n",
       "    </tr>\n",
       "    <tr>\n",
       "      <th>29</th>\n",
       "      <td>5.2</td>\n",
       "      <td>3.4</td>\n",
       "      <td>1.4</td>\n",
       "      <td>0.2</td>\n",
       "      <td>setosa</td>\n",
       "    </tr>\n",
       "    <tr>\n",
       "      <th>32</th>\n",
       "      <td>5.4</td>\n",
       "      <td>3.4</td>\n",
       "      <td>1.5</td>\n",
       "      <td>0.4</td>\n",
       "      <td>setosa</td>\n",
       "    </tr>\n",
       "    <tr>\n",
       "      <th>33</th>\n",
       "      <td>5.2</td>\n",
       "      <td>4.1</td>\n",
       "      <td>1.5</td>\n",
       "      <td>0.1</td>\n",
       "      <td>setosa</td>\n",
       "    </tr>\n",
       "    <tr>\n",
       "      <th>34</th>\n",
       "      <td>5.5</td>\n",
       "      <td>4.2</td>\n",
       "      <td>1.4</td>\n",
       "      <td>0.2</td>\n",
       "      <td>setosa</td>\n",
       "    </tr>\n",
       "    <tr>\n",
       "      <th>37</th>\n",
       "      <td>5.5</td>\n",
       "      <td>3.5</td>\n",
       "      <td>1.3</td>\n",
       "      <td>0.2</td>\n",
       "      <td>setosa</td>\n",
       "    </tr>\n",
       "    <tr>\n",
       "      <th>40</th>\n",
       "      <td>5.1</td>\n",
       "      <td>3.4</td>\n",
       "      <td>1.5</td>\n",
       "      <td>0.2</td>\n",
       "      <td>setosa</td>\n",
       "    </tr>\n",
       "    <tr>\n",
       "      <th>45</th>\n",
       "      <td>5.1</td>\n",
       "      <td>3.8</td>\n",
       "      <td>1.9</td>\n",
       "      <td>0.4</td>\n",
       "      <td>setosa</td>\n",
       "    </tr>\n",
       "    <tr>\n",
       "      <th>47</th>\n",
       "      <td>5.1</td>\n",
       "      <td>3.8</td>\n",
       "      <td>1.6</td>\n",
       "      <td>0.2</td>\n",
       "      <td>setosa</td>\n",
       "    </tr>\n",
       "    <tr>\n",
       "      <th>49</th>\n",
       "      <td>5.3</td>\n",
       "      <td>3.7</td>\n",
       "      <td>1.5</td>\n",
       "      <td>0.2</td>\n",
       "      <td>setosa</td>\n",
       "    </tr>\n",
       "  </tbody>\n",
       "</table>\n",
       "</div>"
      ],
      "text/plain": [
       "    Sepal.Length  Sepal.Width  Petal.Length  Petal.Width Species\n",
       "1            5.1          3.5           1.4          0.2  setosa\n",
       "6            5.4          3.9           1.7          0.4  setosa\n",
       "11           5.4          3.7           1.5          0.2  setosa\n",
       "15           5.8          4.0           1.2          0.2  setosa\n",
       "16           5.7          4.4           1.5          0.4  setosa\n",
       "17           5.4          3.9           1.3          0.4  setosa\n",
       "18           5.1          3.5           1.4          0.3  setosa\n",
       "19           5.7          3.8           1.7          0.3  setosa\n",
       "20           5.1          3.8           1.5          0.3  setosa\n",
       "21           5.4          3.4           1.7          0.2  setosa\n",
       "22           5.1          3.7           1.5          0.4  setosa\n",
       "24           5.1          3.3           1.7          0.5  setosa\n",
       "28           5.2          3.5           1.5          0.2  setosa\n",
       "29           5.2          3.4           1.4          0.2  setosa\n",
       "32           5.4          3.4           1.5          0.4  setosa\n",
       "33           5.2          4.1           1.5          0.1  setosa\n",
       "34           5.5          4.2           1.4          0.2  setosa\n",
       "37           5.5          3.5           1.3          0.2  setosa\n",
       "40           5.1          3.4           1.5          0.2  setosa\n",
       "45           5.1          3.8           1.9          0.4  setosa\n",
       "47           5.1          3.8           1.6          0.2  setosa\n",
       "49           5.3          3.7           1.5          0.2  setosa"
      ]
     },
     "execution_count": 28,
     "metadata": {},
     "output_type": "execute_result"
    }
   ],
   "source": [
    "# Looks weird, right?\n",
    "# But the advantage of this method is we have access to all boolean logic:\n",
    "# Syntax slightly different. & = and, | = or\n",
    "iris[(iris[\"Species\"] == \"setosa\") & (iris[\"Sepal.Length\"] > 5)]"
   ]
  },
  {
   "cell_type": "markdown",
   "metadata": {},
   "source": [
    "We're almost at the end now! If we want to make a new column from the existing data in a pandas dataframe, we use the following syntax:"
   ]
  },
  {
   "cell_type": "code",
   "execution_count": 29,
   "metadata": {
    "colab": {
     "base_uri": "https://localhost:8080/",
     "height": 1000
    },
    "id": "X0KWCUEkzDdf",
    "outputId": "2ecd3353-fda4-4c57-93d8-4fa97e4d8f28"
   },
   "outputs": [
    {
     "data": {
      "text/html": [
       "<div>\n",
       "<style scoped>\n",
       "    .dataframe tbody tr th:only-of-type {\n",
       "        vertical-align: middle;\n",
       "    }\n",
       "\n",
       "    .dataframe tbody tr th {\n",
       "        vertical-align: top;\n",
       "    }\n",
       "\n",
       "    .dataframe thead th {\n",
       "        text-align: right;\n",
       "    }\n",
       "</style>\n",
       "<table border=\"1\" class=\"dataframe\">\n",
       "  <thead>\n",
       "    <tr style=\"text-align: right;\">\n",
       "      <th></th>\n",
       "      <th>Sepal.Length</th>\n",
       "      <th>Sepal.Width</th>\n",
       "      <th>Petal.Length</th>\n",
       "      <th>Petal.Width</th>\n",
       "      <th>Species</th>\n",
       "      <th>Petal.Area</th>\n",
       "    </tr>\n",
       "  </thead>\n",
       "  <tbody>\n",
       "    <tr>\n",
       "      <th>1</th>\n",
       "      <td>5.1</td>\n",
       "      <td>3.5</td>\n",
       "      <td>1.4</td>\n",
       "      <td>0.2</td>\n",
       "      <td>setosa</td>\n",
       "      <td>0.28</td>\n",
       "    </tr>\n",
       "    <tr>\n",
       "      <th>2</th>\n",
       "      <td>4.9</td>\n",
       "      <td>3.0</td>\n",
       "      <td>1.4</td>\n",
       "      <td>0.2</td>\n",
       "      <td>setosa</td>\n",
       "      <td>0.28</td>\n",
       "    </tr>\n",
       "    <tr>\n",
       "      <th>3</th>\n",
       "      <td>4.7</td>\n",
       "      <td>3.2</td>\n",
       "      <td>1.3</td>\n",
       "      <td>0.2</td>\n",
       "      <td>setosa</td>\n",
       "      <td>0.26</td>\n",
       "    </tr>\n",
       "    <tr>\n",
       "      <th>4</th>\n",
       "      <td>4.6</td>\n",
       "      <td>3.1</td>\n",
       "      <td>1.5</td>\n",
       "      <td>0.2</td>\n",
       "      <td>setosa</td>\n",
       "      <td>0.30</td>\n",
       "    </tr>\n",
       "    <tr>\n",
       "      <th>5</th>\n",
       "      <td>5.0</td>\n",
       "      <td>3.6</td>\n",
       "      <td>1.4</td>\n",
       "      <td>0.2</td>\n",
       "      <td>setosa</td>\n",
       "      <td>0.28</td>\n",
       "    </tr>\n",
       "    <tr>\n",
       "      <th>...</th>\n",
       "      <td>...</td>\n",
       "      <td>...</td>\n",
       "      <td>...</td>\n",
       "      <td>...</td>\n",
       "      <td>...</td>\n",
       "      <td>...</td>\n",
       "    </tr>\n",
       "    <tr>\n",
       "      <th>146</th>\n",
       "      <td>6.7</td>\n",
       "      <td>3.0</td>\n",
       "      <td>5.2</td>\n",
       "      <td>2.3</td>\n",
       "      <td>virginica</td>\n",
       "      <td>11.96</td>\n",
       "    </tr>\n",
       "    <tr>\n",
       "      <th>147</th>\n",
       "      <td>6.3</td>\n",
       "      <td>2.5</td>\n",
       "      <td>5.0</td>\n",
       "      <td>1.9</td>\n",
       "      <td>virginica</td>\n",
       "      <td>9.50</td>\n",
       "    </tr>\n",
       "    <tr>\n",
       "      <th>148</th>\n",
       "      <td>6.5</td>\n",
       "      <td>3.0</td>\n",
       "      <td>5.2</td>\n",
       "      <td>2.0</td>\n",
       "      <td>virginica</td>\n",
       "      <td>10.40</td>\n",
       "    </tr>\n",
       "    <tr>\n",
       "      <th>149</th>\n",
       "      <td>6.2</td>\n",
       "      <td>3.4</td>\n",
       "      <td>5.4</td>\n",
       "      <td>2.3</td>\n",
       "      <td>virginica</td>\n",
       "      <td>12.42</td>\n",
       "    </tr>\n",
       "    <tr>\n",
       "      <th>150</th>\n",
       "      <td>5.9</td>\n",
       "      <td>3.0</td>\n",
       "      <td>5.1</td>\n",
       "      <td>1.8</td>\n",
       "      <td>virginica</td>\n",
       "      <td>9.18</td>\n",
       "    </tr>\n",
       "  </tbody>\n",
       "</table>\n",
       "<p>150 rows × 6 columns</p>\n",
       "</div>"
      ],
      "text/plain": [
       "     Sepal.Length  Sepal.Width  Petal.Length  Petal.Width    Species  \\\n",
       "1             5.1          3.5           1.4          0.2     setosa   \n",
       "2             4.9          3.0           1.4          0.2     setosa   \n",
       "3             4.7          3.2           1.3          0.2     setosa   \n",
       "4             4.6          3.1           1.5          0.2     setosa   \n",
       "5             5.0          3.6           1.4          0.2     setosa   \n",
       "..            ...          ...           ...          ...        ...   \n",
       "146           6.7          3.0           5.2          2.3  virginica   \n",
       "147           6.3          2.5           5.0          1.9  virginica   \n",
       "148           6.5          3.0           5.2          2.0  virginica   \n",
       "149           6.2          3.4           5.4          2.3  virginica   \n",
       "150           5.9          3.0           5.1          1.8  virginica   \n",
       "\n",
       "     Petal.Area  \n",
       "1          0.28  \n",
       "2          0.28  \n",
       "3          0.26  \n",
       "4          0.30  \n",
       "5          0.28  \n",
       "..          ...  \n",
       "146       11.96  \n",
       "147        9.50  \n",
       "148       10.40  \n",
       "149       12.42  \n",
       "150        9.18  \n",
       "\n",
       "[150 rows x 6 columns]"
      ]
     },
     "execution_count": 29,
     "metadata": {},
     "output_type": "execute_result"
    }
   ],
   "source": [
    "# Setting a new column is as easy as indexing it. Can use operations on other \n",
    "# columns as in numpy arrays:\n",
    "# Modelling petals as rectangles (bad)\n",
    "iris[\"Petal.Area\"] = iris[\"Petal.Length\"] * iris[\"Petal.Width\"]\n",
    "iris"
   ]
  },
  {
   "cell_type": "markdown",
   "metadata": {},
   "source": [
    "Finally, there are loads of other functions and methods to the `pandas` library. Using it is really the first step in any data project - and you'll find your own functions that are helpful for your projects in due time. My favourite functionality is the `.value_counts()` method that gives a new dataframe of how many of each type of a categorical type you have - this can save hours when working with large datasets!"
   ]
  },
  {
   "cell_type": "code",
   "execution_count": 30,
   "metadata": {
    "colab": {
     "base_uri": "https://localhost:8080/"
    },
    "id": "bg2m0idGz05i",
    "outputId": "4eea1189-6d0c-41c4-c661-bfe6f9449b11"
   },
   "outputs": [
    {
     "data": {
      "text/plain": [
       "versicolor    50\n",
       "virginica     50\n",
       "setosa        50\n",
       "Name: Species, dtype: int64"
      ]
     },
     "execution_count": 30,
     "metadata": {},
     "output_type": "execute_result"
    }
   ],
   "source": [
    "# We'll see some othe pandas methods and functions as we go, I recommend looking\n",
    "# at the documentation when you have a chance. One that I use a lot is the \n",
    "# value_counts method:\n",
    "\n",
    "iris[\"Species\"].value_counts()\n",
    "\n",
    "# This object is a dataframe and is often used to create bar charts\n",
    "# for your data."
   ]
  },
  {
   "cell_type": "markdown",
   "metadata": {
    "id": "uYIBLjMj1fgU"
   },
   "source": [
    "# Activity\n",
    "\n",
    "The \"housing\" dataset is a publically available dataset of housing information in Windsor, Canada. The columns are labelled as follows:\n",
    "\n",
    "\n",
    "\n",
    "*   `price` - The price of the property (this data comes from 1987 so the prices might look a bit strange!)\n",
    "*   `lotsize` - Size of the property in square feet\n",
    "*   `bedrooms` - Number of bedrooms in the property\n",
    "*   `bathrms` - Number of bathrooms in the property\n",
    "*   `stories` - Number of floors (excluding basement)\n",
    "*   `driveway` - Does the property have a driveway?\n",
    "*   `recroom` - Does the house have a recreational room?\n",
    "*   `fullbase` - Does the house have a finished basement?\n",
    "*   `gashw` - Does the house use gas for water heating?\n",
    "*   `airco` - Does the house have central air conditioning\n",
    "*   `garagepl` - Number of garage places\n",
    "*   `prefarea` - Is the property located in a \"preferred neighbourhood\"\n",
    "\n",
    "## Tasks\n",
    "\n",
    "\n",
    "\n",
    "1.   I have given you the URL where the data is stored. Use your prefered method to import it into Python and turn it into a dataframe\n",
    "2.   How expensive is the most expensive house?\n",
    "3.   What is the mean size of property in square feet?\n",
    "4.   What is the difference between the average cost of a house with a driveway, and one without? Does the difference in the cost correspond to the \"price of a driveway\". Why?\n",
    "5.   Alice and Bob are looking for a new house. It needs at least 3 bedrooms, a driveway, and at least one bathroom. What is the cheapest property they can buy? What if they want to live in a preferred neighbourhood?\n",
    "\n",
    "\n",
    "\n",
    "\n",
    "\n",
    "\n"
   ]
  },
  {
   "cell_type": "code",
   "execution_count": 31,
   "metadata": {
    "id": "H3UWOaRc0-80"
   },
   "outputs": [],
   "source": [
    "data_url = \"https://raw.githubusercontent.com/stmball/PracticalPython/main/Numpy%2C%20Pandas%20and%20Scipy/housing.csv\""
   ]
  },
  {
   "cell_type": "markdown",
   "metadata": {
    "id": "eQZzm1Qx6OgZ"
   },
   "source": [
    "Finally let's look at plotting with pandas. It's not perfect, but it's great for quick plots for exploring our data and trying to find patterns to investigate using more statistical methods.\n",
    "\n",
    "We'll be taking a much more detailed look into visualisation with Python next week!"
   ]
  },
  {
   "cell_type": "code",
   "execution_count": 32,
   "metadata": {
    "colab": {
     "base_uri": "https://localhost:8080/",
     "height": 204
    },
    "id": "d8y_NYLs6ja3",
    "outputId": "7582e1eb-d09b-4146-cdad-07688855395e"
   },
   "outputs": [
    {
     "data": {
      "text/html": [
       "<div>\n",
       "<style scoped>\n",
       "    .dataframe tbody tr th:only-of-type {\n",
       "        vertical-align: middle;\n",
       "    }\n",
       "\n",
       "    .dataframe tbody tr th {\n",
       "        vertical-align: top;\n",
       "    }\n",
       "\n",
       "    .dataframe thead th {\n",
       "        text-align: right;\n",
       "    }\n",
       "</style>\n",
       "<table border=\"1\" class=\"dataframe\">\n",
       "  <thead>\n",
       "    <tr style=\"text-align: right;\">\n",
       "      <th></th>\n",
       "      <th>Sepal.Length</th>\n",
       "      <th>Sepal.Width</th>\n",
       "      <th>Petal.Length</th>\n",
       "      <th>Petal.Width</th>\n",
       "      <th>Species</th>\n",
       "      <th>Petal.Area</th>\n",
       "    </tr>\n",
       "  </thead>\n",
       "  <tbody>\n",
       "    <tr>\n",
       "      <th>1</th>\n",
       "      <td>5.1</td>\n",
       "      <td>3.5</td>\n",
       "      <td>1.4</td>\n",
       "      <td>0.2</td>\n",
       "      <td>setosa</td>\n",
       "      <td>0.28</td>\n",
       "    </tr>\n",
       "    <tr>\n",
       "      <th>2</th>\n",
       "      <td>4.9</td>\n",
       "      <td>3.0</td>\n",
       "      <td>1.4</td>\n",
       "      <td>0.2</td>\n",
       "      <td>setosa</td>\n",
       "      <td>0.28</td>\n",
       "    </tr>\n",
       "    <tr>\n",
       "      <th>3</th>\n",
       "      <td>4.7</td>\n",
       "      <td>3.2</td>\n",
       "      <td>1.3</td>\n",
       "      <td>0.2</td>\n",
       "      <td>setosa</td>\n",
       "      <td>0.26</td>\n",
       "    </tr>\n",
       "    <tr>\n",
       "      <th>4</th>\n",
       "      <td>4.6</td>\n",
       "      <td>3.1</td>\n",
       "      <td>1.5</td>\n",
       "      <td>0.2</td>\n",
       "      <td>setosa</td>\n",
       "      <td>0.30</td>\n",
       "    </tr>\n",
       "    <tr>\n",
       "      <th>5</th>\n",
       "      <td>5.0</td>\n",
       "      <td>3.6</td>\n",
       "      <td>1.4</td>\n",
       "      <td>0.2</td>\n",
       "      <td>setosa</td>\n",
       "      <td>0.28</td>\n",
       "    </tr>\n",
       "  </tbody>\n",
       "</table>\n",
       "</div>"
      ],
      "text/plain": [
       "   Sepal.Length  Sepal.Width  Petal.Length  Petal.Width Species  Petal.Area\n",
       "1           5.1          3.5           1.4          0.2  setosa        0.28\n",
       "2           4.9          3.0           1.4          0.2  setosa        0.28\n",
       "3           4.7          3.2           1.3          0.2  setosa        0.26\n",
       "4           4.6          3.1           1.5          0.2  setosa        0.30\n",
       "5           5.0          3.6           1.4          0.2  setosa        0.28"
      ]
     },
     "execution_count": 32,
     "metadata": {},
     "output_type": "execute_result"
    }
   ],
   "source": [
    "# Back to the iris dataset\n",
    "iris.head()"
   ]
  },
  {
   "cell_type": "code",
   "execution_count": 33,
   "metadata": {
    "colab": {
     "base_uri": "https://localhost:8080/",
     "height": 497
    },
    "id": "BTMem6-Q6r6A",
    "outputId": "b0abf331-bd0e-4b04-cdb8-51d98b295446"
   },
   "outputs": [
    {
     "data": {
      "image/png": "[encoded data removed]",
      "text/plain": [
       "<Figure size 720x576 with 1 Axes>"
      ]
     },
     "metadata": {
      "needs_background": "light"
     },
     "output_type": "display_data"
    }
   ],
   "source": [
    "# Lots of different plots in pandas - again I urge you to look at the documentation\n",
    "# to see what's possible. This is more of a \"look at what we can do\" rather than\n",
    "# \"how we can do it\" as there's so much to cover here. To be honest, you could\n",
    "# probably do an entire course on just pandas!\n",
    "\n",
    "# Plotting can be done in a number of ways. Simplest is the .plot method\n",
    "# This is the simplest but offers the least control\n",
    "# We tell pandas what to plot on the x and y axis\n",
    "\n",
    "# We still need to import matplotlib for some helper function (like showing plots)\n",
    "import matplotlib.pyplot as plt\n",
    "\n",
    "iris.plot.scatter(x=\"Sepal.Length\", y=\"Petal.Length\", alpha=0.5, figsize=(10, 8))\n",
    "plt.show()"
   ]
  },
  {
   "cell_type": "code",
   "execution_count": 34,
   "metadata": {
    "colab": {
     "base_uri": "https://localhost:8080/",
     "height": 540
    },
    "id": "rNFZoW4d7eIv",
    "outputId": "4e635091-8fe7-4fae-fae5-ab8584493b5a"
   },
   "outputs": [
    {
     "data": {
      "image/png": "[encoded data removed]",
      "text/plain": [
       "<Figure size 720x576 with 1 Axes>"
      ]
     },
     "metadata": {
      "needs_background": "light"
     },
     "output_type": "display_data"
    }
   ],
   "source": [
    "# We can also use some methods directly on the data to get a bit more control.\n",
    "# This where I start to think about using matplotlib directly instead of pandas\n",
    "# since some of the text starts to overlap if we don't fiddle with the figsize.\n",
    "# It *is* possible to edit this using matplotlib functions, but it's a pain to\n",
    "# do so. We'll revisit this next week when we talk more about matplotlib plotting.\n",
    "# We *can* get the best of both worlds with a little work!\n",
    "\n",
    "# Again, can't be stressed enough - you don't know these by heart. You should\n",
    "# always have another tab in the backgroun to look at the documentation!\n",
    "\n",
    "iris.boxplot(column=[\"Sepal.Width\"], by=\"Species\", figsize=(10, 8))\n",
    "plt.show()"
   ]
  },
  {
   "cell_type": "markdown",
   "metadata": {
    "id": "XBl78mev9-AF"
   },
   "source": [
    "# Activity (extension!)\n",
    "\n",
    "Using the housing dataset from before, create a few plots as follows:\n",
    "\n",
    "* Scatter plot of house price vs size of property in square ft.\n",
    "* Box plot of house price by number of bedrooms.\n",
    "* Bar chart of number of houses with each number of bathrooms.\n",
    "\n",
    "There are loads of different ways of doing all of these!"
   ]
  },
  {
   "cell_type": "markdown",
   "metadata": {
    "id": "nK6rD6hg-ijQ"
   },
   "source": [
    "# SciPy\n",
    "\n",
    "* Let's talk about SciPy - or a general purpose toolbox for a lot of scientific computing. Contains functions for optimisation, fourier transforms etc. Massive range of uses.\n",
    "* Particularly helpful is the `scipy.stats` module for traditional statistical testing.\n",
    "* Statistical testing is the main form of analysis for science in the 20th and 21st centuries. Very \"traditional\" way of doing things, and very helpful to know if you're trying to publish scientific papers.\n",
    "* Some overlap with AI models - in fact some people would argue that all AI is statistics. Maybe! Statistics for me is less \"model building\" and more \"testing things + analysis of models\".\n",
    "* Statistics could be its own 4 year+ course. We'll talk about the most common statistical test here for the purpose of this course. But know that `scipy` can do much more. Will talk about this a bit more in the \"Doing AI Right\" section of the course. VERY IMPORTANT that we don't cut corners in this bit otherwise our results are dishonest!\n",
    "\n",
    "Probably the most helpful thing we can do here is hypothesis testing. Hypothesis testing always has the following method:\n",
    "\n",
    "* Find out what test you need to run based on what you are trying to test for. Are two population means the same? Are two distributions the same? etc.\n",
    "* What assumptions do these tests make?\n",
    "* Test for these assumptions (eg test for normality)\n",
    "* If we pass the tests, continue to use the original testing method. If not, find an alternative that doesn't need the assumptions\n",
    "* State your null hypothesis - this will come from the test you're using.\n",
    "* Get test statistic + p value\n",
    "* p value is the probability of observing your data given the null hypothesis being true. Low p-value = \"wow that was lucky! maybe my null hypothesis is wrong\". High p-value = \"Yeah my null hypothesis is probably right\".\n",
    "* Typically reject null hypothesis at p < 0.05"
   ]
  },
  {
   "cell_type": "code",
   "execution_count": 35,
   "metadata": {
    "colab": {
     "base_uri": "https://localhost:8080/"
    },
    "id": "M8CHNBDh-hNb",
    "outputId": "6903e37e-1d0a-4a81-e381-e07093ac1901"
   },
   "outputs": [
    {
     "name": "stdout",
     "output_type": "stream",
     "text": [
      "Performing normality tests\n",
      "ShapiroResult(statistic=0.9741330742835999, pvalue=0.33798879384994507)\n",
      "ShapiroResult(statistic=0.9673910140991211, pvalue=0.1809043288230896)\n",
      "Performing t-test\n",
      "Ttest_indResult(statistic=-3.2057607502218186, pvalue=0.0018191004238894803)\n"
     ]
    }
   ],
   "source": [
    "# The independent t-test can be used to test if two population means are the\n",
    "# same given two samples of data from normally distributed populations.\n",
    "# If not normally distributed, we use the Mann-Whitney test instead.\n",
    "\n",
    "import scipy.stats as stats\n",
    "\n",
    "# Theory - The Sepal Widths for Versicolor and Virginica species look different.\n",
    "# But is this difference due to chance?\n",
    "\n",
    "# Step 1: Test for normality within the groups. We can use the Shapiro test for this\n",
    "# Null Hypothesis for this test is our data IS normally distributed.\n",
    "versicolor_widths = iris[iris[\"Species\"] == \"versicolor\"][\"Sepal.Width\"]\n",
    "virginica_widths = iris[iris[\"Species\"] == \"virginica\"][\"Sepal.Width\"]\n",
    "\n",
    "print(\"Performing normality tests\")\n",
    "print(stats.shapiro(versicolor_widths))\n",
    "print(stats.shapiro(virginica_widths))\n",
    "\n",
    "# p values high enough to assume normality. Continue with t-test\n",
    "\n",
    "print(\"Performing t-test\")\n",
    "print(stats.ttest_ind(versicolor_widths, virginica_widths))"
   ]
  },
  {
   "cell_type": "markdown",
   "metadata": {
    "id": "mYCL0YpCCZbM"
   },
   "source": [
    "A p-value of 0.001 is far below 0.05. Therefore, we would write that there is a significant difference between the sepal Widths of the Versicolor and Virginica species of Iris (p < 0.01)."
   ]
  },
  {
   "cell_type": "markdown",
   "metadata": {
    "id": "7kEesdp6CslL"
   },
   "source": [
    "# Activity\n",
    "\n",
    "Finally we are at a point where we have enough knowledge to write something somewhat useful. Using the housing dataset, or a dataset of your own, come up with a hypothesis and test it formally using a scipy function. Some ideas below:\n",
    "\n",
    "\n",
    "\n",
    "*   Is there a relationship between the price of a property and its size? (Will need to do a regression fit using `stats.linregress`. The p-value will pop out from fitting the line!\n",
    "*   Are the prices of properties with and without gas water heating equal?\n",
    "*   Is there a correlation between houses having air conditioning and gas water heating? (This is a bit harder, and will take some manipulation. The statistical test here is a chi squared test for independence.)\n",
    "\n",
    "## Extension\n",
    "\n",
    "This kind of work is a great portfolio project for showing pandas and traditional statistical skills. As an extension, write up a report on a dataset of your choice (or the housing dataset) as a Colab notebook, with multiple tests and commentary on what you're doing. \n",
    "\n"
   ]
  }
 ],
 "metadata": {
  "colab": {
   "collapsed_sections": [],
   "name": "Week 2.ipynb",
   "provenance": []
  },
  "kernelspec": {
   "display_name": "Python 3",
   "language": "python",
   "name": "python3"
  },
  "language_info": {
   "codemirror_mode": {
    "name": "ipython",
    "version": 3
   },
   "file_extension": ".py",
   "mimetype": "text/x-python",
   "name": "python",
   "nbconvert_exporter": "python",
   "pygments_lexer": "ipython3",
   "version": "3.8.11"
  }
 },
 "nbformat": 4,
 "nbformat_minor": 4
}
