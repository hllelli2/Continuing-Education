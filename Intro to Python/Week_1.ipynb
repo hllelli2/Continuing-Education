{
 "cells": [
  {
   "cell_type": "markdown",
   "metadata": {
    "colab": {
     "base_uri": "https://localhost:8080/"
    },
    "id": "TtG7K0HXEuyA",
    "outputId": "43965b35-8382-4f19-c6b3-5670ea0fa12a"
   },
   "source": [
    "# Week 1 - Introduction to Python\n",
    "\n",
    "In these first few sessions, we will be focusing on learning the fundamentals of the Python programming language, to ensure we have a solid foundation to build upon when moving onto the data science portion of the course. If you are new to programming, these sessions will contain a lot of important information, and might seem to move quite quickly; therefore it is *extremely* important to ask questions if you don't understand, and complete the exercises at the end of each session to consolidate your learning. Fully understanding this section of the course will making the following sections far, far easier!\n",
    "\n",
    "If, on the other hand you are familiar with programming already, these sessions are still worthwhile to introduce the Python syntax - there are a few differences between Python and other languages, and depending on how you feel about features such as static typing and the lack of braces for code blocks, you might find these differences very exciting or very annoying! Either way, love it or hate it, Python is the most popular language for working with data, so we have to learn to work with it!\n",
    "\n",
    "At the end of each notebook there will be a collection of exercises. These range from covering what we have learnt during the session, to questions that will require some independent research on how to solve. AS we move through the course, the questions will move more towards the latter type; the reason for this is to build independence - after all, the majority of coding is learning how to use Google and effectively!\n",
    "\n",
    "With that, let's get started with learning Python.\n",
    "\n",
    "## Variables and Objects\n",
    "\n",
    "Python is an Object Oriented Language (OOP) - the specific meaning of this is rather abstract and can be a bit confusing, so let's start with an informal intuition of what's going on.\n",
    "\n",
    "In Python, we have *things* - these things, for example, a bit of text, or a number, can be displayed to us by using the `print()` function. In this code, we have the text \"Hello World!\", and are `print`ing that to the console:"
   ]
  },
  {
   "cell_type": "code",
   "execution_count": 1,
   "metadata": {},
   "outputs": [
    {
     "name": "stdout",
     "output_type": "stream",
     "text": [
      "Hello world!\n"
     ]
    }
   ],
   "source": [
    "print(\"Hello world!\")"
   ]
  },
  {
   "cell_type": "markdown",
   "metadata": {},
   "source": [
    "Note that the text is encapsulated in speech marks (apostrophes will also work - but make sure the pairs match!). This is for a very good reason - text without speech marks is used for telling our program how to run. One example of where text without speech marks is used is in *variable* names. Variables are useful for storing large *things* without having to type them out manually each time. Imagine trying to analyse a 300 page book and having to type out the whole thing whenever we wanted to refer to it!\n",
    "\n",
    "To assign a variable to a value - we simply use the `=` operator:"
   ]
  },
  {
   "cell_type": "code",
   "execution_count": 2,
   "metadata": {
    "id": "uFAxDwrpRz6t"
   },
   "outputs": [],
   "source": [
    "my_variable = 30"
   ]
  },
  {
   "cell_type": "markdown",
   "metadata": {},
   "source": [
    "Now, to see what this variable contains, we can use the `print()` function again:"
   ]
  },
  {
   "cell_type": "code",
   "execution_count": 3,
   "metadata": {
    "colab": {
     "base_uri": "https://localhost:8080/"
    },
    "id": "PEbUQOi8SJdV",
    "outputId": "d1be18c4-4fd3-46af-ae08-a65047d2e7a6"
   },
   "outputs": [
    {
     "name": "stdout",
     "output_type": "stream",
     "text": [
      "30\n"
     ]
    }
   ],
   "source": [
    "print(my_variable)"
   ]
  },
  {
   "cell_type": "markdown",
   "metadata": {},
   "source": [
    "This bit is really important so I'm going to write it on it's own line:\n",
    "\n",
    "*Whenever Python sees a variable, it substitutes it with it's corresponding value.*\n",
    "\n",
    "In other words:\n",
    "\n",
    "*Whenever Python sees a variable, it thinks it's value.*\n",
    "\n",
    "This is crucial to understand - since we will work with variables a lot in the coming weeks!\n",
    "\n",
    "As an example - if we assign numeric values to two variables, we can add them together:"
   ]
  },
  {
   "cell_type": "code",
   "execution_count": 4,
   "metadata": {
    "id": "GnvSP6s7Shm4"
   },
   "outputs": [],
   "source": [
    "apples = 4\n",
    "oranges = 6"
   ]
  },
  {
   "cell_type": "code",
   "execution_count": 5,
   "metadata": {
    "colab": {
     "base_uri": "https://localhost:8080/"
    },
    "id": "LEbu8e3_Su_q",
    "outputId": "2b7577bf-9b0e-44a0-e6c5-8424e64201a7"
   },
   "outputs": [
    {
     "name": "stdout",
     "output_type": "stream",
     "text": [
      "10\n"
     ]
    }
   ],
   "source": [
    "print(4 + 6)"
   ]
  },
  {
   "cell_type": "code",
   "execution_count": 8,
   "metadata": {
    "colab": {
     "base_uri": "https://localhost:8080/"
    },
    "id": "N1AwSZDNS3O7",
    "outputId": "49c30dfd-f11e-4c5a-bc3f-64758ad5abb5"
   },
   "outputs": [
    {
     "name": "stdout",
     "output_type": "stream",
     "text": [
      "10\n"
     ]
    }
   ],
   "source": [
    "print(apples + oranges)"
   ]
  },
  {
   "cell_type": "markdown",
   "metadata": {},
   "source": [
    "Remember - since Python substitutes these values in, we can assign variables to the sum of other variables:"
   ]
  },
  {
   "cell_type": "code",
   "execution_count": 7,
   "metadata": {},
   "outputs": [
    {
     "name": "stdout",
     "output_type": "stream",
     "text": [
      "10\n"
     ]
    }
   ],
   "source": [
    "fruit_total = apples + oranges\n",
    "print(fruit_total)"
   ]
  },
  {
   "cell_type": "markdown",
   "metadata": {},
   "source": [
    "Python is *dynamically typed*, meaning that Python will try to infer the type of an object from when you enter it. To check the type of an object at any time, you can use the `type()` function.\n",
    "\n",
    "Note that I am `print()`ing the output of the `type()` function - this is so we are sure to see the output. More on this later!"
   ]
  },
  {
   "cell_type": "code",
   "execution_count": 9,
   "metadata": {
    "colab": {
     "base_uri": "https://localhost:8080/"
    },
    "id": "tkUbaRYES41_",
    "outputId": "d9172699-3e93-4db3-dc52-27e1722dec43"
   },
   "outputs": [
    {
     "name": "stdout",
     "output_type": "stream",
     "text": [
      "<class 'str'>\n"
     ]
    }
   ],
   "source": [
    "print(type(\"hello world\"))"
   ]
  },
  {
   "cell_type": "markdown",
   "metadata": {},
   "source": [
    "`'str'` here stands for 'string', which is the commonly held name for \"bits of text\" in the programming community.\n",
    "\n",
    "A nice thing about the different types of object in Python is that they can handle operations differently. If we were to add two numbers together, the output would be the arithmetic sum; but what happens if we try to add two strings together? They have no numeric value, so how does Python deal with this?"
   ]
  },
  {
   "cell_type": "code",
   "execution_count": 10,
   "metadata": {
    "colab": {
     "base_uri": "https://localhost:8080/"
    },
    "id": "jXxSt4cDTH4H",
    "outputId": "b2ea9c9e-7263-4fb4-bf9d-143fe7f853e4"
   },
   "outputs": [
    {
     "name": "stdout",
     "output_type": "stream",
     "text": [
      "Hello World!\n"
     ]
    }
   ],
   "source": [
    "print(\"Hello \" + \"World!\")"
   ]
  },
  {
   "cell_type": "markdown",
   "metadata": {},
   "source": [
    "Helpfully, Python will just join the two strings together.\n",
    "\n",
    "This behaviour will be defined on a type-by-type basis - and later we will learn how we can define our own! For now, let's look at some other data types. First we have the *boolean* datatype, which can only be True of False (this is case sensitive!)."
   ]
  },
  {
   "cell_type": "code",
   "execution_count": 11,
   "metadata": {
    "id": "TRDPcnDXTaG9"
   },
   "outputs": [],
   "source": [
    "my_bool = True"
   ]
  },
  {
   "cell_type": "markdown",
   "metadata": {},
   "source": [
    "This type will prove very important later when we want our program to do something if a condition is met.\n",
    "\n",
    "Another helpful type is the *list* type - this object is actually a container that holds a number of *other objects*!"
   ]
  },
  {
   "cell_type": "code",
   "execution_count": 12,
   "metadata": {
    "id": "7Ab5tks5Tt9A"
   },
   "outputs": [],
   "source": [
    "my_list = [1, 3.24, \"string\", False]"
   ]
  },
  {
   "cell_type": "code",
   "execution_count": 13,
   "metadata": {
    "colab": {
     "base_uri": "https://localhost:8080/"
    },
    "id": "kP-1IOK8UFYP",
    "outputId": "8e6b54ea-c1a3-4fc6-8472-671664226479"
   },
   "outputs": [
    {
     "name": "stdout",
     "output_type": "stream",
     "text": [
      "[1, 3.24, 'string', False]\n"
     ]
    }
   ],
   "source": [
    "print(my_list)"
   ]
  },
  {
   "cell_type": "markdown",
   "metadata": {},
   "source": [
    "This allows us to create some kind of structure and organisation for some data, but how do we get these objects back out? The answer is simple - *indexing*. We simply type the variable of the list and then a number in square brackets - this number corresponds to the position of the element we want in the list when we start counting at 0. Why 0? In the old days of programming this index referred to the distance away from the first element in the list in memory - obviously the distance of an object to itself is zero!"
   ]
  },
  {
   "cell_type": "code",
   "execution_count": 14,
   "metadata": {},
   "outputs": [
    {
     "name": "stdout",
     "output_type": "stream",
     "text": [
      "1\n"
     ]
    }
   ],
   "source": [
    "print(my_list[0])"
   ]
  },
  {
   "cell_type": "markdown",
   "metadata": {},
   "source": [
    "Python also allows us to generate sub-lists of a list by using the *slicing* syntax. This is a little unintuitive at first but has good reason - the first number is the starting index (inclusive), and the second number is the ending index (exclusive). The reason for this asymmetry is that the resulting list will have length equal to the difference between the two numbers:"
   ]
  },
  {
   "cell_type": "code",
   "execution_count": 16,
   "metadata": {
    "colab": {
     "base_uri": "https://localhost:8080/"
    },
    "id": "1v2DF525UHtM",
    "outputId": "8bb0c418-4e0c-4391-8d89-59d08aeb2433"
   },
   "outputs": [
    {
     "name": "stdout",
     "output_type": "stream",
     "text": [
      "[1, 3.24, 'string']\n"
     ]
    }
   ],
   "source": [
    "print(my_list[0:3])"
   ]
  },
  {
   "cell_type": "markdown",
   "metadata": {},
   "source": [
    "Lots of objects will also have *methods* - these are actions specific to a type of object, so the syntax is a bit different. To add an element to a list, we use the `.append()` method:"
   ]
  },
  {
   "cell_type": "code",
   "execution_count": 17,
   "metadata": {
    "id": "z45wvB0GUVIj"
   },
   "outputs": [],
   "source": [
    "my_list.append(True)"
   ]
  },
  {
   "cell_type": "code",
   "execution_count": 18,
   "metadata": {
    "colab": {
     "base_uri": "https://localhost:8080/"
    },
    "id": "1GBvYLdqVLe9",
    "outputId": "e3e209c2-81d6-411f-b63c-cd6598d6d938"
   },
   "outputs": [
    {
     "name": "stdout",
     "output_type": "stream",
     "text": [
      "[1, 3.24, 'string', False, True]\n"
     ]
    }
   ],
   "source": [
    "print(my_list)"
   ]
  },
  {
   "cell_type": "markdown",
   "metadata": {},
   "source": [
    "Finally for lists, another helpful thing to know is the length. This can simply be found by using the `len` function:"
   ]
  },
  {
   "cell_type": "code",
   "execution_count": 19,
   "metadata": {
    "colab": {
     "base_uri": "https://localhost:8080/"
    },
    "id": "5sHC0DtuVM-j",
    "outputId": "b68b3e26-3670-476e-cb87-17f5e69fa42f"
   },
   "outputs": [
    {
     "name": "stdout",
     "output_type": "stream",
     "text": [
      "5\n"
     ]
    }
   ],
   "source": [
    "print(len(my_list))"
   ]
  },
  {
   "cell_type": "markdown",
   "metadata": {},
   "source": [
    "To cap off this section, lets look at some numeric operators that are helpful to know. We have our trusty favourites for division, addition, subtraction and multiplication:"
   ]
  },
  {
   "cell_type": "code",
   "execution_count": null,
   "metadata": {
    "colab": {
     "base_uri": "https://localhost:8080/"
    },
    "id": "a2hV2ibkVg01",
    "outputId": "b7b975e2-09a2-402b-8e24-6a7be46cf73a"
   },
   "outputs": [
    {
     "name": "stdout",
     "output_type": "stream",
     "text": [
      "1.5\n",
      "5\n",
      "3\n",
      "10\n"
     ]
    }
   ],
   "source": [
    "print(3 / 2)\n",
    "print(3 + 2)\n",
    "print(5 - 2)\n",
    "print(5 * 2)"
   ]
  },
  {
   "cell_type": "markdown",
   "metadata": {},
   "source": [
    "... but we also have some new operators. For powers (or exponents), we use the `**` symbol:"
   ]
  },
  {
   "cell_type": "code",
   "execution_count": 20,
   "metadata": {
    "colab": {
     "base_uri": "https://localhost:8080/"
    },
    "id": "hAYcXZKlVqBX",
    "outputId": "d8850abc-a358-44ac-8778-6d48c207eee8"
   },
   "outputs": [
    {
     "name": "stdout",
     "output_type": "stream",
     "text": [
      "9\n"
     ]
    }
   ],
   "source": [
    "print(3 ** 2)"
   ]
  },
  {
   "cell_type": "markdown",
   "metadata": {},
   "source": [
    "If we want to know division *without remainder*, we use the `//` operator. This is sometimes referred to as \"floor division\":"
   ]
  },
  {
   "cell_type": "code",
   "execution_count": 21,
   "metadata": {
    "colab": {
     "base_uri": "https://localhost:8080/"
    },
    "id": "vW9FWd1zVtHR",
    "outputId": "0946a2f2-1e56-480e-ee0f-ef8fb610e5c6"
   },
   "outputs": [
    {
     "name": "stdout",
     "output_type": "stream",
     "text": [
      "2\n"
     ]
    }
   ],
   "source": [
    "print(5 // 2)"
   ]
  },
  {
   "cell_type": "markdown",
   "metadata": {},
   "source": [
    "If we want to know *only the remainder* after division, we use the `%` operator. Sometimes this is referred to as the *modulus* operator (particularly in mathematical groups!)."
   ]
  },
  {
   "cell_type": "code",
   "execution_count": 22,
   "metadata": {
    "colab": {
     "base_uri": "https://localhost:8080/"
    },
    "id": "11qpHp4QVw0k",
    "outputId": "4ebfee5f-27df-430b-8069-956e2fcbf9ec"
   },
   "outputs": [
    {
     "name": "stdout",
     "output_type": "stream",
     "text": [
      "1\n"
     ]
    }
   ],
   "source": [
    "print(13 % 3)"
   ]
  },
  {
   "cell_type": "markdown",
   "metadata": {},
   "source": [
    "We should now be comfortable with objects and variables, and have a broad overview of some of the things possible with them.\n",
    "\n",
    "## Libraries and Modules\n",
    "\n",
    "What follows now might seem like we're skipping a few steps, but historically I've found that one of the big questions when learning how to program is \"so what?\". So to give some motivation, we're going to take a quick detour to look at how to use other people's code in your work.\n",
    "\n",
    "One of the great things about the programming community is code sharing - it is very common to upload and share tools you have created for other people to use. In fact, if I am starting a new project, my first step is to look online and see how/if other people have done it, and if I can use their code to save me some time! It is common for creators to bundle code into \"libraries\" that solve a similar problem - for example, `biopython` contains a lot of tools for computational biology.\n",
    "\n",
    "Importing other people's code is as simple as using the `import` keyword. One of the most popular libraries, `matplotlib` is used for data visualisation. Let's import it now:"
   ]
  },
  {
   "cell_type": "code",
   "execution_count": 23,
   "metadata": {},
   "outputs": [],
   "source": [
    "import matplotlib"
   ]
  },
  {
   "cell_type": "markdown",
   "metadata": {},
   "source": [
    "It's that simple - we now have access to all the `matplotlib` functions by using the syntax `matplotlib.<function_name>`. There is one problem however; most of the functions we want to use are under the `matplotlib.pyplot` sublibrary - that means that whenever we want to call a function (for example `plot`) - we have to write `matplotlib.pyplot.plot`. Since we will be using the `pyplot` sublibrary quite a lot, it's common to import the library under an alias, as follows:"
   ]
  },
  {
   "cell_type": "code",
   "execution_count": 24,
   "metadata": {
    "id": "-dVHQDs2V2B6"
   },
   "outputs": [],
   "source": [
    "import matplotlib.pyplot as plt"
   ]
  },
  {
   "cell_type": "markdown",
   "metadata": {},
   "source": [
    "Now instead of writing `matplotlib.pyplot.plot`, we simple write `plt.plot`. It will quickly become clear the power of doing this!\n",
    "\n",
    "Now let's try plotting some data - below I have 2 lists for numbers; the numbers from one to 10 and their corresponding square numbers."
   ]
  },
  {
   "cell_type": "code",
   "execution_count": 25,
   "metadata": {
    "id": "amKFrMoPWQQP"
   },
   "outputs": [],
   "source": [
    "x = [1, 2, 3, 4, 5, 6, 7, 8, 9, 10]\n",
    "y = [1, 4, 9, 16, 25, 36, 49, 64, 81, 100]"
   ]
  },
  {
   "cell_type": "markdown",
   "metadata": {},
   "source": [
    "We can plot this data by using the following two functions:"
   ]
  },
  {
   "cell_type": "code",
   "execution_count": 26,
   "metadata": {
    "colab": {
     "base_uri": "https://localhost:8080/",
     "height": 265
    },
    "id": "8XKEpu1GWrw8",
    "outputId": "abd98c3d-3276-4714-9dbf-53d404ca298e"
   },
   "outputs": [
    {
     "data": {
      "image/png": "[encoded data removed]",
      "text/plain": [
       "<Figure size 432x288 with 1 Axes>"
      ]
     },
     "metadata": {
      "needs_background": "light"
     },
     "output_type": "display_data"
    }
   ],
   "source": [
    "plt.plot(x,y)\n",
    "plt.show()"
   ]
  },
  {
   "cell_type": "markdown",
   "metadata": {},
   "source": [
    "If you play around with this code, you might notice that the second function call seems redundant. You may have also encountered that instead of writing `print(\"Hello World\")`, we can type `\"Hello World\"`, run the cell and we will get a similar looking output.\n",
    "\n",
    "*It is extremely important that if we want to see something, we use the `print()` function or the `plt.show()` function!*\n",
    "\n",
    "Exactly why this is so important is what we'll talk about next!\n",
    "\n",
    "## Functions\n",
    "\n",
    "We have already seen some functions that come with the core Python library, and we also know how to import other people's functions; but how can we make our own? The syntax for defining our own function is as follows, using a simple function called `my_add()` to illustrate.\n",
    "\n",
    "Every function definition starts with the `def` keyword - this signifies to Python that a function definition is coming up. Then, the name of the function - here I am using `my_add`. We then need to type the inputs of the function in brackets - these are not variables that have defined values, buy *dummy* variables that exist to tell Python what to do with the inputs.\n",
    "\n",
    "We then must start an indented code block (preferably indented by 4 spaces or a tab) to denote that what follows is the function definition itself. Lots of Python's syntax relies on horizontal whitespace to understand what's going on. This is helpful in some ways (it often makes code more readable), but can create some annoying indent errors where invalid whitespace is used.\n",
    "\n",
    "We then may have some lines of computation (for example calculating something based on our inputs), however it's usually good practice to keep your functions short and sweet. You can call functions within other functions, so it's often better to have 5 short functions than one long function. Why? Well, if you need to calculate one of these intermediate steps later on in your program, you already have the function ready made!\n",
    "\n",
    "Finally, the function will return something - this is the \"output\" of the function, and what we can use as the input to other functions. This can only be one object, and after the value is `return`ed, the function call ends and the rest of the code in the function is skipped. We can only return one object, but that object can be a list or another data structure that contains multiple bits of information. Note that we do **not** `print()` the output of the function, even though this gives us a similar visual output in the notebooks. This is because `print()`ing *does not* pass information through with Python. In other words:\n",
    "\n",
    "*`print()` is how Python talks to us, `return` is how Python talks to itself*\n",
    "\n",
    "At some point you will write a function that has no output, that exists only to change the state in something else. Whether or not this is good practice is still up for debate - but it is broadly agreed that you should still be returning something from these functions, even if it is just a 0 to signify the function completing successfully."
   ]
  },
  {
   "cell_type": "code",
   "execution_count": 3,
   "metadata": {
    "colab": {
     "base_uri": "https://localhost:8080/"
    },
    "id": "jrpT8BVsWwtp",
    "outputId": "593921bc-059e-4e3a-f9f0-9f376509e2a5"
   },
   "outputs": [],
   "source": [
    "def my_add(a, b):\n",
    "    return a + b"
   ]
  },
  {
   "cell_type": "markdown",
   "metadata": {},
   "source": [
    "Let's have a look at a quick example as to what can go wrong with `print()`ing our outputs. Say we have a new function called `wrong_add`, that does the same as `my_add` but `print()`s instead of `return`s its value:"
   ]
  },
  {
   "cell_type": "code",
   "execution_count": 1,
   "metadata": {
    "id": "J4RIhPAUZQg0"
   },
   "outputs": [],
   "source": [
    "def wrong_add(a, b):\n",
    "    print(a + b)"
   ]
  },
  {
   "cell_type": "markdown",
   "metadata": {},
   "source": [
    "Now, when chaining these functions together, we will get an problem with the latter definition:"
   ]
  },
  {
   "cell_type": "code",
   "execution_count": 6,
   "metadata": {
    "colab": {
     "base_uri": "https://localhost:8080/"
    },
    "id": "5y2UNdovZUh9",
    "outputId": "3c7f0d8d-15a2-4d65-ae8d-2df6be065871"
   },
   "outputs": [
    {
     "name": "stdout",
     "output_type": "stream",
     "text": [
      "14\n"
     ]
    }
   ],
   "source": [
    "print(my_add(my_add(2, 3), my_add(4, 5)))"
   ]
  },
  {
   "cell_type": "code",
   "execution_count": 7,
   "metadata": {},
   "outputs": [
    {
     "name": "stdout",
     "output_type": "stream",
     "text": [
      "5\n",
      "9\n",
      "None None\n"
     ]
    }
   ],
   "source": [
    "print(wrong_add(2, 3), wrong_add(4, 5))"
   ]
  },
  {
   "cell_type": "markdown",
   "metadata": {},
   "source": [
    "We don't actually get the answer, and we get these two weird `None`s printed - obviously this is incorrect; since the inner functions don't `return` a value, the outer function has to try and add two objects with type None together. This is where dynamic typing can really catch you out - a statically typed language would simply refuse to run here!\n",
    "\n",
    "There's a lot more we can do with functions, but for now that's all we need to know. To conclude - functions are a good way to organise and compartmentalise your code to make it reusable and modular. Functions take in a number of inputs (or arguments) and output an object via a `return` statement.\n",
    "\n",
    "## Control Flow\n",
    "\n",
    "Control Flow is letting our program make decisions based on inputs. AI can be seen as a very complex control flow, classifying points into two different groups based on an equation, boundary, or output of a neural network. When our condition for control is simple, we can just use the `if` statement as follows; here we are writing a function to determine if a number is equal to 10 or not. Note the similarity to the function definition syntax - we start with the relevant keyword (here `if`), and we have an indented block of code signifying what to do if the if statement is true. There are some important differences however - the condition after the `if` keyword is simply written as-is; we use the `==` operator to test for equality since the `=` operator is reserved for variable assignment; and we can also follow the `if` statement block with an `else` statement block to handle all cases."
   ]
  },
  {
   "cell_type": "code",
   "execution_count": 10,
   "metadata": {
    "colab": {
     "base_uri": "https://localhost:8080/"
    },
    "id": "w-B5TUTXZaUi",
    "outputId": "9bbbb4d4-14e5-487e-eda5-36682021a49c"
   },
   "outputs": [],
   "source": [
    "def is_ten(number):\n",
    "\n",
    "    if number == 10:\n",
    "\n",
    "        return True\n",
    "\n",
    "    else:\n",
    "\n",
    "        return False"
   ]
  },
  {
   "cell_type": "markdown",
   "metadata": {},
   "source": [
    "Now, let's test our function to see if it works - it's always good to do this!"
   ]
  },
  {
   "cell_type": "code",
   "execution_count": 12,
   "metadata": {},
   "outputs": [
    {
     "name": "stdout",
     "output_type": "stream",
     "text": [
      "Is 10 equal to 10?: True\n",
      "Is 11 equal to 10?: False\n",
      "Is the word apple equal to 10?: False\n"
     ]
    }
   ],
   "source": [
    "# Checking for truth\n",
    "print(\"Is 10 equal to 10?:\", is_ten(10))\n",
    "\n",
    "# Checking for false\n",
    "print(\"Is 11 equal to 10?:\", is_ten(11))\n",
    "\n",
    "# Checking for annoying inputs\n",
    "print(\"Is the word apple equal to 10?:\", is_ten(\"apple\"))"
   ]
  },
  {
   "cell_type": "markdown",
   "metadata": {},
   "source": [
    "In cases where we want to have multiple outcomes to a condition, we use the `elif` keyword (short for \"else if\"), followed by another condition. This allows us to build complex decision trees with multiple branches per point. Read this function and see if you can figure out what it does:"
   ]
  },
  {
   "cell_type": "code",
   "execution_count": 14,
   "metadata": {
    "colab": {
     "base_uri": "https://localhost:8080/"
    },
    "id": "esVBAU6dZt46",
    "outputId": "78ad8022-c204-4780-9764-a8eabf0cffe2"
   },
   "outputs": [],
   "source": [
    "def five_or_three(number):\n",
    "\n",
    "    if number > 5:\n",
    "\n",
    "        return \"This is a big number!\"\n",
    "    \n",
    "    elif number <= 5 and number >= 3:\n",
    "\n",
    "        return \"This is a small number\"\n",
    "\n",
    "    else: \n",
    "\n",
    "        return \"This is a tiny number!\""
   ]
  },
  {
   "cell_type": "markdown",
   "metadata": {},
   "source": [
    "That's what we need to know about control flow in Python - it might look simple but used correctly in conjunction with functions it can be incredibly powerful.\n",
    "\n",
    "We have seen how to encapsulate our code in functions, and have Python make decisions for us - but how can we really harness the power of our computer to perform complex, lengthy tasks that are too large or tedious to complete ourselves? Enter loops!\n",
    "\n",
    "## Loops\n",
    "\n",
    "We are going to look at two types of loop in Python - the `for` loop and the `while` loop. The difference between the two is purely stylistic - you can always rewrite a `for` loop as a `while` loop and vica-versa. The syntax for how a `for` loop works is rather simple; we start with the `for` keyword and then supply a *dummy* variable that will take the value of each element in the iterator after the `in` keyword, and complete the indented code block for that value before returning to the top and running the code again for the next element in the list. If that sounds complex, an example will make much more sense!"
   ]
  },
  {
   "cell_type": "code",
   "execution_count": 16,
   "metadata": {
    "colab": {
     "base_uri": "https://localhost:8080/"
    },
    "id": "Bmx4CTzaZzvp",
    "outputId": "8c8424fa-257d-4b26-ac00-60d1add677d1"
   },
   "outputs": [
    {
     "name": "stdout",
     "output_type": "stream",
     "text": [
      "banana\n",
      "orange\n",
      "strawberry\n"
     ]
    }
   ],
   "source": [
    "fruits = [\"banana\", \"orange\",\"strawberry\"]\n",
    "\n",
    "for element in fruits:\n",
    "    print(element)"
   ]
  },
  {
   "cell_type": "markdown",
   "metadata": {},
   "source": [
    "`while` loops are similar - but instead of computing code until a list runs out of elements, it will continue to run the code until a condition isn't met any more. The example below demonstrates the syntax as well as a common pattern with `while` loops:"
   ]
  },
  {
   "cell_type": "code",
   "execution_count": 18,
   "metadata": {},
   "outputs": [
    {
     "name": "stdout",
     "output_type": "stream",
     "text": [
      "29\n",
      "88\n",
      "44.0\n",
      "22.0\n",
      "11.0\n",
      "34.0\n",
      "17.0\n",
      "52.0\n",
      "26.0\n",
      "13.0\n",
      "40.0\n",
      "20.0\n",
      "10.0\n",
      "5.0\n",
      "16.0\n",
      "8.0\n",
      "4.0\n",
      "2.0\n"
     ]
    }
   ],
   "source": [
    "i = 29\n",
    "\n",
    "# While i is not equal to 1:\n",
    "while i != 1:\n",
    "    \n",
    "    # If the number is even (remainder when divided by 2 is 0), divide by 2\n",
    "    if i % 2 ==0:\n",
    "        print(i)\n",
    "        i = i / 2\n",
    "    \n",
    "    # Else, multiply i by 3 and add one\n",
    "    else:\n",
    "        print(i)\n",
    "        i = 3 * i + 1"
   ]
  },
  {
   "cell_type": "markdown",
   "metadata": {},
   "source": [
    "The above while loop will compute the path taken by a number in the Collatz Conjecture - try chaning the initial value of `i` to see how this changes! This mathematical conjecture states that this sequence will always end at 1 - hence the while loop will always terminate!\n",
    "\n",
    "Another common pattern with while loops is to keep doing something until a condition is met, with a programmatic way of checking cases. One example of this would be in searching algorithms - when you find what you are looking for, it's time to stop! For this, we have to use the `break` keyword - this will break out of the current loop and continue the code after the loop. For example, if we want to build a naive function to check if a number is prime, we don't want to check all the numbers between 2 and our number if we find a \"hit\" - we can safely break out and continue. This is also possible (in fact, far better!) by using a function and `return`, but for the sake of example, let's use it without:"
   ]
  },
  {
   "cell_type": "code",
   "execution_count": 22,
   "metadata": {},
   "outputs": [
    {
     "name": "stdout",
     "output_type": "stream",
     "text": [
      "The number is not prime, it is divisible by: 7\n"
     ]
    }
   ],
   "source": [
    "# Testing the number for primality\n",
    "prime_test = 119\n",
    "\n",
    "# Start testing for divisibility at 2\n",
    "start_num = 2\n",
    "\n",
    "# This while loop will continue running until we break out, since it always is True\n",
    "while True:\n",
    "    \n",
    "    if prime_test % start_num == 0:\n",
    "        # We have found a hit - now break out to stop early - also print the factor\n",
    "        print(\"The number is not prime, it is divisible by:\", start_num)\n",
    "        break\n",
    "\n",
    "    else:\n",
    "        # Check the next number\n",
    "        start_num = start_num + 1"
   ]
  },
  {
   "cell_type": "markdown",
   "metadata": {},
   "source": [
    "## Dictionaries and Sets\n",
    "\n",
    "Python comes with a number of data structures built in (we have already seen the list). A good one to know is the dictionary, which we can use to associate values with keys that we use for indexing. The syntax is as follows, with key-value pairs separated by colons:"
   ]
  },
  {
   "cell_type": "code",
   "execution_count": 23,
   "metadata": {
    "colab": {
     "base_uri": "https://localhost:8080/"
    },
    "id": "al7HDwonjsRx",
    "outputId": "83f7aef9-cc4b-4c56-b587-f56e89ff72e2"
   },
   "outputs": [
    {
     "name": "stdout",
     "output_type": "stream",
     "text": [
      "['Python', 'English']\n"
     ]
    }
   ],
   "source": [
    "sam = {\"Name\": \"Sam Ball\", \"Job\": \"Course Instructor\", \"Languages\": [\"Python\", \"English\"]}\n",
    "\n",
    "print(sam[\"Languages\"])"
   ]
  },
  {
   "cell_type": "markdown",
   "metadata": {},
   "source": [
    "Another helpful structure is the set, which can be thought as lists without duplicates. If we try and define a list with duplicate entries, Python will automatically remove them."
   ]
  },
  {
   "cell_type": "code",
   "execution_count": 24,
   "metadata": {
    "id": "OMB052JAmH77"
   },
   "outputs": [
    {
     "name": "stdout",
     "output_type": "stream",
     "text": [
      "{0, 1, 2}\n"
     ]
    }
   ],
   "source": [
    "my_set = {0, 0, 1, 2}\n",
    "\n",
    "print(my_set)"
   ]
  },
  {
   "cell_type": "markdown",
   "metadata": {
    "colab": {
     "base_uri": "https://localhost:8080/"
    },
    "id": "76PXvJJfmoC4",
    "outputId": "84eac342-a05b-4684-84c9-af785f245d26"
   },
   "source": [
    "Each of these data structures exists for a different use case, and often the skill is choosing the right one for the job. We will also see some more complex and helpful data structures in the next session!\n",
    "\n",
    "# Classes, and the essence of Object Orientated Programming\n",
    "\n",
    "Throughout this session, we have seen different data types and ways to use them - but often it is helpful to define our own structure for our information that we can access and organise in our own way. It's also typically helpful to have functions specific to these structures that only make sense in that context - for example, it makes sense to drive a car and slice a loaf of bread, but not the other way around.\n",
    "\n",
    "Object oriented programming allows us to do this by making sure every *thing* in Python is an object belonging to a class or type, with behaviour inferred from that class. A class can be split into two parts - the *attributes*, containing descriptors of the type (think of these as adjectives, such as the colour of a car, or the shape of the loaf of bread); and *methods*, containing information of what these types can do (think of these as verbs, such as a car's ability to park or drive, or the ability of a loaf of bread to toast or be cut). Under the hood, this is how all Python built in types are defined - the `int` class contains all the behaviours for how `int`s work - addition multiplication etc.\n",
    "\n",
    "We will not need to define our own classes in this course, but I think it's very helpful for understand how the libraries we are working with function. It's also essential for working in larger projects, since it's a very good way of organising data and code; as with functions, classes can have other classes as attributes (a Car object might have associated Tire objects); and a lot, lot more.\n",
    "\n",
    "Defining our class has a few steps - let's build a pretend class for a self-driving car:"
   ]
  },
  {
   "cell_type": "code",
   "execution_count": 25,
   "metadata": {},
   "outputs": [
    {
     "name": "stdout",
     "output_type": "stream",
     "text": [
      "We are driving our car!\n"
     ]
    }
   ],
   "source": [
    "class Car:\n",
    "    \n",
    "    # The __init__ function is run when we initalise our object\n",
    "    def __init__(self, colour):\n",
    "        \n",
    "        # Set the colour attribute to the input colour\n",
    "        self.colour = colour\n",
    "        \n",
    "    \n",
    "    # Define a drive method to drive our car\n",
    "    def drive(self):\n",
    "        \n",
    "        # It's beyond the scope of the module to build an entire self driving car\n",
    "        # So we will have to settle for this debug message.\n",
    "        print(\"We are driving our car!\")\n",
    "        \n",
    "# Create a Red Card        \n",
    "my_car = Car('Red')\n",
    "\n",
    "# Drive this car!\n",
    "my_car.drive()"
   ]
  },
  {
   "cell_type": "markdown",
   "metadata": {
    "id": "yKfOps1NncPH"
   },
   "source": [
    "# Tasks\n",
    "\n",
    "1) FizzBuzz.\n",
    "\n",
    "Write a function that takes in a number, returns \"FizzBuzz\" if the number is divisible by 5 AND 3, \"Fizz\" is only divisible by 3, and \"Buzz\" if only divisible by 5.\n",
    "\n",
    "Perform the FizzBuzz function on the numbers from 0 to 1000.\n",
    "\n",
    "2) Extension\n",
    "\n",
    "Write a function that takes in a number, and returns \"FizzBuzzWuzzNuzzLuzz\" if the number is divisible by 3, 5, 7, 11, and 13. Cover all other combinations as above in the right order. For example is a number is divisible by 3 and 13 only, it should return \"FizzLuzz\"."
   ]
  }
 ],
 "metadata": {
  "colab": {
   "name": "Week 1",
   "provenance": []
  },
  "kernelspec": {
   "display_name": "Python 3",
   "language": "python",
   "name": "python3"
  },
  "language_info": {
   "codemirror_mode": {
    "name": "ipython",
    "version": 3
   },
   "file_extension": ".py",
   "mimetype": "text/x-python",
   "name": "python",
   "nbconvert_exporter": "python",
   "pygments_lexer": "ipython3",
   "version": "3.8.11"
  }
 },
 "nbformat": 4,
 "nbformat_minor": 4
}
