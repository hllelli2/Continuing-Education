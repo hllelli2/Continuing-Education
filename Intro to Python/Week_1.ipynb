{
  "nbformat": 4,
  "nbformat_minor": 0,
  "metadata": {
    "colab": {
      "name": "Week 1",
      "provenance": []
    },
    "kernelspec": {
      "name": "python3",
      "display_name": "Python 3"
    },
    "language_info": {
      "name": "python"
    }
  },
  "cells": [
    {
      "cell_type": "code",
      "metadata": {
        "colab": {
          "base_uri": "https://localhost:8080/"
        },
        "id": "TtG7K0HXEuyA",
        "outputId": "43965b35-8382-4f19-c6b3-5670ea0fa12a"
      },
      "source": [
        "print(\"Hello world!\")"
      ],
      "execution_count": null,
      "outputs": [
        {
          "output_type": "stream",
          "text": [
            "Hello world!\n"
          ],
          "name": "stdout"
        }
      ]
    },
    {
      "cell_type": "code",
      "metadata": {
        "id": "uFAxDwrpRz6t"
      },
      "source": [
        "my_variable = 30"
      ],
      "execution_count": null,
      "outputs": []
    },
    {
      "cell_type": "code",
      "metadata": {
        "colab": {
          "base_uri": "https://localhost:8080/"
        },
        "id": "PEbUQOi8SJdV",
        "outputId": "d1be18c4-4fd3-46af-ae08-a65047d2e7a6"
      },
      "source": [
        "print(my_variable)"
      ],
      "execution_count": null,
      "outputs": [
        {
          "output_type": "stream",
          "text": [
            "30\n"
          ],
          "name": "stdout"
        }
      ]
    },
    {
      "cell_type": "code",
      "metadata": {
        "id": "C3G4vI1_SUBw"
      },
      "source": [
        "my_print = print"
      ],
      "execution_count": null,
      "outputs": []
    },
    {
      "cell_type": "code",
      "metadata": {
        "colab": {
          "base_uri": "https://localhost:8080/"
        },
        "id": "0IxeJAkDSWJ1",
        "outputId": "a35b7315-578a-41a9-f787-0bf6a735ee37"
      },
      "source": [
        "my_print(\"Hello world!\")"
      ],
      "execution_count": null,
      "outputs": [
        {
          "output_type": "stream",
          "text": [
            "Hello world!\n"
          ],
          "name": "stdout"
        }
      ]
    },
    {
      "cell_type": "code",
      "metadata": {
        "id": "GnvSP6s7Shm4"
      },
      "source": [
        "apples = 4\n",
        "oranges = 6"
      ],
      "execution_count": null,
      "outputs": []
    },
    {
      "cell_type": "code",
      "metadata": {
        "colab": {
          "base_uri": "https://localhost:8080/"
        },
        "id": "LEbu8e3_Su_q",
        "outputId": "2b7577bf-9b0e-44a0-e6c5-8424e64201a7"
      },
      "source": [
        "print(4 + 6)"
      ],
      "execution_count": null,
      "outputs": [
        {
          "output_type": "stream",
          "text": [
            "10\n"
          ],
          "name": "stdout"
        }
      ]
    },
    {
      "cell_type": "code",
      "metadata": {
        "colab": {
          "base_uri": "https://localhost:8080/"
        },
        "id": "N1AwSZDNS3O7",
        "outputId": "49c30dfd-f11e-4c5a-bc3f-64758ad5abb5"
      },
      "source": [
        "print(apples + oranges)"
      ],
      "execution_count": null,
      "outputs": [
        {
          "output_type": "stream",
          "text": [
            "10\n"
          ],
          "name": "stdout"
        }
      ]
    },
    {
      "cell_type": "code",
      "metadata": {
        "colab": {
          "base_uri": "https://localhost:8080/"
        },
        "id": "tkUbaRYES41_",
        "outputId": "d9172699-3e93-4db3-dc52-27e1722dec43"
      },
      "source": [
        "print(type(\"hello world\"))"
      ],
      "execution_count": null,
      "outputs": [
        {
          "output_type": "stream",
          "text": [
            "<class 'str'>\n"
          ],
          "name": "stdout"
        }
      ]
    },
    {
      "cell_type": "code",
      "metadata": {
        "colab": {
          "base_uri": "https://localhost:8080/"
        },
        "id": "jXxSt4cDTH4H",
        "outputId": "b2ea9c9e-7263-4fb4-bf9d-143fe7f853e4"
      },
      "source": [
        "print(\"Hello \" + \"World!\")"
      ],
      "execution_count": null,
      "outputs": [
        {
          "output_type": "stream",
          "text": [
            "Hello World!\n"
          ],
          "name": "stdout"
        }
      ]
    },
    {
      "cell_type": "code",
      "metadata": {
        "id": "TRDPcnDXTaG9"
      },
      "source": [
        "my_bool = True"
      ],
      "execution_count": null,
      "outputs": []
    },
    {
      "cell_type": "code",
      "metadata": {
        "id": "7Ab5tks5Tt9A"
      },
      "source": [
        "my_list = [1, 3.24, \"string\", False]"
      ],
      "execution_count": null,
      "outputs": []
    },
    {
      "cell_type": "code",
      "metadata": {
        "colab": {
          "base_uri": "https://localhost:8080/"
        },
        "id": "kP-1IOK8UFYP",
        "outputId": "8e6b54ea-c1a3-4fc6-8472-671664226479"
      },
      "source": [
        "print(my_list)"
      ],
      "execution_count": null,
      "outputs": [
        {
          "output_type": "stream",
          "text": [
            "[1, 3.24, 'string', False]\n"
          ],
          "name": "stdout"
        }
      ]
    },
    {
      "cell_type": "code",
      "metadata": {
        "colab": {
          "base_uri": "https://localhost:8080/"
        },
        "id": "1v2DF525UHtM",
        "outputId": "8bb0c418-4e0c-4391-8d89-59d08aeb2433"
      },
      "source": [
        "my_index = 3\n",
        "my_index = my_index - 1\n",
        "print(my_list[0:my_index])"
      ],
      "execution_count": null,
      "outputs": [
        {
          "output_type": "stream",
          "text": [
            "[1, 3.24]\n"
          ],
          "name": "stdout"
        }
      ]
    },
    {
      "cell_type": "code",
      "metadata": {
        "id": "z45wvB0GUVIj"
      },
      "source": [
        "my_list.append(True)"
      ],
      "execution_count": null,
      "outputs": []
    },
    {
      "cell_type": "code",
      "metadata": {
        "colab": {
          "base_uri": "https://localhost:8080/"
        },
        "id": "1GBvYLdqVLe9",
        "outputId": "e3e209c2-81d6-411f-b63c-cd6598d6d938"
      },
      "source": [
        "print(my_list)"
      ],
      "execution_count": null,
      "outputs": [
        {
          "output_type": "stream",
          "text": [
            "[1, 3.24, 'string', False, True]\n"
          ],
          "name": "stdout"
        }
      ]
    },
    {
      "cell_type": "code",
      "metadata": {
        "colab": {
          "base_uri": "https://localhost:8080/"
        },
        "id": "5sHC0DtuVM-j",
        "outputId": "b68b3e26-3670-476e-cb87-17f5e69fa42f"
      },
      "source": [
        "print(len(my_list))"
      ],
      "execution_count": null,
      "outputs": [
        {
          "output_type": "stream",
          "text": [
            "5\n"
          ],
          "name": "stdout"
        }
      ]
    },
    {
      "cell_type": "code",
      "metadata": {
        "colab": {
          "base_uri": "https://localhost:8080/"
        },
        "id": "a2hV2ibkVg01",
        "outputId": "b7b975e2-09a2-402b-8e24-6a7be46cf73a"
      },
      "source": [
        "print(3 / 2)\n",
        "print(3 + 2)\n",
        "print(5 - 2)\n",
        "print(5 * 2)"
      ],
      "execution_count": null,
      "outputs": [
        {
          "output_type": "stream",
          "text": [
            "1.5\n",
            "5\n",
            "3\n",
            "10\n"
          ],
          "name": "stdout"
        }
      ]
    },
    {
      "cell_type": "code",
      "metadata": {
        "colab": {
          "base_uri": "https://localhost:8080/"
        },
        "id": "hAYcXZKlVqBX",
        "outputId": "d8850abc-a358-44ac-8778-6d48c207eee8"
      },
      "source": [
        "print(3 ** 2)"
      ],
      "execution_count": null,
      "outputs": [
        {
          "output_type": "stream",
          "text": [
            "9\n"
          ],
          "name": "stdout"
        }
      ]
    },
    {
      "cell_type": "code",
      "metadata": {
        "colab": {
          "base_uri": "https://localhost:8080/"
        },
        "id": "vW9FWd1zVtHR",
        "outputId": "0946a2f2-1e56-480e-ee0f-ef8fb610e5c6"
      },
      "source": [
        "print(5 // 2)"
      ],
      "execution_count": null,
      "outputs": [
        {
          "output_type": "stream",
          "text": [
            "2\n"
          ],
          "name": "stdout"
        }
      ]
    },
    {
      "cell_type": "code",
      "metadata": {
        "colab": {
          "base_uri": "https://localhost:8080/"
        },
        "id": "11qpHp4QVw0k",
        "outputId": "4ebfee5f-27df-430b-8069-956e2fcbf9ec"
      },
      "source": [
        "print(13 % 3)"
      ],
      "execution_count": null,
      "outputs": [
        {
          "output_type": "stream",
          "text": [
            "1\n"
          ],
          "name": "stdout"
        }
      ]
    },
    {
      "cell_type": "code",
      "metadata": {
        "id": "-dVHQDs2V2B6"
      },
      "source": [
        "import matplotlib.pyplot as plt"
      ],
      "execution_count": null,
      "outputs": []
    },
    {
      "cell_type": "code",
      "metadata": {
        "id": "amKFrMoPWQQP"
      },
      "source": [
        "x = [1, 2, 3, 4, 5, 6, 7, 8, 9, 10]\n",
        "y = [1, 4, 9, 16, 25, 36, 49, 64, 81, 100]"
      ],
      "execution_count": null,
      "outputs": []
    },
    {
      "cell_type": "code",
      "metadata": {
        "colab": {
          "base_uri": "https://localhost:8080/",
          "height": 265
        },
        "id": "8XKEpu1GWrw8",
        "outputId": "abd98c3d-3276-4714-9dbf-53d404ca298e"
      },
      "source": [
        "plt.plot(x,y)\n",
        "plt.show()"
      ],
      "execution_count": null,
      "outputs": [
        {
          "output_type": "display_data",
          "data": {
            "image/png": "[encoded data removed]",
            "text/plain": [
              "<Figure size 432x288 with 1 Axes>"
            ]
          },
          "metadata": {
            "tags": [],
            "needs_background": "light"
          }
        }
      ]
    },
    {
      "cell_type": "code",
      "metadata": {
        "colab": {
          "base_uri": "https://localhost:8080/"
        },
        "id": "jrpT8BVsWwtp",
        "outputId": "593921bc-059e-4e3a-f9f0-9f376509e2a5"
      },
      "source": [
        "print((-5) ** 2)"
      ],
      "execution_count": null,
      "outputs": [
        {
          "output_type": "stream",
          "text": [
            "25\n"
          ],
          "name": "stdout"
        }
      ]
    },
    {
      "cell_type": "code",
      "metadata": {
        "id": "rINZyygYXKf4"
      },
      "source": [
        "def my_pow(a, b):\n",
        "    return a ** b"
      ],
      "execution_count": null,
      "outputs": []
    },
    {
      "cell_type": "code",
      "metadata": {
        "colab": {
          "base_uri": "https://localhost:8080/"
        },
        "id": "yPXGtp6UZBpc",
        "outputId": "12ddf7a3-2cb6-4e6e-9157-e7a11ec6beac"
      },
      "source": [
        "print(my_pow(3 ,2))"
      ],
      "execution_count": null,
      "outputs": [
        {
          "output_type": "stream",
          "text": [
            "9\n"
          ],
          "name": "stdout"
        }
      ]
    },
    {
      "cell_type": "code",
      "metadata": {
        "id": "J4RIhPAUZQg0"
      },
      "source": [
        "def wrong_pow(a, b):\n",
        "    print(a ** b)\n",
        "    "
      ],
      "execution_count": null,
      "outputs": []
    },
    {
      "cell_type": "code",
      "metadata": {
        "colab": {
          "base_uri": "https://localhost:8080/"
        },
        "id": "5y2UNdovZUh9",
        "outputId": "3c7f0d8d-15a2-4d65-ae8d-2df6be065871"
      },
      "source": [
        "print(wrong_pow(3 ,2))"
      ],
      "execution_count": null,
      "outputs": [
        {
          "output_type": "stream",
          "text": [
            "9\n",
            "None\n"
          ],
          "name": "stdout"
        }
      ]
    },
    {
      "cell_type": "code",
      "metadata": {
        "colab": {
          "base_uri": "https://localhost:8080/"
        },
        "id": "RtMEjSyjZWRI",
        "outputId": "647bfa28-2a5a-450d-ec19-696a0eb804cf"
      },
      "source": [
        "my_pow(3, 2)"
      ],
      "execution_count": null,
      "outputs": [
        {
          "output_type": "execute_result",
          "data": {
            "text/plain": [
              "9"
            ]
          },
          "metadata": {
            "tags": []
          },
          "execution_count": 45
        }
      ]
    },
    {
      "cell_type": "code",
      "metadata": {
        "colab": {
          "base_uri": "https://localhost:8080/"
        },
        "id": "3nv8nR30ZZPA",
        "outputId": "2c1740a9-ccdd-442e-bda0-7c2f35168fea"
      },
      "source": [
        "wrong_pow(3, 2)"
      ],
      "execution_count": null,
      "outputs": [
        {
          "output_type": "stream",
          "text": [
            "9\n"
          ],
          "name": "stdout"
        }
      ]
    },
    {
      "cell_type": "code",
      "metadata": {
        "colab": {
          "base_uri": "https://localhost:8080/"
        },
        "id": "w-B5TUTXZaUi",
        "outputId": "9bbbb4d4-14e5-487e-eda5-36682021a49c"
      },
      "source": [
        "def is_ten(number):\n",
        "\n",
        "    if number == 10:\n",
        "\n",
        "        return \"Yes!\"\n",
        "\n",
        "    else:\n",
        "\n",
        "        return \"No!\"\n",
        "\n"
      ],
      "execution_count": null,
      "outputs": [
        {
          "output_type": "stream",
          "text": [
            "No!\n"
          ],
          "name": "stdout"
        }
      ]
    },
    {
      "cell_type": "code",
      "metadata": {
        "colab": {
          "base_uri": "https://localhost:8080/"
        },
        "id": "esVBAU6dZt46",
        "outputId": "78ad8022-c204-4780-9764-a8eabf0cffe2"
      },
      "source": [
        "def five_or_three(number):\n",
        "\n",
        "    if number > 5:\n",
        "\n",
        "        return \"This is a big number!\"\n",
        "    \n",
        "    elif number <= 5 and number >= 3:\n",
        "\n",
        "        return \"This is a small number\"\n",
        "\n",
        "    else: \n",
        "\n",
        "        return \"This is a tiny number!\"\n",
        "\n",
        "print(five_or_three(5))"
      ],
      "execution_count": null,
      "outputs": [
        {
          "output_type": "stream",
          "text": [
            "This is a tiny number!\n"
          ],
          "name": "stdout"
        }
      ]
    },
    {
      "cell_type": "code",
      "metadata": {
        "colab": {
          "base_uri": "https://localhost:8080/"
        },
        "id": "Bmx4CTzaZzvp",
        "outputId": "8c8424fa-257d-4b26-ac00-60d1add677d1"
      },
      "source": [
        "fruits = [\"banana\", \"orange\",\"strawberry\"]\n",
        "\n",
        "print(\"banana\" in fruits)"
      ],
      "execution_count": null,
      "outputs": [
        {
          "output_type": "stream",
          "text": [
            "True\n"
          ],
          "name": "stdout"
        }
      ]
    },
    {
      "cell_type": "code",
      "metadata": {
        "colab": {
          "base_uri": "https://localhost:8080/"
        },
        "id": "wOi2vGGycLJO",
        "outputId": "5df46e6f-a846-4a84-fa93-a0b885584706"
      },
      "source": [
        "def is_prime(number):\n",
        "    \n",
        "    for x in range(2, number):\n",
        "\n",
        "        if number % x == 0:\n",
        "\n",
        "            return str(number) + \" is not prime!\" \n",
        "\n",
        "    return str(number) + \" is prime!\"\n",
        "\n",
        "\n",
        "for y in range(101):\n",
        "    print(is_prime(y))"
      ],
      "execution_count": null,
      "outputs": [
        {
          "output_type": "stream",
          "text": [
            "0 is prime!\n",
            "1 is prime!\n",
            "2 is prime!\n",
            "3 is prime!\n",
            "4 is not prime!\n",
            "5 is prime!\n",
            "6 is not prime!\n",
            "7 is prime!\n",
            "8 is not prime!\n",
            "9 is not prime!\n",
            "10 is not prime!\n",
            "11 is prime!\n",
            "12 is not prime!\n",
            "13 is prime!\n",
            "14 is not prime!\n",
            "15 is not prime!\n",
            "16 is not prime!\n",
            "17 is prime!\n",
            "18 is not prime!\n",
            "19 is prime!\n",
            "20 is not prime!\n",
            "21 is not prime!\n",
            "22 is not prime!\n",
            "23 is prime!\n",
            "24 is not prime!\n",
            "25 is not prime!\n",
            "26 is not prime!\n",
            "27 is not prime!\n",
            "28 is not prime!\n",
            "29 is prime!\n",
            "30 is not prime!\n",
            "31 is prime!\n",
            "32 is not prime!\n",
            "33 is not prime!\n",
            "34 is not prime!\n",
            "35 is not prime!\n",
            "36 is not prime!\n",
            "37 is prime!\n",
            "38 is not prime!\n",
            "39 is not prime!\n",
            "40 is not prime!\n",
            "41 is prime!\n",
            "42 is not prime!\n",
            "43 is prime!\n",
            "44 is not prime!\n",
            "45 is not prime!\n",
            "46 is not prime!\n",
            "47 is prime!\n",
            "48 is not prime!\n",
            "49 is not prime!\n",
            "50 is not prime!\n",
            "51 is not prime!\n",
            "52 is not prime!\n",
            "53 is prime!\n",
            "54 is not prime!\n",
            "55 is not prime!\n",
            "56 is not prime!\n",
            "57 is not prime!\n",
            "58 is not prime!\n",
            "59 is prime!\n",
            "60 is not prime!\n",
            "61 is prime!\n",
            "62 is not prime!\n",
            "63 is not prime!\n",
            "64 is not prime!\n",
            "65 is not prime!\n",
            "66 is not prime!\n",
            "67 is prime!\n",
            "68 is not prime!\n",
            "69 is not prime!\n",
            "70 is not prime!\n",
            "71 is prime!\n",
            "72 is not prime!\n",
            "73 is prime!\n",
            "74 is not prime!\n",
            "75 is not prime!\n",
            "76 is not prime!\n",
            "77 is not prime!\n",
            "78 is not prime!\n",
            "79 is prime!\n",
            "80 is not prime!\n",
            "81 is not prime!\n",
            "82 is not prime!\n",
            "83 is prime!\n",
            "84 is not prime!\n",
            "85 is not prime!\n",
            "86 is not prime!\n",
            "87 is not prime!\n",
            "88 is not prime!\n",
            "89 is prime!\n",
            "90 is not prime!\n",
            "91 is not prime!\n",
            "92 is not prime!\n",
            "93 is not prime!\n",
            "94 is not prime!\n",
            "95 is not prime!\n",
            "96 is not prime!\n",
            "97 is prime!\n",
            "98 is not prime!\n",
            "99 is not prime!\n",
            "100 is not prime!\n"
          ],
          "name": "stdout"
        }
      ]
    },
    {
      "cell_type": "code",
      "metadata": {
        "colab": {
          "base_uri": "https://localhost:8080/"
        },
        "id": "K7X8CIOnf7K3",
        "outputId": "48c7517a-2a1a-4dad-92e0-c41db785d419"
      },
      "source": [
        "i = 0\n",
        "\n",
        "while i < 10:\n",
        "    print(i)\n",
        "    i += 1"
      ],
      "execution_count": null,
      "outputs": [
        {
          "output_type": "stream",
          "text": [
            "0\n",
            "1\n",
            "2\n",
            "3\n",
            "4\n",
            "5\n",
            "6\n",
            "7\n",
            "8\n",
            "9\n"
          ],
          "name": "stdout"
        }
      ]
    },
    {
      "cell_type": "code",
      "metadata": {
        "colab": {
          "base_uri": "https://localhost:8080/"
        },
        "id": "e9O3Hw4FiqY6",
        "outputId": "f0c3a7d4-7166-40ed-f3a1-134c3ad3634a"
      },
      "source": [
        "number = 267328888\n",
        "\n",
        "def prime_decompose(num):\n",
        "\n",
        "    primes = []  \n",
        "    test = 2\n",
        "\n",
        "    while True:\n",
        "\n",
        "        if num == 1:\n",
        "            break\n",
        "        \n",
        "        elif num % test == 0:\n",
        "\n",
        "            primes.append(test)\n",
        "\n",
        "            num /= test\n",
        "\n",
        "        else:\n",
        "\n",
        "            test += 1\n",
        "\n",
        "    return primes\n",
        "\n",
        "\n",
        "prime_decompose(128712)\n",
        "\n",
        "for i in range(2, 100):\n",
        "    print(prime_decompose(i))"
      ],
      "execution_count": null,
      "outputs": [
        {
          "output_type": "stream",
          "text": [
            "[2]\n",
            "[3]\n",
            "[2, 2]\n",
            "[5]\n",
            "[2, 3]\n",
            "[7]\n",
            "[2, 2, 2]\n",
            "[3, 3]\n",
            "[2, 5]\n",
            "[11]\n",
            "[2, 2, 3]\n",
            "[13]\n",
            "[2, 7]\n",
            "[3, 5]\n",
            "[2, 2, 2, 2]\n",
            "[17]\n",
            "[2, 3, 3]\n",
            "[19]\n",
            "[2, 2, 5]\n",
            "[3, 7]\n",
            "[2, 11]\n",
            "[23]\n",
            "[2, 2, 2, 3]\n",
            "[5, 5]\n",
            "[2, 13]\n",
            "[3, 3, 3]\n",
            "[2, 2, 7]\n",
            "[29]\n",
            "[2, 3, 5]\n",
            "[31]\n",
            "[2, 2, 2, 2, 2]\n",
            "[3, 11]\n",
            "[2, 17]\n",
            "[5, 7]\n",
            "[2, 2, 3, 3]\n",
            "[37]\n",
            "[2, 19]\n",
            "[3, 13]\n",
            "[2, 2, 2, 5]\n",
            "[41]\n",
            "[2, 3, 7]\n",
            "[43]\n",
            "[2, 2, 11]\n",
            "[3, 3, 5]\n",
            "[2, 23]\n",
            "[47]\n",
            "[2, 2, 2, 2, 3]\n",
            "[7, 7]\n",
            "[2, 5, 5]\n",
            "[3, 17]\n",
            "[2, 2, 13]\n",
            "[53]\n",
            "[2, 3, 3, 3]\n",
            "[5, 11]\n",
            "[2, 2, 2, 7]\n",
            "[3, 19]\n",
            "[2, 29]\n",
            "[59]\n",
            "[2, 2, 3, 5]\n",
            "[61]\n",
            "[2, 31]\n",
            "[3, 3, 7]\n",
            "[2, 2, 2, 2, 2, 2]\n",
            "[5, 13]\n",
            "[2, 3, 11]\n",
            "[67]\n",
            "[2, 2, 17]\n",
            "[3, 23]\n",
            "[2, 5, 7]\n",
            "[71]\n",
            "[2, 2, 2, 3, 3]\n",
            "[73]\n",
            "[2, 37]\n",
            "[3, 5, 5]\n",
            "[2, 2, 19]\n",
            "[7, 11]\n",
            "[2, 3, 13]\n",
            "[79]\n",
            "[2, 2, 2, 2, 5]\n",
            "[3, 3, 3, 3]\n",
            "[2, 41]\n",
            "[83]\n",
            "[2, 2, 3, 7]\n",
            "[5, 17]\n",
            "[2, 43]\n",
            "[3, 29]\n",
            "[2, 2, 2, 11]\n",
            "[89]\n",
            "[2, 3, 3, 5]\n",
            "[7, 13]\n",
            "[2, 2, 23]\n",
            "[3, 31]\n",
            "[2, 47]\n",
            "[5, 19]\n",
            "[2, 2, 2, 2, 2, 3]\n",
            "[97]\n",
            "[2, 7, 7]\n",
            "[3, 3, 11]\n"
          ],
          "name": "stdout"
        }
      ]
    },
    {
      "cell_type": "code",
      "metadata": {
        "colab": {
          "base_uri": "https://localhost:8080/"
        },
        "id": "al7HDwonjsRx",
        "outputId": "83f7aef9-cc4b-4c56-b587-f56e89ff72e2"
      },
      "source": [
        "sam = {\"Name\": \"Sam Ball\", \"Job\": \"Course Instructor\", \"Languages\": [\"Python\", \"English\"]}\n",
        "\n",
        "print(sam[\"Languages\"])"
      ],
      "execution_count": null,
      "outputs": [
        {
          "output_type": "stream",
          "text": [
            "['Python', 'English']\n"
          ],
          "name": "stdout"
        }
      ]
    },
    {
      "cell_type": "code",
      "metadata": {
        "id": "OMB052JAmH77"
      },
      "source": [
        "my_set = {0, 0, 1, 2}"
      ],
      "execution_count": null,
      "outputs": []
    },
    {
      "cell_type": "code",
      "metadata": {
        "colab": {
          "base_uri": "https://localhost:8080/"
        },
        "id": "76PXvJJfmoC4",
        "outputId": "84eac342-a05b-4684-84c9-af785f245d26"
      },
      "source": [
        ""
      ],
      "execution_count": null,
      "outputs": [
        {
          "output_type": "stream",
          "text": [
            "{0, 1, 2}\n"
          ],
          "name": "stdout"
        }
      ]
    },
    {
      "cell_type": "markdown",
      "metadata": {
        "id": "yKfOps1NncPH"
      },
      "source": [
        "# Tasks\n",
        "\n",
        "1) FizzBuzz.\n",
        "\n",
        "Write a function that takes in a number, returns \"FizzBuzz\" if the number is divisible by 5 AND 3, \"Fizz\" is only divisible by 3, and \"Buzz\" if only divisible by 5.\n",
        "\n",
        "Perform the FizzBuzz function on the numbers from 0 to 1000.\n",
        "\n",
        "2) Extension\n",
        "\n",
        "Write a function that takes in a number, and returns \"FizzBuzzWuzzNuzzLuzz\" if the number is divisible by 3, 5, 7, 11, and 13. Cover all other combinations as above in the right order. For example is a number is divisible by 3 and 13 only, it should return \"FizzLuzz\"."
      ]
    },
    {
      "cell_type": "code",
      "metadata": {
        "id": "PwPHUaVtmpFD"
      },
      "source": [
        ""
      ],
      "execution_count": 96,
      "outputs": []
    }
  ]
}