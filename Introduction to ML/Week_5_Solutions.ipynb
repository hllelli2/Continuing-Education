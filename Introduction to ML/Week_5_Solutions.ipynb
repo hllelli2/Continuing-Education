{
  "nbformat": 4,
  "nbformat_minor": 0,
  "metadata": {
    "colab": {
      "name": "Week 5 Solutions.ipynb",
      "provenance": []
    },
    "kernelspec": {
      "name": "python3",
      "display_name": "Python 3"
    },
    "language_info": {
      "name": "python"
    }
  },
  "cells": [
    {
      "cell_type": "markdown",
      "metadata": {
        "id": "ueuIWmgYKyUN"
      },
      "source": [
        "# Question 1"
      ]
    },
    {
      "cell_type": "code",
      "metadata": {
        "colab": {
          "base_uri": "https://localhost:8080/"
        },
        "id": "6XCln2IHJTSE",
        "outputId": "db946cc9-e900-49a0-a38c-ca8b880a97ed"
      },
      "source": [
        "!wget \"https://raw.githubusercontent.com/stmball/PracticalPython/main/Introduction%20to%20ML/customer_data.csv\"\n"
      ],
      "execution_count": 1,
      "outputs": [
        {
          "output_type": "stream",
          "name": "stdout",
          "text": [
            "--2021-11-17 18:25:22--  https://raw.githubusercontent.com/stmball/PracticalPython/main/Introduction%20to%20ML/customer_data.csv\n",
            "Resolving raw.githubusercontent.com (raw.githubusercontent.com)... 185.199.108.133, 185.199.109.133, 185.199.110.133, ...\n",
            "Connecting to raw.githubusercontent.com (raw.githubusercontent.com)|185.199.108.133|:443... connected.\n",
            "HTTP request sent, awaiting response... 200 OK\n",
            "Length: 20264 (20K) [text/plain]\n",
            "Saving to: ‘customer_data.csv’\n",
            "\n",
            "\rcustomer_data.csv     0%[                    ]       0  --.-KB/s               \rcustomer_data.csv   100%[===================>]  19.79K  --.-KB/s    in 0s      \n",
            "\n",
            "2021-11-17 18:25:22 (98.9 MB/s) - ‘customer_data.csv’ saved [20264/20264]\n",
            "\n"
          ]
        }
      ]
    },
    {
      "cell_type": "code",
      "metadata": {
        "id": "bkUt1o4FJU-A"
      },
      "source": [
        "import pandas as pd\n",
        "import numpy as np\n",
        "\n",
        "shoppers = pd.read_csv(\"./customer_data.csv\")"
      ],
      "execution_count": 2,
      "outputs": []
    },
    {
      "cell_type": "code",
      "metadata": {
        "colab": {
          "base_uri": "https://localhost:8080/",
          "height": 206
        },
        "id": "jLfbPSsMJfeH",
        "outputId": "7a56ec6f-8019-4b7e-bed1-519f0144ee46"
      },
      "source": [
        "shoppers.head()"
      ],
      "execution_count": 3,
      "outputs": [
        {
          "output_type": "execute_result",
          "data": {
            "text/html": [
              "<div>\n",
              "<style scoped>\n",
              "    .dataframe tbody tr th:only-of-type {\n",
              "        vertical-align: middle;\n",
              "    }\n",
              "\n",
              "    .dataframe tbody tr th {\n",
              "        vertical-align: top;\n",
              "    }\n",
              "\n",
              "    .dataframe thead th {\n",
              "        text-align: right;\n",
              "    }\n",
              "</style>\n",
              "<table border=\"1\" class=\"dataframe\">\n",
              "  <thead>\n",
              "    <tr style=\"text-align: right;\">\n",
              "      <th></th>\n",
              "      <th>Adj. Age</th>\n",
              "      <th>Adj. No. Items Viewed</th>\n",
              "      <th>Adj. Spending</th>\n",
              "      <th>Adj. Time Spent</th>\n",
              "    </tr>\n",
              "  </thead>\n",
              "  <tbody>\n",
              "    <tr>\n",
              "      <th>0</th>\n",
              "      <td>-8.117912</td>\n",
              "      <td>-5.985314</td>\n",
              "      <td>8.850552</td>\n",
              "      <td>0.824004</td>\n",
              "    </tr>\n",
              "    <tr>\n",
              "      <th>1</th>\n",
              "      <td>6.688281</td>\n",
              "      <td>-2.283440</td>\n",
              "      <td>-4.188404</td>\n",
              "      <td>-1.582015</td>\n",
              "    </tr>\n",
              "    <tr>\n",
              "      <th>2</th>\n",
              "      <td>-1.006275</td>\n",
              "      <td>-2.587986</td>\n",
              "      <td>2.660652</td>\n",
              "      <td>3.444617</td>\n",
              "    </tr>\n",
              "    <tr>\n",
              "      <th>3</th>\n",
              "      <td>-2.962520</td>\n",
              "      <td>-3.353450</td>\n",
              "      <td>3.780374</td>\n",
              "      <td>2.845310</td>\n",
              "    </tr>\n",
              "    <tr>\n",
              "      <th>4</th>\n",
              "      <td>2.081291</td>\n",
              "      <td>-8.343180</td>\n",
              "      <td>5.468353</td>\n",
              "      <td>-6.336195</td>\n",
              "    </tr>\n",
              "  </tbody>\n",
              "</table>\n",
              "</div>"
            ],
            "text/plain": [
              "   Adj. Age  Adj. No. Items Viewed  Adj. Spending  Adj. Time Spent\n",
              "0 -8.117912              -5.985314       8.850552         0.824004\n",
              "1  6.688281              -2.283440      -4.188404        -1.582015\n",
              "2 -1.006275              -2.587986       2.660652         3.444617\n",
              "3 -2.962520              -3.353450       3.780374         2.845310\n",
              "4  2.081291              -8.343180       5.468353        -6.336195"
            ]
          },
          "metadata": {},
          "execution_count": 3
        }
      ]
    },
    {
      "cell_type": "code",
      "metadata": {
        "colab": {
          "base_uri": "https://localhost:8080/",
          "height": 513
        },
        "id": "hr7P0WzrJgis",
        "outputId": "15fe21b0-649c-466d-eb66-e30d97400b6c"
      },
      "source": [
        "from sklearn.cluster import KMeans\n",
        "import matplotlib.pyplot as plt\n",
        "\n",
        "scores = []\n",
        "\n",
        "for i in range(1, 11):\n",
        "    model = KMeans(n_clusters=i)\n",
        "    model.fit(shoppers.to_numpy())\n",
        "    \n",
        "    # Score the model\n",
        "    scores.append(model.score(shoppers.to_numpy()))\n",
        "\n",
        "fig, ax = plt.subplots(figsize=(10, 8))\n",
        "\n",
        "ax.plot(list(range(1, 11)), scores)\n",
        "\n",
        "ax.set_xlabel(\"Value of k\")\n",
        "ax.set_ylabel(\"Score (higher is better)\")\n",
        "ax.set_title(\"Score of different K Means Clustering models based on different values of K\")\n",
        "\n",
        "plt.show()"
      ],
      "execution_count": 9,
      "outputs": [
        {
          "output_type": "display_data",
          "data": {
            "image/png": "[encoded data removed]",
            "text/plain": [
              "<Figure size 720x576 with 1 Axes>"
            ]
          },
          "metadata": {
            "needs_background": "light"
          }
        }
      ]
    },
    {
      "cell_type": "markdown",
      "metadata": {
        "id": "lo6mzgzyJ9WR"
      },
      "source": [
        "The elbow looks like it is at k = 6. Taking that forward, let's predict the two shoppers:"
      ]
    },
    {
      "cell_type": "code",
      "metadata": {
        "colab": {
          "base_uri": "https://localhost:8080/"
        },
        "id": "Mv9d9_vOJrqg",
        "outputId": "37bd6bcb-913d-4b52-ad62-042f88843606"
      },
      "source": [
        "test_customers = [[-2.4,5.88,3.12,-5.2], [2.11,8.42,6.82,8.21]]\n",
        "  \n",
        "model = KMeans(n_clusters=6)\n",
        "model.fit(shoppers.to_numpy())\n",
        "\n",
        "print(model.predict(test_customers))"
      ],
      "execution_count": 10,
      "outputs": [
        {
          "output_type": "stream",
          "name": "stdout",
          "text": [
            "[5 2]\n"
          ]
        }
      ]
    },
    {
      "cell_type": "markdown",
      "metadata": {
        "id": "J2u-iHqAKNqD"
      },
      "source": [
        "So the first customer is in cluster 5 and the second is in cluster 2.\n",
        "\n",
        "To get the cluster centers we call the following:"
      ]
    },
    {
      "cell_type": "code",
      "metadata": {
        "colab": {
          "base_uri": "https://localhost:8080/"
        },
        "id": "2vQF9RUtKMqj",
        "outputId": "9b070987-eb43-493e-f99d-92c89b62d281"
      },
      "source": [
        "model.cluster_centers_"
      ],
      "execution_count": 11,
      "outputs": [
        {
          "output_type": "execute_result",
          "data": {
            "text/plain": [
              "array([[ 0.70654353, -6.66674883,  5.67913088, -7.95099035],\n",
              "       [-9.31452627,  1.41121164, -5.01965254,  0.2947222 ],\n",
              "       [ 1.72535437,  7.98126408,  7.34863783,  6.04082157],\n",
              "       [ 7.23278766, -1.82223   , -3.31517322, -2.92271841],\n",
              "       [-6.75848925, -5.14294944,  8.57722583,  1.03158095],\n",
              "       [-2.30798969, -2.82696   ,  2.86618183,  3.45442508]])"
            ]
          },
          "metadata": {},
          "execution_count": 11
        }
      ]
    },
    {
      "cell_type": "markdown",
      "metadata": {
        "id": "n9aViXGVK0uF"
      },
      "source": [
        "# Question 2"
      ]
    },
    {
      "cell_type": "code",
      "metadata": {
        "colab": {
          "base_uri": "https://localhost:8080/"
        },
        "id": "-DCZe7wRKWQM",
        "outputId": "726f1eca-e563-4b29-e896-7ef952dc2be7"
      },
      "source": [
        "!wget \"https://raw.githubusercontent.com/stmball/PracticalPython/main/Numpy%2C%20Pandas%20and%20Scipy/iris.csv\""
      ],
      "execution_count": 12,
      "outputs": [
        {
          "output_type": "stream",
          "name": "stdout",
          "text": [
            "--2021-11-17 18:32:44--  https://raw.githubusercontent.com/stmball/PracticalPython/main/Numpy%2C%20Pandas%20and%20Scipy/iris.csv\n",
            "Resolving raw.githubusercontent.com (raw.githubusercontent.com)... 185.199.108.133, 185.199.109.133, 185.199.110.133, ...\n",
            "Connecting to raw.githubusercontent.com (raw.githubusercontent.com)|185.199.108.133|:443... connected.\n",
            "HTTP request sent, awaiting response... 200 OK\n",
            "Length: 4351 (4.2K) [text/plain]\n",
            "Saving to: ‘iris.csv’\n",
            "\n",
            "\riris.csv              0%[                    ]       0  --.-KB/s               \riris.csv            100%[===================>]   4.25K  --.-KB/s    in 0s      \n",
            "\n",
            "2021-11-17 18:32:44 (51.4 MB/s) - ‘iris.csv’ saved [4351/4351]\n",
            "\n"
          ]
        }
      ]
    },
    {
      "cell_type": "code",
      "metadata": {
        "id": "HokZZiP6LC2I"
      },
      "source": [
        "import pandas as pd\n",
        "import numpy as np\n",
        "\n",
        "iris = pd.read_csv(\"./iris.csv\", index_col=0)"
      ],
      "execution_count": 60,
      "outputs": []
    },
    {
      "cell_type": "code",
      "metadata": {
        "colab": {
          "base_uri": "https://localhost:8080/",
          "height": 206
        },
        "id": "xJkWmneELQnW",
        "outputId": "d0cc935c-a162-4dfa-fd6b-8ba6e4f51ed9"
      },
      "source": [
        "iris.head()"
      ],
      "execution_count": 61,
      "outputs": [
        {
          "output_type": "execute_result",
          "data": {
            "text/html": [
              "<div>\n",
              "<style scoped>\n",
              "    .dataframe tbody tr th:only-of-type {\n",
              "        vertical-align: middle;\n",
              "    }\n",
              "\n",
              "    .dataframe tbody tr th {\n",
              "        vertical-align: top;\n",
              "    }\n",
              "\n",
              "    .dataframe thead th {\n",
              "        text-align: right;\n",
              "    }\n",
              "</style>\n",
              "<table border=\"1\" class=\"dataframe\">\n",
              "  <thead>\n",
              "    <tr style=\"text-align: right;\">\n",
              "      <th></th>\n",
              "      <th>Sepal.Length</th>\n",
              "      <th>Sepal.Width</th>\n",
              "      <th>Petal.Length</th>\n",
              "      <th>Petal.Width</th>\n",
              "      <th>Species</th>\n",
              "    </tr>\n",
              "  </thead>\n",
              "  <tbody>\n",
              "    <tr>\n",
              "      <th>1</th>\n",
              "      <td>5.1</td>\n",
              "      <td>3.5</td>\n",
              "      <td>1.4</td>\n",
              "      <td>0.2</td>\n",
              "      <td>setosa</td>\n",
              "    </tr>\n",
              "    <tr>\n",
              "      <th>2</th>\n",
              "      <td>4.9</td>\n",
              "      <td>3.0</td>\n",
              "      <td>1.4</td>\n",
              "      <td>0.2</td>\n",
              "      <td>setosa</td>\n",
              "    </tr>\n",
              "    <tr>\n",
              "      <th>3</th>\n",
              "      <td>4.7</td>\n",
              "      <td>3.2</td>\n",
              "      <td>1.3</td>\n",
              "      <td>0.2</td>\n",
              "      <td>setosa</td>\n",
              "    </tr>\n",
              "    <tr>\n",
              "      <th>4</th>\n",
              "      <td>4.6</td>\n",
              "      <td>3.1</td>\n",
              "      <td>1.5</td>\n",
              "      <td>0.2</td>\n",
              "      <td>setosa</td>\n",
              "    </tr>\n",
              "    <tr>\n",
              "      <th>5</th>\n",
              "      <td>5.0</td>\n",
              "      <td>3.6</td>\n",
              "      <td>1.4</td>\n",
              "      <td>0.2</td>\n",
              "      <td>setosa</td>\n",
              "    </tr>\n",
              "  </tbody>\n",
              "</table>\n",
              "</div>"
            ],
            "text/plain": [
              "   Sepal.Length  Sepal.Width  Petal.Length  Petal.Width Species\n",
              "1           5.1          3.5           1.4          0.2  setosa\n",
              "2           4.9          3.0           1.4          0.2  setosa\n",
              "3           4.7          3.2           1.3          0.2  setosa\n",
              "4           4.6          3.1           1.5          0.2  setosa\n",
              "5           5.0          3.6           1.4          0.2  setosa"
            ]
          },
          "metadata": {},
          "execution_count": 61
        }
      ]
    },
    {
      "cell_type": "code",
      "metadata": {
        "id": "-ygJZMcvLRUc"
      },
      "source": [
        "# We know k = 3 a priori\n",
        "\n",
        "from sklearn.cluster import KMeans\n",
        "import matplotlib.pyplot as plt\n",
        "\n",
        "model = KMeans(n_clusters=3)\n",
        "model.fit(iris.drop(\"Species\", axis=1).to_numpy())\n",
        "\n",
        "iris[\"Predictions\"] = model.labels_"
      ],
      "execution_count": 62,
      "outputs": []
    },
    {
      "cell_type": "code",
      "metadata": {
        "colab": {
          "base_uri": "https://localhost:8080/",
          "height": 206
        },
        "id": "KQsYqLYXMJkD",
        "outputId": "5bd338c3-9697-48ee-e401-ed5b7a7ebd15"
      },
      "source": [
        "iris.head()"
      ],
      "execution_count": 63,
      "outputs": [
        {
          "output_type": "execute_result",
          "data": {
            "text/html": [
              "<div>\n",
              "<style scoped>\n",
              "    .dataframe tbody tr th:only-of-type {\n",
              "        vertical-align: middle;\n",
              "    }\n",
              "\n",
              "    .dataframe tbody tr th {\n",
              "        vertical-align: top;\n",
              "    }\n",
              "\n",
              "    .dataframe thead th {\n",
              "        text-align: right;\n",
              "    }\n",
              "</style>\n",
              "<table border=\"1\" class=\"dataframe\">\n",
              "  <thead>\n",
              "    <tr style=\"text-align: right;\">\n",
              "      <th></th>\n",
              "      <th>Sepal.Length</th>\n",
              "      <th>Sepal.Width</th>\n",
              "      <th>Petal.Length</th>\n",
              "      <th>Petal.Width</th>\n",
              "      <th>Species</th>\n",
              "      <th>Predictions</th>\n",
              "    </tr>\n",
              "  </thead>\n",
              "  <tbody>\n",
              "    <tr>\n",
              "      <th>1</th>\n",
              "      <td>5.1</td>\n",
              "      <td>3.5</td>\n",
              "      <td>1.4</td>\n",
              "      <td>0.2</td>\n",
              "      <td>setosa</td>\n",
              "      <td>1</td>\n",
              "    </tr>\n",
              "    <tr>\n",
              "      <th>2</th>\n",
              "      <td>4.9</td>\n",
              "      <td>3.0</td>\n",
              "      <td>1.4</td>\n",
              "      <td>0.2</td>\n",
              "      <td>setosa</td>\n",
              "      <td>1</td>\n",
              "    </tr>\n",
              "    <tr>\n",
              "      <th>3</th>\n",
              "      <td>4.7</td>\n",
              "      <td>3.2</td>\n",
              "      <td>1.3</td>\n",
              "      <td>0.2</td>\n",
              "      <td>setosa</td>\n",
              "      <td>1</td>\n",
              "    </tr>\n",
              "    <tr>\n",
              "      <th>4</th>\n",
              "      <td>4.6</td>\n",
              "      <td>3.1</td>\n",
              "      <td>1.5</td>\n",
              "      <td>0.2</td>\n",
              "      <td>setosa</td>\n",
              "      <td>1</td>\n",
              "    </tr>\n",
              "    <tr>\n",
              "      <th>5</th>\n",
              "      <td>5.0</td>\n",
              "      <td>3.6</td>\n",
              "      <td>1.4</td>\n",
              "      <td>0.2</td>\n",
              "      <td>setosa</td>\n",
              "      <td>1</td>\n",
              "    </tr>\n",
              "  </tbody>\n",
              "</table>\n",
              "</div>"
            ],
            "text/plain": [
              "   Sepal.Length  Sepal.Width  Petal.Length  Petal.Width Species  Predictions\n",
              "1           5.1          3.5           1.4          0.2  setosa            1\n",
              "2           4.9          3.0           1.4          0.2  setosa            1\n",
              "3           4.7          3.2           1.3          0.2  setosa            1\n",
              "4           4.6          3.1           1.5          0.2  setosa            1\n",
              "5           5.0          3.6           1.4          0.2  setosa            1"
            ]
          },
          "metadata": {},
          "execution_count": 63
        }
      ]
    },
    {
      "cell_type": "code",
      "metadata": {
        "colab": {
          "base_uri": "https://localhost:8080/",
          "height": 175
        },
        "id": "dkXwEy9HMSiP",
        "outputId": "4668d7c4-f8b6-4d2a-eda3-6739de366406"
      },
      "source": [
        "# Lots of ways to do this!\n",
        "\n",
        "pd.crosstab(iris[\"Species\"], iris[\"Predictions\"])"
      ],
      "execution_count": 64,
      "outputs": [
        {
          "output_type": "execute_result",
          "data": {
            "text/html": [
              "<div>\n",
              "<style scoped>\n",
              "    .dataframe tbody tr th:only-of-type {\n",
              "        vertical-align: middle;\n",
              "    }\n",
              "\n",
              "    .dataframe tbody tr th {\n",
              "        vertical-align: top;\n",
              "    }\n",
              "\n",
              "    .dataframe thead th {\n",
              "        text-align: right;\n",
              "    }\n",
              "</style>\n",
              "<table border=\"1\" class=\"dataframe\">\n",
              "  <thead>\n",
              "    <tr style=\"text-align: right;\">\n",
              "      <th>Predictions</th>\n",
              "      <th>0</th>\n",
              "      <th>1</th>\n",
              "      <th>2</th>\n",
              "    </tr>\n",
              "    <tr>\n",
              "      <th>Species</th>\n",
              "      <th></th>\n",
              "      <th></th>\n",
              "      <th></th>\n",
              "    </tr>\n",
              "  </thead>\n",
              "  <tbody>\n",
              "    <tr>\n",
              "      <th>setosa</th>\n",
              "      <td>0</td>\n",
              "      <td>50</td>\n",
              "      <td>0</td>\n",
              "    </tr>\n",
              "    <tr>\n",
              "      <th>versicolor</th>\n",
              "      <td>2</td>\n",
              "      <td>0</td>\n",
              "      <td>48</td>\n",
              "    </tr>\n",
              "    <tr>\n",
              "      <th>virginica</th>\n",
              "      <td>36</td>\n",
              "      <td>0</td>\n",
              "      <td>14</td>\n",
              "    </tr>\n",
              "  </tbody>\n",
              "</table>\n",
              "</div>"
            ],
            "text/plain": [
              "Predictions   0   1   2\n",
              "Species                \n",
              "setosa        0  50   0\n",
              "versicolor    2   0  48\n",
              "virginica    36   0  14"
            ]
          },
          "metadata": {},
          "execution_count": 64
        }
      ]
    },
    {
      "cell_type": "markdown",
      "metadata": {
        "id": "wLvAxf8mNqfr"
      },
      "source": [
        "From this it should be clear that 1 = setosa, 2 = versicolor and 0 = virginica. So let's build a mapping function:"
      ]
    },
    {
      "cell_type": "code",
      "metadata": {
        "id": "EMRiLs43MuQi"
      },
      "source": [
        "def mapping(species):\n",
        "    if species == \"setosa\":\n",
        "        return 1\n",
        "    elif species == \"versicolor\":\n",
        "        return 2\n",
        "    else:\n",
        "        return 0\n",
        "\n",
        "iris[\"Mapped Species\"] = iris[\"Species\"].apply(mapping)"
      ],
      "execution_count": 65,
      "outputs": []
    },
    {
      "cell_type": "code",
      "metadata": {
        "colab": {
          "base_uri": "https://localhost:8080/",
          "height": 206
        },
        "id": "_1IQ99jqOP9C",
        "outputId": "3ee3ea71-e792-4667-c087-7f6d455faa10"
      },
      "source": [
        "iris.head()"
      ],
      "execution_count": 66,
      "outputs": [
        {
          "output_type": "execute_result",
          "data": {
            "text/html": [
              "<div>\n",
              "<style scoped>\n",
              "    .dataframe tbody tr th:only-of-type {\n",
              "        vertical-align: middle;\n",
              "    }\n",
              "\n",
              "    .dataframe tbody tr th {\n",
              "        vertical-align: top;\n",
              "    }\n",
              "\n",
              "    .dataframe thead th {\n",
              "        text-align: right;\n",
              "    }\n",
              "</style>\n",
              "<table border=\"1\" class=\"dataframe\">\n",
              "  <thead>\n",
              "    <tr style=\"text-align: right;\">\n",
              "      <th></th>\n",
              "      <th>Sepal.Length</th>\n",
              "      <th>Sepal.Width</th>\n",
              "      <th>Petal.Length</th>\n",
              "      <th>Petal.Width</th>\n",
              "      <th>Species</th>\n",
              "      <th>Predictions</th>\n",
              "      <th>Mapped Species</th>\n",
              "    </tr>\n",
              "  </thead>\n",
              "  <tbody>\n",
              "    <tr>\n",
              "      <th>1</th>\n",
              "      <td>5.1</td>\n",
              "      <td>3.5</td>\n",
              "      <td>1.4</td>\n",
              "      <td>0.2</td>\n",
              "      <td>setosa</td>\n",
              "      <td>1</td>\n",
              "      <td>1</td>\n",
              "    </tr>\n",
              "    <tr>\n",
              "      <th>2</th>\n",
              "      <td>4.9</td>\n",
              "      <td>3.0</td>\n",
              "      <td>1.4</td>\n",
              "      <td>0.2</td>\n",
              "      <td>setosa</td>\n",
              "      <td>1</td>\n",
              "      <td>1</td>\n",
              "    </tr>\n",
              "    <tr>\n",
              "      <th>3</th>\n",
              "      <td>4.7</td>\n",
              "      <td>3.2</td>\n",
              "      <td>1.3</td>\n",
              "      <td>0.2</td>\n",
              "      <td>setosa</td>\n",
              "      <td>1</td>\n",
              "      <td>1</td>\n",
              "    </tr>\n",
              "    <tr>\n",
              "      <th>4</th>\n",
              "      <td>4.6</td>\n",
              "      <td>3.1</td>\n",
              "      <td>1.5</td>\n",
              "      <td>0.2</td>\n",
              "      <td>setosa</td>\n",
              "      <td>1</td>\n",
              "      <td>1</td>\n",
              "    </tr>\n",
              "    <tr>\n",
              "      <th>5</th>\n",
              "      <td>5.0</td>\n",
              "      <td>3.6</td>\n",
              "      <td>1.4</td>\n",
              "      <td>0.2</td>\n",
              "      <td>setosa</td>\n",
              "      <td>1</td>\n",
              "      <td>1</td>\n",
              "    </tr>\n",
              "  </tbody>\n",
              "</table>\n",
              "</div>"
            ],
            "text/plain": [
              "   Sepal.Length  Sepal.Width  Petal.Length  ...  Species Predictions  Mapped Species\n",
              "1           5.1          3.5           1.4  ...   setosa           1               1\n",
              "2           4.9          3.0           1.4  ...   setosa           1               1\n",
              "3           4.7          3.2           1.3  ...   setosa           1               1\n",
              "4           4.6          3.1           1.5  ...   setosa           1               1\n",
              "5           5.0          3.6           1.4  ...   setosa           1               1\n",
              "\n",
              "[5 rows x 7 columns]"
            ]
          },
          "metadata": {},
          "execution_count": 66
        }
      ]
    },
    {
      "cell_type": "code",
      "metadata": {
        "colab": {
          "base_uri": "https://localhost:8080/"
        },
        "id": "rN70P8naOSk-",
        "outputId": "233a1933-4800-4563-d158-6f65e418958b"
      },
      "source": [
        "# Now for metrics\n",
        "\n",
        "from sklearn.metrics import f1_score\n",
        "\n",
        "print(\"F1 score:\", f1_score(iris[\"Mapped Species\"], iris[\"Predictions\"], average=\"macro\"))"
      ],
      "execution_count": 67,
      "outputs": [
        {
          "output_type": "stream",
          "name": "stdout",
          "text": [
            "F1 score: 0.8917748917748917\n"
          ]
        }
      ]
    },
    {
      "cell_type": "code",
      "metadata": {
        "colab": {
          "base_uri": "https://localhost:8080/"
        },
        "id": "uLNg362FOdnk",
        "outputId": "09a28f06-baba-47f2-cce3-3d23b3a2dfdb"
      },
      "source": [
        "# Confusion matrix (kind of did this with my crosstab solution)\n",
        "\n",
        "from sklearn.metrics import confusion_matrix\n",
        "\n",
        "confusion_matrix(iris[\"Mapped Species\"], iris[\"Predictions\"])"
      ],
      "execution_count": 69,
      "outputs": [
        {
          "output_type": "execute_result",
          "data": {
            "text/plain": [
              "array([[36,  0, 14],\n",
              "       [ 0, 50,  0],\n",
              "       [ 2,  0, 48]])"
            ]
          },
          "metadata": {},
          "execution_count": 69
        }
      ]
    },
    {
      "cell_type": "markdown",
      "metadata": {
        "id": "8GxmBXcyO11p"
      },
      "source": [
        "Most errors are coming from \"2\"s (virginicas) being classified as \"0\"s (versicolors)."
      ]
    },
    {
      "cell_type": "code",
      "metadata": {
        "colab": {
          "base_uri": "https://localhost:8080/",
          "height": 175
        },
        "id": "dPNAx7PlOvWU",
        "outputId": "a99ba438-faab-4e7f-b01c-fcec1a8edcdb"
      },
      "source": [
        "# Taking the sepal info, lots of reused code here:\n",
        "\n",
        "model = KMeans(n_clusters=3)\n",
        "model.fit(iris[[\"Sepal.Length\", \"Sepal.Width\"]].to_numpy())\n",
        "\n",
        "iris[\"Predictions\"] = model.labels_\n",
        "\n",
        "pd.crosstab(iris[\"Species\"], iris[\"Predictions\"])"
      ],
      "execution_count": 83,
      "outputs": [
        {
          "output_type": "execute_result",
          "data": {
            "text/html": [
              "<div>\n",
              "<style scoped>\n",
              "    .dataframe tbody tr th:only-of-type {\n",
              "        vertical-align: middle;\n",
              "    }\n",
              "\n",
              "    .dataframe tbody tr th {\n",
              "        vertical-align: top;\n",
              "    }\n",
              "\n",
              "    .dataframe thead th {\n",
              "        text-align: right;\n",
              "    }\n",
              "</style>\n",
              "<table border=\"1\" class=\"dataframe\">\n",
              "  <thead>\n",
              "    <tr style=\"text-align: right;\">\n",
              "      <th>Predictions</th>\n",
              "      <th>0</th>\n",
              "      <th>1</th>\n",
              "      <th>2</th>\n",
              "    </tr>\n",
              "    <tr>\n",
              "      <th>Species</th>\n",
              "      <th></th>\n",
              "      <th></th>\n",
              "      <th></th>\n",
              "    </tr>\n",
              "  </thead>\n",
              "  <tbody>\n",
              "    <tr>\n",
              "      <th>setosa</th>\n",
              "      <td>50</td>\n",
              "      <td>0</td>\n",
              "      <td>0</td>\n",
              "    </tr>\n",
              "    <tr>\n",
              "      <th>versicolor</th>\n",
              "      <td>0</td>\n",
              "      <td>12</td>\n",
              "      <td>38</td>\n",
              "    </tr>\n",
              "    <tr>\n",
              "      <th>virginica</th>\n",
              "      <td>0</td>\n",
              "      <td>35</td>\n",
              "      <td>15</td>\n",
              "    </tr>\n",
              "  </tbody>\n",
              "</table>\n",
              "</div>"
            ],
            "text/plain": [
              "Predictions   0   1   2\n",
              "Species                \n",
              "setosa       50   0   0\n",
              "versicolor    0  12  38\n",
              "virginica     0  35  15"
            ]
          },
          "metadata": {},
          "execution_count": 83
        }
      ]
    },
    {
      "cell_type": "code",
      "metadata": {
        "id": "Doc_Q4glPQQM"
      },
      "source": [
        "def mapping(species):\n",
        "    if species == \"setosa\":\n",
        "        return 0\n",
        "    elif species == \"versicolor\":\n",
        "        return 2\n",
        "    else:\n",
        "        return 1\n",
        "\n",
        "iris[\"Mapped Species\"] = iris[\"Species\"].apply(mapping)"
      ],
      "execution_count": 85,
      "outputs": []
    },
    {
      "cell_type": "code",
      "metadata": {
        "colab": {
          "base_uri": "https://localhost:8080/"
        },
        "id": "NKgvEc_5Q3C2",
        "outputId": "73be2792-d959-4680-eb54-83762e76db8f"
      },
      "source": [
        "print(\"F1 score:\", f1_score(iris[\"Mapped Species\"], iris[\"Predictions\"], average=\"macro\"))"
      ],
      "execution_count": 86,
      "outputs": [
        {
          "output_type": "stream",
          "name": "stdout",
          "text": [
            "F1 score: 0.8198378540686617\n"
          ]
        }
      ]
    },
    {
      "cell_type": "markdown",
      "metadata": {
        "id": "xasg1IS7Q9h2"
      },
      "source": [
        "So accuracy goes down. Accuracy is worse."
      ]
    },
    {
      "cell_type": "code",
      "metadata": {
        "colab": {
          "base_uri": "https://localhost:8080/",
          "height": 592
        },
        "id": "oP5Fmbs3Q71G",
        "outputId": "7f6acf9a-5145-4544-c725-9e2468303fd2"
      },
      "source": [
        "fig, ax = plt.subplots(figsize=(10, 10))\n",
        "\n",
        "centers = model.cluster_centers_\n",
        "\n",
        "labels = model.labels_\n",
        "\n",
        "ax.scatter(iris[\"Sepal.Length\"], iris[\"Sepal.Width\"], c=labels)\n",
        "ax.scatter(centers[:,0],centers[:,1], marker=\"x\", c=\"Black\")\n",
        "\n",
        "plt.show()"
      ],
      "execution_count": 87,
      "outputs": [
        {
          "output_type": "display_data",
          "data": {
            "image/png": "[encoded data removed]",
            "text/plain": [
              "<Figure size 720x720 with 1 Axes>"
            ]
          },
          "metadata": {
            "needs_background": "light"
          }
        }
      ]
    },
    {
      "cell_type": "markdown",
      "metadata": {
        "id": "WgpEdwXARZrA"
      },
      "source": [
        "## Is there a way to find the best features to use?\n",
        "\n",
        "We could try each pair by trial and error using a for loop.\n",
        "\n",
        "## Is there a way to improve the model while still keeping it on a 2D plane?\n",
        "\n",
        "We could take a combination of the features for the x and y axes (i.e \"Sepal Width + Sepal Length\" for x and \"Petal Width + Petal Length\" for y). This gives us more space to look for good combinations.\n"
      ]
    },
    {
      "cell_type": "markdown",
      "metadata": {
        "id": "mR1HU3_oR2-k"
      },
      "source": [
        "# Question 3"
      ]
    },
    {
      "cell_type": "code",
      "metadata": {
        "id": "nvVxHV11RS21"
      },
      "source": [
        "from sklearn.datasets import load_digits\n",
        "from sklearn.preprocessing import MinMaxScaler"
      ],
      "execution_count": 95,
      "outputs": []
    },
    {
      "cell_type": "code",
      "metadata": {
        "id": "u7AeiKX5R4XC"
      },
      "source": [
        "data, targets = load_digits(return_X_y=True)"
      ],
      "execution_count": 98,
      "outputs": []
    },
    {
      "cell_type": "markdown",
      "metadata": {
        "id": "wtX1d8d2SNls"
      },
      "source": [
        "This dataset contains 1797 images of handwritten 8x8 digits, with each point being a pixel value between 0 and 16"
      ]
    },
    {
      "cell_type": "code",
      "metadata": {
        "id": "50b-9mR5R6by"
      },
      "source": [
        "scaler = MinMaxScaler()\n",
        "\n",
        "data = scaler.fit_transform(data)"
      ],
      "execution_count": 99,
      "outputs": []
    },
    {
      "cell_type": "code",
      "metadata": {
        "colab": {
          "base_uri": "https://localhost:8080/"
        },
        "id": "OfH_eMrlR60x",
        "outputId": "55ddad4b-411e-4c15-fc12-d7e9940d768c"
      },
      "source": [
        "data"
      ],
      "execution_count": 100,
      "outputs": [
        {
          "output_type": "execute_result",
          "data": {
            "text/plain": [
              "array([[0.    , 0.    , 0.3125, ..., 0.    , 0.    , 0.    ],\n",
              "       [0.    , 0.    , 0.    , ..., 0.625 , 0.    , 0.    ],\n",
              "       [0.    , 0.    , 0.    , ..., 1.    , 0.5625, 0.    ],\n",
              "       ...,\n",
              "       [0.    , 0.    , 0.0625, ..., 0.375 , 0.    , 0.    ],\n",
              "       [0.    , 0.    , 0.125 , ..., 0.75  , 0.    , 0.    ],\n",
              "       [0.    , 0.    , 0.625 , ..., 0.75  , 0.0625, 0.    ]])"
            ]
          },
          "metadata": {},
          "execution_count": 100
        }
      ]
    },
    {
      "cell_type": "code",
      "metadata": {
        "colab": {
          "base_uri": "https://localhost:8080/"
        },
        "id": "qZzK_mkPTKbG",
        "outputId": "16aab7b2-9960-4f68-ab16-0737ad89cc64"
      },
      "source": [
        "from sklearn.cluster import KMeans\n",
        "\n",
        "model = KMeans(n_clusters=10)\n",
        "model.fit(data)"
      ],
      "execution_count": 101,
      "outputs": [
        {
          "output_type": "execute_result",
          "data": {
            "text/plain": [
              "KMeans(n_clusters=10)"
            ]
          },
          "metadata": {},
          "execution_count": 101
        }
      ]
    },
    {
      "cell_type": "code",
      "metadata": {
        "id": "ElDQk870TbqC"
      },
      "source": [
        "# Inverse transform back to the original scaling.\n",
        "centers = scaler.inverse_transform(model.cluster_centers_)"
      ],
      "execution_count": 125,
      "outputs": []
    },
    {
      "cell_type": "markdown",
      "metadata": {
        "id": "ci2GbMhYVUzT"
      },
      "source": [
        "Now I have seen a problem - since the data is in flattened format we need to get it back to the 8x8 image:"
      ]
    },
    {
      "cell_type": "code",
      "metadata": {
        "colab": {
          "base_uri": "https://localhost:8080/"
        },
        "id": "jj9xJY4OTizh",
        "outputId": "0d414a2f-eea2-402f-8354-68b43e40983c"
      },
      "source": [
        "centers.shape"
      ],
      "execution_count": 123,
      "outputs": [
        {
          "output_type": "execute_result",
          "data": {
            "text/plain": [
              "(10, 8, 8)"
            ]
          },
          "metadata": {},
          "execution_count": 123
        }
      ]
    },
    {
      "cell_type": "code",
      "metadata": {
        "id": "9MfxxzT3Tj8t"
      },
      "source": [
        "centers = centers.reshape((10, 8, 8))"
      ],
      "execution_count": 124,
      "outputs": []
    },
    {
      "cell_type": "code",
      "metadata": {
        "colab": {
          "base_uri": "https://localhost:8080/",
          "height": 323
        },
        "id": "XNp4Fo6MTsHp",
        "outputId": "3b8efa6a-6329-4f40-e205-74d15cf867ef"
      },
      "source": [
        "# This is a bit complex but all the enumerate is doing\n",
        "# is giving me a way to arrange the plkots\n",
        "\n",
        "fig, ax_list = plt.subplots(nrows=2, ncols=5, figsize=(10, 5)) \n",
        "\n",
        "for idx, center in enumerate(centers):\n",
        "\n",
        "    ax = ax_list[idx // 5][idx % 5]\n",
        "\n",
        "    # Plot the image using imshow\n",
        "    ax.imshow(center, cmap=\"Greys\")\n",
        "\n",
        "    # Turn off the axis\n",
        "    ax.axis(\"off\")\n",
        "    \n",
        "plt.tight_layout()\n",
        "plt.show()\n"
      ],
      "execution_count": 122,
      "outputs": [
        {
          "output_type": "display_data",
          "data": {
            "image/png": "[encoded data removed]",
            "text/plain": [
              "<Figure size 720x360 with 10 Axes>"
            ]
          },
          "metadata": {
            "needs_background": "light"
          }
        }
      ]
    },
    {
      "cell_type": "markdown",
      "metadata": {
        "id": "mridGGucVEaD"
      },
      "source": [
        "So this needs some interpretation and isn't perfect. From top left to bottom right I think we have 0, 8, 6, 3, 9, 1, 7, 2, 5, 4. They kind of look like digits!"
      ]
    },
    {
      "cell_type": "code",
      "metadata": {
        "id": "P73I13qNTwbj"
      },
      "source": [
        ""
      ],
      "execution_count": null,
      "outputs": []
    }
  ]
}