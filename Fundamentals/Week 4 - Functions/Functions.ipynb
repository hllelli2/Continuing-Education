{
 "cells": [
  {
   "cell_type": "markdown",
   "metadata": {},
   "source": [
    "# Week 4: Functions\n",
    "\n",
    "Using iteration and control flow, we can write very powerful programs that can solve a lot of problems for us; however as our problems get more complex and our programs get larger, we need some tools to make programming more scalable and less painful as we encounter more complex problems.\n",
    "\n",
    "Very often when programming, you'll find yourself writing similar blocks of code over and over again, with small variations that stop it from being put in a for loops easily. For example, in the `FizzBuzz` problems, we check for divisibility by a number, and output something if the check is true. Functions allow us to write generalisable blocks of code that take in a number of arguments and perform an operation on those arguments, then output something based on those inputs.\n",
    "\n",
    "For example, let's make a function that adds two numbers together:\n"
   ]
  },
  {
   "cell_type": "code",
   "execution_count": 2,
   "metadata": {},
   "outputs": [
    {
     "name": "stdout",
     "output_type": "stream",
     "text": [
      "5\n"
     ]
    }
   ],
   "source": [
    "def my_add(a, b):\n",
    "\n",
    "    return a + b\n",
    "\n",
    "print(my_add(2, 3))"
   ]
  },
  {
   "cell_type": "markdown",
   "metadata": {},
   "source": [
    "Hopefully this kind of syntax is starting to look familiar - the `def` keyword starts our function definition, with the name of the function being `my_add`. It takes in two arguments, `a` and `b` that are *dummy variables* in the same way as in `for` loops - we are telling Python what to do with the inputs once it recieves them.\n",
    "\n",
    "We then perform some calculation in the code block below, and `return` the output.\n",
    "\n",
    "This forms the basic structure of a function definition in Python - functions can be as long as you want (we'll talk about good practice later!) and have `if` and `for` loops nested within. Before we take functions any further, let's look at the `return` keyword in a bit more detail:\n",
    "\n",
    "## `return` and some common errors\n",
    "\n",
    "The `return` keyword always causes some confusion and is a common source of errors for when you start programming. There are a few rules to consider when looking at `return`s.\n",
    "\n",
    "1. When a function encounters a `return` line, it outputs what is after the return and *exits the function*. To illustrate this, consider the following code (note this function takes no inputs - this is totally fine!):"
   ]
  },
  {
   "cell_type": "code",
   "execution_count": 3,
   "metadata": {},
   "outputs": [
    {
     "name": "stdout",
     "output_type": "stream",
     "text": [
      "Hello from inside the function before the return!\n"
     ]
    },
    {
     "data": {
      "text/plain": [
       "2"
      ]
     },
     "execution_count": 3,
     "metadata": {},
     "output_type": "execute_result"
    }
   ],
   "source": [
    "def code_after_return():\n",
    "\n",
    "    print(\"Hello from inside the function before the return!\")\n",
    "    return 2\n",
    "    print(\"Hello from inside the function after the return!\")\n",
    "\n",
    "code_after_return()"
   ]
  },
  {
   "cell_type": "markdown",
   "metadata": {},
   "source": [
    "We only see the first `print` statement as it comes before the `return`. Anything after the `return` is not considered. In fact, some development environments will tell you this!\n",
    "\n",
    "You might also be able to see the 2 in the output of the cell. This is a feature  of the notebooks and is there for convinience, but is a bit confusing if we don't understand exactly what it means. So for Rule 2:\n",
    "\n",
    "2. `return` is how Python talks to itself, `print` is how Python talks to us. Python can't understand `print`s!\n",
    "\n",
    "Jupyter notebooks will always show us the last `return`ed value, as well as any prints we make to the console. This can lead to some problems as the two lines of code give the same visible output:"
   ]
  },
  {
   "cell_type": "code",
   "execution_count": 4,
   "metadata": {},
   "outputs": [
    {
     "name": "stdout",
     "output_type": "stream",
     "text": [
      "2\n"
     ]
    },
    {
     "data": {
      "text/plain": [
       "2"
      ]
     },
     "execution_count": 4,
     "metadata": {},
     "output_type": "execute_result"
    }
   ],
   "source": [
    "a = 2\n",
    "print(a)\n",
    "a"
   ]
  },
  {
   "cell_type": "markdown",
   "metadata": {},
   "source": [
    "However, let's look at two add functions that illustrate the difference:"
   ]
  },
  {
   "cell_type": "code",
   "execution_count": 5,
   "metadata": {},
   "outputs": [],
   "source": [
    "def wrong_add(a, b):\n",
    "    print(a + b)\n",
    "\n",
    "def correct_add(a, b):\n",
    "    return a + b"
   ]
  },
  {
   "cell_type": "markdown",
   "metadata": {},
   "source": [
    "Everything looks fairly fine initially:"
   ]
  },
  {
   "cell_type": "code",
   "execution_count": 6,
   "metadata": {},
   "outputs": [
    {
     "name": "stdout",
     "output_type": "stream",
     "text": [
      "5\n",
      "None\n",
      "7\n"
     ]
    }
   ],
   "source": [
    "print(wrong_add(2, 3))\n",
    "print(correct_add(3, 4))"
   ]
  },
  {
   "cell_type": "markdown",
   "metadata": {},
   "source": [
    "We have this odd \"None\" value in the middle - this is easy to overlook but an instant \"smell\" that something is wrong. When we start using this function in more advanced code we quickly run into problems:"
   ]
  },
  {
   "cell_type": "code",
   "execution_count": 8,
   "metadata": {},
   "outputs": [
    {
     "name": "stdout",
     "output_type": "stream",
     "text": [
      "2\n",
      "2\n"
     ]
    },
    {
     "ename": "TypeError",
     "evalue": "unsupported operand type(s) for +: 'NoneType' and 'NoneType'",
     "output_type": "error",
     "traceback": [
      "\u001b[0;31m---------------------------------------------------------------------------\u001b[0m",
      "\u001b[0;31mTypeError\u001b[0m                                 Traceback (most recent call last)",
      "\u001b[0;32m/var/folders/kp/9glw0dvs0rl2j7dfkdmhd2fr0000gn/T/ipykernel_3863/284176783.py\u001b[0m in \u001b[0;36m<module>\u001b[0;34m\u001b[0m\n\u001b[1;32m      1\u001b[0m \u001b[0;31m# Chain together the add function to do (1 + 1) + (1 + 1)\u001b[0m\u001b[0;34m\u001b[0m\u001b[0;34m\u001b[0m\u001b[0m\n\u001b[0;32m----> 2\u001b[0;31m \u001b[0mprint\u001b[0m\u001b[0;34m(\u001b[0m\u001b[0mwrong_add\u001b[0m\u001b[0;34m(\u001b[0m \u001b[0mwrong_add\u001b[0m\u001b[0;34m(\u001b[0m\u001b[0;36m1\u001b[0m\u001b[0;34m,\u001b[0m \u001b[0;36m1\u001b[0m\u001b[0;34m)\u001b[0m\u001b[0;34m,\u001b[0m \u001b[0mwrong_add\u001b[0m\u001b[0;34m(\u001b[0m\u001b[0;36m1\u001b[0m\u001b[0;34m,\u001b[0m \u001b[0;36m1\u001b[0m\u001b[0;34m)\u001b[0m\u001b[0;34m)\u001b[0m\u001b[0;34m)\u001b[0m\u001b[0;34m\u001b[0m\u001b[0;34m\u001b[0m\u001b[0m\n\u001b[0m",
      "\u001b[0;32m/var/folders/kp/9glw0dvs0rl2j7dfkdmhd2fr0000gn/T/ipykernel_3863/3687088963.py\u001b[0m in \u001b[0;36mwrong_add\u001b[0;34m(a, b)\u001b[0m\n\u001b[1;32m      1\u001b[0m \u001b[0;32mdef\u001b[0m \u001b[0mwrong_add\u001b[0m\u001b[0;34m(\u001b[0m\u001b[0ma\u001b[0m\u001b[0;34m,\u001b[0m \u001b[0mb\u001b[0m\u001b[0;34m)\u001b[0m\u001b[0;34m:\u001b[0m\u001b[0;34m\u001b[0m\u001b[0;34m\u001b[0m\u001b[0m\n\u001b[0;32m----> 2\u001b[0;31m     \u001b[0mprint\u001b[0m\u001b[0;34m(\u001b[0m\u001b[0ma\u001b[0m \u001b[0;34m+\u001b[0m \u001b[0mb\u001b[0m\u001b[0;34m)\u001b[0m\u001b[0;34m\u001b[0m\u001b[0;34m\u001b[0m\u001b[0m\n\u001b[0m\u001b[1;32m      3\u001b[0m \u001b[0;34m\u001b[0m\u001b[0m\n\u001b[1;32m      4\u001b[0m \u001b[0;32mdef\u001b[0m \u001b[0mcorrect_add\u001b[0m\u001b[0;34m(\u001b[0m\u001b[0ma\u001b[0m\u001b[0;34m,\u001b[0m \u001b[0mb\u001b[0m\u001b[0;34m)\u001b[0m\u001b[0;34m:\u001b[0m\u001b[0;34m\u001b[0m\u001b[0;34m\u001b[0m\u001b[0m\n\u001b[1;32m      5\u001b[0m     \u001b[0;32mreturn\u001b[0m \u001b[0ma\u001b[0m \u001b[0;34m+\u001b[0m \u001b[0mb\u001b[0m\u001b[0;34m\u001b[0m\u001b[0;34m\u001b[0m\u001b[0m\n",
      "\u001b[0;31mTypeError\u001b[0m: unsupported operand type(s) for +: 'NoneType' and 'NoneType'"
     ]
    }
   ],
   "source": [
    "# Chain together the add function to do (1 + 1) + (1 + 1)\n",
    "print(wrong_add( wrong_add(1, 1), wrong_add(1, 1)))"
   ]
  },
  {
   "cell_type": "code",
   "execution_count": 10,
   "metadata": {},
   "outputs": [
    {
     "name": "stdout",
     "output_type": "stream",
     "text": [
      "4\n"
     ]
    }
   ],
   "source": [
    "print(correct_add(correct_add(1,1), correct_add(1,1)))"
   ]
  },
  {
   "cell_type": "markdown",
   "metadata": {},
   "source": [
    "Here we see the problem - the `wrong_add` function doesn't actually output anything - it prints the value but doesn't pass it on to Python for futher operations. At this stage we get an error as addition between None and None is not allowed. Luckily the error came up fairly soon but it can be hours before you find this out! In general, functions should always return *something*, and if they don't, think very hard *why*.\n",
    "\n",
    "## Building a Typical Function\n",
    "\n",
    "Let's build a function for the FizzBuzz exercises that we've done so far to show how a function would look in practice:"
   ]
  },
  {
   "cell_type": "code",
   "execution_count": 12,
   "metadata": {},
   "outputs": [],
   "source": [
    "def fizzbuzz(n):\n",
    "    if n % 15 == 0:\n",
    "        return \"FizzBuzz\"\n",
    "    elif n % 5 == 0:\n",
    "        return \"Buzz\"\n",
    "    elif n % 3 == 0:\n",
    "        return \"Fizz\"\n",
    "    else:\n",
    "        return \"\""
   ]
  },
  {
   "cell_type": "markdown",
   "metadata": {},
   "source": [
    "Note that I've defined the function for a single number `n` instead of operating over a range straight away - this is for a very simple reason: **functions should only be responsible for one \"thing\" in yourt code**. If a function has more than one \"job\", it's typically worth breaking it up into two functions. We do this for a few reasons:\n",
    "\n",
    "- It improves code modularity: if a function has multiple responsiblities, there may come a point where we need only one bit of functionality from a function but not the rest. If we don't split our jobs up, we can't use our previous code as easily.\n",
    "\n",
    "- It improves code readability: functions should have names that reflect what they do. The more responsiblities a function has, the harder it is to fully encapsulate the function's motivation within a name.\n",
    "\n",
    "- It makes testing easier: we'll talk about testing in a few weeks, but it is much easier to test code that is split into many small functions rather than one large function.\n",
    "\n",
    "The definition of a single \"thing\", \"job\" or \"responsibility\" here is a bit fuzzy and is somewhat of a matter of opinion - but you'll find out very soon why this is good advice!\n",
    "\n",
    "Now let's write another function that calculates all the FizzBuzz outputs below a given number:"
   ]
  },
  {
   "cell_type": "code",
   "execution_count": 18,
   "metadata": {},
   "outputs": [
    {
     "name": "stdout",
     "output_type": "stream",
     "text": [
      "['FizzBuzz', '', '', 'Fizz', '', 'Buzz', 'Fizz', '', '', 'Fizz', 'Buzz', '', 'Fizz', '', '', 'FizzBuzz', '', '', 'Fizz', '', 'Buzz', 'Fizz', '', '', 'Fizz', 'Buzz', '', 'Fizz', '', '', 'FizzBuzz', '', '', 'Fizz', '', 'Buzz', 'Fizz', '', '', 'Fizz', 'Buzz', '', 'Fizz', '', '', 'FizzBuzz', '', '', 'Fizz', '', 'Buzz', 'Fizz', '', '', 'Fizz', 'Buzz', '', 'Fizz', '', '', 'FizzBuzz', '', '', 'Fizz', '', 'Buzz', 'Fizz', '', '', 'Fizz', 'Buzz', '', 'Fizz', '', '', 'FizzBuzz', '', '', 'Fizz', '', 'Buzz', 'Fizz', '', '', 'Fizz', 'Buzz', '', 'Fizz', '', '', 'FizzBuzz', '', '', 'Fizz', '', 'Buzz', 'Fizz', '', '', 'Fizz']\n"
     ]
    }
   ],
   "source": [
    "def fizzbuzz_up_to_n(n):\n",
    "\n",
    "    fizzbuzz_list = []\n",
    "    \n",
    "    for i in range(n):\n",
    "        fizzbuzz_list.append(fizzbuzz(i))\n",
    "\n",
    "    return fizzbuzz_list\n",
    "\n",
    "print(fizzbuzz_up_to_n(100))"
   ]
  },
  {
   "cell_type": "markdown",
   "metadata": {},
   "source": [
    "We can condense this code without sacrificing readability by using a list comprehension:"
   ]
  },
  {
   "cell_type": "code",
   "execution_count": 19,
   "metadata": {},
   "outputs": [
    {
     "name": "stdout",
     "output_type": "stream",
     "text": [
      "['FizzBuzz', '', '', 'Fizz', '', 'Buzz', 'Fizz', '', '', 'Fizz', 'Buzz', '', 'Fizz', '', '', 'FizzBuzz', '', '', 'Fizz', '', 'Buzz', 'Fizz', '', '', 'Fizz', 'Buzz', '', 'Fizz', '', '', 'FizzBuzz', '', '', 'Fizz', '', 'Buzz', 'Fizz', '', '', 'Fizz', 'Buzz', '', 'Fizz', '', '', 'FizzBuzz', '', '', 'Fizz', '', 'Buzz', 'Fizz', '', '', 'Fizz', 'Buzz', '', 'Fizz', '', '', 'FizzBuzz', '', '', 'Fizz', '', 'Buzz', 'Fizz', '', '', 'Fizz', 'Buzz', '', 'Fizz', '', '', 'FizzBuzz', '', '', 'Fizz', '', 'Buzz', 'Fizz', '', '', 'Fizz', 'Buzz', '', 'Fizz', '', '', 'FizzBuzz', '', '', 'Fizz', '', 'Buzz', 'Fizz', '', '', 'Fizz']\n"
     ]
    }
   ],
   "source": [
    "def fizzbuzz_up_to_n(n):\n",
    "    return [fizzbuzz(i) for i in range(n)]\n",
    "    \n",
    "print(fizzbuzz_up_to_n(100))"
   ]
  },
  {
   "cell_type": "markdown",
   "metadata": {},
   "source": [
    "In fact, applying functions in some way to lists is so common that Python comes with 3 important tools to help us do this more easily:\n",
    "\n",
    "## `lambda`, `map`, `filter`, `reduce`\n",
    "\n",
    "`map`, `filter` and `reduce` are *higher order functions*, that is, functions that take other functions in as an input. \n",
    "\n",
    "`map` takes a function and a list and applies the function to each element of the list (like the list comprehension above):"
   ]
  },
  {
   "cell_type": "code",
   "execution_count": 17,
   "metadata": {},
   "outputs": [
    {
     "name": "stdout",
     "output_type": "stream",
     "text": [
      "['FizzBuzz', '', '', 'Fizz', '', 'Buzz', 'Fizz', '', '', 'Fizz', 'Buzz', '', 'Fizz', '', '', 'FizzBuzz', '', '', 'Fizz', '', 'Buzz', 'Fizz', '', '', 'Fizz', 'Buzz', '', 'Fizz', '', '', 'FizzBuzz', '', '', 'Fizz', '', 'Buzz', 'Fizz', '', '', 'Fizz', 'Buzz', '', 'Fizz', '', '', 'FizzBuzz', '', '', 'Fizz', '', 'Buzz', 'Fizz', '', '', 'Fizz', 'Buzz', '', 'Fizz', '', '', 'FizzBuzz', '', '', 'Fizz', '', 'Buzz', 'Fizz', '', '', 'Fizz', 'Buzz', '', 'Fizz', '', '', 'FizzBuzz', '', '', 'Fizz', '', 'Buzz', 'Fizz', '', '', 'Fizz', 'Buzz', '', 'Fizz', '', '', 'FizzBuzz', '', '', 'Fizz', '', 'Buzz', 'Fizz', '', '']\n"
     ]
    }
   ],
   "source": [
    "result = list(map(fizzbuzz, range(99)))\n",
    "print(result)"
   ]
  },
  {
   "cell_type": "markdown",
   "metadata": {},
   "source": [
    "`map` in Python is a little strange as it is only marginally faster than a list comprehension *in some cases*, and therefore doesn't see much use in production code. However, it does let us introduce another important tool for functions: `lambda` functions!\n",
    "\n",
    "`lambda` functions are ways of defining functions inline where the internal logic is fairly simple. The syntax is a hotly contested issue (the creator of Python wanted them gone in the change from v2 to v3!), however they are still fairly useful for some situations. `lambda` functions are *anonymous* (they are not named like normal functions) and are intented for temporary use in higher order functions like `map`. For example, if we want to get the list of square numbers, we can use the code:"
   ]
  },
  {
   "cell_type": "code",
   "execution_count": 21,
   "metadata": {},
   "outputs": [
    {
     "name": "stdout",
     "output_type": "stream",
     "text": [
      "[0, 1, 4, 9, 16, 25, 36, 49, 64, 81]\n"
     ]
    }
   ],
   "source": [
    "squares = list(map(lambda x: x ** 2, range(10)))\n",
    "print(squares)"
   ]
  },
  {
   "cell_type": "markdown",
   "metadata": {},
   "source": [
    "Of course, this is the same as a list comprehension, and not as readable; but where `lambda`s really come into their own is with the `filter` and `reduce` functions!\n",
    "\n",
    "The `filter` function takes in a function and a list, and returns elements of that list where the given function returns True. Say we have a list that we want to extract the even numbers out of:"
   ]
  },
  {
   "cell_type": "code",
   "execution_count": 23,
   "metadata": {},
   "outputs": [
    {
     "name": "stdout",
     "output_type": "stream",
     "text": [
      "[2, 8, 10]\n"
     ]
    }
   ],
   "source": [
    "my_list = [2, 5, 7, 8, 9, 10]\n",
    "\n",
    "print(list(filter(lambda x: x % 2 == 0, my_list)))"
   ]
  },
  {
   "cell_type": "markdown",
   "metadata": {},
   "source": [
    "Now this is possible with list comprehensions..."
   ]
  },
  {
   "cell_type": "code",
   "execution_count": 24,
   "metadata": {},
   "outputs": [
    {
     "name": "stdout",
     "output_type": "stream",
     "text": [
      "[2, 8, 10]\n"
     ]
    }
   ],
   "source": [
    "print([i for i in my_list if i % 2 == 0])"
   ]
  },
  {
   "cell_type": "markdown",
   "metadata": {},
   "source": [
    "... however some people think this is leaning on list comprehensions a bit.\n",
    "\n",
    "The `reduce` function comes from the `functools` package (we'll talk about what this means later!) and is a bit harder to understand.\n",
    "\n",
    "The reduce function takes in 3 values - a function that takes in two values and outputs a single value, a list, and an (optional) initial value. If an initial value isn't given, it's implied to be the first item in the list. Then the following happens:\n",
    "\n",
    "The initial value and first item in the list are inputted into the given function and the output \"put to one side\".\n",
    "\n",
    "Then, this value and the second item in the list are inputted into the given function and the output set aside.\n",
    "\n",
    "This continues; cascading through the function until no item has been used in the given function with the \"running total\".\n",
    "\n",
    "The final value is outputted.\n",
    "\n",
    "This is a bit complicated to explain, so we'll look at an example. Say we want to build a function that takes in a list and sums all the items. We could use a \"running total\" method:"
   ]
  },
  {
   "cell_type": "code",
   "execution_count": 25,
   "metadata": {},
   "outputs": [
    {
     "data": {
      "text/plain": [
       "105"
      ]
     },
     "execution_count": 25,
     "metadata": {},
     "output_type": "execute_result"
    }
   ],
   "source": [
    "def sum_without_reduce(my_list):\n",
    "\n",
    "    total = 0\n",
    "    for item in my_list:\n",
    "        total += item\n",
    "    return total\n",
    "\n",
    "sum_without_reduce(range(15))"
   ]
  },
  {
   "cell_type": "markdown",
   "metadata": {},
   "source": [
    "This takes up quite a lot of space for what it does. Instead, let's try using a lambda function to turn it into a single line!"
   ]
  },
  {
   "cell_type": "code",
   "execution_count": 26,
   "metadata": {},
   "outputs": [
    {
     "data": {
      "text/plain": [
       "105"
      ]
     },
     "execution_count": 26,
     "metadata": {},
     "output_type": "execute_result"
    }
   ],
   "source": [
    "from functools import reduce\n",
    "\n",
    "reduce(lambda x, y: x + y, range(15), 0)"
   ]
  },
  {
   "cell_type": "markdown",
   "metadata": {},
   "source": [
    "Is this neater? Yes. Is it more readable? Maybe! Is it useful to know about? Very!\n",
    "\n",
    "You may be thinking \"Why are you getting us to do lambda functions and map, filter and reduce when list comprehensions exist and reduce can be written using basic Python? Well the reasons are threefold:\n",
    "\n",
    "- `map`, `filter` and `reduce` get us to think about how we work with lists in a different way. More abstractly, `map` always outputs a list the same size as the input; `filter` can output many sizes of list, from the empty list to the input list again; and `reduce` will always reduce down to one value. When writing good code, it's often helpful to identify these patterns through language like `map` before thinking about the implementation. In fact I would still personally refer to the list comprehension map as a \"map\" even though it doesn't use the function!\n",
    "\n",
    "- The langauge and synax of `map`, `filter`, `reduce` is used by a number of other packages where list comprehensions are not feasible (e.g. Big Data processing). It is *extremely* common to be using these operations generally on a large dataset (e.g. converting a column from £ to $; filtering to rows with negative entries; or working our summary statistics for a table) \n",
    "\n",
    "- Perhaps less importantly, these higher order functions give us a look into the \"functional programming\" paradigm. Python isn't built for this but access to these tools allows us to switch over when it's appropriate. We can chain together `map`, `filter` and `reduce` to create some more complex workflows previously unacessible by using list comprehensions!\n",
    "\n",
    "## Keyword Arguments, Default Arguments, `*args` and `**kwargs`\n",
    "\n",
    "We can build functions with any number of arguments; in fact it's common for some complex functions to have 50+ arguments (for example, data plotting libraries). Sometimes we want to build functions that have \"sensible defaults\" - i.e. arguments that have a certain value 90% of the time but we can still change it in special cases. For this, we use default arguments:\n",
    "\n"
   ]
  },
  {
   "cell_type": "code",
   "execution_count": 10,
   "metadata": {},
   "outputs": [
    {
     "name": "stdout",
     "output_type": "stream",
     "text": [
      "Hello, Sam . How are you today?\n"
     ]
    },
    {
     "data": {
      "text/plain": [
       "True"
      ]
     },
     "execution_count": 10,
     "metadata": {},
     "output_type": "execute_result"
    }
   ],
   "source": [
    "def custom_greeting(name, additional_greeting=\". How are you today?\"):\n",
    "\n",
    "    print(\"Hello,\", name, additional_greeting)\n",
    "\n",
    "    return True\n",
    "\n",
    "custom_greeting(\"Sam\")"
   ]
  },
  {
   "cell_type": "markdown",
   "metadata": {},
   "source": [
    "To override one of the custom arguments, we just refer to it's keyword:"
   ]
  },
  {
   "cell_type": "code",
   "execution_count": 12,
   "metadata": {},
   "outputs": [
    {
     "name": "stdout",
     "output_type": "stream",
     "text": [
      "Hello, Sam . It's nice to meet you!\n"
     ]
    },
    {
     "data": {
      "text/plain": [
       "True"
      ]
     },
     "execution_count": 12,
     "metadata": {},
     "output_type": "execute_result"
    }
   ],
   "source": [
    "custom_greeting(\"Sam\", additional_greeting=\". It's nice to meet you!\")"
   ]
  },
  {
   "cell_type": "markdown",
   "metadata": {},
   "source": [
    "Another case we might have is if we want an unlimited number of arguments to a function. We could ask users to input a list, but sometimes this way makes more sense. Take the following example:"
   ]
  },
  {
   "cell_type": "code",
   "execution_count": 17,
   "metadata": {},
   "outputs": [
    {
     "name": "stdout",
     "output_type": "stream",
     "text": [
      "(1, 2, 3)\n",
      "6\n",
      "(1, 2, 3, 4, 5)\n",
      "15\n"
     ]
    }
   ],
   "source": [
    "def add(*args):\n",
    "    print(args)\n",
    "    return sum(args)\n",
    "\n",
    "print(add(1, 2, 3))\n",
    "\n",
    "print(add(1, 2, 3, 4, 5))"
   ]
  },
  {
   "cell_type": "markdown",
   "metadata": {},
   "source": [
    "Note that if we have a list - we can unpack that list to use the function as normal using the `*` operator as follows:"
   ]
  },
  {
   "cell_type": "code",
   "execution_count": 19,
   "metadata": {},
   "outputs": [
    {
     "name": "stdout",
     "output_type": "stream",
     "text": [
      "(1, 2, 3, 4, 5, 6)\n",
      "21\n"
     ]
    }
   ],
   "source": [
    "numbers_to_add = [1,2,3,4,5,6]\n",
    "\n",
    "print(add(*numbers_to_add))"
   ]
  },
  {
   "cell_type": "markdown",
   "metadata": {},
   "source": [
    "This allows us to write functions with unlimited number of arguments; but we can do one better - functions with unlimited number of *keyworded* arguments. For this, we use the `**kwargs` argument. Here's an implementation of that:"
   ]
  },
  {
   "cell_type": "code",
   "execution_count": 20,
   "metadata": {},
   "outputs": [
    {
     "name": "stdout",
     "output_type": "stream",
     "text": [
      "Hey Sam, here's what you need to buy for your shopping:\n",
      "You need 3 bananas\n",
      "You need 5 apples\n"
     ]
    },
    {
     "data": {
      "text/plain": [
       "True"
      ]
     },
     "execution_count": 20,
     "metadata": {},
     "output_type": "execute_result"
    }
   ],
   "source": [
    "\n",
    "def pretty_print_shopping_list(**kwargs):\n",
    "\n",
    "    print(\"Hey Sam, here's what you need to buy for your shopping:\")\n",
    "\n",
    "    for key, value in kwargs.items():\n",
    "\n",
    "        if value >= 1:\n",
    "            print(\"You need\", value, key)\n",
    "\n",
    "    return True\n",
    "\n",
    "pretty_print_shopping_list(bananas=3, oranges=0, apples=5)\n",
    "    "
   ]
  },
  {
   "cell_type": "markdown",
   "metadata": {},
   "source": [
    "For functions with a lot of arguments (whether using the `**kwargs` argument or not), we can use the spread operator for dictionaries to provide keyword arguements as above:"
   ]
  },
  {
   "cell_type": "code",
   "execution_count": 21,
   "metadata": {},
   "outputs": [
    {
     "name": "stdout",
     "output_type": "stream",
     "text": [
      "Hey Sam, here's what you need to buy for your shopping:\n",
      "You need 3 bananas\n",
      "You need 5 apples\n"
     ]
    },
    {
     "data": {
      "text/plain": [
       "True"
      ]
     },
     "execution_count": 21,
     "metadata": {},
     "output_type": "execute_result"
    }
   ],
   "source": [
    "ugly_shopping = {\n",
    "    \"bananas\": 3,\n",
    "    \"oranges\": 0,\n",
    "    \"apples\": 5\n",
    "}\n",
    "\n",
    "pretty_print_shopping_list(**ugly_shopping)"
   ]
  },
  {
   "cell_type": "markdown",
   "metadata": {},
   "source": [
    "\n",
    "\n",
    "\n",
    "## Decorators\n",
    "\n",
    "So far, we've seen functions that operate on non-function items and return a non-function item, and we have seen higher order functions that operate on a function and list and output a list (or single item). The idea of functions in Python is pretty general, so we can also have functions that operate on functions, and output a function. These are a bit advanced, but it's very likely you'll see the syntax at some point so it's worth knowing how they work!\n",
    "\n",
    "Let's say we want to write a function that calls a given function a number of times. We could write the following:\n",
    "\n"
   ]
  },
  {
   "cell_type": "code",
   "execution_count": 1,
   "metadata": {},
   "outputs": [
    {
     "name": "stdout",
     "output_type": "stream",
     "text": [
      "Hello!\n",
      "Hello!\n"
     ]
    },
    {
     "data": {
      "text/plain": [
       "True"
      ]
     },
     "execution_count": 1,
     "metadata": {},
     "output_type": "execute_result"
    }
   ],
   "source": [
    "def call_twice(function):\n",
    "    function()\n",
    "    function()\n",
    "    return True\n",
    "\n",
    "def say_hello():\n",
    "    print(\"Hello!\")\n",
    "    return True\n",
    "\n",
    "call_twice(say_hello)"
   ]
  },
  {
   "cell_type": "markdown",
   "metadata": {},
   "source": [
    "This works fine, however sometimes we want to save the double function for later - maybe to use the output in the doubler again. We can't write `call_twice(call_twice(say_hello))` since the call_twice function doesn't output a function - so we should change it to the following:"
   ]
  },
  {
   "cell_type": "code",
   "execution_count": 2,
   "metadata": {},
   "outputs": [
    {
     "name": "stdout",
     "output_type": "stream",
     "text": [
      "Hello!\n",
      "Hello!\n",
      "Time for 4 hellos!\n",
      "Hello!\n",
      "Hello!\n",
      "Hello!\n",
      "Hello!\n"
     ]
    },
    {
     "data": {
      "text/plain": [
       "True"
      ]
     },
     "execution_count": 2,
     "metadata": {},
     "output_type": "execute_result"
    }
   ],
   "source": [
    "def call_twice(function):\n",
    "\n",
    "    def new_function():\n",
    "\n",
    "        function()\n",
    "        function()\n",
    "        return True\n",
    "    \n",
    "    return new_function\n",
    "\n",
    "twice_hello = call_twice(say_hello)\n",
    "twice_hello()\n",
    "\n",
    "print(\"Time for 4 hellos!\")\n",
    "four_hello = call_twice(call_twice(say_hello))\n",
    "four_hello()"
   ]
  },
  {
   "cell_type": "markdown",
   "metadata": {},
   "source": [
    "This is a much cleverer way of approaching the problem, and so Python comes with some out of the box syntax to help us out. This one is a bit arcane so bear with me! The following is equivalent to the above:"
   ]
  },
  {
   "cell_type": "code",
   "execution_count": 5,
   "metadata": {},
   "outputs": [
    {
     "name": "stdout",
     "output_type": "stream",
     "text": [
      "Twice Hello:\n",
      "Hello!\n",
      "Hello!\n",
      "Four hellos:\n",
      "Hello!\n",
      "Hello!\n",
      "Hello!\n",
      "Hello!\n"
     ]
    },
    {
     "data": {
      "text/plain": [
       "True"
      ]
     },
     "execution_count": 5,
     "metadata": {},
     "output_type": "execute_result"
    }
   ],
   "source": [
    "def call_twice(function):\n",
    "\n",
    "    def new_function():\n",
    "\n",
    "        function()\n",
    "        function()\n",
    "        return True\n",
    "    \n",
    "    return new_function\n",
    "\n",
    "@call_twice\n",
    "def twice_hello():\n",
    "    print(\"Hello!\")\n",
    "    return True\n",
    "\n",
    "@call_twice\n",
    "@call_twice\n",
    "def four_hello():\n",
    "    print(\"Hello!\")\n",
    "    return True\n",
    "\n",
    "print(\"Twice Hello:\")\n",
    "twice_hello()\n",
    "\n",
    "print(\"Four hellos:\")\n",
    "four_hello()\n"
   ]
  },
  {
   "cell_type": "markdown",
   "metadata": {},
   "source": [
    "There's much more to decorators - we can supply decorators arguments to modify *them* - however for now I think that's enough!"
   ]
  },
  {
   "cell_type": "markdown",
   "metadata": {},
   "source": [
    "# Refactoring\n",
    "\n",
    "When solving difficult problems with code, sometimes it can be difficult to stick by the \"one function for one job\" rule. This is fine - as long as we go back to clean up out code later. This process is known as *refactoring* - improving our code quality by rewriting it without removing or adding functionality.\n",
    "\n",
    "One key way of doing this is splitting large functions into smaller ones. For example, take the following code (an implementation of FizzBuzz that only allows lists of a certain size):"
   ]
  },
  {
   "cell_type": "code",
   "execution_count": 1,
   "metadata": {},
   "outputs": [
    {
     "name": "stdout",
     "output_type": "stream",
     "text": [
      "The list is too small for this!\n",
      "FizzBuzz!\n",
      "1\n",
      "2\n",
      "Fizz\n",
      "4\n",
      "Buzz\n",
      "Fizz\n",
      "7\n",
      "8\n",
      "Fizz\n",
      "Buzz\n"
     ]
    }
   ],
   "source": [
    "def long_fizzbuzz_list(my_list, length = 10):\n",
    "\n",
    "    if len(my_list) > 10:\n",
    "\n",
    "        for element in my_list:\n",
    "            \n",
    "            if element % 15 == 0:\n",
    "                print(\"FizzBuzz!\")\n",
    "            elif element % 5 == 0:\n",
    "                print(\"Buzz\")\n",
    "            elif element % 3 == 0:\n",
    "                print(\"Fizz\")\n",
    "            else:\n",
    "                print(element)\n",
    "    \n",
    "    else: \n",
    "\n",
    "        print(\"The list is too small for this!\")\n",
    "        return False\n",
    "\n",
    "long_fizzbuzz_list([1, 3, 4])\n",
    "long_fizzbuzz_list(range(11))"
   ]
  },
  {
   "cell_type": "markdown",
   "metadata": {},
   "source": [
    "This function is simply doing too much - it's checking for the list length, performing the for loop, *and* doing the actual FizzBuzz logic. We can easily see that it's doing too much because we end up on the 4th indentation level when we end up printing FizzBuzz!\n",
    "\n",
    "Let's break this down into functions:"
   ]
  },
  {
   "cell_type": "code",
   "execution_count": null,
   "metadata": {},
   "outputs": [],
   "source": [
    "# It's good practice to write your functions from most abstract to least (roughly)\n",
    "\n",
    "def long_fizzbuzz_list(my_list, length = 10):\n",
    "    # This function is only responsible for the length check\n",
    "    if len(my_list) > length:\n",
    "        result = do_fizzbuzz_over_list(my_list)\n",
    "        return result\n",
    "    else:\n",
    "        print(\"The list is too small!\")\n",
    "        return False\n",
    "\n",
    "def do_fizzbuzz_over_list(my_list):\n",
    "    # This function handles the iteration. \n",
    "    for element in my_list:\n",
    "        fizzbuzz(element)\n",
    "    return True\n",
    "\n",
    "def fizzbuzz(number):\n",
    "    # This function handles the fizzbuzz\n",
    "    if number % 15 == 0:\n",
    "        print(\"FizzBuzz!\")\n",
    "    elif number % 5 == 0:\n",
    "        print(\"Buzz\")\n",
    "    elif number % 3 == 0:\n",
    "        print(\"Fizz\")\n",
    "    else:\n",
    "        print(number)\n",
    "    \n",
    "    return True"
   ]
  },
  {
   "cell_type": "markdown",
   "metadata": {},
   "source": [
    "The resulting code here is much longer, but more readable and reusable. Say later we want to perform the FizzBuzz operation for just one number - now we have a function that does this for us without needing to rewrite the code! We want to be lazy and write code that is reusable for later."
   ]
  },
  {
   "cell_type": "markdown",
   "metadata": {},
   "source": [
    "# Exercises\n",
    "\n",
    "For this week and onward, I'd like all the answers to be written in the form of function(s) unless expressly told otherwise.\n",
    "\n",
    "## Simple Function\n",
    "\n",
    "Write a function that accepts one number, and outputs that number multiplied by 2.\n",
    "\n",
    "## More complex function\n",
    "\n",
    "Write a function that accepts one number - if it's even, half it. If it's odd, multiply it by 3 and add one. Return the result.\n",
    "\n",
    "## Guessing Game\n",
    "\n",
    "The code below will randomly generate a number between one and 10 and assign that number to the `rand_num` variable. Write a new function that asks for a user input (with `input()`), and checks if that number is equal to the randomly generated number. If it is, print a message congratulating the user - if not, write an appropriate message.\n",
    "\n",
    "BONUS: Make it so that your function allows for a number of attempts before exiting!"
   ]
  },
  {
   "cell_type": "code",
   "execution_count": null,
   "metadata": {},
   "outputs": [],
   "source": [
    "import random\n",
    "\n",
    "rand_num = random.randint(1, 10)"
   ]
  },
  {
   "cell_type": "markdown",
   "metadata": {},
   "source": [
    "## Collatz Conjecture\n",
    "\n",
    "One of the greatest unsolved mathematical problems is the Collatz Conjecture - this conjecture states that if we take any number and continuously apply the following process to it, we will eventually get to one. Some call the sequence of numbers it takes to get to one the *Collatz Path*.\n",
    "\n",
    "* If the number is even, half it\n",
    "* If the number is odd, multiply it by 3 and add one.\n",
    "\n",
    "Write a function that outputs the collatz path for any given number\n",
    "\n",
    "HINT: You have already written a function to get the next number in the path!\n",
    "\n",
    "## Email Username Processing\n",
    "\n",
    "Emails always come in the form `username@domain.tld` (for example, in test@gmail.com, test is the user, gmail is the domain, and .com is the tld). Write a function that takes in an email and returns *only* the username.\n",
    "\n",
    "## Averaging\n",
    "\n",
    "Write a function called `average` that calculates the mean of a list of numbers.\n",
    "\n",
    "BONUS: There are a number of different \"averages\" we can use (median, mode etc). Rewrite your function so that it accepts an additional argument called \"method\" that can change the type of averaging used. It should default to `\"mean\"`\n",
    "\n"
   ]
  },
  {
   "cell_type": "markdown",
   "metadata": {},
   "source": []
  }
 ],
 "metadata": {
  "kernelspec": {
   "display_name": "Python 3.9.7 64-bit ('3.9.7')",
   "language": "python",
   "name": "python3"
  },
  "language_info": {
   "codemirror_mode": {
    "name": "ipython",
    "version": 3
   },
   "file_extension": ".py",
   "mimetype": "text/x-python",
   "name": "python",
   "nbconvert_exporter": "python",
   "pygments_lexer": "ipython3",
   "version": "3.9.7"
  },
  "orig_nbformat": 4,
  "vscode": {
   "interpreter": {
    "hash": "133c484c66788d87bb60c372620677a8c2a59f534de2a53b3b518fc6db564f03"
   }
  }
 },
 "nbformat": 4,
 "nbformat_minor": 2
}
