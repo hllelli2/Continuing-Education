{
 "cells": [
  {
   "cell_type": "markdown",
   "metadata": {},
   "source": [
    "# Week 3: Iteration and Loops\n",
    "\n",
    "Using what we have learned so far, we could actually already code anything we wanted to, as long as we had infinite time and space on our comptuer. Obviously we don't, and we value our time a bit more than that, so today we are going to look at how to speed things up using iteration and loops in Python.\n",
    "\n",
    "There are two main types of loops in Python, the `for` loop and the `while` loop. The choice of which is used is usually for readabilty (with a few exceptions), as most `for` loops can be written as `while` loops and vice versa. We'll start with looking at how for loops work: \n",
    "\n",
    "## `for` Loops\n",
    "\n",
    "We have seen a number of different \"list like\" objects so far - lists themselves, strings, tuples, sets, and even dictionaries. We say these types are \"iterable\" because we can \"iterate\" over them, getting an item from the element each time. For example, we can iterate over `\"apple\"` to give us each letter in turn.\n",
    "\n",
    "This is precisely what the `for` loop does - it runs over an iterable object and executes some code for every object in that collection. Let's take a look at a very simple example:"
   ]
  },
  {
   "cell_type": "code",
   "execution_count": 4,
   "metadata": {},
   "outputs": [
    {
     "name": "stdout",
     "output_type": "stream",
     "text": [
      "The current letter is: a\n",
      "The current letter is: p\n",
      "The current letter is: p\n",
      "The current letter is: l\n",
      "The current letter is: e\n",
      "Done!\n"
     ]
    }
   ],
   "source": [
    "for letter in \"apple\":\n",
    "    print(\"The current letter is:\", letter)\n",
    "\n",
    "print(\"Done!\")"
   ]
  },
  {
   "cell_type": "markdown",
   "metadata": {},
   "source": [
    "The syntax is fairly easy to undertand here but two key things need pointing out:\n",
    "\n",
    "* Here, `letter` is a \"dummy variable\" - a variable without a value that tells Python what to do with each item in the list. This value is overwritten each time the indented code block runs by the next value in the list, until there are no more values left.\n",
    "* As with `if` statements, the code that corresponds to the `for` loop is held inside an indented block. Any code outside this block is only executed after the whole loop is completed.\n",
    "\n",
    "We can do the same for other list like objects (here we will use the `range` function to give us an iterator to use):"
   ]
  },
  {
   "cell_type": "code",
   "execution_count": 7,
   "metadata": {},
   "outputs": [
    {
     "name": "stdout",
     "output_type": "stream",
     "text": [
      "45\n"
     ]
    }
   ],
   "source": [
    "total = 0\n",
    "for i in range(10):\n",
    "    total = total + i\n",
    "print(total)"
   ]
  },
  {
   "cell_type": "markdown",
   "metadata": {},
   "source": [
    "This pattern is very common in Python - setting an initial value at the start of a loop and having something within the loop change it. Of course, there are cleverer ways to do this in Python, but very often clarity is more important than being clever!\n",
    "\n",
    "Like with `if` statements, we can stack `for` loops. The inner loop will run once for each value in the outer loop. It is very important to remember the order of which the loops run! Outer first, then inner."
   ]
  },
  {
   "cell_type": "code",
   "execution_count": 2,
   "metadata": {},
   "outputs": [
    {
     "name": "stdout",
     "output_type": "stream",
     "text": [
      "a 0\n",
      "a 1\n",
      "a 2\n",
      "a 3\n",
      "a 4\n",
      "b 0\n",
      "b 1\n",
      "b 2\n",
      "b 3\n",
      "b 4\n",
      "c 0\n",
      "c 1\n",
      "c 2\n",
      "c 3\n",
      "c 4\n"
     ]
    }
   ],
   "source": [
    "for letter in 'abc':\n",
    "    for number in range(5):\n",
    "        print(letter, number)"
   ]
  },
  {
   "cell_type": "markdown",
   "metadata": {},
   "source": [
    "Hopefully it's clear how these loops are helpful, especially if we combine them with the `if` statements from last week. We can iterate over a large list of items and only perform some operation if a condition is met. Can you tell what the program below is doing and will output?"
   ]
  },
  {
   "cell_type": "code",
   "execution_count": 4,
   "metadata": {},
   "outputs": [
    {
     "name": "stdout",
     "output_type": "stream",
     "text": [
      "apple is an 'a' fruit!\n",
      "apricot is an 'a' fruit!\n"
     ]
    }
   ],
   "source": [
    "for fruit in [\"apple\", \"banana\", \"apricot\", \"strawberry\"]:\n",
    "    if fruit[0] == \"a\":\n",
    "        print(fruit, \"is an 'a' fruit!\")"
   ]
  },
  {
   "cell_type": "markdown",
   "metadata": {},
   "source": [
    "## `while` Loops\n",
    "\n",
    "`while` loops are the other type of loop in Python - instead of iterating over a finite list, we continue to perform a set of operations until a condition resolves to `False`. There are a few tricks for this, but *usually* we want the condition to be checking a variable that changes over time.\n",
    "\n",
    "For example, in one of the `for` loops before, we calculate the 9th triangle number - that is, 1 + 2 + 3 ... + 9. As part of this, we supplied the last number we wanted to add as part of the `range` function - but what happens if we want to keep making triangle numbers until we reach a goal? For that, a `while` loop makes more sense. Hopefully the below code is fairly self explainitory!"
   ]
  },
  {
   "cell_type": "code",
   "execution_count": 5,
   "metadata": {},
   "outputs": [
    {
     "name": "stdout",
     "output_type": "stream",
     "text": [
      "1035\n"
     ]
    }
   ],
   "source": [
    "total = 0\n",
    "current_number = 1\n",
    "limit = 1000\n",
    "\n",
    "while total < limit:\n",
    "    total += current_number\n",
    "    current_number += 1\n",
    "\n",
    "print(total)"
   ]
  },
  {
   "cell_type": "markdown",
   "metadata": {},
   "source": [
    "This is a common pattern - typically we use `while` loops to continue doing something until a condition is met, if we don't nessecarily know *exactly when* that condition is met. Be careful with this, because you need to know *if* your condition is met, otherwise you might have an infinite loop!\n",
    "\n",
    "## `break` and `continue` \n",
    "\n",
    "Both `for` and `while` loops allow the use of these two keywords to manipulate the looping process in two very helpful ways.\n",
    "\n",
    "The `break` keyword will \"break\" out of the loop altogether - it will stop the loop and move onto the next line of code after the loop. This can be helpful for a few reasons - in `while` loops we can use it to create more complex start/end conditions with some additional nuance. This is quite complex code to demonstrate what the keywords does so I've added comments inline (lines starting with `#`!) to help out.\n",
    "\n",
    "We want to create a program that asks a user for a number, then counts down from this number until it reaches a multiple of 13 or 17, or hits 0. In each of these cases, we want to break out of the loops as soon as one condition is met and print a suitable message:"
   ]
  },
  {
   "cell_type": "code",
   "execution_count": 10,
   "metadata": {},
   "outputs": [
    {
     "name": "stdout",
     "output_type": "stream",
     "text": [
      "Number not divisible by 13 or 17, decreasing by 1 to 28\n",
      "Number not divisible by 13 or 17, decreasing by 1 to 27\n",
      "Number not divisible by 13 or 17, decreasing by 1 to 26\n",
      "This number is divisible by 13.\n"
     ]
    }
   ],
   "source": [
    "my_number = int(input(\"Please give me a number:\"))\n",
    "\n",
    "# while True forces an infinite loop - but we know we are always breaking out\n",
    "# so it is okay!\n",
    "while True:\n",
    "    if my_number % 13 == 0:\n",
    "        # Print a suitable message and break out of loop.\n",
    "        print(\"This number is divisible by 13.\")\n",
    "        break\n",
    "    elif my_number % 17 == 0:\n",
    "        # Print a different message and break out of the loop.\n",
    "        print(\"This number is divisible by 17.\")\n",
    "        break\n",
    "    elif my_number == 0:\n",
    "        # If the number is 0 we need to stop!\n",
    "        print(\"The number is now 0 and the search is over!\")\n",
    "        break\n",
    "    else:\n",
    "        # Decrease the number by one but DON'T break!\n",
    "        my_number -= 1\n",
    "        print(\"Number not divisible by 13 or 17, decreasing by 1 to\", my_number)\n"
   ]
  },
  {
   "cell_type": "markdown",
   "metadata": {},
   "source": [
    "Phew! We are already writing quite complex programs with the `break` keyword.\n",
    "\n",
    "The `continue` keyword operates similarly, but simply stops the current run for the loop and goes back \"to the top\". For `for` loops it takes the next value, for `while` loops it performs the check again to see if the loop should be run.\n",
    "\n",
    "Often this can be achieved by `if` statements but `continue` can be a more idiomatic way to write it. In this case, if the number is odd, we print a message and move straight onto the next number. Otherwise, we print two messages without using `if`s."
   ]
  },
  {
   "cell_type": "code",
   "execution_count": 3,
   "metadata": {},
   "outputs": [
    {
     "name": "stdout",
     "output_type": "stream",
     "text": [
      "This number is even, but we are not going to go back\n",
      "We are outside of the if statement here\n",
      "This number is odd, going straight to the next number.\n",
      "This number is even, but we are not going to go back\n",
      "We are outside of the if statement here\n",
      "This number is odd, going straight to the next number.\n",
      "This number is even, but we are not going to go back\n",
      "We are outside of the if statement here\n",
      "This number is odd, going straight to the next number.\n"
     ]
    }
   ],
   "source": [
    "for i in range(6):\n",
    "    \n",
    "    if i % 2 != 0:\n",
    "        print(\"This number is odd, going straight to the next number.\")\n",
    "        continue\n",
    "    else:\n",
    "        print(\"This number is even, but we are not going to go back\")\n",
    "\n",
    "    print(\"We are outside of the if statement here\")"
   ]
  },
  {
   "cell_type": "markdown",
   "metadata": {},
   "source": [
    "# List Comprehensions\n",
    "\n",
    "It's very common in programming to have common patterns that occur over and over again - these are helpfully called *patterns* and very often the maintainers of the language will create some kind of shortcut for simplifying the boilerplate code.\n",
    "\n",
    "For example, take the case where we are trying to populate a list with the square numbers from 1 to 10. Normally we would have to do the following:\n"
   ]
  },
  {
   "cell_type": "code",
   "execution_count": 4,
   "metadata": {},
   "outputs": [
    {
     "name": "stdout",
     "output_type": "stream",
     "text": [
      "[0, 1, 4, 9, 16, 25, 36, 49, 64, 81]\n"
     ]
    }
   ],
   "source": [
    "my_list = []\n",
    "for i in range(10):\n",
    "    my_list.append(i ** 2)\n",
    "print(my_list)"
   ]
  },
  {
   "cell_type": "markdown",
   "metadata": {},
   "source": [
    "It's only a few lines of code but we can make it more readable by using something called a *list comprehension*. These work by defining lists not by their elements, but by a rule that calculates them. So to get the above list, we would use the following:"
   ]
  },
  {
   "cell_type": "code",
   "execution_count": 5,
   "metadata": {},
   "outputs": [
    {
     "name": "stdout",
     "output_type": "stream",
     "text": [
      "[0, 1, 4, 9, 16, 25, 36, 49, 64, 81]\n"
     ]
    }
   ],
   "source": [
    "my_list = [i ** 2 for i in range(10)]\n",
    "print(my_list)"
   ]
  },
  {
   "cell_type": "markdown",
   "metadata": {},
   "source": [
    "Much simpler! We can also do the same for tuples, sets and dictionaries. For example, let's build a dictionary with animal names with values as the number of letters in their names:"
   ]
  },
  {
   "cell_type": "code",
   "execution_count": 8,
   "metadata": {},
   "outputs": [
    {
     "name": "stdout",
     "output_type": "stream",
     "text": [
      "{'dog': 3, 'cat': 3, 'horse': 5}\n"
     ]
    }
   ],
   "source": [
    "animals = [\"dog\", \"cat\", \"horse\"]\n",
    "\n",
    "len_dict = {animal: len(animal) for animal in animals}\n",
    "print(len_dict)"
   ]
  },
  {
   "cell_type": "markdown",
   "metadata": {},
   "source": [
    "This is pretty advanced syntax, and it shouldn't be abused - but it can make code far cleaner and more readable.\n",
    "\n",
    "# Exercises\n",
    "With control flow and iteration under your belt, we can start to solve questions that are outside the possiblilty of something we could solve ourselves. The questions below might take some thinking, both in how you approach them and how you put them into code - this is intentional as problem solving is a key part in being a good programmer!\n",
    "\n",
    "## FizzBuzz Mk.2\n",
    "\n",
    "Last week we looked at creating a program that took in a number, and outputted different things based on some divisiblity criterea. Now, using your previous code, create a list containing 100 elements with the FizzBuzz output of the numbers from 0 to 99.\n",
    "\n",
    "## Password Cracker\n",
    "\n",
    "Again we're going to extend something we learnt last week. We used the function `md5(password.encode()).hexdigest() ` to create the MD5 hash for the `password` variable. How this hashing is done isn't that important; but let's go back to the 90s and pretend we're in the film *Hackers*. \n",
    "\n",
    "We're performing a secuirty audit on a piece of code and find the following snippet:\n"
   ]
  },
  {
   "cell_type": "code",
   "execution_count": 4,
   "metadata": {},
   "outputs": [
    {
     "name": "stdout",
     "output_type": "stream",
     "text": [
      "--- WELCOME TO BALL INDUSTRIES ---\n",
      "Incorrect password.\n"
     ]
    }
   ],
   "source": [
    "from hashlib import md5 \n",
    "\n",
    "print(\"--- WELCOME TO BALL INDUSTRIES ---\")\n",
    "password = input(\"PLEASE ENTER THE PASSWORD\")\n",
    "\n",
    "if md5(password.encode()).hexdigest() == \"436302a7f9a7389d1a68bea0d3b016e0\":\n",
    "    print(\"Welcome to the program!\")\n",
    "else:\n",
    "    print(\"Incorrect password.\")"
   ]
  },
  {
   "cell_type": "markdown",
   "metadata": {},
   "source": [
    "We know from reading internal IRC logs that the password must be a *zero padded* 4 digit number (zero padding means that we allow leading zeros, like `0043`). Create a program that brute-forces this security to get you into the mainframe!\n",
    "\n",
    "## Times Tables\n",
    "\n",
    "Write a program that prints a square times table for the numbers from 1 to 15.\n",
    "\n",
    "## Anagrams\n",
    "\n",
    "A word is an anagram of another if it contains the same number of each letters, but in a different order. Write a program that checks if two words are anagrams of one another. You can do this a number of different ways, including without for loops at all!"
   ]
  }
 ],
 "metadata": {
  "kernelspec": {
   "display_name": "Python 3.9.7 64-bit ('3.9.7')",
   "language": "python",
   "name": "python3"
  },
  "language_info": {
   "codemirror_mode": {
    "name": "ipython",
    "version": 3
   },
   "file_extension": ".py",
   "mimetype": "text/x-python",
   "name": "python",
   "nbconvert_exporter": "python",
   "pygments_lexer": "ipython3",
   "version": "3.9.7"
  },
  "orig_nbformat": 4,
  "vscode": {
   "interpreter": {
    "hash": "133c484c66788d87bb60c372620677a8c2a59f534de2a53b3b518fc6db564f03"
   }
  }
 },
 "nbformat": 4,
 "nbformat_minor": 2
}
