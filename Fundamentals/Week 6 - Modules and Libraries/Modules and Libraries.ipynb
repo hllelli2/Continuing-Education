{
 "cells": [
  {
   "cell_type": "markdown",
   "metadata": {},
   "source": [
    "# Week 6 - Modules and Libraries\n",
    "\n",
    "Programmers are lazy - we like making things easier for ourselves by writing for loops to automate processes for us, and create classes and other structures to make sense of complex data. Perhaps the biggest and best form of laziness in programming is the idea of sharing code with peers in the form of *libraries*\n",
    "\n",
    "Libraries are collections of code created by other people that can be bought into Python on demand to solve problems or make our lives significantly easier. These libraries can be small, low level packages that interact with fundamental Python objects (`socket` for example, provides very low level networking code), to extremely elaborate packages that run websites (`flask`, `django`) or build deep learning neural network models (`pytorch`, `tensorflow`).\n",
    "\n",
    "We can also publish our own code to the public Python repository (a sort of meta-library containing information of all other libraries) through a publication process, while still being allowed to use other people's libarires (if licence allows); building a dependency tree that Python automatically resolves when attempting to install. Unfortunately this is a bit invoved and not really feasible to do from Colab\n",
    "\n",
    "This week we'll do a deep dive into what a library is; how to install them; some helpful ones to get started with, and some examples of what problems these let us solve.\n",
    "\n",
    "## What is a Library?\n",
    "\n",
    "*Libraries*, *modules*, *packages* - these names are all pretty much interchangable. These all reference code that we import into Python somehow that allows us to piggy-back on what someone else has written. This code is usually normal Python written by mortals like you or I; and maintained by an army of voluenteers. By default, Python will look at the public python index at https://pypi.org - this is an index of all the publically published Python libaries that exist, and we can find all the \"big players\" here.\n",
    "\n",
    "We can also self-host a Python package index for private packages to share code within a company. How this is achieved isn't really too important for now but just know that Python does not for all packages to be made publically available, but it's \"in the spirit\" of programming to share your work!\n",
    "\n",
    "As with anything in Python, libaries are an object with a type and methods:"
   ]
  },
  {
   "cell_type": "code",
   "execution_count": 4,
   "metadata": {},
   "outputs": [
    {
     "name": "stdout",
     "output_type": "stream",
     "text": [
      "<class 'module'>\n"
     ]
    }
   ],
   "source": [
    "import datetime\n",
    "print(type(datetime))"
   ]
  },
  {
   "cell_type": "markdown",
   "metadata": {},
   "source": [
    "In many ways, this class represents a \"top level\" of a folder containing all the code we want to use. In this folder, there may be other folders, files, functions and classes that we can access through the library's namespace.\n",
    "\n",
    "## How do we install Libraries?\n",
    "\n",
    "Some libraries in Python are built in (such as `datetime` above), and don't need any installation process to work. These come with Python and are only not available by default to speed some things up - we don't always need to send an email or make low level network connections if we're just doing some maths!\n",
    "\n",
    "Google Colab comes with an additional fantastic suite of libraries pre-installed that are somewhat geared towards data science. In Colab, we can import these just like any built in library. We'll see how to view the installed libraries in just a second.\n",
    "\n",
    "Finally, to install libraries that we don't have installed, we use the command line `pip` tool. This tool is what we mainly use for installing, managing and creating Python packages, although wrappers around this tool exist to make our lives a bit easier in certain circumstances.\n",
    "\n",
    "### FIRST: A Note on using the Command Line in Colab\n",
    "\n",
    "Sometimes we will want to run terminal commands in Colab rather than Python - these are system commands used to manage the server we are on. Normally, with a local Python installation, this is the default interface (rather than Python) - however in a Jupyter notebook we have to use the following syntax to run commands:"
   ]
  },
  {
   "cell_type": "code",
   "execution_count": 1,
   "metadata": {},
   "outputs": [
    {
     "name": "stdout",
     "output_type": "stream",
     "text": [
      "Hello world\n"
     ]
    }
   ],
   "source": [
    "!echo \"Hello world\""
   ]
  },
  {
   "cell_type": "markdown",
   "metadata": {},
   "source": [
    "Any line starting with a `!` will run as a `bash` (or terminal) command instead of Python. Here we are using the `echo` command (which is like Python's `print`) to display Hello World in the output.\n",
    "\n",
    "Getting comfortable with the command line and bash scripting is a very helpful skill to have in coding, but I'll give you all the commands you need to run through bash in this course when needed.\n",
    "\n",
    "To use the command line to install a Python package, we use the command:"
   ]
  },
  {
   "cell_type": "code",
   "execution_count": 2,
   "metadata": {},
   "outputs": [
    {
     "name": "stdout",
     "output_type": "stream",
     "text": [
      "Requirement already satisfied: requests in /Users/stmball/.pyenv/versions/3.9.7/lib/python3.9/site-packages (2.26.0)\n",
      "Requirement already satisfied: certifi>=2017.4.17 in /Users/stmball/.pyenv/versions/3.9.7/lib/python3.9/site-packages (from requests) (2021.5.30)\n",
      "Requirement already satisfied: urllib3<1.27,>=1.21.1 in /Users/stmball/.pyenv/versions/3.9.7/lib/python3.9/site-packages (from requests) (1.26.7)\n",
      "Requirement already satisfied: charset-normalizer~=2.0.0 in /Users/stmball/.pyenv/versions/3.9.7/lib/python3.9/site-packages (from requests) (2.0.6)\n",
      "Requirement already satisfied: idna<4,>=2.5 in /Users/stmball/.pyenv/versions/3.9.7/lib/python3.9/site-packages (from requests) (3.2)\n"
     ]
    }
   ],
   "source": [
    "!pip install requests"
   ]
  },
  {
   "cell_type": "markdown",
   "metadata": {},
   "source": [
    "Python will look for the package in the index, and install the package along with any prerequisites it has. You'll see that this package is already installed (your output might be slightly different) - to list all the packages we have, we use the following command:"
   ]
  },
  {
   "cell_type": "code",
   "execution_count": 3,
   "metadata": {},
   "outputs": [
    {
     "name": "stdout",
     "output_type": "stream",
     "text": [
      "Package             Version\n",
      "------------------- ---------\n",
      "anyio               3.3.2\n",
      "appnope             0.1.2\n",
      "argon2-cffi         21.1.0\n",
      "attrs               21.2.0\n",
      "Babel               2.9.1\n",
      "backcall            0.2.0\n",
      "bleach              4.1.0\n",
      "certifi             2021.5.30\n",
      "cffi                1.14.6\n",
      "cfgv                3.3.1\n",
      "charset-normalizer  2.0.6\n",
      "colorednoise        2.1.0\n",
      "cryptography        38.0.1\n",
      "cycler              0.10.0\n",
      "debugpy             1.5.0\n",
      "decorator           5.1.0\n",
      "defusedxml          0.7.1\n",
      "distlib             0.3.4\n",
      "entrypoints         0.3\n",
      "filelock            3.7.1\n",
      "identify            2.5.1\n",
      "idna                3.2\n",
      "iniconfig           1.1.1\n",
      "ipykernel           6.4.1\n",
      "ipython             7.28.0\n",
      "ipython-genutils    0.2.0\n",
      "ipywidgets          7.6.5\n",
      "jedi                0.18.0\n",
      "Jinja2              3.0.2\n",
      "joblib              1.1.0\n",
      "json5               0.9.6\n",
      "jsonschema          4.0.1\n",
      "jupyter             1.0.0\n",
      "jupyter-client      7.0.6\n",
      "jupyter-console     6.4.0\n",
      "jupyter-core        4.8.1\n",
      "jupyter-server      1.11.1\n",
      "jupyterlab          3.1.18\n",
      "jupyterlab-pygments 0.1.2\n",
      "jupyterlab-server   2.8.2\n",
      "jupyterlab-widgets  1.0.2\n",
      "kiwisolver          1.3.2\n",
      "MarkupSafe          2.0.1\n",
      "matplotlib          3.4.3\n",
      "matplotlib-inline   0.1.3\n",
      "mistune             0.8.4\n",
      "nbclassic           0.3.2\n",
      "nbclient            0.5.4\n",
      "nbconvert           6.2.0\n",
      "nbformat            5.1.3\n",
      "nest-asyncio        1.5.1\n",
      "nodeenv             1.7.0\n",
      "notebook            6.4.4\n",
      "numpy               1.21.2\n",
      "packaging           21.0\n",
      "pandas              1.3.3\n",
      "pandocfilters       1.5.0\n",
      "parso               0.8.2\n",
      "pexpect             4.8.0\n",
      "pickleshare         0.7.5\n",
      "Pillow              8.3.2\n",
      "pip                 22.3\n",
      "platformdirs        2.5.2\n",
      "pluggy              1.0.0\n",
      "pre-commit          2.19.0\n",
      "prometheus-client   0.11.0\n",
      "prompt-toolkit      3.0.20\n",
      "ptyprocess          0.7.0\n",
      "py                  1.10.0\n",
      "pycparser           2.20\n",
      "Pygments            2.10.0\n",
      "pyparsing           2.4.7\n",
      "pyrsistent          0.18.0\n",
      "pytest              6.2.5\n",
      "python-dateutil     2.8.2\n",
      "pytz                2021.3\n",
      "PyYAML              6.0\n",
      "pyzmq               22.3.0\n",
      "qrcode              7.3.1\n",
      "qtconsole           5.1.1\n",
      "QtPy                1.11.2\n",
      "requests            2.26.0\n",
      "requests-unixsocket 0.2.0\n",
      "scikit-learn        1.1.2\n",
      "scipy               1.9.0\n",
      "Send2Trash          1.8.0\n",
      "setuptools          57.4.0\n",
      "six                 1.16.0\n",
      "sniffio             1.2.0\n",
      "terminado           0.12.1\n",
      "testpath            0.5.0\n",
      "threadpoolctl       3.1.0\n",
      "toml                0.10.2\n",
      "tornado             6.1\n",
      "traitlets           5.1.0\n",
      "urllib3             1.26.7\n",
      "virtualenv          20.15.1\n",
      "wcwidth             0.2.5\n",
      "webencodings        0.5.1\n",
      "websocket-client    1.2.1\n",
      "widgetsnbextension  3.5.1\n"
     ]
    }
   ],
   "source": [
    "!pip list"
   ]
  },
  {
   "cell_type": "markdown",
   "metadata": {},
   "source": [
    "Each one of these packages is a suite of tools around a single theme, for example `cryptography` contains a collection of classes, functions and other objects related to cryptography.\n",
    "\n",
    "`pip` is very powerful - to check out all of it's features, we can use the `-h` flag:"
   ]
  },
  {
   "cell_type": "code",
   "execution_count": 4,
   "metadata": {},
   "outputs": [
    {
     "name": "stdout",
     "output_type": "stream",
     "text": [
      "\n",
      "Usage:   \n",
      "  pip <command> [options]\n",
      "\n",
      "Commands:\n",
      "  install                     Install packages.\n",
      "  download                    Download packages.\n",
      "  uninstall                   Uninstall packages.\n",
      "  freeze                      Output installed packages in requirements format.\n",
      "  inspect                     Inspect the python environment.\n",
      "  list                        List installed packages.\n",
      "  show                        Show information about installed packages.\n",
      "  check                       Verify installed packages have compatible dependencies.\n",
      "  config                      Manage local and global configuration.\n",
      "  search                      Search PyPI for packages.\n",
      "  cache                       Inspect and manage pip's wheel cache.\n",
      "  index                       Inspect information available from package indexes.\n",
      "  wheel                       Build wheels from your requirements.\n",
      "  hash                        Compute hashes of package archives.\n",
      "  completion                  A helper command used for command completion.\n",
      "  debug                       Show information useful for debugging.\n",
      "  help                        Show help for commands.\n",
      "\n",
      "General Options:\n",
      "  -h, --help                  Show help.\n",
      "  --debug                     Let unhandled exceptions propagate outside the\n",
      "                              main subroutine, instead of logging them to\n",
      "                              stderr.\n",
      "  --isolated                  Run pip in an isolated mode, ignoring\n",
      "                              environment variables and user configuration.\n",
      "  --require-virtualenv        Allow pip to only run in a virtual environment;\n",
      "                              exit with an error otherwise.\n",
      "  --python <python>           Run pip with the specified Python interpreter.\n",
      "  -v, --verbose               Give more output. Option is additive, and can be\n",
      "                              used up to 3 times.\n",
      "  -V, --version               Show version and exit.\n",
      "  -q, --quiet                 Give less output. Option is additive, and can be\n",
      "                              used up to 3 times (corresponding to WARNING,\n",
      "                              ERROR, and CRITICAL logging levels).\n",
      "  --log <path>                Path to a verbose appending log.\n",
      "  --no-input                  Disable prompting for input.\n",
      "  --proxy <proxy>             Specify a proxy in the form\n",
      "                              scheme://[user:passwd@]proxy.server:port.\n",
      "  --retries <retries>         Maximum number of retries each connection should\n",
      "                              attempt (default 5 times).\n",
      "  --timeout <sec>             Set the socket timeout (default 15 seconds).\n",
      "  --exists-action <action>    Default action when a path already exists:\n",
      "                              (s)witch, (i)gnore, (w)ipe, (b)ackup, (a)bort.\n",
      "  --trusted-host <hostname>   Mark this host or host:port pair as trusted,\n",
      "                              even though it does not have valid or any HTTPS.\n",
      "  --cert <path>               Path to PEM-encoded CA certificate bundle. If\n",
      "                              provided, overrides the default. See 'SSL\n",
      "                              Certificate Verification' in pip documentation\n",
      "                              for more information.\n",
      "  --client-cert <path>        Path to SSL client certificate, a single file\n",
      "                              containing the private key and the certificate\n",
      "                              in PEM format.\n",
      "  --cache-dir <dir>           Store the cache data in <dir>.\n",
      "  --no-cache-dir              Disable the cache.\n",
      "  --disable-pip-version-check\n",
      "                              Don't periodically check PyPI to determine\n",
      "                              whether a new version of pip is available for\n",
      "                              download. Implied with --no-index.\n",
      "  --no-color                  Suppress colored output.\n",
      "  --no-python-version-warning\n",
      "                              Silence deprecation warnings for upcoming\n",
      "                              unsupported Pythons.\n",
      "  --use-feature <feature>     Enable new functionality, that may be backward\n",
      "                              incompatible.\n",
      "  --use-deprecated <feature>  Enable deprecated functionality, that will be\n",
      "                              removed in the future.\n"
     ]
    }
   ],
   "source": [
    "!pip -h"
   ]
  },
  {
   "cell_type": "markdown",
   "metadata": {},
   "source": [
    "We shouldn't need to poke around too much with `pip` in this course as Colab has most of the libraries installed - however it's still essential to know how to install packages for when you work locally or on a server without Colab!\n",
    "\n",
    "Now we know what modules are and how to install them, let's look at some popular ones and some ways to use them.\n",
    "\n",
    "## Popular Libaries and How To Use Them\n",
    "\n",
    "A very popular problem in Python is managing dates and times in a clever way. We *could* store everything as a string or a dictionary of hours, minuites and seconds - but this is all a bit stilly. Python provides us with a `datetime` library to manage date and time instances and some helper functions to help out.\n",
    "\n",
    "To import `datetime` we have a few options:"
   ]
  },
  {
   "cell_type": "code",
   "execution_count": 5,
   "metadata": {},
   "outputs": [
    {
     "name": "stdout",
     "output_type": "stream",
     "text": [
      "2022-10-24 11:38:41.171356\n"
     ]
    }
   ],
   "source": [
    "import datetime\n",
    "\n",
    "print(datetime.datetime.now())"
   ]
  },
  {
   "cell_type": "markdown",
   "metadata": {},
   "source": [
    "This is the simplest way of importing a module - we import the root library and then call the sublibraries from it in the same way we would an attribute or method. Confusingly, `datetime` has a sublibrary with the same name - this is the DateTime object that stores date and time information together.\n",
    "\n",
    "This is a lot of code, and we might have a lot of calls to the `datetime` library, so we have a few options on how to clean this code up. We can import under an *alias* with the following syntax:"
   ]
  },
  {
   "cell_type": "code",
   "execution_count": 6,
   "metadata": {},
   "outputs": [
    {
     "name": "stdout",
     "output_type": "stream",
     "text": [
      "2022-10-24 11:42:22.388057\n"
     ]
    }
   ],
   "source": [
    "import datetime as dt\n",
    "\n",
    "print(dt.datetime.now())"
   ]
  },
  {
   "cell_type": "markdown",
   "metadata": {},
   "source": [
    "Most common libraries have an \"agreed upon\" shortening for importing under (`dt` for `datetime`, `it` for `itertools` etc) - so it's common to see these floating around. If we don't want to use any of the other sublibraries in `datetime` (i.e. we only want the base `datetime` object), we can use the following:"
   ]
  },
  {
   "cell_type": "code",
   "execution_count": 8,
   "metadata": {},
   "outputs": [
    {
     "name": "stdout",
     "output_type": "stream",
     "text": [
      "2022-10-24 11:44:21.376684\n"
     ]
    }
   ],
   "source": [
    "from datetime import datetime\n",
    "\n",
    "print(datetime.now())"
   ]
  },
  {
   "cell_type": "markdown",
   "metadata": {},
   "source": [
    "We can combine these two approaches (using a different sublibrary because why not!)"
   ]
  },
  {
   "cell_type": "code",
   "execution_count": 9,
   "metadata": {},
   "outputs": [
    {
     "name": "stdout",
     "output_type": "stream",
     "text": [
      "1 day, 0:00:00\n"
     ]
    }
   ],
   "source": [
    "from datetime import timedelta as td\n",
    "\n",
    "print(td(days=1))"
   ]
  },
  {
   "cell_type": "markdown",
   "metadata": {},
   "source": [
    "You may see the following sometimes:"
   ]
  },
  {
   "cell_type": "code",
   "execution_count": 10,
   "metadata": {},
   "outputs": [
    {
     "name": "stdout",
     "output_type": "stream",
     "text": [
      "2022-10-24 11:45:39.399689\n",
      "1 day, 0:00:00\n"
     ]
    }
   ],
   "source": [
    "from datetime import *\n",
    "\n",
    "print(datetime.now())\n",
    "print(timedelta(days=1))"
   ]
  },
  {
   "cell_type": "markdown",
   "metadata": {},
   "source": [
    "All this is doing is importing all the sublibraries of `datetime` under their own name - like we're writing `from datetime import datetime`, `from datetime import timedelta` etc. In general, **try and avoid this**, and **be fairly specific with imports** - if we import everything from a module under it's own name, we might run into naming conflicts (for example, what if two libraries have a `call()` function?).\n",
    "\n",
    "In general, only import modules you need!\n",
    "\n",
    "## Using `datetime` to solve some real problems\n",
    "\n",
    "If we have someone's date of birth, we can use the datetime library to parse it from a string and calculate their age:"
   ]
  },
  {
   "cell_type": "code",
   "execution_count": 21,
   "metadata": {},
   "outputs": [
    {
     "name": "stdout",
     "output_type": "stream",
     "text": [
      "User is: 26 years old.\n"
     ]
    }
   ],
   "source": [
    "from datetime import datetime as dt\n",
    "\n",
    "# We could get this string from anywhere - a user input on a form for example\n",
    "date_of_birth = \"04/03/1996\"\n",
    "\n",
    "# Overwrite the above with the parsed datetime object\n",
    "# Format is a code available in the docs\n",
    "date_of_birth = dt.strptime(date_of_birth, \"%d/%m/%Y\")\n",
    "\n",
    "# Get the time difference between now and when user was born\n",
    "age = dt.now() - date_of_birth\n",
    "\n",
    "# timedelta doesn't have years, only days - so we need to calculate this!\n",
    "print(\"User is:\", age.days // 365, \"years old.\")\n"
   ]
  },
  {
   "cell_type": "markdown",
   "metadata": {},
   "source": [
    "## `collections` for easy wins\n",
    "\n",
    "The `collections` libary offers a few new data structures that make our life way easier for solving common problems. Say we are building an ordering system for food service and recieve the orders in the following way:"
   ]
  },
  {
   "cell_type": "code",
   "execution_count": 23,
   "metadata": {},
   "outputs": [],
   "source": [
    "order_one = [\"burger\", \"wrap\", \"burger\", \"chips\"]\n",
    "order_two = [\"burger\", \"wrap\", \"wrap\", \"salad\"]"
   ]
  },
  {
   "cell_type": "markdown",
   "metadata": {},
   "source": [
    "If we want to count the total number of each item we need to prepare, we can do the following:"
   ]
  },
  {
   "cell_type": "code",
   "execution_count": 24,
   "metadata": {},
   "outputs": [
    {
     "name": "stdout",
     "output_type": "stream",
     "text": [
      "{'burger': 3, 'wrap': 3, 'chips': 1, 'salad': 1}\n"
     ]
    }
   ],
   "source": [
    "items = {}\n",
    "\n",
    "# For each order in the list of orders...\n",
    "for order in [order_one, order_two]:\n",
    "    # For each item in each order... \n",
    "    for item in order:\n",
    "        # If the item is being kept track of, add one to it\n",
    "        if item in items:\n",
    "            items[item] += 1\n",
    "        # Otherwise, set it to one\n",
    "        else:\n",
    "            items[item] = 1\n",
    "\n",
    "print(items)"
   ]
  },
  {
   "cell_type": "markdown",
   "metadata": {},
   "source": [
    "This is a really common problem in Python - just simply counting the number of items in a list - but the code is so involved and error prone (it's very tempting not to use the `if/else` here, but you get an error straight away as `\"burger\"` isn't in the dictionary!).\n",
    "\n",
    "This becomes so much easier by using the `Counter` object:"
   ]
  },
  {
   "cell_type": "code",
   "execution_count": 26,
   "metadata": {},
   "outputs": [
    {
     "name": "stdout",
     "output_type": "stream",
     "text": [
      "Counter({'burger': 3, 'wrap': 3, 'chips': 1, 'salad': 1})\n"
     ]
    }
   ],
   "source": [
    "from collections import Counter\n",
    "\n",
    "# Wow!!!!!!\n",
    "print(Counter(order_one) + Counter(order_two))"
   ]
  },
  {
   "cell_type": "markdown",
   "metadata": {},
   "source": [
    "## Randomisation with `random`\n",
    "\n",
    "Sometimes we just want to generate random data for some reason - either randomly selecting the names from a list for a competition or statistically modelling the outcomes of some random process. For this - the `random` library has all you need. It should be noted that although these numbers give a statstically random distribution, it is possible to theoretically predict their outcome as the process is *psuedo-random*.\n",
    "\n",
    "For example, let's make a few functions to test the distribution of dice rolls:"
   ]
  },
  {
   "cell_type": "code",
   "execution_count": 9,
   "metadata": {},
   "outputs": [
    {
     "name": "stdout",
     "output_type": "stream",
     "text": [
      "Counter({7: 16669, 6: 13960, 8: 13949, 5: 11252, 9: 11122, 4: 8384, 10: 8280, 3: 5450, 11: 5435, 12: 2771, 2: 2728})\n"
     ]
    }
   ],
   "source": [
    "import random\n",
    "from collections import Counter\n",
    "\n",
    "def roll(no_sides=6):\n",
    "    return random.randint(1, no_sides)\n",
    "\n",
    "def roll_n(number_of_dice, no_sides=6):\n",
    "    return sum([roll(no_sides) for _ in range(number_of_dice)])\n",
    "\n",
    "outcomes = [roll_n(2) for _ in range(100000)]\n",
    "\n",
    "print(Counter(outcomes))"
   ]
  },
  {
   "cell_type": "markdown",
   "metadata": {},
   "source": [
    "Using just a few lines of code we see that rolling two dice does not give equal chances for each sum to come up - in fact a 7 is around 6 times as likely as a 2!"
   ]
  },
  {
   "cell_type": "markdown",
   "metadata": {},
   "source": [
    "## Plotting data with `matplotlib`\n",
    "\n",
    "Hopefully it's clear how the collections and datetime libraries are working - they are providing custom wrappers around data with methods that can make our lives easier. It's not impossible that we could write these libraries ourselves - they aren't too large and we can make some guesses how they work under the hood.\n",
    "\n",
    "One library where this isn't the case is `matplotlib` - a fundamental library for plotting data that is a foundation for any data visualisation in Python. I won't go into too much detail with `matplotlib` as it's covered in detail in the data science course, but we can plot some data easily using the following function:"
   ]
  },
  {
   "cell_type": "code",
   "execution_count": 28,
   "metadata": {},
   "outputs": [
    {
     "data": {
      "image/png": "[encoded data removed]",
      "text/plain": [
       "<Figure size 432x288 with 1 Axes>"
      ]
     },
     "metadata": {
      "needs_background": "light"
     },
     "output_type": "display_data"
    }
   ],
   "source": [
    "import matplotlib.pyplot as plt\n",
    "\n",
    "plt.plot([1,2,3,4,5], [1,4,9,16,25])\n",
    "plt.show()"
   ]
  },
  {
   "cell_type": "markdown",
   "metadata": {},
   "source": [
    "## Using `flask` to build websites\n",
    "\n",
    "`flask` is a Python package that lets us build backend code for websites - this is the code that handles all the \"behind the scenes processing\" such as user management, interacting with a database, authentication and more. To get `flask` working in Colab we need to jump through some more hoops, but it is still more than doable.\n",
    "\n",
    "SAM NOTE: You may need to livecode this if it doesn't work in the session.\n",
    "SAM NOTE: Remember the auth token! Not putting it on github for obvious reasons."
   ]
  },
  {
   "cell_type": "code",
   "execution_count": 25,
   "metadata": {},
   "outputs": [
    {
     "name": "stdout",
     "output_type": "stream",
     "text": [
      "Requirement already satisfied: flask in /Users/stmball/.pyenv/versions/3.9.7/lib/python3.9/site-packages (2.2.2)\n",
      "Requirement already satisfied: flask-ngrok in /Users/stmball/.pyenv/versions/3.9.7/lib/python3.9/site-packages (0.0.25)\n",
      "Requirement already satisfied: pyngrok in /Users/stmball/.pyenv/versions/3.9.7/lib/python3.9/site-packages (5.1.0)\n",
      "Requirement already satisfied: importlib-metadata>=3.6.0 in /Users/stmball/.pyenv/versions/3.9.7/lib/python3.9/site-packages (from flask) (5.0.0)\n",
      "Requirement already satisfied: click>=8.0 in /Users/stmball/.pyenv/versions/3.9.7/lib/python3.9/site-packages (from flask) (8.1.3)\n",
      "Requirement already satisfied: Jinja2>=3.0 in /Users/stmball/.pyenv/versions/3.9.7/lib/python3.9/site-packages (from flask) (3.0.2)\n",
      "Requirement already satisfied: Werkzeug>=2.2.2 in /Users/stmball/.pyenv/versions/3.9.7/lib/python3.9/site-packages (from flask) (2.2.2)\n",
      "Requirement already satisfied: itsdangerous>=2.0 in /Users/stmball/.pyenv/versions/3.9.7/lib/python3.9/site-packages (from flask) (2.1.2)\n",
      "Requirement already satisfied: requests in /Users/stmball/.pyenv/versions/3.9.7/lib/python3.9/site-packages (from flask-ngrok) (2.26.0)\n",
      "Requirement already satisfied: PyYAML in /Users/stmball/.pyenv/versions/3.9.7/lib/python3.9/site-packages (from pyngrok) (6.0)\n",
      "Requirement already satisfied: zipp>=0.5 in /Users/stmball/.pyenv/versions/3.9.7/lib/python3.9/site-packages (from importlib-metadata>=3.6.0->flask) (3.10.0)\n",
      "Requirement already satisfied: MarkupSafe>=2.0 in /Users/stmball/.pyenv/versions/3.9.7/lib/python3.9/site-packages (from Jinja2>=3.0->flask) (2.1.1)\n",
      "Requirement already satisfied: urllib3<1.27,>=1.21.1 in /Users/stmball/.pyenv/versions/3.9.7/lib/python3.9/site-packages (from requests->flask-ngrok) (1.26.7)\n",
      "Requirement already satisfied: idna<4,>=2.5 in /Users/stmball/.pyenv/versions/3.9.7/lib/python3.9/site-packages (from requests->flask-ngrok) (3.2)\n",
      "Requirement already satisfied: certifi>=2017.4.17 in /Users/stmball/.pyenv/versions/3.9.7/lib/python3.9/site-packages (from requests->flask-ngrok) (2021.5.30)\n",
      "Requirement already satisfied: charset-normalizer~=2.0.0 in /Users/stmball/.pyenv/versions/3.9.7/lib/python3.9/site-packages (from requests->flask-ngrok) (2.0.6)\n",
      "zsh:1: parse error near `>'\n"
     ]
    }
   ],
   "source": [
    "!pip install flask flask-ngrok pyngrok\n",
    "!ngrok authtoken <auth_token>"
   ]
  },
  {
   "cell_type": "code",
   "execution_count": 27,
   "metadata": {},
   "outputs": [
    {
     "name": "stdout",
     "output_type": "stream",
     "text": [
      "\n"
     ]
    }
   ],
   "source": [
    "from flask import Flask\n",
    "from flask_ngrok import run_with_ngrok\n",
    "app = Flask(__name__)\n",
    "run_with_ngrok(app)   \n",
    "  \n",
    "@app.route(\"/\")\n",
    "def home():\n",
    "    return \"<h1>Hello world!</h1>\"\n",
    "    \n",
    "app.run()"
   ]
  },
  {
   "cell_type": "markdown",
   "metadata": {},
   "source": [
    "## Organising your own code using libraries\n",
    "\n",
    "There will come a point where you have a project so large that it becomes infeasible to hold it all in one file - very often libraries are split up into multiple files to denote sublibraries that are imported using the `parent_package.subpackage` syntax. We can import objects from other files by using the import syntax in a special way: "
   ]
  },
  {
   "cell_type": "code",
   "execution_count": 2,
   "metadata": {},
   "outputs": [
    {
     "name": "stdout",
     "output_type": "stream",
     "text": [
      "🎵 Hello from the other file!\n"
     ]
    }
   ],
   "source": [
    "from other_file import other_file_hello_world\n",
    "\n",
    "other_file_hello_world()"
   ]
  },
  {
   "cell_type": "markdown",
   "metadata": {},
   "source": [
    "It's worth saying that we've now seen a number of ways to organise our code - we have classes that contain methods, files, libraries and even their own subfolders. It can be hard to how to oragnise your projects, but this simply takes time and experience. Personally, I start with a library and write everything as classes, and as certain themes become more important they get their own file.\n",
    "\n",
    "Splitting your projecti nto multiple files is also a great way of preparing to publish your project to `pip`. This isn't really possible with Colab so we won't really cover it here - but it's a few config files and commands and then you're ready to go.\n",
    "\n",
    "SAM NOTE: For the sessions, use [this package template to explain.](https://github.com/stmball/stmball_python_package_template) \n",
    "\n",
    "## Exercises\n",
    "\n",
    "This week's exercises will require significantly more searching online for the correct function to use from the libraries documentation - this is intentional as you'll need to do this whenever using a new package! All the packages in these exercises have excellent documentation (some packages less so!), so this should be fine.\n",
    "\n",
    "### Working with Dates and Times\n",
    "\n",
    "Using the `datetime` libary, write a function to:\n",
    "\n",
    "* Calculate the number of days between two dates\n",
    "* Take in a user's input for their date of birth, and calculate how many seconds they've been alive\n",
    "* Output a human readable version of the current time in the form (for example): \"Today is Monday 28th October, 2022. The time is 6:30pm\".\n",
    "* Return the last friday of a given month.\n",
    "\n",
    "### Using Collections\n",
    "\n",
    "The `collections` library gives us some helpful datastructures out of the box that we can abuse to solve some very complex problems. Write a function to solve the following problems:\n",
    "\n",
    "* A few weeks ago we wrote some code to check if two words are anagrams of one another - using `Counters` you should be able to rewrite this into a lot simpler code\n",
    "* Another actual job interview question: write a function that takes in a list of strings, and outputs the number of unique anagram groups from that list. For example `[\"dog\", \"god\", \"apple\"]` would return 2, since `dog` and `god` form one anagram group, and `apple` the second.\n",
    "*  The `Counter` object is actually a specific case of the `defaultdict` object. This object allows for creations of dictionaries with a default initial parameter for when we try and index a value that doesn't exist. We are in charge of a HR department for a small startup that has the following departments: Data, Security, Finance, HR, Management and Development. We are asked to build a program that given a list of employees and departments, outputs a dictionary that contains each department as a key and their relevant employees. However - if a department has no employees, when indexed it should just give an empty list.\n",
    "\n",
    "## Testing Randomness\n",
    "\n",
    "The `random` library has a few applications and quirks.\n",
    "\n",
    "* Build a Python program for Bingo - this program should randomly sample numbers from 1 to 99 *without replacement*, and print out the calls one by one (you can even check out `time.sleep` to automate this!)\n",
    "* With the above code, also create a function for bingo cards - containing 25 numbers randomly chosen from 1 to 99. \n",
    "* Finally, write a program that starts a bingo game with `n` people, generates a bingo card for each one, and starts the bingo game. When all the numbers on one person's card are checked off, that person should be declared a winner and the game stopped.\n"
   ]
  },
  {
   "cell_type": "markdown",
   "metadata": {},
   "source": []
  }
 ],
 "metadata": {
  "kernelspec": {
   "display_name": "Python 3.9.7 64-bit ('3.9.7')",
   "language": "python",
   "name": "python3"
  },
  "language_info": {
   "codemirror_mode": {
    "name": "ipython",
    "version": 3
   },
   "file_extension": ".py",
   "mimetype": "text/x-python",
   "name": "python",
   "nbconvert_exporter": "python",
   "pygments_lexer": "ipython3",
   "version": "3.9.7"
  },
  "orig_nbformat": 4,
  "vscode": {
   "interpreter": {
    "hash": "133c484c66788d87bb60c372620677a8c2a59f534de2a53b3b518fc6db564f03"
   }
  }
 },
 "nbformat": 4,
 "nbformat_minor": 2
}
