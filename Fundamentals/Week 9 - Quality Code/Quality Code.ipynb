{
 "cells": [
  {
   "cell_type": "markdown",
   "metadata": {},
   "source": [
    "# Week 9 - Quality Code\n",
    "\n",
    "This week we are not really going to be looking at any new functionality of Python, but rather a number of ways to improve our code quality and make it more maintainable for the future. We have already talked about mental models for thinking about large systems (such as OOP and classes, organising files into libraries etc), but there are some good practices to pick up that make our code more sustainable.\n",
    "\n",
    "## Style Guides, Formatters, Linting, Type Hints, and Documentation\n",
    "\n",
    "Over the years there's been great conversation about how to write Python that is readable by others - a lot of this boils down to very vague advice like \"your functions should only do one thing\" and \"functions should have as few arguments as possible\". For cases where a definitive choice can be made as to what to do (for example, whether the code `2+2` or `2 + 2` is more readable), the [PEP 8 style guide](https://peps.python.org/pep-0008/). There's all sorts of guidance in here - from the maximum line length you should use to the ordering of your imports. **Your code will still work even if you don't stick to these guides**, and some companies/groups will slightly adjust these style guides based on their opinion.\n",
    "\n",
    "Luckily, for `.py` files, there are plenty of tools to automatically format your code for you - the big players here are `autopep8`, `black`, `prettier`, and `yapf` - all use slightly different versions of PEP8 and allow you to tweak them for your needs. Tools like `black` work on `.ipynb` files as well - but with Colab we need to do a bit more work to make it happen, so I'll show you on my local machine!\n",
    "\n",
    "Sticking to the topic of external Python tools that can help code quality - *linters* are tools that can spot errors before they come up when you run the code by continuously examining your syntax. Some can also tell you about general code quality advice such as unused imports, code that should be refactored etc. The main player here by a mile is `pylint`, although some use `flake8` or `pyflakes`. You have likely seen linting in action already when using Colab - if you have a red line under your code that's the linting in action. You can also use it as a command line tool as we did with our formatters to give a more detailed breakdown of your code.\n",
    "\n",
    "Returning to Python's built in code quality efforts, there's been a big push recently in taking dynamically typed languages (like Python and Javascript) and adding the functionality to annotate types for varibles (as with Python), or statically enforce typing (with TypeScript for Javascript). While type hints in Python won't cause an error if the wrong type is given to a variable, other tools like linters will pick them up; this is *excellent* for seeing errors before they happen. If a function either returns a `str` or `None`, and the function that result is passed to can only handle `str`s, we have a problem and instantly know we need to handle 2 cases - otherwise we might have a difficult obtuse bug to fix!\n",
    "\n",
    "Type hinting takes multiple forms, so let's look at a big block of code with type hints included:"
   ]
  },
  {
   "cell_type": "code",
   "execution_count": 3,
   "metadata": {},
   "outputs": [],
   "source": [
    "# Typing library comes with additional good stuff\n",
    "import typing as tp\n",
    "\n",
    "# Annotate a variable with it's type (implying it shouldn't change)\n",
    "my_num: int = 15\n",
    "\n",
    "# Annotate a list with what variable types it can have in\n",
    "my_list: tp.List[tp.Union[str, bool]] = [\"hello\", 1, 2, 3]\n",
    "\n",
    "# Annotate a fuction with typed arguments, return\n",
    "def my_function(number: int) -> bool:\n",
    "    print(\"The number is:\", number)\n",
    "    return True"
   ]
  },
  {
   "cell_type": "markdown",
   "metadata": {},
   "source": [
    "It's always a good idea to put these type hints in - at worst they are a bit annoying but at best they can spot errors before they happen. Static analysis tools like `mypy` can analyse your code and make sure all the typing makes sense - this can be particularly annoying but it keeps your code safer and more predictable!\n",
    "\n",
    "Finally on code quality, perhaps the most contentious area of coding is documenting your code so it's more interpretable by others. Python notebooks lend themselves to this really easily - in notes like these I type paragraphs of text explaining what the code is doing at each step. However you might not want to format your code in this way, and in the case of normal `.py` files you might not be able to; so it's standard to document what your code does in the code itself\n",
    "\n",
    "Documentation standards and expectations are extremely variable - some programmers will insist that good code should speak for itself and documentation is only needed in cases where bad code is present. Others will insist that there is no such thing as overdocumenting your code. I would push that every function, class and file should have a docstring (as below) after the definition explaining the purpose of the function/class/file - often this exercise alone can make you think about *why* you are making something a function and if it needs to be broken up. I'd also add spot comment (with `#`s) on particularly obtuse lines of code where a clearer way is not possible:"
   ]
  },
  {
   "cell_type": "code",
   "execution_count": null,
   "metadata": {},
   "outputs": [],
   "source": [
    "\"\"\"\n",
    "    This is a multiline docstring - I'd put one of these at the top of each file if using a .py filetype.\n",
    "\"\"\"\n",
    "\n",
    "def my_cool_new_add_function(a: int, b: int) -> int:\n",
    "    \"\"\"Adds two integers together.\n",
    "\n",
    "    Arguments:\n",
    "\n",
    "        a (int): First integer to be added\n",
    "\n",
    "        b (int): Second integer to be added\n",
    "\n",
    "    Returns:\n",
    "\n",
    "        int: The sum of a and b\n",
    "\n",
    "    \"\"\"\n",
    "    return a + b"
   ]
  },
  {
   "cell_type": "markdown",
   "metadata": {},
   "source": [
    "Obviously the above is a silly example, but in cases where you are working with complex function and data, it can be helpful to give more complex to what you are working with beyond a function name!\n",
    "\n",
    "There are tools for enforcing documentation in your code - to keep you or your collegues honest. `pydocstyle` is the top one for this, allowing you to use some popular documentation styles and removing some rules if you feel they are not neccesary."
   ]
  },
  {
   "cell_type": "markdown",
   "metadata": {},
   "source": [
    "## Errors and Warnings\n",
    "\n",
    "Still on the subject of helping yourself out - but more to do with actual code we can right; the idea of writing your own errors.\n",
    "\n",
    "Sometimes it's painfully obvious that something shouldn't or can't be done - for example, let's go back to our favorite example of a fruit basket program:"
   ]
  },
  {
   "cell_type": "code",
   "execution_count": null,
   "metadata": {},
   "outputs": [],
   "source": [
    "from collections import Counter\n",
    "\n",
    "class FruitBasket:\n",
    "\n",
    "    def __init__(self, contents: Counter = Counter([])) -> None:\n",
    "        if contents and contents.most_common()[-1][1] < 0:\n",
    "            print(\"Cannot have negative fruits in basket\")\n",
    "\n",
    "        self.contents = contents\n",
    "    \n",
    "    def add_to_basket(self, fruit: str, quantity: int) -> bool:\n",
    "        \n",
    "        if quantity < 0:\n",
    "            print(\"Can't add a negative number of fruit to a basket!\")\n",
    "        else:\n",
    "            self.contents[fruit] += quantity\n",
    "        return True\n",
    "    \n",
    "    def remove_from_basket(self, fruit: str, quantity: int) -> bool:\n",
    "\n",
    "        if self.contents[fruit] < quantity:\n",
    "            print(\"You do not have enough fruit to remove that amount\")\n",
    "        else:\n",
    "            self.contents[fruit] -= quantity\n",
    "        return True\n"
   ]
  },
  {
   "cell_type": "markdown",
   "metadata": {},
   "source": [
    "There is one major problem with this code that we see 3 times. Whenever we try and do something we shouldn't be able to do, although we get a warning - we are still allowed to do it! Ideally if someone uses this code and tries to perform an illegal operation, the program should stop and an error should be raised.\n",
    "\n",
    "We can do this in the following way, by changing the `print` to `raise` with an appropriate error:"
   ]
  },
  {
   "cell_type": "code",
   "execution_count": null,
   "metadata": {},
   "outputs": [],
   "source": [
    "from collections import Counter\n",
    "\n",
    "class FruitBasket:\n",
    "\n",
    "    def __init__(self, contents: Counter = Counter([])) -> None:\n",
    "        if contents and contents.most_common()[-1][1] < 0:\n",
    "            raise ValueError(\"Cannot have negative fruits in basket\")\n",
    "\n",
    "        self.contents = contents\n",
    "    \n",
    "    def add_to_basket(self, fruit: str, quantity: int) -> bool:\n",
    "        \n",
    "        if quantity < 0:\n",
    "            raise ValueError(\"Can't add a negative number of fruit to a basket!\")\n",
    "        else:\n",
    "            self.contents[fruit] += quantity\n",
    "        return True\n",
    "    \n",
    "    def remove_from_basket(self, fruit: str, quantity: int) -> bool:\n",
    "\n",
    "        if self.contents[fruit] < quantity:\n",
    "            raise ValueError(\"You do not have enough fruit to remove that amount\")\n",
    "        else:\n",
    "            self.contents[fruit] -= quantity\n",
    "        return True"
   ]
  },
  {
   "cell_type": "markdown",
   "metadata": {},
   "source": [
    "This code is much better, but we can make it awesome by coding a custom error class to let people know to better categorise the problem they have:"
   ]
  },
  {
   "cell_type": "code",
   "execution_count": 6,
   "metadata": {},
   "outputs": [],
   "source": [
    "from collections import Counter\n",
    "\n",
    "class NegativeFruitError(BaseException):\n",
    "    pass\n",
    "\n",
    "class FruitBasket:\n",
    "\n",
    "    def __init__(self, contents: Counter = Counter([])) -> None:\n",
    "        if contents and contents.most_common()[-1][1] < 0:\n",
    "            raise NegativeFruitError(\"Cannot have negative fruits in basket\")\n",
    "\n",
    "        self.contents = contents\n",
    "    \n",
    "    def add_to_basket(self, fruit: str, quantity: int) -> bool:\n",
    "        \n",
    "        if quantity < 0:\n",
    "            raise NegativeFruitError(\"Can't add a negative number of fruit to a basket!\")\n",
    "        else:\n",
    "            self.contents[fruit] += quantity\n",
    "        return True\n",
    "    \n",
    "    def remove_from_basket(self, fruit: str, quantity: int) -> bool:\n",
    "\n",
    "        if self.contents[fruit] < quantity:\n",
    "            raise NegativeFruitError(\"You do not have enough fruit to remove that amount\")\n",
    "        else:\n",
    "            self.contents[fruit] -= quantity\n",
    "        return True"
   ]
  },
  {
   "cell_type": "markdown",
   "metadata": {},
   "source": [
    "Fantastic!\n",
    "\n",
    "We now have ways to stop the program running if something goes wrong - but what happens if we want to manage the situation where there is an error and do something appropriate if an error is raised? For this, we use the pattern `try, except, finally`.\n",
    "\n",
    "This pattern has 3 parts (`finally` is optional); first, we run some code we want to run under the `try` block - if this code runs sucessfully, we move straight onto `finally` or continue with the rest of the code if it's not there. If an error is bought up, we instantly switch to the `except` clause with the relevant `Error` object. After this, we go to `finally`.\n",
    "\n",
    "In this example, we are using the `FruitBasket` to manage inventory in a shop. If a customer puts an order in for a number of fruit that we can't fufill, we order some more, print the customer a message and move on. Finally, whatever happens, we give a nice goodbye message to the customer:"
   ]
  },
  {
   "cell_type": "code",
   "execution_count": null,
   "metadata": {},
   "outputs": [],
   "source": [
    "from collections import Counter\n",
    "\n",
    "class NegativeFruitError(BaseException):\n",
    "    pass\n",
    "\n",
    "class FruitBasket:\n",
    "\n",
    "    def __init__(self, contents: Counter = Counter([])) -> None:\n",
    "        if contents and contents.most_common()[-1][1] < 0:\n",
    "            raise NegativeFruitError(\"Cannot have negative fruits in basket\")\n",
    "\n",
    "        self.contents = contents\n",
    "    \n",
    "    def add_to_basket(self, fruit: str, quantity: int) -> bool:\n",
    "        \n",
    "        if quantity < 0:\n",
    "            raise NegativeFruitError(\"Can't add a negative number of fruit to a basket!\")\n",
    "        else:\n",
    "            self.contents[fruit] += quantity\n",
    "        return True\n",
    "    \n",
    "    def remove_from_basket(self, fruit: str, quantity: int) -> bool:\n",
    "\n",
    "        if self.contents[fruit] < quantity:\n",
    "            raise NegativeFruitError(\"You do not have enough fruit to remove that amount\")\n",
    "        else:\n",
    "            self.contents[fruit] -= quantity\n",
    "        return True\n",
    "\n",
    "    def take_order(self, fruit: str, quantity: int) -> bool:\n",
    "\n",
    "        try:\n",
    "            self.remove_from_basket(fruit, quantity)\n",
    "        except NegativeFruitError:\n",
    "            print(\"Sorry, but we are out of stock for that fruit - ordering more now\")\n",
    "            # self.order_more_fruit(fruit)\n",
    "        finally:\n",
    "            print(\"Thank you for shopping with us\")\n",
    "        \n",
    "        return True"
   ]
  },
  {
   "cell_type": "markdown",
   "metadata": {},
   "source": [
    "Note that the order code is seperate from the stock management - if we wanted to remove something from our inventory we might not want to put it through the ordering process to avoid unneccessary prints.\n",
    "\n",
    "Finally, `printing` still isn't a fantastic way of letting a user know something has gone wrong, but not urgently. For this, the `warnings` library can give users and us better control of what warnings we see, and better management of it. From a more technical perspective, these messages come out through a different output stream (stderr) meaning that they are not saved to a log file if we run `python3 myfile.py > logs.txt`, or pipe them using the UNIX `|` operator.\n",
    "\n",
    "Using warnings are simple:"
   ]
  },
  {
   "cell_type": "code",
   "execution_count": 16,
   "metadata": {},
   "outputs": [],
   "source": [
    "from collections import Counter\n",
    "import warnings\n",
    "\n",
    "class NegativeFruitError(BaseException):\n",
    "    pass\n",
    "\n",
    "class FruitBasket:\n",
    "\n",
    "    def __init__(self, contents: Counter = Counter([])) -> None:\n",
    "        if contents and contents.most_common()[-1][1] < 0:\n",
    "            raise NegativeFruitError(\"Cannot have negative fruits in basket\")\n",
    "\n",
    "        self.contents = contents\n",
    "    \n",
    "    def add_to_basket(self, fruit: str, quantity: int) -> bool:\n",
    "        \n",
    "        if quantity < 0:\n",
    "            raise NegativeFruitError(\"Can't add a negative number of fruit to a basket!\")\n",
    "        else:\n",
    "            self.contents[fruit] += quantity\n",
    "        return True\n",
    "    \n",
    "    def remove_from_basket(self, fruit: str, quantity: int) -> bool:\n",
    "\n",
    "        if self.contents[fruit] < quantity:\n",
    "            raise NegativeFruitError(\"You do not have enough fruit to remove that amount\")\n",
    "        else:\n",
    "            self.contents[fruit] -= quantity\n",
    "        return True\n",
    "\n",
    "    def take_order(self, fruit: str, quantity: int) -> bool:\n",
    "\n",
    "        try:\n",
    "            self.remove_from_basket(fruit, quantity)\n",
    "        except NegativeFruitError:\n",
    "            warnings.warn(\"Sorry, but we are out of stock for that fruit - ordering more now\")\n",
    "            # self.order_more_fruit(fruit)\n",
    "        finally:\n",
    "            print(\"Thank you for shopping with us\")\n",
    "        \n",
    "        return True"
   ]
  },
  {
   "cell_type": "markdown",
   "metadata": {},
   "source": [
    "In summary - this is a much better way of processing edge cases with Python - we pass errors around and can process them using `try except`.\n",
    "\n",
    "## Testing\n",
    "\n",
    "When writing our code, sometimes it's difficult to know where to start. Part of this is the design process, but very often we make a mental list of features a program needs to have (for example, a fruit basket having a way of adding to the basket and removing from the basket) that we then implement one by one.\n",
    "\n",
    "At the same time, as we write our code, very often we write little snippets to check that the output of what we've just written is what we expect - we might check difficult known edge cases and invalid entries to check that the errors we get out are what we think they are.\n",
    "\n",
    "The problem with the above method is that there's a good chance that the code we write in one area of our program impacts the functionality of another. We want to be able to check for knock-on effects of our code on other areas of the program. We *could* have a seperate file that runs through a \"typical usage\" of our program, but we really want to test every facet of our codebase. This is not easy, and therefore it's good to formally think about tests and maybe using a testing framework to give some structure to our code. \n",
    "\n",
    "We can use these tests to drive the development of our code by first writing the tests for a feature, and then implementing it. This is called *test driven development* or TDD. TDD is a great way to approach coding as you write code to satisfy specific conditions rather than an arbitary \"idea\".\n",
    "\n",
    "I suggest the use of `pytest` alongside `ipytest` for running these tests within a notebook environment, with all the tests in a seperate cell at the bottom of your notebook. In a developement environment we would have the tests in a seperate folder and would run them through the command line.\n",
    "\n",
    "Testing code could really be it's own topic - there are many different types of tests you might use to test a product, but I would say the three most common are:\n",
    "\n",
    "* *Unit testing*: Unit testing is the lowest level form of testing and directly tests the induvidual components of your program. If we've been good and split our program up into multiple functions, we should be able to easily test most (if not all) of the functionality of our code base by simply comparing expected outputs to what comes out. These are particularly helpful for TDD as we can write loads of unit tests and run them quickly without impacting any other services.\n",
    "\n",
    "* *Integration testing* tests how your program interacts with other programs - say making an API call to a server or requesting data from a database. These are usually a bit more time consuming to run as you need to make sure both your program and the service you're testing the integration for are running at all times.\n",
    "\n",
    "* *End to End testing* tests the whole system as a client would interact with it. For example, on a website, different brower emulators might be used to test if all the elements of a website load and behave correctly. This is by far the hardest testing to perform, and is often the most expensive as it requires the entire application to be up and running on a full user's system.\n",
    "\n",
    "We'll only be looking at *unit testing* here, as we're not really building any additional services that interact with one another.\n",
    "\n",
    "With that said, let's write some tests:\n"
   ]
  },
  {
   "cell_type": "code",
   "execution_count": 1,
   "metadata": {},
   "outputs": [
    {
     "name": "stdout",
     "output_type": "stream",
     "text": [
      "Collecting ipytest\n",
      "  Downloading ipytest-0.12.0-py3-none-any.whl (15 kB)\n",
      "Requirement already satisfied: ipython in /Users/stmball/.pyenv/versions/3.9.7/lib/python3.9/site-packages (from ipytest) (7.28.0)\n",
      "Requirement already satisfied: packaging in /Users/stmball/.pyenv/versions/3.9.7/lib/python3.9/site-packages (from ipytest) (21.0)\n",
      "Requirement already satisfied: pytest>=5.4 in /Users/stmball/.pyenv/versions/3.9.7/lib/python3.9/site-packages (from ipytest) (6.2.5)\n",
      "Requirement already satisfied: py>=1.8.2 in /Users/stmball/.pyenv/versions/3.9.7/lib/python3.9/site-packages (from pytest>=5.4->ipytest) (1.10.0)\n",
      "Requirement already satisfied: attrs>=19.2.0 in /Users/stmball/.pyenv/versions/3.9.7/lib/python3.9/site-packages (from pytest>=5.4->ipytest) (21.2.0)\n",
      "Requirement already satisfied: toml in /Users/stmball/.pyenv/versions/3.9.7/lib/python3.9/site-packages (from pytest>=5.4->ipytest) (0.10.2)\n",
      "Requirement already satisfied: iniconfig in /Users/stmball/.pyenv/versions/3.9.7/lib/python3.9/site-packages (from pytest>=5.4->ipytest) (1.1.1)\n",
      "Requirement already satisfied: pluggy<2.0,>=0.12 in /Users/stmball/.pyenv/versions/3.9.7/lib/python3.9/site-packages (from pytest>=5.4->ipytest) (1.0.0)\n",
      "Requirement already satisfied: pickleshare in /Users/stmball/.pyenv/versions/3.9.7/lib/python3.9/site-packages (from ipython->ipytest) (0.7.5)\n",
      "Requirement already satisfied: matplotlib-inline in /Users/stmball/.pyenv/versions/3.9.7/lib/python3.9/site-packages (from ipython->ipytest) (0.1.3)\n",
      "Requirement already satisfied: pygments in /Users/stmball/.pyenv/versions/3.9.7/lib/python3.9/site-packages (from ipython->ipytest) (2.10.0)\n",
      "Requirement already satisfied: decorator in /Users/stmball/.pyenv/versions/3.9.7/lib/python3.9/site-packages (from ipython->ipytest) (5.1.0)\n",
      "Requirement already satisfied: traitlets>=4.2 in /Users/stmball/.pyenv/versions/3.9.7/lib/python3.9/site-packages (from ipython->ipytest) (5.1.0)\n",
      "Requirement already satisfied: setuptools>=18.5 in /Users/stmball/.pyenv/versions/3.9.7/lib/python3.9/site-packages (from ipython->ipytest) (57.4.0)\n",
      "Requirement already satisfied: pexpect>4.3 in /Users/stmball/.pyenv/versions/3.9.7/lib/python3.9/site-packages (from ipython->ipytest) (4.8.0)\n",
      "Requirement already satisfied: appnope in /Users/stmball/.pyenv/versions/3.9.7/lib/python3.9/site-packages (from ipython->ipytest) (0.1.2)\n",
      "Requirement already satisfied: jedi>=0.16 in /Users/stmball/.pyenv/versions/3.9.7/lib/python3.9/site-packages (from ipython->ipytest) (0.18.0)\n",
      "Requirement already satisfied: prompt-toolkit!=3.0.0,!=3.0.1,<3.1.0,>=2.0.0 in /Users/stmball/.pyenv/versions/3.9.7/lib/python3.9/site-packages (from ipython->ipytest) (3.0.20)\n",
      "Requirement already satisfied: backcall in /Users/stmball/.pyenv/versions/3.9.7/lib/python3.9/site-packages (from ipython->ipytest) (0.2.0)\n",
      "Requirement already satisfied: pyparsing>=2.0.2 in /Users/stmball/.pyenv/versions/3.9.7/lib/python3.9/site-packages (from packaging->ipytest) (2.4.7)\n",
      "Requirement already satisfied: parso<0.9.0,>=0.8.0 in /Users/stmball/.pyenv/versions/3.9.7/lib/python3.9/site-packages (from jedi>=0.16->ipython->ipytest) (0.8.2)\n",
      "Requirement already satisfied: ptyprocess>=0.5 in /Users/stmball/.pyenv/versions/3.9.7/lib/python3.9/site-packages (from pexpect>4.3->ipython->ipytest) (0.7.0)\n",
      "Requirement already satisfied: wcwidth in /Users/stmball/.pyenv/versions/3.9.7/lib/python3.9/site-packages (from prompt-toolkit!=3.0.0,!=3.0.1,<3.1.0,>=2.0.0->ipython->ipytest) (0.2.5)\n",
      "Installing collected packages: ipytest\n",
      "Successfully installed ipytest-0.12.0\n"
     ]
    }
   ],
   "source": [
    "!pip install ipytest"
   ]
  },
  {
   "cell_type": "code",
   "execution_count": 13,
   "metadata": {},
   "outputs": [
    {
     "name": "stdout",
     "output_type": "stream",
     "text": [
      "\u001b[32m.\u001b[0m\u001b[32m                                                                                            [100%]\u001b[0m\n"
     ]
    },
    {
     "data": {
      "text/plain": [
       "<ExitCode.OK: 0>"
      ]
     },
     "execution_count": 13,
     "metadata": {},
     "output_type": "execute_result"
    }
   ],
   "source": [
    "import pytest\n",
    "import ipytest\n",
    "\n",
    "ipytest.autoconfig()\n",
    "ipytest.clean_tests()\n",
    "\n",
    "\n",
    "def test_example():\n",
    "    assert [1, 2, 3] == [1, 2, 3]\n",
    "\n",
    "ipytest.run('-qq')"
   ]
  },
  {
   "cell_type": "markdown",
   "metadata": {},
   "source": [
    "Here this basic test runs fine - but what if it fails? Instead of just giving us an error, `pytest` gives us a detailed breakdown of what went wrong:"
   ]
  },
  {
   "cell_type": "code",
   "execution_count": 14,
   "metadata": {},
   "outputs": [
    {
     "name": "stdout",
     "output_type": "stream",
     "text": [
      "\u001b[31mF\u001b[0m\u001b[31m                                                                                            [100%]\u001b[0m\n",
      "============================================= FAILURES =============================================\n",
      "\u001b[31m\u001b[1m___________________________________________ test_example ___________________________________________\u001b[0m\n",
      "\n",
      "    \u001b[94mdef\u001b[39;49;00m \u001b[92mtest_example\u001b[39;49;00m():\n",
      ">       \u001b[94massert\u001b[39;49;00m [\u001b[94m1\u001b[39;49;00m, \u001b[94m2\u001b[39;49;00m, \u001b[94m3\u001b[39;49;00m] == \u001b[33m\"\u001b[39;49;00m\u001b[33mhello\u001b[39;49;00m\u001b[33m\"\u001b[39;49;00m\n",
      "\u001b[1m\u001b[31mE       AssertionError: assert [1, 2, 3] == 'hello'\u001b[0m\n",
      "\n",
      "\u001b[1m\u001b[31m/var/folders/kp/9glw0dvs0rl2j7dfkdmhd2fr0000gn/T/ipykernel_1555/386584637.py\u001b[0m:9: AssertionError\n",
      "===================================== short test summary info ======================================\n",
      "FAILED tmpb8k5q163.py::test_example - AssertionError: assert [1, 2, 3] == 'hello'\n"
     ]
    },
    {
     "data": {
      "text/plain": [
       "<ExitCode.TESTS_FAILED: 1>"
      ]
     },
     "execution_count": 14,
     "metadata": {},
     "output_type": "execute_result"
    }
   ],
   "source": [
    "import pytest\n",
    "import ipytest\n",
    "\n",
    "ipytest.autoconfig()\n",
    "ipytest.clean_tests()\n",
    "\n",
    "\n",
    "def test_example():\n",
    "    assert [1, 2, 3] == \"hello\"\n",
    "\n",
    "ipytest.run('-qq')"
   ]
  },
  {
   "cell_type": "markdown",
   "metadata": {},
   "source": [
    "Let's write some tests for our `FruitBasket` code:"
   ]
  },
  {
   "cell_type": "code",
   "execution_count": 22,
   "metadata": {},
   "outputs": [
    {
     "name": "stdout",
     "output_type": "stream",
     "text": [
      "\u001b[32m.\u001b[0m\u001b[32m.\u001b[0m\u001b[32m.\u001b[0m\u001b[32m                                                                                          [100%]\u001b[0m\n"
     ]
    },
    {
     "data": {
      "text/plain": [
       "<ExitCode.OK: 0>"
      ]
     },
     "execution_count": 22,
     "metadata": {},
     "output_type": "execute_result"
    }
   ],
   "source": [
    "import pytest\n",
    "import ipytest\n",
    "\n",
    "ipytest.autoconfig()\n",
    "ipytest.clean_tests()\n",
    "\n",
    "\n",
    "def test_fruit_basket_inits():\n",
    "    fb = FruitBasket()\n",
    "    assert fb.contents == Counter([])\n",
    "\n",
    "def test_fruit_basket_default_override():\n",
    "    fb = FruitBasket(Counter([\"apple\", \"apple\", \"orange\"]))\n",
    "    assert fb.contents == Counter({\"apple\": 2, \"orange\": 1})\n",
    "\n",
    "def test_negative_fruit_init_error():\n",
    "    with pytest.raises(NegativeFruitError) as exc:\n",
    "        fb = FruitBasket(Counter({\"apple\": -1}))\n",
    "    assert str(exc.value) == \"Cannot have negative fruits in basket\"\n",
    "\n",
    "# More tests for add, remove, order go here!\n",
    "\n",
    "ipytest.run('-qq')"
   ]
  },
  {
   "cell_type": "markdown",
   "metadata": {},
   "source": [
    "Sometimes when testing, we want to save some safe, dummy data available we know is sound for testing other parts of the functionality. For example, in the above code, we might end up writing out the same valid initial fruit basket counter over and over again. For this code, it's not so bad, but you may have an large json file you want to put into the tests. You could define a variable at the top of the tests, but since the funcionality of the code you havem might mutate the values of that variable throughout testing, this might not be the best idea. We want a way to reset the value of the variable before each test - luckily `pytest` lets us do this using *fixtures*:"
   ]
  },
  {
   "cell_type": "code",
   "execution_count": 24,
   "metadata": {},
   "outputs": [
    {
     "name": "stdout",
     "output_type": "stream",
     "text": [
      "\u001b[32m.\u001b[0m\u001b[32m.\u001b[0m\u001b[32m.\u001b[0m\u001b[32m                                                                                          [100%]\u001b[0m\n"
     ]
    },
    {
     "data": {
      "text/plain": [
       "<ExitCode.OK: 0>"
      ]
     },
     "execution_count": 24,
     "metadata": {},
     "output_type": "execute_result"
    }
   ],
   "source": [
    "import pytest\n",
    "import ipytest\n",
    "\n",
    "ipytest.autoconfig()\n",
    "ipytest.clean_tests()\n",
    "\n",
    "@pytest.fixture\n",
    "def normal_fruit_basket():\n",
    "    return Counter([\"apple\", \"apple\", \"orange\"])\n",
    "\n",
    "def test_fruit_basket_inits():\n",
    "    fb = FruitBasket()\n",
    "    assert fb.contents == Counter([])\n",
    "\n",
    "def test_fruit_basket_default_override(normal_fruit_basket):\n",
    "    fb = FruitBasket(Counter(normal_fruit_basket))\n",
    "    assert fb.contents == Counter({\"apple\": 2, \"orange\": 1})\n",
    "\n",
    "def test_negative_fruit_init_error():\n",
    "    with pytest.raises(NegativeFruitError) as exc:\n",
    "        fb = FruitBasket(Counter({\"apple\": -1}))\n",
    "    assert str(exc.value) == \"Cannot have negative fruits in basket\"\n",
    "\n",
    "# More tests for add, remove, order go here!\n",
    "\n",
    "ipytest.run('-qq')"
   ]
  },
  {
   "cell_type": "markdown",
   "metadata": {},
   "source": [
    "## `git` and `pre-commit` \n",
    "\n",
    "When managing a large project, you want a good version managment system that allows you to revert changes you make to previous versions. A classic way of doing this would be to save multiple versions of a file (`v1`, `v2` etc) - but this can obviously get a bit unwieldy.\n",
    "\n",
    "Another thing we would like is for multiple people to work on a project at the same time, allowing for all new features to the project to be added asynchronously without disrupting the rest of the code. This is simply not possible with the `v1` `v2` system before.\n",
    "\n",
    "`git` is a very old system that tracks the changes we make to files, and stores them in a system that allows us to apply or revert these changes as needed. We can apply these changes in multiple steps, and \"branch off\" a copy of the codebase to work on ourselves, make changes and test that our code works, then reintergrate it with the new functionality into the main codebase *without disrupting any changes made in the meantime*.\n",
    "\n",
    "This collaborative nature of `git` makes it invaluable for working in teams, so it's good for you to start using it to manage your projects as soon as possible. You don't have to know all the facets of how `git` works (it can get quite complicated!), but the general feel of what it is doing will work just fine. In general, if we are working on a new feature, we should take the following steps:\n",
    "\n",
    "* Create a new \"branch\" for the feature with an appropriate name (`git branch my_branch`) and switch to it (`git checkout my_branch`).\n",
    "* Make your changes to the code files\n",
    "* Add your changes ready to be saved to the `git` tree using `git add filename`\n",
    "* Once all your files are added and you're happy to go, you can use `git commmit` to commit the changes to the `git` tree and supply some commentary on what you've done.\n",
    "\n",
    "That's it!\n",
    "\n",
    "`GitHub` is a service that stores `git` repoistories online - `git` has some tools for working with remote repositories (`git clone` downloads a repository, `git pull` downloads any changes, `git push` uploads your changes) - however this is a bit beyond what we're going to look at.\n",
    "\n",
    "Finally, everything we've done today links with an amazing tool called `pre-commit`. This tool will run tools before it allows you to make a `git commit` - so it will check your tests all pass, auto-format your code, check for typing and documentation etc and only if the code is of good quality are you allowed to save the changes. We'll see this in the final week when we work on our project!\n",
    "\n",
    "# Exercises\n",
    "\n",
    "This week I've given you 3 projects to do. They are all fairly complex and involved, so take your time - I'd like you to create the program to the spec using errors and warnings where relevant, and practice writing some tests to make sure everything works: \n",
    "\n",
    "\n",
    "## School Management System\n",
    "\n",
    "You should build a management system for a school - this system must be able to:\n",
    "\n",
    "* Hold a number of students from the ages 11-18\n",
    "* Each student should have an assigned class group (you can make these up!)\n",
    "* You should have a method for adding a student to the school - if the age is outside of the range you should raise an error.\n",
    "* You should have a method for removing students - if an invalid student is given, you should raise an error.\n",
    "* You should have a way to print out all the students of one class\n",
    "* You should have a way to save all the students along with their information in `json` form to a file.\n",
    "\n",
    "## HTML Link Parser\n",
    "\n",
    "Using last week's work, write a program that gets the HTML code from a URL and extracts all of the hyperlinks from it (hyperlinks are in the form `<a href=\"<link-to-new-site\"/>`). If you can't access the website, return an error. Then parse all the hyperlinks to get the root domain - count how many links on the website link internally (to the same root domain) vs externally (to a different root domain)\n",
    "\n",
    "## Maze Solving Algorithm\n",
    "\n",
    "There are a number of methods for solving a maze using programming - if I give you a maze as a nested list representing the walls with `W`, open spaces with `O`, start with `S` and end with `E` - for example:\n",
    "```\n",
    "[\n",
    "    [O, O, O, W, E],\n",
    "    [O, W, O, W, O],\n",
    "    [S, W, O, O, O]\n",
    "]\n",
    "```\n",
    "Write a program to navigate through the maze and give a list of directions to follow. To do this:\n",
    "\n",
    "* For now, assume there's just one possible route with no forks in the maze. i.e. you only need to keep trying different directions other than the one you came in to get to the end.\n",
    "* Build a program to parse a maze in the above format to a format that makes sense to you\n",
    "* Build a way to navigate around the maze - if you try to hit a wall or outside of a maze, return an error.\n",
    "* Keep trying different ways, only proceeding if an error isn't raised - save this history of moves to a list and return the list.\n",
    "\n"
   ]
  }
 ],
 "metadata": {
  "kernelspec": {
   "display_name": "Python 3.9.7 64-bit ('3.9.7')",
   "language": "python",
   "name": "python3"
  },
  "language_info": {
   "codemirror_mode": {
    "name": "ipython",
    "version": 3
   },
   "file_extension": ".py",
   "mimetype": "text/x-python",
   "name": "python",
   "nbconvert_exporter": "python",
   "pygments_lexer": "ipython3",
   "version": "3.9.7"
  },
  "orig_nbformat": 4,
  "vscode": {
   "interpreter": {
    "hash": "133c484c66788d87bb60c372620677a8c2a59f534de2a53b3b518fc6db564f03"
   }
  }
 },
 "nbformat": 4,
 "nbformat_minor": 2
}
