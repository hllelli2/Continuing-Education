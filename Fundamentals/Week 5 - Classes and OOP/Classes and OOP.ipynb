{
 "cells": [
  {
   "cell_type": "markdown",
   "metadata": {},
   "source": [
    "# Week 5: Classes and OOP\n",
    "\n",
    "By now we should have a pretty good idea on how to approach and solve problems using programming. This week we are going to get a bit abstract as we talk about something *fundamental* to how Python (and the majority of other programming languages) works.\n",
    "\n",
    "Classes allow us to structure our projects in a way where we can think of things as different types of entities operating and interacting with different things. This way of writing programs where we define custom *objects* defining what they are and what they can do forms the basis for Object Orientated Programming (or OOP).\n",
    "\n",
    "For example, if we are writing some software with multiple users, we might want a `User` class that defines what a user can do. These `User`s might have a `Permissions` object (again defined by us) within that contains all the information as to what that user can do. This is helpful as it makes designing our complex code easier - it untangles our system into a number of actors each with their own defined available actions and attributes.\n",
    "\n",
    "This week is by no means simple, but you'll be able to get a lot out of it even if you don't fully understand it all right now. This week we'll finally get answers to a lot of annoying questions we've had to sidestep in previous weeks!"
   ]
  },
  {
   "cell_type": "markdown",
   "metadata": {},
   "source": [
    "## Simple Classes\n",
    "\n",
    "A *class* is a type definition, telling Python what we can do with an object of that type when we initialise it. For example, take the following class:\n"
   ]
  },
  {
   "cell_type": "code",
   "execution_count": 1,
   "metadata": {},
   "outputs": [
    {
     "name": "stdout",
     "output_type": "stream",
     "text": [
      "red\n"
     ]
    }
   ],
   "source": [
    "class Shape:\n",
    "\n",
    "    def __init__(self, colour, no_sides):\n",
    "        self.colour = colour\n",
    "        self.no_sides = no_sides\n",
    "\n",
    "my_hexagon = Shape(\"red\", 6)\n",
    "\n",
    "print(my_hexagon.colour)"
   ]
  },
  {
   "cell_type": "markdown",
   "metadata": {},
   "source": [
    "This is a lot to take in so let's break it down. We start with the `class` keyowrd that is followed by the name of the class. Classes should always start with a capital letter and have an appropriate name. We can then start defining our methods (methods are just functions associated with a class). Most classes will need a `__init__` method - this method is called when the object is initialised (or created).\n",
    "\n",
    "In the function definition, we have 3 arguments. For most methods, the first argument *must* be `self`. This refers to the instance of the object we have initialised (for example `my_hexagon` later on); the rest of the arguments are used when we initialise the object to calculate its attributes. The lines `self.colour = colour` and `self.no_sides = no_sides` are defining the attributes of the object to be equal to the arguments given in the initialisation.\n",
    "\n",
    "Remember, by doing this, we are building structure into our code that will make it easier to understand and work with later. We *could* just use dictionaries for all of our objects, and use functions to operate on those dictionaries - but we lose a lot of meaning. Imagine if we have several of these classes floating around; if all of our data was stored in dictionaries it's very easy to confuse them!\n",
    "\n",
    "We can define methods unique ot our class in the following way. Here, all the method is doing is changing the colour of the object:"
   ]
  },
  {
   "cell_type": "code",
   "execution_count": 2,
   "metadata": {},
   "outputs": [
    {
     "name": "stdout",
     "output_type": "stream",
     "text": [
      "red\n",
      "blue\n"
     ]
    }
   ],
   "source": [
    "class Shape:\n",
    "\n",
    "    def __init__(self, colour, no_sides):\n",
    "        self.colour = colour\n",
    "        self.no_sides = no_sides\n",
    "\n",
    "    def change_colour(self, new_colour):\n",
    "\n",
    "        self.colour = new_colour\n",
    "        return True\n",
    "\n",
    "my_hexagon = Shape(\"red\", 6)\n",
    "\n",
    "print(my_hexagon.colour)\n",
    "\n",
    "my_hexagon.change_colour(\"blue\")\n",
    "\n",
    "print(my_hexagon.colour)"
   ]
  },
  {
   "cell_type": "markdown",
   "metadata": {},
   "source": [
    "We can have objects from classes interact as well:"
   ]
  },
  {
   "cell_type": "code",
   "execution_count": 4,
   "metadata": {},
   "outputs": [
    {
     "name": "stdout",
     "output_type": "stream",
     "text": [
      "False\n",
      "True\n"
     ]
    }
   ],
   "source": [
    "class Shape:\n",
    "\n",
    "    def __init__(self, colour, no_sides):\n",
    "        self.colour = colour\n",
    "        self.no_sides = no_sides\n",
    "    \n",
    "    def change_colour(self, new_colour):\n",
    "\n",
    "        self.colour = new_colour\n",
    "        return True\n",
    "\n",
    "    def check_equality(self, other_shape):\n",
    "        # Here we will say two shapes are the same if they have the same number of sides and are the same colour\n",
    "        return self.colour == other_shape.colour and self.no_sides == other_shape.no_sides\n",
    "\n",
    "\n",
    "my_hexagon = Shape(\"red\", 6)\n",
    "my_square = Shape(\"blue\", 4)\n",
    "my_other_hexagon = Shape(\"red\", 6)\n",
    "\n",
    "print(my_hexagon.check_equality(my_square))\n",
    "print(my_hexagon.check_equality(my_other_hexagon))"
   ]
  },
  {
   "cell_type": "markdown",
   "metadata": {},
   "source": [
    "Hopefull it is beginning ot be clear the power of classes as a way of thinking about our code and designing systems. Very often we have common structures in our problems that we want to represent a certain way (for example, a user might have a username, password and permissions), and we want to build a class to strictly define what these objects can do, and what their attributes are."
   ]
  },
  {
   "cell_type": "markdown",
   "metadata": {},
   "source": [
    "## Inheritance\n",
    "\n",
    "\n",
    "A key pillar of object orientated programming, and classes in general is the idea of inheritance - that is building more specific and complex class types from a base class. For example - with the above code we have a general type for a shape with any number of sides. This gives us a framework for working with any shape we can think of, but limits us somewhat as we don't know enough about our general shape to do some helpful tasks (such as calculate the area of said shape).\n",
    "\n",
    "Using inheritance, we can build a new class *on top of the `Shape` class* that has all this extra information, but without losing what we've already done. This is done in the following way:"
   ]
  },
  {
   "cell_type": "code",
   "execution_count": 6,
   "metadata": {},
   "outputs": [
    {
     "name": "stdout",
     "output_type": "stream",
     "text": [
      "red\n",
      "blue\n",
      "Area: 150\n"
     ]
    }
   ],
   "source": [
    "# Note the (Shape)\n",
    "class Rectangle(Shape):\n",
    "\n",
    "    def __init__(self, colour, length, width):\n",
    "        # Call parent init\n",
    "        super().__init__(colour, no_sides=4)\n",
    "        self.length = length\n",
    "        self.width = width\n",
    "\n",
    "    def calculate_area(self):\n",
    "        return self.length * self.width\n",
    "\n",
    "    # Overwrite parent change_colour\n",
    "    def change_colour(self, new_colour):\n",
    "\n",
    "        print(\"Changing the rectangle's colour to\", new_colour)\n",
    "        return super().change_colour(new_colour)\n",
    "\n",
    "my_rect = Rectangle(\"red\", 10, 15)\n",
    "\n",
    "print(my_rect.colour)\n",
    "\n",
    "# We still have the change_colour method from Shape\n",
    "my_rect.change_colour(\"blue\")\n",
    "\n",
    "print(my_rect.colour)\n",
    "\n",
    "print(\"Area:\", my_rect.calculate_area())"
   ]
  },
  {
   "cell_type": "markdown",
   "metadata": {},
   "source": [
    "`super()` is a very complex thing in Python but in all but a few edge cases it will refer to an instance of the objects parent. So in our case, in the `Rectangle` init, we are calling the `Shape` init, with the number of sides equal to 4 (we know all rectangles have 4 sides!) and the colour as given in the `Rectangle` init.\n",
    "\n",
    "We are also overwriting the `change_colour` function to be more specific to a rectangle, by announcing that we are changing the rectangle's colour. This allows us to improve on functions we have already defined by building on top of them. Again we use super to build upon the functionaiity we have.\n",
    "\n",
    "This process of inheritance can go on and on for many times. Another example:"
   ]
  },
  {
   "cell_type": "code",
   "execution_count": 7,
   "metadata": {},
   "outputs": [
    {
     "data": {
      "text/plain": [
       "16"
      ]
     },
     "execution_count": 7,
     "metadata": {},
     "output_type": "execute_result"
    }
   ],
   "source": [
    "class Square(Rectangle):\n",
    "\n",
    "    def __init__(self, colour, length):\n",
    "        super().__init__(colour, length=length, width=length)\n",
    "\n",
    "my_square = Square(\"red\", 4)\n",
    "\n",
    "print(my_square.calculate_area())"
   ]
  },
  {
   "cell_type": "markdown",
   "metadata": {},
   "source": [
    "Isn't this amazing? Inheritence is allowing us to build functionality in a way that gives us many classes with a hierarchy of features without writing too much code. `Square` now has access to all the features in `Rectangle` and `Shape` without having to define them explicitly! "
   ]
  },
  {
   "cell_type": "markdown",
   "metadata": {},
   "source": [
    "## Static Methods and Class Methods\n",
    "\n",
    "Classes let us organise our code in a way that allows us to model our programs as actors interacting with each other - with methods and attributes specific to the type we are trying to define. There are two helper decorators for Python class methods that give us some helpful functionality for common issues.\n",
    "\n",
    "`@staticmethod` makes the method *static* - meaning the method does not need an instance of the class to operate. This can be especially helpful when refactoring classes as it allows us to decouple non-instance related tasks (such as unit conversion, or a mathematical formula). For example, take the case below:"
   ]
  },
  {
   "cell_type": "code",
   "execution_count": 8,
   "metadata": {},
   "outputs": [
    {
     "name": "stdout",
     "output_type": "stream",
     "text": [
      "Area: 25.0\n",
      "Area of triangle with base 7 and height 5:  17.5\n"
     ]
    }
   ],
   "source": [
    "class Triangle(Shape):\n",
    "\n",
    "    def __init__(self, colour, base, height):\n",
    "        super().__init__(colour, no_sides=3)\n",
    "        self.base = base\n",
    "        self.height = height\n",
    "\n",
    "    def calculate_area(self):\n",
    "        return Triangle.area(self.base, self.height)\n",
    "\n",
    "    @staticmethod\n",
    "    def area(base, height):\n",
    "        return 0.5 * base * height\n",
    "\n",
    "# Internally calculate area\n",
    "my_triangle = Triangle(\"blue\", 10, 5)\n",
    "print(\"Area:\",   my_triangle.calculate_area() )\n",
    "\n",
    "# Calculate area without Triangle init\n",
    "print(\"Area of triangle with base 7 and height 5: \", Triangle.area(7, 5))"
   ]
  },
  {
   "cell_type": "markdown",
   "metadata": {},
   "source": [
    "Note that either implementation of calculating the area works - we are now not thinking about Python that works but designing our system in a way that makes sense. We can now access the triangle area calcualation with or without instantiating a triangle object. Sometimes this will be something you want to make available to users, sometimes it won't. It's up to you, and you only learn when to do these things with experience!\n",
    "\n",
    "`classmethods` on the other hand are a bit more difficult to explain - these work in the opposite direction to static methods - instead of operating on an instance of the class (normal methods), or decoupled from the class (static methods), they take the class itself as an argument. This is typically used for methods that create instances of the class with some kind of pre-processing involved.\n",
    "\n",
    "So for example, take the following code that allows for some defaults to be made straight away, or the color to be randomly chosen:"
   ]
  },
  {
   "cell_type": "code",
   "execution_count": 14,
   "metadata": {},
   "outputs": [
    {
     "name": "stdout",
     "output_type": "stream",
     "text": [
      "Square colours: red blue green\n"
     ]
    }
   ],
   "source": [
    "from random import choice\n",
    "\n",
    "class Square(Rectangle):\n",
    "\n",
    "    def __init__(self, colour, length):\n",
    "        super().__init__(colour, length=length, width=length)\n",
    "\n",
    "    @classmethod\n",
    "    def create_blue_square(cls, length):\n",
    "        return cls(\"blue\", length)\n",
    "\n",
    "    @classmethod\n",
    "    def create_random_colour_square(cls, length):\n",
    "        return cls(choice([\"red\", \"blue\", \"green\"]), length)\n",
    "\n",
    "\n",
    "my_square = Square(\"red\", 4)\n",
    "blue_square = Square.create_blue_square(4)\n",
    "random_square = Square.create_random_colour_square(4)\n",
    "\n",
    "print(\"Square colours:\", my_square.colour, blue_square.colour, random_square.colour)"
   ]
  },
  {
   "cell_type": "markdown",
   "metadata": {},
   "source": [
    "## Dunderscore methods\n",
    "\n",
    "Since everything in Python is an object, all the base types we've looked at so far operate in the same way as the classes we've just defined. If we `dir` the objects we see the functionality we've defined, along with a lot of other methods. But what are these?"
   ]
  },
  {
   "cell_type": "code",
   "execution_count": 16,
   "metadata": {},
   "outputs": [
    {
     "name": "stdout",
     "output_type": "stream",
     "text": [
      "['__class__', '__delattr__', '__dict__', '__dir__', '__doc__', '__eq__', '__format__', '__ge__', '__getattribute__', '__gt__', '__hash__', '__init__', '__init_subclass__', '__le__', '__lt__', '__module__', '__ne__', '__new__', '__reduce__', '__reduce_ex__', '__repr__', '__setattr__', '__sizeof__', '__str__', '__subclasshook__', '__weakref__', 'calculate_area', 'change_colour', 'check_equality', 'colour', 'create_blue_square', 'create_random_colour_square', 'length', 'no_sides', 'width']\n"
     ]
    }
   ],
   "source": [
    "print(dir(my_square))"
   ]
  },
  {
   "cell_type": "markdown",
   "metadata": {},
   "source": [
    "Well actually, all objects in Python inherit from the base `object` class, which is it's own thing. This contains the methods we see above for some sensible defaults. These methods are often handled not through the normal syntax (`object.method()`), but rather through other means (how an object is printed is handled by `__str__`, addition by `__add__` etc).\n",
    "\n",
    "In this case, we dont' have all the methods available to us out the box - you'll get to know these as time goes on; but for now I want to show two very helpful cases where you might want to override what is inherited - `__str__` and `__eq__`.\n",
    "\n",
    "At the moment, if we try printing `my_square`, we get the following:"
   ]
  },
  {
   "cell_type": "code",
   "execution_count": 17,
   "metadata": {},
   "outputs": [
    {
     "name": "stdout",
     "output_type": "stream",
     "text": [
      "<__main__.Square object at 0x1090d0ee0>\n"
     ]
    }
   ],
   "source": [
    "print(my_square)"
   ]
  },
  {
   "cell_type": "markdown",
   "metadata": {},
   "source": [
    "This isn't very helpful - it tells us that it is indeed a Square object, and gives the address in memory where this variable is currently stored. It doesn't tell us any information about the Square, which might be more useful! Let's fix that:"
   ]
  },
  {
   "cell_type": "code",
   "execution_count": 24,
   "metadata": {},
   "outputs": [
    {
     "name": "stdout",
     "output_type": "stream",
     "text": [
      "Square with colour: blue and width: 4\n"
     ]
    }
   ],
   "source": [
    "from random import choice\n",
    "\n",
    "class Square(Rectangle):\n",
    "\n",
    "    def __init__(self, colour, length):\n",
    "        super().__init__(colour, length=length, width=length)\n",
    "\n",
    "    def __str__(self):\n",
    "        return \"Square with colour: \" + self.colour + \" and width: \" + str(self.width)\n",
    "\n",
    "    @classmethod\n",
    "    def create_blue_square(cls, length):\n",
    "        return cls(\"blue\", length)\n",
    "\n",
    "    @classmethod\n",
    "    def create_random_colour_square(cls, length):\n",
    "        return cls(choice([\"red\", \"blue\", \"green\"]), length)\n",
    "\n",
    "my_square = Square(\"blue\", 4)\n",
    "\n",
    "print(my_square)"
   ]
  },
  {
   "cell_type": "markdown",
   "metadata": {},
   "source": [
    "Great! Now this gives us more information about the square in a readable format. This can be helpful for debugging or showing users what data is.\n",
    "\n",
    "Another common problem with classes is the following. Below we have two squares that are equal but Python considers them different"
   ]
  },
  {
   "cell_type": "code",
   "execution_count": 25,
   "metadata": {},
   "outputs": [
    {
     "name": "stdout",
     "output_type": "stream",
     "text": [
      "Are the two squares different? False\n"
     ]
    }
   ],
   "source": [
    "my_square = Square(\"blue\", 4)\n",
    "my_other_square = Square(\"blue\", 4)\n",
    "\n",
    "print(\"Are the two squares different?\", my_square == my_other_square)"
   ]
  },
  {
   "cell_type": "markdown",
   "metadata": {},
   "source": [
    "Why? They have the same size and colour! Well - Python by default doesn't do this for us, and there's a number of reasons why (for example, if objects are given unique ID strings on creation, we wouldn't want to include that in an equality check!). So we have to implement it ourselves!"
   ]
  },
  {
   "cell_type": "code",
   "execution_count": 26,
   "metadata": {},
   "outputs": [
    {
     "name": "stdout",
     "output_type": "stream",
     "text": [
      "Are the two squares different? True\n"
     ]
    }
   ],
   "source": [
    "from random import choice\n",
    "\n",
    "class Square(Rectangle):\n",
    "\n",
    "    def __init__(self, colour, length):\n",
    "        super().__init__(colour, length=length, width=length)\n",
    "\n",
    "    def __str__(self):\n",
    "        return \"Square with colour: \" + self.colour + \" and width: \" + str(self.width)\n",
    "\n",
    "    def __eq__(self, other):\n",
    "        return self.colour == other.colour and self.width == other.width\n",
    "\n",
    "my_square = Square(\"blue\", 4)\n",
    "my_other_square = Square(\"blue\", 4)\n",
    "\n",
    "print(\"Are the two squares different?\", my_square == my_other_square)"
   ]
  },
  {
   "cell_type": "markdown",
   "metadata": {},
   "source": [
    "Great! This is used a lot in data analysis when parsing database data into a Python format - very often we'll want a class for each entry represented in our table and check for duplicates allowing for the UIDs to be different."
   ]
  },
  {
   "cell_type": "markdown",
   "metadata": {},
   "source": [
    "## Dataclasses\n",
    "\n",
    "Finally, I have to include my favourite little trick in Python - the dataclass.\n",
    "\n",
    "It's extremely common (for example, when processing data) for us to want a very simple class to hold the data without needing the ability to add complex methods on. For this, the `dataclass` makes our life very easy. Instead of needing the following boilerplate code:"
   ]
  },
  {
   "cell_type": "code",
   "execution_count": 27,
   "metadata": {},
   "outputs": [],
   "source": [
    "class DataEntry:\n",
    "\n",
    "    def __init__(self, uid, first_name, last_name, age, subject, score, grade):\n",
    "        self.uid = uid\n",
    "        self.first_name = first_name\n",
    "        self.last_name = last_name\n",
    "        self.age = age\n",
    "        self.subject = subject\n",
    "        self.score = score\n",
    "        self.grade = grade"
   ]
  },
  {
   "cell_type": "markdown",
   "metadata": {},
   "source": [
    "We can just use the `dataclass` library:"
   ]
  },
  {
   "cell_type": "code",
   "execution_count": 28,
   "metadata": {},
   "outputs": [],
   "source": [
    "from dataclasses import dataclass\n",
    "\n",
    "@dataclass\n",
    "class StudentScore:\n",
    "\n",
    "    uid: str\n",
    "    first_name: str\n",
    "    last_name: str\n",
    "    age: int\n",
    "    subject: str\n",
    "    score: float\n",
    "    grade: str"
   ]
  },
  {
   "cell_type": "markdown",
   "metadata": {},
   "source": [
    "Much more readable! `dataclass` also makes it easy to quickly define equality, less than, greater than and other comparators right out of the box as well; however that's a bit beyond what we're doing here!"
   ]
  },
  {
   "cell_type": "markdown",
   "metadata": {},
   "source": [
    "# Exercises\n",
    "\n",
    "This week is very abstract and involved, so don't worry if you find these exercises hard. Try your best and don't be afraid to use Google!\n",
    "\n",
    "## Extending the Shape Classes\n",
    "\n",
    "Copy the code from today's session and edit it to add the following functionality:\n",
    "\n",
    "* Add a `calculate_perimeter` method for `Rectangle`s that calculates the perimeter of a rectangles. Will this work for `Squares`? Why?\n",
    "* Add a `Pentagon` class with sensible attributes as we've done with `Rectangle`s. What should this inherit from? Why?\n",
    "* Add a `Circle` class - what should this inherit from and are there any problems with that inheritance? Can you come up with a good solution? Also add a `calculate_area` static method that gives the area of a circle.\n",
    "* Add the `__eq__` method to both the `Rectangle` and `Circle`. Can we remove anything from the `Square` class now?\n",
    "\n",
    "## Fruit Management\n",
    "\n",
    "Create a new class called `Fruit` that has the following attributes: `name`, `colour`, `bites_left`, and a method \"`take_bite`\" that sets `self.bites_left` to one less than it's current value.\n",
    "\n",
    "Then, create an `Orange` and `Apple` class that inherit from the `Fruit` class. In this world, all `Oranges` are `\"orange\"` and all `Apples` are `\"green\"`, but can be different sizes (take a different number of bites to eat!)\n",
    "\n",
    "This code looks pretty good - we now have `Oranges`, `Apples` and a generic `Fruit` class for other fruits that we can extend on. However, we have a problem. Users are trying to use the method `take_bite` on a brand new orange and eating the peel as well as the orange itself! We need to find a way to model this. *Only for the `Orange` class*, do the following:\n",
    "\n",
    "* Add a `peeled` attribute (always set to `False` on object instantisation)\n",
    "* Add a `peel()` method that sets `peeled` to `True`\n",
    "* Override `take_bite` so that if the `Orange` is not peeled, we do not reduce the number of bites left and `print` a message telling the user they are trying to bite into an unpeeled `Orange`. Otherwise, allow the user to take a bite as normal.\n",
    "\n",
    "`Oranges` and `Apples` are both perfect spheres. Write a static method on the `Fruit` class to calculate their volume.\n",
    "\n",
    "Great! We now have a good model of `Fruits`. Now create a new class `FruitBasket` with the following functionality.\n",
    "\n",
    "* A `fruits` attribute with a list of fruits currently in the basket\n",
    "* A `size` attribute defining the maximum number of fruits allowed to be in the list\n",
    "* An `add_fruit()` method allowing users to add a fruit to the basket *only if the basket isn't full* (number of fruits is less than the size)\n",
    "* A `snack()` method that loops through each fruit in the basket and tries to take one bite of each fruit. (note - you do not have to worry about `Oranges` not being bite-able for now!)\n",
    "* **TRICKY**: A `peel_all()` method that loops through each fruit and tries to peel it if it is an `Orange` (you will need to use the `isinstance()` function)\n",
    "* **HARD**: A `clean()` method that loops through each fruit and removes it from the basket if it has 0 (or fewer) bites left.\n",
    "\n",
    "## Bank Accounts\n",
    "\n",
    "You have been employed by a bank to rewrite their banking system in Python. They need the following features:\n",
    "\n",
    "An `Account` class with the following:\n",
    "\n",
    "* Attributes for an account number, sort code, name of the owner and balance.\n",
    "* Methods for `withdraw` and `deposit` funds that decrease/increase the balance respectively. If the balance is below 0, `withdraw` should print a warning telling the user they are in their overdraft\n",
    "* A `transfer` method that takes another `Account` and reduces the balance of one account while increasing the balance of the other.\n",
    "* A `__str__` method that prints out the information for the `Account`\n",
    "\n",
    "A `Customer` class with the following:\n",
    "\n",
    "* Attribute for name, age, address and a list of accounts they own.\n",
    "* A method for adding an account to the `Customer` account list. This should check that the `Customer` name and `Account` name are the same, and if not, print a message.\n",
    "* A `total_balance` method that sums all the balances of the accounts a user has and prints the result.\n",
    "* A `__str__` method that prints out the users information, as well as all the accounts a user has. Try to use the `__str__` method of the `Account` to do this!\n",
    "\n",
    "\n",
    "\n"
   ]
  },
  {
   "cell_type": "markdown",
   "metadata": {},
   "source": []
  },
  {
   "cell_type": "markdown",
   "metadata": {},
   "source": []
  },
  {
   "cell_type": "code",
   "execution_count": null,
   "metadata": {},
   "outputs": [],
   "source": []
  }
 ],
 "metadata": {
  "kernelspec": {
   "display_name": "Python 3.9.7 64-bit ('3.9.7')",
   "language": "python",
   "name": "python3"
  },
  "language_info": {
   "codemirror_mode": {
    "name": "ipython",
    "version": 3
   },
   "file_extension": ".py",
   "mimetype": "text/x-python",
   "name": "python",
   "nbconvert_exporter": "python",
   "pygments_lexer": "ipython3",
   "version": "3.9.7"
  },
  "orig_nbformat": 4,
  "vscode": {
   "interpreter": {
    "hash": "133c484c66788d87bb60c372620677a8c2a59f534de2a53b3b518fc6db564f03"
   }
  }
 },
 "nbformat": 4,
 "nbformat_minor": 2
}
