{
 "cells": [
  {
   "cell_type": "markdown",
   "metadata": {},
   "source": [
    "# Week 2: Control Flow Letting Python make decisions for us\n",
    "\n",
    "This week we are going to look at control flow in Python, or in other words, how to let Python take the wheel and do things based on the state of the program.\n",
    "\n",
    "Before we get to building `if` statements, we have to look at a few things first:\n",
    "\n",
    "## Accepting Inputs from Users\n",
    "\n",
    "There are a number of ways to accept inputs from users, from adding options when running the script from the command line to building an entire website and GUI for interacting with your code. Perhaps the simplest way to implement interaction with a user is the `input` function.\n",
    "\n",
    "By setting the value of a variable to the output of this function, we can use whatever value the user inputs futher along the program. ***Be very careful using this in practice, as users might try and find ways to break your program!***\n",
    "\n",
    "For example, consider the following program:"
   ]
  },
  {
   "cell_type": "code",
   "execution_count": 8,
   "metadata": {},
   "outputs": [
    {
     "name": "stdout",
     "output_type": "stream",
     "text": [
      "Hello ꧄ .꧄ ., how are you doing today?\n"
     ]
    }
   ],
   "source": [
    "name = input(\"Please enter your name:\")\n",
    "print(\"Hello \" +  name + \", how are you doing today?\")"
   ]
  },
  {
   "cell_type": "markdown",
   "metadata": {},
   "source": [
    "The input to the `input` function is the message we give to users when they run the program, and the output (we call `name`) is what their input is stored to when they click enter.\n",
    "\n",
    "## Boolean Operations\n",
    "\n",
    "We have already seen the boolean type (that only has values `True` and `False`); but not really how they are used. One way to use them in an abstract way is with boolean logic. The `and` and `or` logical operations allow for the combination of boolean values into a new one, depending on the inputs.\n",
    "\n",
    "For `and`, the result will only be `True` if both the inputs are `True`; for `or`, the result will be `True` if one, *or* both the inputs are `True`:"
   ]
  },
  {
   "cell_type": "code",
   "execution_count": 10,
   "metadata": {},
   "outputs": [
    {
     "name": "stdout",
     "output_type": "stream",
     "text": [
      "True and True: True\n",
      "True and False: False\n",
      "False and False False\n",
      "True or True True\n",
      "True or False True\n",
      "False or False False\n"
     ]
    }
   ],
   "source": [
    "print(\"True and True:\", True and True)\n",
    "print(\"True and False:\", True and False)\n",
    "print(\"False and False\", False and False)\n",
    "print(\"True or True\", True or True)\n",
    "print(\"True or False\", True or False)\n",
    "print(\"False or False\", False or False)"
   ]
  },
  {
   "cell_type": "markdown",
   "metadata": {},
   "source": [
    "The `not` operator will \"flip\" the input from `True` to `False`, or vice versa:"
   ]
  },
  {
   "cell_type": "code",
   "execution_count": 12,
   "metadata": {},
   "outputs": [
    {
     "name": "stdout",
     "output_type": "stream",
     "text": [
      "Not True: False\n",
      "Not False: True\n"
     ]
    }
   ],
   "source": [
    "print(\"Not True:\", not True)\n",
    "print(\"Not False:\", not False)"
   ]
  },
  {
   "cell_type": "markdown",
   "metadata": {},
   "source": [
    "The `==` and `!=` operators are used for logical comparison between two variables (remember, `=` is used for variable assignment!):"
   ]
  },
  {
   "cell_type": "code",
   "execution_count": 13,
   "metadata": {},
   "outputs": [
    {
     "name": "stdout",
     "output_type": "stream",
     "text": [
      "Is 3 equal to 3? True\n",
      "Is 3 equal to 2? False\n"
     ]
    }
   ],
   "source": [
    "print(\"Is 3 equal to 3?\", 3 == 3)\n",
    "print(\"Is 3 equal to 2?\", 3 == 2)"
   ]
  },
  {
   "cell_type": "markdown",
   "metadata": {},
   "source": [
    "If we want ot check if an object is in a list, we can use the `in` operator:"
   ]
  },
  {
   "cell_type": "code",
   "execution_count": 14,
   "metadata": {},
   "outputs": [
    {
     "name": "stdout",
     "output_type": "stream",
     "text": [
      "Are bananas in my basket? True\n",
      "Are peaches in my basket? False\n"
     ]
    }
   ],
   "source": [
    "my_basket = [\"apples\", \"bananas\", \"pears\"]\n",
    "print(\"Are bananas in my basket?\", \"bananas\" in my_basket)\n",
    "print(\"Are peaches in my basket?\", \"peaches\" in my_basket)"
   ]
  },
  {
   "cell_type": "markdown",
   "metadata": {},
   "source": [
    "We can chain all these together using brackets to denote what we want to be compare first. Look at the below statements - can you figure out what they will evaluate to without running them?"
   ]
  },
  {
   "cell_type": "code",
   "execution_count": 15,
   "metadata": {},
   "outputs": [],
   "source": [
    "easy = not ((not True) or False)\n",
    "medium = (3 + 2 != 4 and 5 != 5) and (not 3 + 4 != 7)\n",
    "hard = (9 % 3 == 0) and not (\"g\" in \"peaches\")"
   ]
  },
  {
   "cell_type": "markdown",
   "metadata": {},
   "source": [
    "What did you get?"
   ]
  },
  {
   "cell_type": "code",
   "execution_count": 16,
   "metadata": {},
   "outputs": [
    {
     "name": "stdout",
     "output_type": "stream",
     "text": [
      "True False True\n"
     ]
    }
   ],
   "source": [
    "print(easy, medium, hard)"
   ]
  },
  {
   "cell_type": "markdown",
   "metadata": {},
   "source": [
    "# The `if` statement"
   ]
  },
  {
   "cell_type": "markdown",
   "metadata": {},
   "source": [
    "We now know how to combine many logical operations into a complex query that returns a single boolean value. The `if` statement is a way to branch a program into multiple paths based on the value of this boolean value. It works by setting aside a block of code that only runs if what the `if` statement points to is `True`. Try changing the value of `my_variable` below and see what happens:"
   ]
  },
  {
   "cell_type": "code",
   "execution_count": 20,
   "metadata": {},
   "outputs": [
    {
     "name": "stdout",
     "output_type": "stream",
     "text": [
      "my_variable is 5!\n",
      "If statement complete\n"
     ]
    }
   ],
   "source": [
    "my_variable = 5\n",
    "if my_variable == 5:\n",
    "    print(\"my_variable is 5!\")\n",
    "\n",
    "print(\"If statement complete\")"
   ]
  },
  {
   "cell_type": "markdown",
   "metadata": {},
   "source": [
    "Note that the `if` statement is followed by a single indentation (either a tab or 4 spaces). In Python, this is how the computer tells what is a part of the `if` branch and what isn't. The first print statement is indented once, denoting that it should only be run if `my_variable` is 5; the second print statement however is not indented, meaning we always run it no matter what `my_variable` is. Try moving the second `print` across by one indentation level (add a tab before it) and see how that changes the behavior.\n",
    " \n",
    "Indentation is a really common place for errors to come from, even from experienced programmers; so don't worry if you make mistakes here! In other programming languages, curly brackets are sometimes used to denote these code blocks, but Python does it this way to make code cleaner and enforce some good style practices. The general rule for Python is that vertical space doesn't matter, but horizontal space matters a lot. As with any good rule, there are exceptions though!\n",
    "\n",
    "It's very helpful sometimes to have an additional, different branch for if the expression in the `if` statement is *not* `True`. For this, we use the `else` keyword:"
   ]
  },
  {
   "cell_type": "code",
   "execution_count": 22,
   "metadata": {},
   "outputs": [
    {
     "name": "stdout",
     "output_type": "stream",
     "text": [
      "my_variable is not 5!\n",
      "If statement complete\n"
     ]
    }
   ],
   "source": [
    "my_variable = 6\n",
    "if my_variable == 5:\n",
    "    print(\"my_variable is 5!\")\n",
    "else:\n",
    "    print(\"my_variable is not 5!\")\n",
    "\n",
    "print(\"If statement complete\")"
   ]
  },
  {
   "cell_type": "markdown",
   "metadata": {},
   "source": [
    "Again, we come out of the indentation of the `if` statement, otherwise the `else` would only be accessible if the expression was True (this doesn't make any sense!). Then, the code we want to run if the expression is `False` is indented *again* on the same level as the above `if` statement.\n",
    "\n",
    "This covers all bases - in an `if... else` statement, exactly one branch runs. We can get more branches at the \"top level\" of the control tree by adding more checks before `else` using the `elif` keyword (short for \"else if\"). Let's improve the above code so it checks if `my_variable` is more than, or less than 5 by using the `<` and `>` operators: "
   ]
  },
  {
   "cell_type": "code",
   "execution_count": 23,
   "metadata": {},
   "outputs": [
    {
     "name": "stdout",
     "output_type": "stream",
     "text": [
      "my_variable is more than 5!\n"
     ]
    }
   ],
   "source": [
    "my_variable = 6\n",
    "\n",
    "if my_variable == 5:\n",
    "    print(\"my_variable is 5!\")\n",
    "elif my_variable > 5:\n",
    "    print(\"my_variable is more than 5!\")\n",
    "else:\n",
    "    print(\"my_variable is less than 5!\")"
   ]
  },
  {
   "cell_type": "markdown",
   "metadata": {},
   "source": [
    "You might think that I've skipped a step by not including a line like `elif my_variable < 5:`, but think about what happens if `my_variable` isn't equal to 5 or more than 5. It *has* to be less than 5! Little logical jumps like this can prove extremely helpful when doing control flow operations.\n",
    "\n",
    "We can chain `if` statements together to check other conditions further down the line. For example, by using the `x % y == 0` trick to check if `x` is divisible by `y`, we can build the following divisibility check into our program *only checking for divisibility if `my_variable` is greater than 5*:"
   ]
  },
  {
   "cell_type": "code",
   "execution_count": 24,
   "metadata": {},
   "outputs": [
    {
     "name": "stdout",
     "output_type": "stream",
     "text": [
      "my_variable is more than 5 AND divisible by 3!\n"
     ]
    }
   ],
   "source": [
    "my_variable = 6\n",
    "\n",
    "if my_variable == 5:\n",
    "    print(\"my_variable is 5!\")\n",
    "elif my_variable > 5:\n",
    "    if my_variable % 3 == 0:\n",
    "        print(\"my_variable is more than 5 AND divisible by 3!\")\n",
    "    else:\n",
    "        print(\"my variable is more than 5 but not divisible by 3.\")\n",
    "else:\n",
    "    print(\"my_variable is less than 5!\")"
   ]
  },
  {
   "cell_type": "markdown",
   "metadata": {},
   "source": [
    "Note for the above we indent *again* for the nested `if` statement.\n",
    "\n",
    "Can you get all 4 of these `print` statments to activate by changing the value of `my_variable`?\n",
    "Can you rewrite the above without nesting `if` statements by using `elif`s and some clever logical operations?\n",
    "\n",
    "Sometimes we want to check something quickly, without multiple considerations and without using more than one line of code. You can use an `if... else` statement on one line as long as you have both outcomes and the statment isn't too long. Typically this is used in variable assignment:"
   ]
  },
  {
   "cell_type": "code",
   "execution_count": 27,
   "metadata": {},
   "outputs": [
    {
     "name": "stdout",
     "output_type": "stream",
     "text": [
      "Sam\n"
     ]
    }
   ],
   "source": [
    "full_name = False\n",
    "my_name = \"Samuel Ball\" if full_name else \"Sam\"\n",
    "print(my_name)"
   ]
  },
  {
   "cell_type": "markdown",
   "metadata": {},
   "source": [
    "This is helpful for very quick operations, but should be used with care as it can stop you writing good, readable code. It's the exception to the \"horizontal space matters\" rule which is why I've included it!\n",
    "\n",
    "# Example: Building a password checker\n",
    "\n",
    "Let's consider a Python program where we only want some code to run (in this case, just a simple \"hello\" message) if the correct password is given. We can do this using a combination of `print`, `input` and `if` statements:"
   ]
  },
  {
   "cell_type": "code",
   "execution_count": 29,
   "metadata": {},
   "outputs": [
    {
     "name": "stdout",
     "output_type": "stream",
     "text": [
      "--- SAM'S PASSWORD CHECKER ---\n",
      "Welcome to the program!\n"
     ]
    }
   ],
   "source": [
    "print(\"--- SAM'S PASSWORD CHECKER ---\")\n",
    "password = input(\"PLEASE ENTER THE PASSWORD\")\n",
    "\n",
    "if password == \"mySecretPassword123\":\n",
    "    print(\"Welcome to the program!\")\n",
    "else:\n",
    "    print(\"Incorrect password.\")"
   ]
  },
  {
   "cell_type": "markdown",
   "metadata": {},
   "source": [
    "As a bonus, we can look at how to make this a bit more secure. At the moment, we are storing the password plainly in our source code. This isn't so good as if someone reads our code, we can see what my password is straight away and read all my secrets! One way of getting around this is by using a *hash* function. Hash functions are complex mathematical functions that take an input and map it to a seemingly random set of characters, where small differences in the input create a very large difference in the output. One such example of a function is the [MD5](https://en.wikipedia.org/wiki/MD5) algorithm.\n",
    "\n",
    "Python comes with hashing functions built in, but we have to load them from an internal library. We'll talk about libraries later, but for now, just consider the following code:"
   ]
  },
  {
   "cell_type": "code",
   "execution_count": 40,
   "metadata": {},
   "outputs": [
    {
     "name": "stdout",
     "output_type": "stream",
     "text": [
      "--- SAM'S PASSWORD CHECKER ---\n",
      "Incorrect password.\n"
     ]
    }
   ],
   "source": [
    "from hashlib import md5 \n",
    "\n",
    "print(\"--- SAM'S PASSWORD CHECKER ---\")\n",
    "password = input(\"PLEASE ENTER THE PASSWORD\")\n",
    "\n",
    "if md5(password.encode()).hexdigest() == \"1e1cafb066ead7ba21f2e7b7851d4714\":\n",
    "    print(\"Welcome to the program!\")\n",
    "else:\n",
    "    print(\"Incorrect password.\")"
   ]
  },
  {
   "cell_type": "markdown",
   "metadata": {},
   "source": [
    "There's a lot going on here - but know that the `if` statement is encoding our input into raw bytes, passing it through the MD5 algorithm, then converting it back to a string that we can compare. \n",
    "\n",
    "You can try and guess my password in the above program, but it's extremely difficult! To calculate the right hand side of the expression so only I could be welcomed to the program, I used the following code:"
   ]
  },
  {
   "cell_type": "code",
   "execution_count": 36,
   "metadata": {},
   "outputs": [
    {
     "name": "stdout",
     "output_type": "stream",
     "text": [
      "1e1cafb066ead7ba21f2e7b7851d4714\n"
     ]
    }
   ],
   "source": [
    "from hashlib import md5 \n",
    "print(md5(\"aMoreSecretPassword456\".encode()).hexdigest())"
   ]
  },
  {
   "cell_type": "markdown",
   "metadata": {},
   "source": [
    "# Exercises\n",
    "\n",
    "This week we have 4 use cases for control flow. We'll also look at where we can find more exercises to practice our Python skills.\n",
    "\n",
    "## Simple `if` statement\n",
    "\n",
    "To start let's begin by implementing a simple `if` statement. Start by assigning a variable `num` to any number. Then, using the `>` operator, write an `if` statement to print out `\"Larger than 10\"` if the number is larger than 10, and `\"Smaller than 10\"` if it's smaller than 10. If the number is equal to 10, create your own message for that case!\n",
    "\n",
    "## FizzBuzz\n",
    "\n",
    "We start with a traditional programming problem that we'll visit again in later weeks. Write a program that starts by defining a number `num` and then prints `\"FizzBuzz\"` if the number is divisible by 3 *and* 5, `\"Fizz\"` if it's divisible by only 3 (not 5), and `\"Buzz\"` if it's divisible by only 5 (not 3). Otherwise, just print the number.\n",
    "\n",
    "For a challenge, now do the same with 3, 5, 7, 11 and 13, with the words \"Fizz\", \"Buzz\", \"Wuzz\", \"Luzz\" and \"Nuzz\" respectively. You should only need 5 if statements!\n",
    "\n",
    "## Checking properties of a list\n",
    "\n",
    "Often it's very helpful to quickly check if a list has certain properties by using some clever tricks. These are common problems in everyday tasks, and possible with what we have covered so far, but feel free to use Google and any other online help to solve these.\n",
    "\n",
    "Define a list called `my_list` and write `if` statements to check for the following:\n",
    "\n",
    "1) Check if a list has any duplicate elements.\n",
    ">! (HINT: Can you think of a data strucuture we can convert `my_list` to that doesn't allow duplicates, then change it back to a list)\n",
    "2) Check if a list is in ascending order.\n",
    ">! (HINT: Try and see if lists have a method that sort themselves, then compare the sorted list to the original list)\n",
    "3) Check if a list is a palindrome  (the same backwards as forwards)\n",
    ">! (HINT: Can you think of a way to reverse a list, then compare it to the original list?)\n",
    "4) Check if a substring exists within a string (for example \"cat\" in \"category\")\n",
    "\n",
    "## Password Checker\n",
    "\n",
    "You are a security advisor in a large banking corporation - you are tasked with checking that peoples passwords are secure enough.\n",
    "\n",
    "1) Write a program that defines a test password and checks if it contains the required conditions for being a secure password. If not, it should print a relevant message. The condition are:\n",
    "\n",
    "* Must be 7 - 30 characters long\n",
    "* Must contain at least one number\n",
    "* Must contain at least one punctuation\n",
    "\n",
    "2) You also want to reject the password if it is a commonly used password. Below is a list of passwords to check against - check if the test password is one of these passwords, printing a relevant message if it is.\n",
    "\n",
    "`common_passwords = [\"password\", \"pass123\", \"letmein\"`]`\n",
    "\n",
    "# Resources for Practicing\n",
    "\n",
    "Companies will often use coding questions to test competence for programming skills. These are very often a combination of problem solving skills and language knowledge - interviewers will often be happy to see an in-language solution that uses the native functionality *or* a self-made solution that shows you understand the problem. For these problems, it really is a case of practice makes perfect, and there are a great deal of websites to help you practice these kinds of problems.\n",
    "\n",
    "You won't be able to complete all the problems until we finish looking at iteration next session, but you can probably make a start on some of the easier questions.\n",
    "\n",
    "Some websites to look at are:\n",
    "\n",
    "* [CodeWars](https://www.codewars.com/) is my favourite website for practicing these problems as users can submit their own problems and you can see other's solutions in a number of different languages. Whenever I am learning a new langugage, this is the site I use to practice!\n",
    "* [HackerRank](https://www.hackerrank.com/) and [LeetCode](https://leetcode.com/) are websites more commonly used by employers to test for programming skills. They are typically more abstract than CodeWars problems and more \"theoretical\" in their formulation - some of the problems are obviously intended for lower level languages (such as C++) as Python can generate some one-liners for the solutions.\n",
    "* [CheckIO](https://checkio.org/) is a very polished website that contains fewer problems, but in a well formulated way.\n",
    "* [Project Euler](https://projecteuler.net/) is a must for any mathematician learning how to program - the problems start with basic programming tasks but move onto problems where a high level of mathematics can be helpful (or essential!) in solving the problems.\n",
    "\n",
    "I'd recommend choosing one of these and sticking with it rather than bouncing between them!"
   ]
  }
 ],
 "metadata": {
  "kernelspec": {
   "display_name": "Python 3.9.7 64-bit ('3.9.7')",
   "language": "python",
   "name": "python3"
  },
  "language_info": {
   "codemirror_mode": {
    "name": "ipython",
    "version": 3
   },
   "file_extension": ".py",
   "mimetype": "text/x-python",
   "name": "python",
   "nbconvert_exporter": "python",
   "pygments_lexer": "ipython3",
   "version": "3.9.7"
  },
  "orig_nbformat": 4,
  "vscode": {
   "interpreter": {
    "hash": "133c484c66788d87bb60c372620677a8c2a59f534de2a53b3b518fc6db564f03"
   }
  }
 },
 "nbformat": 4,
 "nbformat_minor": 2
}
