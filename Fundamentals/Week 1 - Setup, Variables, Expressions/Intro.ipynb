{
 "cells": [
  {
   "cell_type": "markdown",
   "metadata": {},
   "source": [
    "# Week 1: Setup, Variables, Expressions\n",
    "\n",
    "If you've opened this notebook successfully - brilliant! Setting up a Python environment can be a pain, so the fact we're here now is a great start.\n",
    "\n",
    "Let's look at what this environment is. Google Colab runs *jupyter notebooks*, which is a kind of Python environment that mixes Markdown (a kind of text language for writing notes like these!), and Python cells. In this course, most notes will be represented in these Markdown cells; Markdown allows us to attatch images, links etc in an easy way to share information, so is very helpful for us!\n",
    "\n",
    "While Markdown cells look like text on a page, the Python cells are formatted a bit differently (see below). To run a Python cell, put your cursor in it and press `SHIFT` + `ENTER`. This will run the cell and create a new Python cell below to run code. This cell-based way of running code is particularly helpful for exploring code as Jupyter remembers all the information declared in previously ran cells.\n",
    "\n",
    "To run the cells yourself, you'll need to make a copy of them on your Google drive. If you don't have a Google drive, I'd suggest downloading and installing the [anaconda distribution](https://www.anaconda.com/products/distribution) and running the code offline. Please let me know if you want to do this and I'll walk you through how to do it!\n",
    "\n",
    "Run the cell below and see what is output!"
   ]
  },
  {
   "cell_type": "code",
   "execution_count": null,
   "metadata": {},
   "outputs": [],
   "source": [
    "name = \"Luc Elliott\"\n",
    "print(\"Hello,\", name, \"; how are you doing?\")\n"
   ]
  },
  {
   "cell_type": "markdown",
   "metadata": {},
   "source": [
    "Try chaning the `name` in the speech marks from mine to yours and run the cell again!\n",
    "\n",
    "This is the great thing about Jupyter notebooks and Colab in general - if we write our code well we can make small changes to drastically change the output.\n",
    "\n",
    "You can probably guess what is happening in the above cell by looking at it, but consider the cell below:"
   ]
  },
  {
   "cell_type": "code",
   "execution_count": null,
   "metadata": {},
   "outputs": [],
   "source": [
    "from time import sleep \n",
    "length = 100\n",
    "speed = 10\n",
    "\n",
    "for i in range(length):\n",
    "    print(\"-\" * (i % 20), \"(^ o ^)\", \"-\" * (20 - i % 20), end=\"\\r\")\n",
    "    sleep(1/speed)"
   ]
  },
  {
   "cell_type": "markdown",
   "metadata": {},
   "source": [
    "This cell is a bit more confusing, but hopefully you can understand what the controls at the top are doing!\n",
    "\n",
    "Let's go back to the original cells and see what's going on:"
   ]
  },
  {
   "cell_type": "code",
   "execution_count": null,
   "metadata": {},
   "outputs": [],
   "source": [
    "name = \"Luc Elliott\"\n",
    "print(\"Hello,\", name, \"; how are you doing?\")"
   ]
  },
  {
   "cell_type": "markdown",
   "metadata": {},
   "source": [
    "The first line, `name = \"Luc Elliott\"`, is assigning a *string* to a *variable*.\n",
    "\n",
    "*Variables* store data under a name, and are mutable (can be changed) over the course of a program. In this notebook it might be hard to understand why we are using a variable for `name` rather than just typing it in ourselves - like with many things in this course it will become more and more clear why were are doing this over time, but for now consider what would happen if then wanted to do something with someone's name multiple times, but they had a really complex and long name that was hard to spell. It's much easier to assign it to a label first then continue to reference to it later!\n",
    "\n",
    "Variables are also helpful for generalising our code. It is vitally important to understand that **whenever Python *sees* our variable, it *thinks* of that variable's current value**.\n",
    "\n",
    "*Strings* are a *type* of data in Python, and represent most simple text objects, for example names, addresses etc. They're very common to work with in Python and often form the basis to build other types from (more on that much later!). \n",
    "\n",
    "*Types* form a fundamental concept in programming languages like Python in that every *object* (for example a name) has a type, and that type governs the *attributes* and *methods* that come with it. *Attributes* are the *adjectives* of the object, for example, a `Car` type might have `no_wheels` or `colour` as attributes. *Methods* are the *verbs* an object can do - for example a `Car` might have a `drive` or `open_door` method that does something to the car or its surroundings. There's much more to it than this, and we'll cover this in more detail in a later week when we look at object orientated programming.\n",
    "\n",
    "All of this is very abstract, but understanding that we have these different families of objects that share behaviours is very important. Another type would be *integers* (any whole number):"
   ]
  },
  {
   "cell_type": "code",
   "execution_count": 8,
   "metadata": {},
   "outputs": [],
   "source": [
    "number_of_apples = 3"
   ]
  },
  {
   "cell_type": "markdown",
   "metadata": {},
   "source": [
    "Note that integers are declared without any speech marks, and are just numbers. We have a couple of ways to inspect variables and objects in Python; `print` will tell us the contents of an object, `type` will tell us the type of an object, and `dir` will tell us all the attributes and methods available to this object. Note that I am printing the values of the `type` and `dir` outputs - this is because those functions output another object without assuming we want to see it!"
   ]
  },
  {
   "cell_type": "code",
   "execution_count": null,
   "metadata": {},
   "outputs": [],
   "source": [
    "print(number_of_apples)"
   ]
  },
  {
   "cell_type": "code",
   "execution_count": null,
   "metadata": {},
   "outputs": [],
   "source": [
    "print(type(number_of_apples))"
   ]
  },
  {
   "cell_type": "code",
   "execution_count": null,
   "metadata": {},
   "outputs": [],
   "source": [
    "print(dir(number_of_apples))"
   ]
  },
  {
   "cell_type": "markdown",
   "metadata": {},
   "source": [
    "The output of `dir` is very confusing (what's with all the \"__\"?) but we'll make more sense of this later.\n",
    "\n",
    "We are allowed to add, multiply, divide and subtract integers using Python:\n",
    "\n"
   ]
  },
  {
   "cell_type": "code",
   "execution_count": null,
   "metadata": {},
   "outputs": [],
   "source": [
    "print(3 + 5)"
   ]
  },
  {
   "cell_type": "markdown",
   "metadata": {},
   "source": [
    "Remember we are allowed to do this with variables that *hold integer values* as well:"
   ]
  },
  {
   "cell_type": "code",
   "execution_count": null,
   "metadata": {},
   "outputs": [],
   "source": [
    "number_of_apples = 5\n",
    "number_of_oranges = 7\n",
    "\n",
    "number_of_fruits = number_of_apples + number_of_oranges\n",
    "\n",
    "print(number_of_fruits)"
   ]
  },
  {
   "cell_type": "markdown",
   "metadata": {},
   "source": [
    "This addition works in the normal way, but what happens if we try and add something non-numeric, such as a string?\n",
    "\n",
    "Adding two strings together, suprisingly, works!"
   ]
  },
  {
   "cell_type": "code",
   "execution_count": null,
   "metadata": {},
   "outputs": [],
   "source": [
    "first_name = \"Luc \"\n",
    "last_name = \"Elliott\"\n",
    "\n",
    "print(first_name + last_name)"
   ]
  },
  {
   "cell_type": "markdown",
   "metadata": {},
   "source": [
    "However it works in a different way to integers; this is because how Python adds numbers together is defined by the type of object it's trying to add. In the case of numbers, this is done numerically in the normal way - but with strings addition concatenates the two strings together. Sometimes we can add types to different types; consider another new type, the *floating point number* - any number with a decimal point:"
   ]
  },
  {
   "cell_type": "code",
   "execution_count": null,
   "metadata": {},
   "outputs": [],
   "source": [
    "my_float = 3.5\n",
    "my_int = 4\n",
    "\n",
    "print(my_float + my_int)"
   ]
  },
  {
   "cell_type": "markdown",
   "metadata": {},
   "source": [
    "In this case, Python intelligently realises that we are trying to add two numbers together and coerces the integer into being a floating point number for the sake of the addition. The addition outputs a floating point number - even if the output should be \"whole\":"
   ]
  },
  {
   "cell_type": "code",
   "execution_count": null,
   "metadata": {},
   "outputs": [],
   "source": [
    "result = 3.5 + 3.5\n",
    "print(result)\n",
    "print(type(result))"
   ]
  },
  {
   "cell_type": "markdown",
   "metadata": {},
   "source": [
    "Sometimes the addition cannot be cooerced into another type however - for example trying to add an integer to a string doesn't really make any sense and Python will give an error:"
   ]
  },
  {
   "cell_type": "code",
   "execution_count": null,
   "metadata": {},
   "outputs": [],
   "source": [
    "\"Hello\" + 4"
   ]
  },
  {
   "cell_type": "markdown",
   "metadata": {},
   "source": [
    "Python is *dynamically typed* - meaning that Python will try and infer the type of variables and change variable's types implicitly depending on what you to them. Some other languages are *statically typed* meaning a variable's type cannot change unless explicitly told to by the user. This is a double edged sword - dynamic typing makes things a lot easier for programming small programs, but can lead to some unexpected behaviour in more complex programs.\n",
    "\n",
    "Now let's look at some important operations for numbers in Python. We have all the usual favourites: addition, subtraction, mulitplication and division:"
   ]
  },
  {
   "cell_type": "code",
   "execution_count": null,
   "metadata": {},
   "outputs": [],
   "source": [
    "print(3 + 2)\n",
    "print(4 - 5)\n",
    "print(6 * 7)\n",
    "print(8 / 9)"
   ]
  },
  {
   "cell_type": "markdown",
   "metadata": {},
   "source": [
    "We also have 2 more operations of particular note: floor division and the \"modulo\" operator.\n",
    "\n",
    "You may have noticed that the division operator is the only operator above that can output a float from two integers - this can cause some problems as sometimes we want to stay working with integers. Therefore the floor division operator will perform the division but discard the remainder, and the modulo operator will perform the division and *only keep the remainder*.\n",
    "\n",
    "So in the case of 13 divided by 3, we have 4 with 1 left over. To do floor division and modulo in Python, we use the `//` and `%` signs respectively:"
   ]
  },
  {
   "cell_type": "code",
   "execution_count": null,
   "metadata": {},
   "outputs": [],
   "source": [
    "print(13 // 4)\n",
    "print(13 % 4)"
   ]
  },
  {
   "cell_type": "markdown",
   "metadata": {},
   "source": [
    "This may seem useless at the moment, but you'd be suprised how often this comes up in programming!\n",
    "\n",
    "Now let's look at 3 other important types before we get into some independent work.\n",
    "\n",
    "So far we have looked at types with an unlimited number of possible values - however perhaps the most important type, the *boolean*, only has two possible values: `True` and `False`. There's not much to say about this for now, but they are critical to control flow (next week!) and a lot of how things work under the hood. `True` and `False` are reserved words in Python, meaning we can't use them for variable names (you shouldn't really start variable names with a capital anyway!), and are declared without speech marks:"
   ]
  },
  {
   "cell_type": "code",
   "execution_count": null,
   "metadata": {},
   "outputs": [],
   "source": [
    "my_bool = True\n",
    "print(my_bool)"
   ]
  },
  {
   "cell_type": "markdown",
   "metadata": {},
   "source": [
    "Perhaps more interesting for now are *lists* and *dictionaries*. These are both *data structures* that hold other bits of data. To declare a list, we use square brackets:"
   ]
  },
  {
   "cell_type": "code",
   "execution_count": null,
   "metadata": {},
   "outputs": [],
   "source": [
    "my_list = [1, 2, 3, \"hello world\"]\n",
    "print(my_list)"
   ]
  },
  {
   "cell_type": "markdown",
   "metadata": {},
   "source": [
    "Lists can have any number of types within them, including other lists! To retreive items from the list, we use a process called *indexing*. We take the list and count the element we want to retrieve *starting at 0*. So to retrieve the 2nd element in the list, we use index 1. We use square brackets after the list with the index of what we want to retrieve."
   ]
  },
  {
   "cell_type": "code",
   "execution_count": null,
   "metadata": {},
   "outputs": [],
   "source": [
    "print(my_list[1])"
   ]
  },
  {
   "cell_type": "markdown",
   "metadata": {},
   "source": [
    "There are a number of reasons we start at 0, but the most compelling is that this number actually refers to the distance from the first element in memory - this is how lists were first defined and it's stuck around; some other programming languages have indexing starting at 1 (R, Lua), but the standard is to start at 0.\n",
    "\n",
    "We can also generate new lists from this list using a process called *slicing*. This is similar to indexing but we provide two numbers, the first is the first index (inclusive) and the second the last index (exclusive). For example, to get the numbers `[1, 2, 3]` from the list above, we start at the 0th index and stop *before* the final index 3:"
   ]
  },
  {
   "cell_type": "code",
   "execution_count": null,
   "metadata": {},
   "outputs": [],
   "source": [
    "print(my_list[0: 3])"
   ]
  },
  {
   "cell_type": "markdown",
   "metadata": {},
   "source": [
    "It's a bit strange that we have the inclusive/exclusive pattern for each number, but the best explaination of this is that the length of the resulting list will be the difference between the two numbers (in this case, 3 - 0 is 3.). It's an extremely common source of errors to have an index off by one (these errors are unsuprisingly called \"off-by-one errors!\"), so don't worry if you run into them loads at the start - experienced programmers do too!\n",
    "\n",
    "There's a few little hacks for slicing that I have to include simply because they're very cool - we can include a third number to define how often we want to take a number. Say we want `[1, 3]`, skipping the `2`. We can write the following:"
   ]
  },
  {
   "cell_type": "code",
   "execution_count": null,
   "metadata": {},
   "outputs": [],
   "source": [
    "print(my_list[0: 3: 2])"
   ]
  },
  {
   "cell_type": "markdown",
   "metadata": {},
   "source": [
    "This will take every second element from the list between the two indicies!\n",
    "\n",
    "We can also use negative numbers for indexing and slicing - these will count backwards from the end of the list for the first two examples, and define skipping backwards throughout the list for the previous case.\n",
    "\n",
    "If we leave a slice index blank, Python will assume you just mean \"to the end of the list\".\n",
    "\n",
    "For example, if we want to count backwards along the list `[1, 2, 3]`, we can use the following - note that the \"to\" and \"from\" indexes in the slice are reversed:"
   ]
  },
  {
   "cell_type": "code",
   "execution_count": null,
   "metadata": {},
   "outputs": [],
   "source": [
    "print(my_list[-2::-1])"
   ]
  },
  {
   "cell_type": "markdown",
   "metadata": {},
   "source": [
    "So that's it for getting elements out of lists, but what about putting elements in, or chaning ? For this we have a plethora of options - to change elements in the list we can reassign them in the same way we do for normal variables:"
   ]
  },
  {
   "cell_type": "code",
   "execution_count": null,
   "metadata": {},
   "outputs": [],
   "source": [
    "my_list[-1] = 4\n",
    "print(my_list)"
   ]
  },
  {
   "cell_type": "markdown",
   "metadata": {},
   "source": [
    "To add elements to a list, the most explicit way is to use the `append` method. Again, we'll look at methods in more detail later but remember they are the *verbs* or functions specific to a type:"
   ]
  },
  {
   "cell_type": "code",
   "execution_count": null,
   "metadata": {},
   "outputs": [],
   "source": [
    "my_list.append(5)\n",
    "print(my_list)"
   ]
  },
  {
   "cell_type": "markdown",
   "metadata": {},
   "source": [
    "There are a few methods like `append` for adding and removing elements in a list, including `pop`, `insert` and `remove`; as well as a few methods for joining lists together like `extend`. One cool trick to know is that to join two lists together we can simply use the `+` operator - another example of this operator having multiple different usages depending on the type it operates on!"
   ]
  },
  {
   "cell_type": "code",
   "execution_count": null,
   "metadata": {},
   "outputs": [],
   "source": [
    "print([1, 2] + [3, 4])"
   ]
  },
  {
   "cell_type": "markdown",
   "metadata": {},
   "source": [
    "Finally for lists, you'll find that there are types of object in Python that are sometimes referred to *list-like*. These are typically types that have methods for iteration and indexing in the same way lists do, but have a different or more complex representation in memory. The simplest example of this is the output of the `range` function: "
   ]
  },
  {
   "cell_type": "code",
   "execution_count": null,
   "metadata": {},
   "outputs": [],
   "source": [
    "print(range(10))"
   ]
  },
  {
   "cell_type": "markdown",
   "metadata": {},
   "source": [
    "This gives the numbers from 0 up to (but not including) the number given, but as of Python 3 does not return a list, but rather this custom `range` object. The reason for this will be explained later, but know that these can usually be forced into list form by using the `list()` function:"
   ]
  },
  {
   "cell_type": "code",
   "execution_count": null,
   "metadata": {},
   "outputs": [],
   "source": [
    "print(list(range(10)))"
   ]
  },
  {
   "cell_type": "markdown",
   "metadata": {},
   "source": [
    "Strings are also list-like objects! We can convert them to a list, and index from them as we can with normal lists!"
   ]
  },
  {
   "cell_type": "code",
   "execution_count": null,
   "metadata": {},
   "outputs": [],
   "source": [
    "print(list('hello world'))\n",
    "print('hello world'[4])"
   ]
  },
  {
   "cell_type": "markdown",
   "metadata": {},
   "source": [
    "Lists are very versatile, and very helpful in data analysis - but sometimes we want to be more explicit with what each of the elements in the list represents. For this, dictionaries are the way to go. They contain *key value pairs* where we can use the keys for indexing the values out.\n",
    "\n",
    "Take the following dictionary:"
   ]
  },
  {
   "cell_type": "code",
   "execution_count": 21,
   "metadata": {},
   "outputs": [],
   "source": [
    "lecturer = {\"Name\": \"Luc Elliott\", \"Languages\": [\"Python\", \"Javascript\", \"Rust\"], \"Age\": 28}"
   ]
  },
  {
   "cell_type": "markdown",
   "metadata": {},
   "source": [
    "Indexing works the same way, but we use the keys instead of the numerical position in the dictionary."
   ]
  },
  {
   "cell_type": "code",
   "execution_count": null,
   "metadata": {},
   "outputs": [],
   "source": [
    "print(lecturer[\"Name\"])"
   ]
  },
  {
   "cell_type": "markdown",
   "metadata": {},
   "source": [
    "# Exercises\n",
    "\n",
    "The point of these exercises is to get you comfortable with entering code into notebooks and experiementing with the results. I *highly* encourage you to go off-piste with all the exercises in the course and go crazy with it. My favourite emails are the ones where people take the exercises somewhere else!\n",
    "\n",
    "That being said, this week's exercises are pretty simple as it's about getting familar with the enviroment and building confidence with entering code. Like learning any language, practice is the way to fluency, but don't feel the need to complete every single exercise if you feel like you completely get it. Try something else!\n",
    "\n",
    "## Variables and Operations\n",
    "\n",
    "1) Create two variables with appropriate names to track the number of apples and number of oranges in a basket, and give them two appropriate values.\n",
    "2) *By using the variables you've just defined*, overwrite the values of the above given the current things happening:\n",
    "\n",
    "* I give you 3 apples.\n",
    "* I take away 2 oranges.\n",
    "* I double the amount of oranges you have.\n",
    "* I ask you to distribute your apples equally between 4 other people - any apples you have that can't be split evenly, you keep.\n",
    "\n",
    "3) Set a new variable with an appropriate name to the total number of fruits you have.\n",
    "4) What is the proportion of apples to oranges you have?\n",
    "5) After sucessfully running your fruit counting business for a few years, the number of fruits you work with starts to increase dramatically; but since you're a Python expert, you can still manage your stock levels! You now have `1298371` bananas and `238764384` mangos. Assign these two numbers to two more variables with sensible names.\n",
    "\n",
    "* You have quite a lot of mangos. You decide to box them up into boxes of 12. How many boxes do you have? Assign this to a new variable.\n",
    "* You really want to shift these boxes of mangos, so decide to run a promotion where for each banana sold, customers get a number of boxes of mangos. What is the maximum amount of boxes of mangos you can give per banana guaranteeing that you don't run out of boxes? Then, if you sell out of bananas with this deal, how many boxes will you have left over?\n",
    "\n",
    "\n",
    "## Lists and Dictionaries\n",
    "\n",
    "1) Create a list and assign it to a variable with at least 6 elements, including:\n",
    "\n",
    "* One string\n",
    "* One boolean object\n",
    "* One sublist of at least length 3.\n",
    "\n",
    "2) From your list, retrieve the third element\n",
    "3) From your list, retrieve the string\n",
    "4) From your list, retrieve the second element of the sublist\n",
    "5) Get the 2nd through to the 5th sublist of your list.\n",
    "6) Get the backwards version of your list. Is the sublist reversed as well?\n",
    "7) Get every even-indexed element of your list (0 is even)\n",
    "8) Add the string `\"orange\"` to the end of your list.\n",
    "\n",
    "9) Now create a dictionary with the following information, using suitable key labels:\n",
    "\n",
    "* Your name\n",
    "* Your favourite colour\n",
    "* Your favourite number\n",
    "* If you prefer dogs to cats (`True` if dogs, `False` if cats)\n",
    "\n",
    "9) Retrieve your favourite colour from this dictionary using indexing.\n",
    "\n",
    "## Unseen Stuff\n",
    "\n",
    "There's going to be a section every week where I ask you to investigate some Python that we didn't explicitly talk about during the session. Don't be afraid to Google things you don't understand - the point of this section is to get you exploring Python yourself a bit more and building confidence for independent work!\n",
    "\n",
    "### Sets\n",
    "\n",
    "There's another data structure we didn't look at that is worth considering - the set. Sets are like lists but with some differences: duplicates are *not allowed* in sets, and they are unordered, unindexable and the elements cannot be updated.\n",
    "\n",
    "To create a list, we use curly brackets (`{}`) like a dictionary, but only provide items rather than key value pairs separated by colons.\n",
    "\n",
    "1) Create a set, attempting to add duplicate items and `print` the result.\n",
    "2) Using the `dir` command, or Google, try and find the way to add elements to the set (it's not `.append()`!)\n",
    "3) Sets are used in many cases where we want to compare if two groups both contain the same elements, without caring how many of said element exists. Consider the two sets below:\n",
    "\n",
    "```\n",
    "a = {1, 2, 3, 4, 7}\n",
    "b = {4, 5, 6, 7, 8}\n",
    "```\n",
    "\n",
    "Can you find a way to:\n",
    "\n",
    "* Find the numbers that are in both `a` and `b`?\n",
    "* Create a new set from `a` and `b` containing all numbers in both `a` and `b`?\n",
    "* Create a new set from `a` without any elements that are in `b`?\n",
    "\n",
    "## Tuples\n",
    "\n",
    "The other builtin data structure in Python is the Tuple. Tuples are like lists, but are immutable (cannot be changed after defining them). They're helpful in cases where we know the data structure is definetely not going to change. Tuples are defined in the same way as lists, but using round brackets `()` instead of square brackets `[]`. \n",
    "\n",
    "Try and complete all the exersises for the lists above, but with a tuple instead. Which, if any of the questions are impossible?"
   ]
  }
 ],
 "metadata": {
  "kernelspec": {
   "display_name": "Python 3",
   "language": "python",
   "name": "python3"
  },
  "language_info": {
   "codemirror_mode": {
    "name": "ipython",
    "version": 3
   },
   "file_extension": ".py",
   "mimetype": "text/x-python",
   "name": "python",
   "nbconvert_exporter": "python",
   "pygments_lexer": "ipython3",
   "version": "3.11.6"
  },
  "orig_nbformat": 4
 },
 "nbformat": 4,
 "nbformat_minor": 2
}
