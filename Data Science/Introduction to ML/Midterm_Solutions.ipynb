{
  "nbformat": 4,
  "nbformat_minor": 0,
  "metadata": {
    "colab": {
      "name": "Midterm Solutions.ipynb",
      "provenance": [],
      "collapsed_sections": []
    },
    "kernelspec": {
      "name": "python3",
      "display_name": "Python 3"
    },
    "language_info": {
      "name": "python"
    }
  },
  "cells": [
    {
      "cell_type": "markdown",
      "metadata": {
        "id": "jn_lwAdZ_YWc"
      },
      "source": [
        "# Titanic Worksheet Solutions\n",
        "\n",
        "Note: I imagine there are a number of ways of completing all of these questions. This is just how I did them!"
      ]
    },
    {
      "cell_type": "code",
      "metadata": {
        "colab": {
          "base_uri": "https://localhost:8080/"
        },
        "id": "0qe67k49_UA1",
        "outputId": "16343850-04a1-4ad9-c5bb-07ff509dcb2b"
      },
      "source": [
        "!wget \"https://raw.githubusercontent.com/stmball/PracticalPython/main/Data%20Visualisation/titanic.csv\""
      ],
      "execution_count": 1,
      "outputs": [
        {
          "output_type": "stream",
          "name": "stdout",
          "text": [
            "--2021-11-03 13:53:11--  https://raw.githubusercontent.com/stmball/PracticalPython/main/Data%20Visualisation/titanic.csv\n",
            "Resolving raw.githubusercontent.com (raw.githubusercontent.com)... 185.199.110.133, 185.199.108.133, 185.199.111.133, ...\n",
            "Connecting to raw.githubusercontent.com (raw.githubusercontent.com)|185.199.110.133|:443... connected.\n",
            "HTTP request sent, awaiting response... 200 OK\n",
            "Length: 44225 (43K) [text/plain]\n",
            "Saving to: ‘titanic.csv’\n",
            "\n",
            "titanic.csv         100%[===================>]  43.19K  --.-KB/s    in 0.001s  \n",
            "\n",
            "2021-11-03 13:53:11 (48.0 MB/s) - ‘titanic.csv’ saved [44225/44225]\n",
            "\n"
          ]
        }
      ]
    },
    {
      "cell_type": "code",
      "metadata": {
        "id": "qG86a5s4_xJ8"
      },
      "source": [
        "import pandas as pd\n",
        "import numpy as np\n",
        "import matplotlib.pyplot as plt\n",
        "import scipy.stats as stats\n",
        "\n",
        "titanic = pd.read_csv(\"./titanic.csv\")"
      ],
      "execution_count": 2,
      "outputs": []
    },
    {
      "cell_type": "markdown",
      "metadata": {
        "id": "5e3Jt7EK_p4j"
      },
      "source": [
        "## Initial exploration"
      ]
    },
    {
      "cell_type": "code",
      "metadata": {
        "colab": {
          "base_uri": "https://localhost:8080/"
        },
        "id": "xOehPfM__nvI",
        "outputId": "5304aab0-cfad-4d25-ce1b-50cce254a5fb"
      },
      "source": [
        "# Which features are recorded in the dataset?\n",
        "titanic.info()\n",
        "\n",
        "# Found in the \"Column\" column below.\n",
        "\n",
        "# How many passengers are recorded?\n",
        "# 887 (second row below)\n",
        "\n",
        "# Do we have any missing data?\n",
        "# No - all of the rows have 887 non-null entries."
      ],
      "execution_count": 3,
      "outputs": [
        {
          "output_type": "stream",
          "name": "stdout",
          "text": [
            "<class 'pandas.core.frame.DataFrame'>\n",
            "RangeIndex: 887 entries, 0 to 886\n",
            "Data columns (total 8 columns):\n",
            " #   Column                   Non-Null Count  Dtype  \n",
            "---  ------                   --------------  -----  \n",
            " 0   Survived                 887 non-null    int64  \n",
            " 1   Pclass                   887 non-null    int64  \n",
            " 2   Name                     887 non-null    object \n",
            " 3   Sex                      887 non-null    object \n",
            " 4   Age                      887 non-null    float64\n",
            " 5   Siblings/Spouses Aboard  887 non-null    int64  \n",
            " 6   Parents/Children Aboard  887 non-null    int64  \n",
            " 7   Fare                     887 non-null    float64\n",
            "dtypes: float64(2), int64(4), object(2)\n",
            "memory usage: 55.6+ KB\n"
          ]
        }
      ]
    },
    {
      "cell_type": "code",
      "metadata": {
        "colab": {
          "base_uri": "https://localhost:8080/",
          "height": 334
        },
        "id": "bId4zcnm__Q1",
        "outputId": "e0e08d77-1bf8-45e4-88b9-0128c37dfc82"
      },
      "source": [
        "# What is the average age of a passenger?\n",
        "titanic.describe()\n",
        "# 29.47 years.\n",
        "\n",
        "# What is the probability of a randomly selected passenger surviving?\n",
        "# 0.3856 (mean survived)."
      ],
      "execution_count": 4,
      "outputs": [
        {
          "output_type": "execute_result",
          "data": {
            "text/html": [
              "<div>\n",
              "<style scoped>\n",
              "    .dataframe tbody tr th:only-of-type {\n",
              "        vertical-align: middle;\n",
              "    }\n",
              "\n",
              "    .dataframe tbody tr th {\n",
              "        vertical-align: top;\n",
              "    }\n",
              "\n",
              "    .dataframe thead th {\n",
              "        text-align: right;\n",
              "    }\n",
              "</style>\n",
              "<table border=\"1\" class=\"dataframe\">\n",
              "  <thead>\n",
              "    <tr style=\"text-align: right;\">\n",
              "      <th></th>\n",
              "      <th>Survived</th>\n",
              "      <th>Pclass</th>\n",
              "      <th>Age</th>\n",
              "      <th>Siblings/Spouses Aboard</th>\n",
              "      <th>Parents/Children Aboard</th>\n",
              "      <th>Fare</th>\n",
              "    </tr>\n",
              "  </thead>\n",
              "  <tbody>\n",
              "    <tr>\n",
              "      <th>count</th>\n",
              "      <td>887.000000</td>\n",
              "      <td>887.000000</td>\n",
              "      <td>887.000000</td>\n",
              "      <td>887.000000</td>\n",
              "      <td>887.000000</td>\n",
              "      <td>887.00000</td>\n",
              "    </tr>\n",
              "    <tr>\n",
              "      <th>mean</th>\n",
              "      <td>0.385569</td>\n",
              "      <td>2.305524</td>\n",
              "      <td>29.471443</td>\n",
              "      <td>0.525366</td>\n",
              "      <td>0.383315</td>\n",
              "      <td>32.30542</td>\n",
              "    </tr>\n",
              "    <tr>\n",
              "      <th>std</th>\n",
              "      <td>0.487004</td>\n",
              "      <td>0.836662</td>\n",
              "      <td>14.121908</td>\n",
              "      <td>1.104669</td>\n",
              "      <td>0.807466</td>\n",
              "      <td>49.78204</td>\n",
              "    </tr>\n",
              "    <tr>\n",
              "      <th>min</th>\n",
              "      <td>0.000000</td>\n",
              "      <td>1.000000</td>\n",
              "      <td>0.420000</td>\n",
              "      <td>0.000000</td>\n",
              "      <td>0.000000</td>\n",
              "      <td>0.00000</td>\n",
              "    </tr>\n",
              "    <tr>\n",
              "      <th>25%</th>\n",
              "      <td>0.000000</td>\n",
              "      <td>2.000000</td>\n",
              "      <td>20.250000</td>\n",
              "      <td>0.000000</td>\n",
              "      <td>0.000000</td>\n",
              "      <td>7.92500</td>\n",
              "    </tr>\n",
              "    <tr>\n",
              "      <th>50%</th>\n",
              "      <td>0.000000</td>\n",
              "      <td>3.000000</td>\n",
              "      <td>28.000000</td>\n",
              "      <td>0.000000</td>\n",
              "      <td>0.000000</td>\n",
              "      <td>14.45420</td>\n",
              "    </tr>\n",
              "    <tr>\n",
              "      <th>75%</th>\n",
              "      <td>1.000000</td>\n",
              "      <td>3.000000</td>\n",
              "      <td>38.000000</td>\n",
              "      <td>1.000000</td>\n",
              "      <td>0.000000</td>\n",
              "      <td>31.13750</td>\n",
              "    </tr>\n",
              "    <tr>\n",
              "      <th>max</th>\n",
              "      <td>1.000000</td>\n",
              "      <td>3.000000</td>\n",
              "      <td>80.000000</td>\n",
              "      <td>8.000000</td>\n",
              "      <td>6.000000</td>\n",
              "      <td>512.32920</td>\n",
              "    </tr>\n",
              "  </tbody>\n",
              "</table>\n",
              "</div>"
            ],
            "text/plain": [
              "         Survived      Pclass  ...  Parents/Children Aboard       Fare\n",
              "count  887.000000  887.000000  ...               887.000000  887.00000\n",
              "mean     0.385569    2.305524  ...                 0.383315   32.30542\n",
              "std      0.487004    0.836662  ...                 0.807466   49.78204\n",
              "min      0.000000    1.000000  ...                 0.000000    0.00000\n",
              "25%      0.000000    2.000000  ...                 0.000000    7.92500\n",
              "50%      0.000000    3.000000  ...                 0.000000   14.45420\n",
              "75%      1.000000    3.000000  ...                 0.000000   31.13750\n",
              "max      1.000000    3.000000  ...                 6.000000  512.32920\n",
              "\n",
              "[8 rows x 6 columns]"
            ]
          },
          "metadata": {},
          "execution_count": 4
        }
      ]
    },
    {
      "cell_type": "markdown",
      "metadata": {
        "id": "XNRrX_e2Ab50"
      },
      "source": [
        "# Kids Travel Free!"
      ]
    },
    {
      "cell_type": "code",
      "metadata": {
        "colab": {
          "base_uri": "https://localhost:8080/"
        },
        "id": "C5lrwX3fAeRD",
        "outputId": "bcec0ae4-90f8-4682-d1e9-da76dcc0d9ee"
      },
      "source": [
        "# What was the average fare for a child?\n",
        "\n",
        "children = titanic[titanic[\"Age\"] < 18]\n",
        "children[\"Fare\"].mean()"
      ],
      "execution_count": 5,
      "outputs": [
        {
          "output_type": "execute_result",
          "data": {
            "text/plain": [
              "31.05782307692309"
            ]
          },
          "metadata": {},
          "execution_count": 5
        }
      ]
    },
    {
      "cell_type": "code",
      "metadata": {
        "colab": {
          "base_uri": "https://localhost:8080/"
        },
        "id": "0vM_84DaARBx",
        "outputId": "d9817bce-0449-48b0-9bf3-12e3fddfb237"
      },
      "source": [
        "# What was the average fare for an adult?\n",
        "\n",
        "adults = titanic[titanic[\"Age\"] >= 18]\n",
        "adults[\"Fare\"].mean()\n"
      ],
      "execution_count": 6,
      "outputs": [
        {
          "output_type": "execute_result",
          "data": {
            "text/plain": [
              "32.51967067371195"
            ]
          },
          "metadata": {},
          "execution_count": 6
        }
      ]
    },
    {
      "cell_type": "code",
      "metadata": {
        "colab": {
          "base_uri": "https://localhost:8080/",
          "height": 342
        },
        "id": "P6onu7LBAt2-",
        "outputId": "af09360d-b4ed-4a37-ff8f-3b5f6e99e943"
      },
      "source": [
        "# Histogram of ages.\n",
        "fig, (ax1, ax2) = plt.subplots(nrows=1, ncols=2, figsize=(20, 10))\n",
        "\n",
        "ax1.hist(titanic[\"Age\"])\n",
        "ax1.set_ylabel(\"Class Frequency\")\n",
        "ax1.set_xlabel(\"Age\")\n",
        "ax1.set_title(\"Histogram of Ages on the Titanic\")\n",
        "\n",
        "ax2.hist(titanic[\"Fare\"])\n",
        "ax2.set_ylabel(\"Class Frequency\")\n",
        "ax2.set_xlabel(\"Fare\")\n",
        "ax2.set_title(\"Histogram of Fares on the Titanic\")\n",
        "\n",
        "plt.show()"
      ],
      "execution_count": 7,
      "outputs": [
        {
          "output_type": "display_data",
          "data": {
            "image/png": "[encoded data removed]",
            "text/plain": [
              "<Figure size 1440x720 with 2 Axes>"
            ]
          },
          "metadata": {
            "needs_background": "light"
          }
        }
      ]
    },
    {
      "cell_type": "code",
      "metadata": {
        "colab": {
          "base_uri": "https://localhost:8080/",
          "height": 621
        },
        "id": "DHwJZmMgCQXn",
        "outputId": "3eb25be8-3522-42cd-d5d3-62ced3bf5c46"
      },
      "source": [
        "# Scatterplot (WITHOUT class colours) \n",
        "fig, ax = plt.subplots(figsize=(10, 10))\n",
        "\n",
        "ax.scatter(titanic[\"Age\"], titanic[\"Fare\"])\n",
        "\n",
        "ax.set_xlabel(\"Age\")\n",
        "ax.set_ylabel(\"Fare\")\n",
        "ax.set_title(\"Age vs Fare of passengers on the Titanic\")\n",
        "\n",
        "\n",
        "plt.show()"
      ],
      "execution_count": 8,
      "outputs": [
        {
          "output_type": "display_data",
          "data": {
            "image/png": "[encoded data removed]",
            "text/plain": [
              "<Figure size 720x720 with 1 Axes>"
            ]
          },
          "metadata": {
            "needs_background": "light"
          }
        }
      ]
    },
    {
      "cell_type": "code",
      "metadata": {
        "colab": {
          "base_uri": "https://localhost:8080/",
          "height": 621
        },
        "id": "r9dCVwO_CfCR",
        "outputId": "34664b30-8908-4af2-f12c-8b363ab62212"
      },
      "source": [
        "# Scatterplot (WITH class colours) \n",
        "fig, ax = plt.subplots(figsize=(10, 10))\n",
        "classes = [\"First Class\", \"Second Class\", \"Third Class\"]\n",
        "\n",
        "for i in range(3):\n",
        "    subset = titanic[titanic[\"Pclass\"] == i + 1]\n",
        "    ax.scatter(subset[\"Age\"], subset[\"Fare\"], label=classes[i])\n",
        "\n",
        "ax.set_xlabel(\"Age\")\n",
        "ax.set_ylabel(\"Fare\")\n",
        "ax.set_title(\"Age vs Fare of passengers on the Titanic\")\n",
        "ax.legend()\n",
        "\n",
        "\n",
        "plt.show()"
      ],
      "execution_count": 9,
      "outputs": [
        {
          "output_type": "display_data",
          "data": {
            "image/png": "[encoded data removed]",
            "text/plain": [
              "<Figure size 720x720 with 1 Axes>"
            ]
          },
          "metadata": {
            "needs_background": "light"
          }
        }
      ]
    },
    {
      "cell_type": "code",
      "metadata": {
        "colab": {
          "base_uri": "https://localhost:8080/"
        },
        "id": "LIKfkxhgEU1r",
        "outputId": "355e3fb9-b8e0-4aa4-a270-6c0d88c8abcb"
      },
      "source": [
        "# Statistical test\n",
        "stats.linregress(titanic[\"Age\"], titanic[\"Fare\"])"
      ],
      "execution_count": 10,
      "outputs": [
        {
          "output_type": "execute_result",
          "data": {
            "text/plain": [
              "LinregressResult(slope=0.39597684566756997, intercept=20.635411117632792, rvalue=0.11232863699941621, pvalue=0.0008042532605328598, stderr=0.11774713021133451)"
            ]
          },
          "metadata": {},
          "execution_count": 10
        }
      ]
    },
    {
      "cell_type": "markdown",
      "metadata": {
        "id": "6cY8B1WJEhb8"
      },
      "source": [
        "# You Get What You Pay For"
      ]
    },
    {
      "cell_type": "code",
      "metadata": {
        "id": "TTCLZQjQEez-",
        "colab": {
          "base_uri": "https://localhost:8080/"
        },
        "outputId": "89a2f988-f5c9-4527-9f9f-b9f57755db32"
      },
      "source": [
        "# How many passenders were in each class?\n",
        "titanic[\"Pclass\"].value_counts()"
      ],
      "execution_count": 12,
      "outputs": [
        {
          "output_type": "execute_result",
          "data": {
            "text/plain": [
              "3    487\n",
              "1    216\n",
              "2    184\n",
              "Name: Pclass, dtype: int64"
            ]
          },
          "metadata": {},
          "execution_count": 12
        }
      ]
    },
    {
      "cell_type": "code",
      "metadata": {
        "colab": {
          "base_uri": "https://localhost:8080/"
        },
        "id": "x1FGJB34Ezmm",
        "outputId": "8a1167fc-0d73-47a6-a474-858a7b2fd19c"
      },
      "source": [
        "# What was the average fare paid per class?\n",
        "titanic.groupby(by=\"Pclass\").mean()[\"Fare\"]"
      ],
      "execution_count": 14,
      "outputs": [
        {
          "output_type": "execute_result",
          "data": {
            "text/plain": [
              "Pclass\n",
              "1    84.154687\n",
              "2    20.662183\n",
              "3    13.707707\n",
              "Name: Fare, dtype: float64"
            ]
          },
          "metadata": {},
          "execution_count": 14
        }
      ]
    },
    {
      "cell_type": "code",
      "metadata": {
        "colab": {
          "base_uri": "https://localhost:8080/",
          "height": 675
        },
        "id": "TZXPhLOBFCJ_",
        "outputId": "bd62f345-fd2c-424f-c7a3-169bc3aa9d9d"
      },
      "source": [
        "# Boxplot\n",
        "fig, ax = plt.subplots(figsize=(10, 10))\n",
        "classes = [\"First Class\", \"Second Class\", \"Third Class\"]\n",
        "data_for_plotting = []\n",
        "\n",
        "for i in range(3):\n",
        "    subset = titanic[titanic[\"Pclass\"] == i + 1]\n",
        "    data_for_plotting.append(subset[\"Fare\"])\n",
        "\n",
        "ax.boxplot(data_for_plotting)\n",
        "ax.set_ylabel(\"Fare\")\n",
        "ax.set_title(\"Fare paid for each class\")\n",
        "ax.set_xlabel(\"Passenger Class\")\n",
        "ax.set_xticks(range(1, 4))\n",
        "ax.set_xticklabels(classes)\n",
        "\n",
        "plt.show()"
      ],
      "execution_count": 27,
      "outputs": [
        {
          "output_type": "stream",
          "name": "stderr",
          "text": [
            "/usr/local/lib/python3.7/dist-packages/numpy/core/_asarray.py:83: VisibleDeprecationWarning: Creating an ndarray from ragged nested sequences (which is a list-or-tuple of lists-or-tuples-or ndarrays with different lengths or shapes) is deprecated. If you meant to do this, you must specify 'dtype=object' when creating the ndarray\n",
            "  return array(a, dtype, copy=False, order=order)\n"
          ]
        },
        {
          "output_type": "display_data",
          "data": {
            "image/png": "[encoded data removed]",
            "text/plain": [
              "<Figure size 720x720 with 1 Axes>"
            ]
          },
          "metadata": {
            "needs_background": "light"
          }
        }
      ]
    },
    {
      "cell_type": "code",
      "metadata": {
        "colab": {
          "base_uri": "https://localhost:8080/",
          "height": 190
        },
        "id": "RmzV87gXGZXG",
        "outputId": "554f6174-a32c-46df-8f9e-04236e55e7c3"
      },
      "source": [
        "# What percentage of first class passengers survived?\n",
        "titanic.groupby(by=\"Pclass\").mean()\n",
        "\n",
        "# 0.629630"
      ],
      "execution_count": 21,
      "outputs": [
        {
          "output_type": "execute_result",
          "data": {
            "text/html": [
              "<div>\n",
              "<style scoped>\n",
              "    .dataframe tbody tr th:only-of-type {\n",
              "        vertical-align: middle;\n",
              "    }\n",
              "\n",
              "    .dataframe tbody tr th {\n",
              "        vertical-align: top;\n",
              "    }\n",
              "\n",
              "    .dataframe thead th {\n",
              "        text-align: right;\n",
              "    }\n",
              "</style>\n",
              "<table border=\"1\" class=\"dataframe\">\n",
              "  <thead>\n",
              "    <tr style=\"text-align: right;\">\n",
              "      <th></th>\n",
              "      <th>Survived</th>\n",
              "      <th>Age</th>\n",
              "      <th>Siblings/Spouses Aboard</th>\n",
              "      <th>Parents/Children Aboard</th>\n",
              "      <th>Fare</th>\n",
              "    </tr>\n",
              "    <tr>\n",
              "      <th>Pclass</th>\n",
              "      <th></th>\n",
              "      <th></th>\n",
              "      <th></th>\n",
              "      <th></th>\n",
              "      <th></th>\n",
              "    </tr>\n",
              "  </thead>\n",
              "  <tbody>\n",
              "    <tr>\n",
              "      <th>1</th>\n",
              "      <td>0.629630</td>\n",
              "      <td>38.788981</td>\n",
              "      <td>0.416667</td>\n",
              "      <td>0.356481</td>\n",
              "      <td>84.154687</td>\n",
              "    </tr>\n",
              "    <tr>\n",
              "      <th>2</th>\n",
              "      <td>0.472826</td>\n",
              "      <td>29.868641</td>\n",
              "      <td>0.402174</td>\n",
              "      <td>0.380435</td>\n",
              "      <td>20.662183</td>\n",
              "    </tr>\n",
              "    <tr>\n",
              "      <th>3</th>\n",
              "      <td>0.244353</td>\n",
              "      <td>25.188747</td>\n",
              "      <td>0.620123</td>\n",
              "      <td>0.396304</td>\n",
              "      <td>13.707707</td>\n",
              "    </tr>\n",
              "  </tbody>\n",
              "</table>\n",
              "</div>"
            ],
            "text/plain": [
              "        Survived        Age  ...  Parents/Children Aboard       Fare\n",
              "Pclass                       ...                                    \n",
              "1       0.629630  38.788981  ...                 0.356481  84.154687\n",
              "2       0.472826  29.868641  ...                 0.380435  20.662183\n",
              "3       0.244353  25.188747  ...                 0.396304  13.707707\n",
              "\n",
              "[3 rows x 5 columns]"
            ]
          },
          "metadata": {},
          "execution_count": 21
        }
      ]
    },
    {
      "cell_type": "code",
      "metadata": {
        "colab": {
          "base_uri": "https://localhost:8080/",
          "height": 334
        },
        "id": "e_tlDOO3G9eD",
        "outputId": "3f195f33-0b3f-48ae-a922-930ef56b2194"
      },
      "source": [
        "# What percentage of passengers who paid under £10 fro their ticket survived?\n",
        "titanic[titanic[\"Fare\"] < 10].describe()\n"
      ],
      "execution_count": 23,
      "outputs": [
        {
          "output_type": "execute_result",
          "data": {
            "text/html": [
              "<div>\n",
              "<style scoped>\n",
              "    .dataframe tbody tr th:only-of-type {\n",
              "        vertical-align: middle;\n",
              "    }\n",
              "\n",
              "    .dataframe tbody tr th {\n",
              "        vertical-align: top;\n",
              "    }\n",
              "\n",
              "    .dataframe thead th {\n",
              "        text-align: right;\n",
              "    }\n",
              "</style>\n",
              "<table border=\"1\" class=\"dataframe\">\n",
              "  <thead>\n",
              "    <tr style=\"text-align: right;\">\n",
              "      <th></th>\n",
              "      <th>Survived</th>\n",
              "      <th>Pclass</th>\n",
              "      <th>Age</th>\n",
              "      <th>Siblings/Spouses Aboard</th>\n",
              "      <th>Parents/Children Aboard</th>\n",
              "      <th>Fare</th>\n",
              "    </tr>\n",
              "  </thead>\n",
              "  <tbody>\n",
              "    <tr>\n",
              "      <th>count</th>\n",
              "      <td>333.000000</td>\n",
              "      <td>333.000000</td>\n",
              "      <td>333.000000</td>\n",
              "      <td>333.000000</td>\n",
              "      <td>333.000000</td>\n",
              "      <td>333.000000</td>\n",
              "    </tr>\n",
              "    <tr>\n",
              "      <th>mean</th>\n",
              "      <td>0.201201</td>\n",
              "      <td>2.945946</td>\n",
              "      <td>27.780541</td>\n",
              "      <td>0.081081</td>\n",
              "      <td>0.030030</td>\n",
              "      <td>7.511948</td>\n",
              "    </tr>\n",
              "    <tr>\n",
              "      <th>std</th>\n",
              "      <td>0.401501</td>\n",
              "      <td>0.295687</td>\n",
              "      <td>10.384675</td>\n",
              "      <td>0.359094</td>\n",
              "      <td>0.203136</td>\n",
              "      <td>1.765869</td>\n",
              "    </tr>\n",
              "    <tr>\n",
              "      <th>min</th>\n",
              "      <td>0.000000</td>\n",
              "      <td>1.000000</td>\n",
              "      <td>0.420000</td>\n",
              "      <td>0.000000</td>\n",
              "      <td>0.000000</td>\n",
              "      <td>0.000000</td>\n",
              "    </tr>\n",
              "    <tr>\n",
              "      <th>25%</th>\n",
              "      <td>0.000000</td>\n",
              "      <td>3.000000</td>\n",
              "      <td>21.000000</td>\n",
              "      <td>0.000000</td>\n",
              "      <td>0.000000</td>\n",
              "      <td>7.312500</td>\n",
              "    </tr>\n",
              "    <tr>\n",
              "      <th>50%</th>\n",
              "      <td>0.000000</td>\n",
              "      <td>3.000000</td>\n",
              "      <td>25.000000</td>\n",
              "      <td>0.000000</td>\n",
              "      <td>0.000000</td>\n",
              "      <td>7.854200</td>\n",
              "    </tr>\n",
              "    <tr>\n",
              "      <th>75%</th>\n",
              "      <td>0.000000</td>\n",
              "      <td>3.000000</td>\n",
              "      <td>32.000000</td>\n",
              "      <td>0.000000</td>\n",
              "      <td>0.000000</td>\n",
              "      <td>8.050000</td>\n",
              "    </tr>\n",
              "    <tr>\n",
              "      <th>max</th>\n",
              "      <td>1.000000</td>\n",
              "      <td>3.000000</td>\n",
              "      <td>74.000000</td>\n",
              "      <td>4.000000</td>\n",
              "      <td>2.000000</td>\n",
              "      <td>9.845800</td>\n",
              "    </tr>\n",
              "  </tbody>\n",
              "</table>\n",
              "</div>"
            ],
            "text/plain": [
              "         Survived      Pclass  ...  Parents/Children Aboard        Fare\n",
              "count  333.000000  333.000000  ...               333.000000  333.000000\n",
              "mean     0.201201    2.945946  ...                 0.030030    7.511948\n",
              "std      0.401501    0.295687  ...                 0.203136    1.765869\n",
              "min      0.000000    1.000000  ...                 0.000000    0.000000\n",
              "25%      0.000000    3.000000  ...                 0.000000    7.312500\n",
              "50%      0.000000    3.000000  ...                 0.000000    7.854200\n",
              "75%      0.000000    3.000000  ...                 0.000000    8.050000\n",
              "max      1.000000    3.000000  ...                 2.000000    9.845800\n",
              "\n",
              "[8 rows x 6 columns]"
            ]
          },
          "metadata": {},
          "execution_count": 23
        }
      ]
    },
    {
      "cell_type": "code",
      "metadata": {
        "colab": {
          "base_uri": "https://localhost:8080/",
          "height": 675
        },
        "id": "HLnVx-UgHLSV",
        "outputId": "f1acd0a9-7081-4353-9489-f279e68b9731"
      },
      "source": [
        "# Boxplot 2\n",
        "fig, ax = plt.subplots(figsize=(10, 10))\n",
        "classes = [\"Did Not Survive\", \"Survived\"]\n",
        "data_for_plotting = []\n",
        "\n",
        "for i in range(2):\n",
        "    subset = titanic[titanic[\"Survived\"] == i]\n",
        "    data_for_plotting.append(subset[\"Fare\"])\n",
        "\n",
        "ax.boxplot(data_for_plotting)\n",
        "ax.set_ylabel(\"Fare\")\n",
        "ax.set_title(\"Fare paid for survival state\")\n",
        "ax.set_xlabel(\"Survival Outcome\")\n",
        "ax.set_xticks(range(1,3))\n",
        "ax.set_xticklabels(classes)\n",
        "\n",
        "plt.show()"
      ],
      "execution_count": 26,
      "outputs": [
        {
          "output_type": "stream",
          "name": "stderr",
          "text": [
            "/usr/local/lib/python3.7/dist-packages/numpy/core/_asarray.py:83: VisibleDeprecationWarning: Creating an ndarray from ragged nested sequences (which is a list-or-tuple of lists-or-tuples-or ndarrays with different lengths or shapes) is deprecated. If you meant to do this, you must specify 'dtype=object' when creating the ndarray\n",
            "  return array(a, dtype, copy=False, order=order)\n"
          ]
        },
        {
          "output_type": "display_data",
          "data": {
            "image/png": "[encoded data removed]",
            "text/plain": [
              "<Figure size 720x720 with 1 Axes>"
            ]
          },
          "metadata": {
            "needs_background": "light"
          }
        }
      ]
    },
    {
      "cell_type": "code",
      "metadata": {
        "colab": {
          "base_uri": "https://localhost:8080/"
        },
        "id": "-gSUcxw6HwCQ",
        "outputId": "b3d3fc6d-739c-4946-d0e5-93081ee7c634"
      },
      "source": [
        "# Statistical test\n",
        "survived = titanic[titanic['Survived'] == 1][\"Fare\"]\n",
        "not_survived = titanic[titanic['Survived'] == 0][\"Fare\"]\n",
        "\n",
        "# Shapiro for normality\n",
        "print(\"Shapiro test for survived\", stats.shapiro(survived))\n",
        "print(\"Shapiro test for non-survived\", stats.shapiro(not_survived))"
      ],
      "execution_count": 32,
      "outputs": [
        {
          "output_type": "stream",
          "name": "stdout",
          "text": [
            "Shapiro test for survived (0.5967270135879517, 1.8337420335182354e-27)\n",
            "Shapiro test for non-survived (0.5145274996757507, 4.564138422006922e-36)\n"
          ]
        }
      ]
    },
    {
      "cell_type": "code",
      "metadata": {
        "colab": {
          "base_uri": "https://localhost:8080/"
        },
        "id": "OHH7zFe8IKti",
        "outputId": "c2b79470-1e11-4fb0-99db-4213f1eaba64"
      },
      "source": [
        "# Data is not normally distributed. Use Mann Whitney\n",
        "stats.mannwhitneyu(survived, not_survived)\n",
        "\n",
        "# Significant difference "
      ],
      "execution_count": 33,
      "outputs": [
        {
          "output_type": "execute_result",
          "data": {
            "text/plain": [
              "MannwhitneyuResult(statistic=57578.0, pvalue=4.307135455293686e-22)"
            ]
          },
          "metadata": {},
          "execution_count": 33
        }
      ]
    },
    {
      "cell_type": "markdown",
      "metadata": {
        "id": "sNh7ETnuJUY6"
      },
      "source": [
        "# Women and Children First!"
      ]
    },
    {
      "cell_type": "code",
      "metadata": {
        "colab": {
          "base_uri": "https://localhost:8080/",
          "height": 334
        },
        "id": "pgXw5bWcJQKr",
        "outputId": "5ff39adf-91f4-41f7-987e-ee33c3468f34"
      },
      "source": [
        "# What percentage of women and children survived?\n",
        "wom_cld = titanic[(titanic['Age'] < 18) | (titanic['Sex'] == 'female')]\n",
        "wom_cld.describe()\n",
        "\n",
        "# 67.7%"
      ],
      "execution_count": 41,
      "outputs": [
        {
          "output_type": "execute_result",
          "data": {
            "text/html": [
              "<div>\n",
              "<style scoped>\n",
              "    .dataframe tbody tr th:only-of-type {\n",
              "        vertical-align: middle;\n",
              "    }\n",
              "\n",
              "    .dataframe tbody tr th {\n",
              "        vertical-align: top;\n",
              "    }\n",
              "\n",
              "    .dataframe thead th {\n",
              "        text-align: right;\n",
              "    }\n",
              "</style>\n",
              "<table border=\"1\" class=\"dataframe\">\n",
              "  <thead>\n",
              "    <tr style=\"text-align: right;\">\n",
              "      <th></th>\n",
              "      <th>Survived</th>\n",
              "      <th>Pclass</th>\n",
              "      <th>Age</th>\n",
              "      <th>Siblings/Spouses Aboard</th>\n",
              "      <th>Parents/Children Aboard</th>\n",
              "      <th>Fare</th>\n",
              "    </tr>\n",
              "  </thead>\n",
              "  <tbody>\n",
              "    <tr>\n",
              "      <th>count</th>\n",
              "      <td>381.000000</td>\n",
              "      <td>381.000000</td>\n",
              "      <td>381.000000</td>\n",
              "      <td>381.000000</td>\n",
              "      <td>381.000000</td>\n",
              "      <td>381.000000</td>\n",
              "    </tr>\n",
              "    <tr>\n",
              "      <th>mean</th>\n",
              "      <td>0.677165</td>\n",
              "      <td>2.257218</td>\n",
              "      <td>24.466325</td>\n",
              "      <td>0.892388</td>\n",
              "      <td>0.716535</td>\n",
              "      <td>41.816263</td>\n",
              "    </tr>\n",
              "    <tr>\n",
              "      <th>std</th>\n",
              "      <td>0.468175</td>\n",
              "      <td>0.841040</td>\n",
              "      <td>14.635637</td>\n",
              "      <td>1.409169</td>\n",
              "      <td>0.996554</td>\n",
              "      <td>54.137217</td>\n",
              "    </tr>\n",
              "    <tr>\n",
              "      <th>min</th>\n",
              "      <td>0.000000</td>\n",
              "      <td>1.000000</td>\n",
              "      <td>0.420000</td>\n",
              "      <td>0.000000</td>\n",
              "      <td>0.000000</td>\n",
              "      <td>6.750000</td>\n",
              "    </tr>\n",
              "    <tr>\n",
              "      <th>25%</th>\n",
              "      <td>0.000000</td>\n",
              "      <td>1.000000</td>\n",
              "      <td>16.000000</td>\n",
              "      <td>0.000000</td>\n",
              "      <td>0.000000</td>\n",
              "      <td>11.241700</td>\n",
              "    </tr>\n",
              "    <tr>\n",
              "      <th>50%</th>\n",
              "      <td>1.000000</td>\n",
              "      <td>3.000000</td>\n",
              "      <td>23.000000</td>\n",
              "      <td>0.000000</td>\n",
              "      <td>0.000000</td>\n",
              "      <td>23.000000</td>\n",
              "    </tr>\n",
              "    <tr>\n",
              "      <th>75%</th>\n",
              "      <td>1.000000</td>\n",
              "      <td>3.000000</td>\n",
              "      <td>34.000000</td>\n",
              "      <td>1.000000</td>\n",
              "      <td>1.000000</td>\n",
              "      <td>46.900000</td>\n",
              "    </tr>\n",
              "    <tr>\n",
              "      <th>max</th>\n",
              "      <td>1.000000</td>\n",
              "      <td>3.000000</td>\n",
              "      <td>63.000000</td>\n",
              "      <td>8.000000</td>\n",
              "      <td>6.000000</td>\n",
              "      <td>512.329200</td>\n",
              "    </tr>\n",
              "  </tbody>\n",
              "</table>\n",
              "</div>"
            ],
            "text/plain": [
              "         Survived      Pclass  ...  Parents/Children Aboard        Fare\n",
              "count  381.000000  381.000000  ...               381.000000  381.000000\n",
              "mean     0.677165    2.257218  ...                 0.716535   41.816263\n",
              "std      0.468175    0.841040  ...                 0.996554   54.137217\n",
              "min      0.000000    1.000000  ...                 0.000000    6.750000\n",
              "25%      0.000000    1.000000  ...                 0.000000   11.241700\n",
              "50%      1.000000    3.000000  ...                 0.000000   23.000000\n",
              "75%      1.000000    3.000000  ...                 1.000000   46.900000\n",
              "max      1.000000    3.000000  ...                 6.000000  512.329200\n",
              "\n",
              "[8 rows x 6 columns]"
            ]
          },
          "metadata": {},
          "execution_count": 41
        }
      ]
    },
    {
      "cell_type": "code",
      "metadata": {
        "colab": {
          "base_uri": "https://localhost:8080/",
          "height": 334
        },
        "id": "_spo4D0NJmAl",
        "outputId": "16195507-3a5b-47cf-8e57-4f75b3fcb457"
      },
      "source": [
        "men = titanic[(titanic['Age'] >= 18) & (titanic['Sex'] == 'male')]\n",
        "men.describe()\n",
        "\n",
        "# 16.6%"
      ],
      "execution_count": 42,
      "outputs": [
        {
          "output_type": "execute_result",
          "data": {
            "text/html": [
              "<div>\n",
              "<style scoped>\n",
              "    .dataframe tbody tr th:only-of-type {\n",
              "        vertical-align: middle;\n",
              "    }\n",
              "\n",
              "    .dataframe tbody tr th {\n",
              "        vertical-align: top;\n",
              "    }\n",
              "\n",
              "    .dataframe thead th {\n",
              "        text-align: right;\n",
              "    }\n",
              "</style>\n",
              "<table border=\"1\" class=\"dataframe\">\n",
              "  <thead>\n",
              "    <tr style=\"text-align: right;\">\n",
              "      <th></th>\n",
              "      <th>Survived</th>\n",
              "      <th>Pclass</th>\n",
              "      <th>Age</th>\n",
              "      <th>Siblings/Spouses Aboard</th>\n",
              "      <th>Parents/Children Aboard</th>\n",
              "      <th>Fare</th>\n",
              "    </tr>\n",
              "  </thead>\n",
              "  <tbody>\n",
              "    <tr>\n",
              "      <th>count</th>\n",
              "      <td>506.000000</td>\n",
              "      <td>506.000000</td>\n",
              "      <td>506.000000</td>\n",
              "      <td>506.000000</td>\n",
              "      <td>506.000000</td>\n",
              "      <td>506.000000</td>\n",
              "    </tr>\n",
              "    <tr>\n",
              "      <th>mean</th>\n",
              "      <td>0.166008</td>\n",
              "      <td>2.341897</td>\n",
              "      <td>33.240119</td>\n",
              "      <td>0.249012</td>\n",
              "      <td>0.132411</td>\n",
              "      <td>25.144094</td>\n",
              "    </tr>\n",
              "    <tr>\n",
              "      <th>std</th>\n",
              "      <td>0.372456</td>\n",
              "      <td>0.832332</td>\n",
              "      <td>12.472987</td>\n",
              "      <td>0.684517</td>\n",
              "      <td>0.499759</td>\n",
              "      <td>44.977410</td>\n",
              "    </tr>\n",
              "    <tr>\n",
              "      <th>min</th>\n",
              "      <td>0.000000</td>\n",
              "      <td>1.000000</td>\n",
              "      <td>18.000000</td>\n",
              "      <td>0.000000</td>\n",
              "      <td>0.000000</td>\n",
              "      <td>0.000000</td>\n",
              "    </tr>\n",
              "    <tr>\n",
              "      <th>25%</th>\n",
              "      <td>0.000000</td>\n",
              "      <td>2.000000</td>\n",
              "      <td>23.000000</td>\n",
              "      <td>0.000000</td>\n",
              "      <td>0.000000</td>\n",
              "      <td>7.854200</td>\n",
              "    </tr>\n",
              "    <tr>\n",
              "      <th>50%</th>\n",
              "      <td>0.000000</td>\n",
              "      <td>3.000000</td>\n",
              "      <td>30.000000</td>\n",
              "      <td>0.000000</td>\n",
              "      <td>0.000000</td>\n",
              "      <td>10.008300</td>\n",
              "    </tr>\n",
              "    <tr>\n",
              "      <th>75%</th>\n",
              "      <td>0.000000</td>\n",
              "      <td>3.000000</td>\n",
              "      <td>40.000000</td>\n",
              "      <td>0.000000</td>\n",
              "      <td>0.000000</td>\n",
              "      <td>26.550000</td>\n",
              "    </tr>\n",
              "    <tr>\n",
              "      <th>max</th>\n",
              "      <td>1.000000</td>\n",
              "      <td>3.000000</td>\n",
              "      <td>80.000000</td>\n",
              "      <td>8.000000</td>\n",
              "      <td>5.000000</td>\n",
              "      <td>512.329200</td>\n",
              "    </tr>\n",
              "  </tbody>\n",
              "</table>\n",
              "</div>"
            ],
            "text/plain": [
              "         Survived      Pclass  ...  Parents/Children Aboard        Fare\n",
              "count  506.000000  506.000000  ...               506.000000  506.000000\n",
              "mean     0.166008    2.341897  ...                 0.132411   25.144094\n",
              "std      0.372456    0.832332  ...                 0.499759   44.977410\n",
              "min      0.000000    1.000000  ...                 0.000000    0.000000\n",
              "25%      0.000000    2.000000  ...                 0.000000    7.854200\n",
              "50%      0.000000    3.000000  ...                 0.000000   10.008300\n",
              "75%      0.000000    3.000000  ...                 0.000000   26.550000\n",
              "max      1.000000    3.000000  ...                 5.000000  512.329200\n",
              "\n",
              "[8 rows x 6 columns]"
            ]
          },
          "metadata": {},
          "execution_count": 42
        }
      ]
    },
    {
      "cell_type": "code",
      "metadata": {
        "id": "QOAMBAB4JwRt"
      },
      "source": [
        "# Crosstab hack\n",
        "\n",
        "def is_woman_or_child_map(row):\n",
        "    if row['Age'] < 18 or row['Sex'] == 'female':\n",
        "        return 1\n",
        "    else:\n",
        "        return 0\n",
        "\n",
        "titanic[\"is_woman_or_child\"] = titanic.apply(is_woman_or_child_map, axis=1)"
      ],
      "execution_count": 44,
      "outputs": []
    },
    {
      "cell_type": "code",
      "metadata": {
        "colab": {
          "base_uri": "https://localhost:8080/",
          "height": 142
        },
        "id": "puGPNSWcLyOt",
        "outputId": "de427b24-5546-4134-da4b-4d4ebef07dc2"
      },
      "source": [
        "cross_tab = pd.crosstab(index=titanic['Survived'], columns=titanic['is_woman_or_child'])\n",
        "cross_tab"
      ],
      "execution_count": 51,
      "outputs": [
        {
          "output_type": "execute_result",
          "data": {
            "text/html": [
              "<div>\n",
              "<style scoped>\n",
              "    .dataframe tbody tr th:only-of-type {\n",
              "        vertical-align: middle;\n",
              "    }\n",
              "\n",
              "    .dataframe tbody tr th {\n",
              "        vertical-align: top;\n",
              "    }\n",
              "\n",
              "    .dataframe thead th {\n",
              "        text-align: right;\n",
              "    }\n",
              "</style>\n",
              "<table border=\"1\" class=\"dataframe\">\n",
              "  <thead>\n",
              "    <tr style=\"text-align: right;\">\n",
              "      <th>is_woman_or_child</th>\n",
              "      <th>0</th>\n",
              "      <th>1</th>\n",
              "    </tr>\n",
              "    <tr>\n",
              "      <th>Survived</th>\n",
              "      <th></th>\n",
              "      <th></th>\n",
              "    </tr>\n",
              "  </thead>\n",
              "  <tbody>\n",
              "    <tr>\n",
              "      <th>0</th>\n",
              "      <td>422</td>\n",
              "      <td>123</td>\n",
              "    </tr>\n",
              "    <tr>\n",
              "      <th>1</th>\n",
              "      <td>84</td>\n",
              "      <td>258</td>\n",
              "    </tr>\n",
              "  </tbody>\n",
              "</table>\n",
              "</div>"
            ],
            "text/plain": [
              "is_woman_or_child    0    1\n",
              "Survived                   \n",
              "0                  422  123\n",
              "1                   84  258"
            ]
          },
          "metadata": {},
          "execution_count": 51
        }
      ]
    },
    {
      "cell_type": "code",
      "metadata": {
        "colab": {
          "base_uri": "https://localhost:8080/",
          "height": 282
        },
        "id": "FezmeIBEL0f1",
        "outputId": "0591d147-fafd-482f-dfbd-ae4c7e4f0c71"
      },
      "source": [
        "# implot\n",
        "fig, ax = plt.subplots()\n",
        "\n",
        "x = [\"Men\", \"Women and Children\"]\n",
        "y = [\"Didn't Survive\", \"Survived\"]\n",
        "\n",
        "ax.set_xticks(np.arange(2))\n",
        "ax.set_yticks(np.arange(2))\n",
        "\n",
        "ax.set_xticklabels(x)\n",
        "ax.set_yticklabels(y)\n",
        "\n",
        "for i in np.arange(2):\n",
        "    for j in np.arange(2):\n",
        "        ax.text(i, j, cross_tab.values[i, j], ha=\"center\", va=\"center\", color=\"w\")\n",
        "\n",
        "ax.imshow(cross_tab.values)"
      ],
      "execution_count": 56,
      "outputs": [
        {
          "output_type": "execute_result",
          "data": {
            "text/plain": [
              "<matplotlib.image.AxesImage at 0x7efd9780b450>"
            ]
          },
          "metadata": {},
          "execution_count": 56
        },
        {
          "output_type": "display_data",
          "data": {
            "image/png": "[encoded data removed]",
            "text/plain": [
              "<Figure size 432x288 with 1 Axes>"
            ]
          },
          "metadata": {
            "needs_background": "light"
          }
        }
      ]
    },
    {
      "cell_type": "code",
      "metadata": {
        "colab": {
          "base_uri": "https://localhost:8080/"
        },
        "id": "F4R54lQGMvDR",
        "outputId": "ee86e786-bf10-41f1-992b-b66b53696fe7"
      },
      "source": [
        "stats.chi2_contingency(cross_tab.values)\n",
        "\n",
        "# P-values is second value\n",
        "# there is correlation."
      ],
      "execution_count": 57,
      "outputs": [
        {
          "output_type": "execute_result",
          "data": {
            "text/plain": [
              "(237.55707037653542,\n",
              " 1.3408628628930934e-53,\n",
              " 1,\n",
              " array([[310.90191657, 234.09808343],\n",
              "        [195.09808343, 146.90191657]]))"
            ]
          },
          "metadata": {},
          "execution_count": 57
        }
      ]
    },
    {
      "cell_type": "code",
      "metadata": {
        "id": "RX-FaLUaOVN3"
      },
      "source": [
        ""
      ],
      "execution_count": null,
      "outputs": []
    }
  ]
}