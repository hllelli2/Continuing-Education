{
 "cells": [
  {
   "cell_type": "markdown",
   "metadata": {
    "id": "I-CqtbMlbnCk"
   },
   "source": [
    "# Titanic Worksheet\n",
    "\n",
    "This is a mid-course activity to round out what we've done with fundamental Python, `numpy`, `pandas`, `scipy` and `matplotlib`. It is an exploration of the [\"titanic\" dataset](https://web.stanford.edu/class/archive/cs/cs109/cs109.1166/problem12.html) - a very popular dataset detailing the fate of some passengers on the titanic.\n",
    "\n",
    "I *highly* encourage you to open a new notebook and follow the steps below using your own words to explain the process and what you're doing; not only will it cement the theory but will also serve as your first portfilio project. If you want to change around the order of questions, or add your own, please do!\n",
    "\n",
    "If you have any questions, or need any help, please don't hesitate to contact me on Twitter (@stmball), Slack (check CANVAS for the link!) or by email (s.t.m.ball@liverpool.ac.uk).\n"
   ]
  },
  {
   "cell_type": "code",
   "execution_count": 1,
   "metadata": {
    "colab": {
     "base_uri": "https://localhost:8080/"
    },
    "id": "3su3SLCAe_Pk",
    "outputId": "79748d63-c671-47f1-cea1-5fe7cb596386"
   },
   "outputs": [
    {
     "name": "stdout",
     "output_type": "stream",
     "text": [
      "--2021-05-09 09:36:22--  https://raw.githubusercontent.com/stmball/PracticalPython/main/Week_2/titanic.csv\n",
      "Resolving raw.githubusercontent.com (raw.githubusercontent.com)... 185.199.111.133, 185.199.108.133, 185.199.110.133, ...\n",
      "Connecting to raw.githubusercontent.com (raw.githubusercontent.com)|185.199.111.133|:443... connected.\n",
      "HTTP request sent, awaiting response... 200 OK\n",
      "Length: 44225 (43K) [text/plain]\n",
      "Saving to: ‘titanic.csv’\n",
      "\n",
      "titanic.csv         100%[===================>]  43.19K  --.-KB/s    in 0.001s  \n",
      "\n",
      "2021-05-09 09:36:23 (41.6 MB/s) - ‘titanic.csv’ saved [44225/44225]\n",
      "\n"
     ]
    }
   ],
   "source": [
    "!wget \"https://raw.githubusercontent.com/stmball/PracticalPython/main/Data%20Visualisation/titanic.csv\""
   ]
  },
  {
   "cell_type": "markdown",
   "metadata": {
    "id": "m_f3aufCeEsu"
   },
   "source": [
    "## Initial exploration\n",
    "\n",
    "The first step of any data analysis is establishing a top-down view of our data. What are we dealing with? To start, please answer each question in its own cell:\n",
    "\n",
    "1. Which features are recorded in the dataset?\n",
    "2. How many passengers are recorded?\n",
    "3. Do we have any missing data?\n",
    "4. What is the average age of passenger?\n",
    "5. What is the probability of a randomly selected passenger surviving?"
   ]
  },
  {
   "cell_type": "markdown",
   "metadata": {
    "id": "xhbwD68Sf-1j"
   },
   "source": [
    "## Kids Travel Free!(?) How did age relate to the price a passenger paid?\n",
    "\n",
    "It would be interesting to see how much cheaper kids tickets were compared to adults tickets on the titanic.\n",
    "\n",
    "1. What was the average fare for a child? (age < 18)\n",
    "2. What was the average fare for an adult? (age >= 18)\n",
    "3. Using the `ax.hist()` function ([example](https://matplotlib.org/stable/gallery/pyplots/pyplot_text.html#sphx-glr-gallery-pyplots-pyplot-text-py), [documentation](https://matplotlib.org/stable/api/_as_gen/matplotlib.pyplot.hist.html)), make two histograms on two seperate axis graphing the ages and fares passengers paid. Make sure to add axis labels, titles, etc. Briefly describe the data - is it unimodal (one peak)? Positively skewed (to the left) or negatively skewed (to the right)?\n",
    "4. On a new figure, create a scatter plot using `ax.scatter()` ([example](https://matplotlib.org/stable/gallery/shapes_and_collections/scatter.html#sphx-glr-gallery-shapes-and-collections-scatter-py), [documentation](https://matplotlib.org/stable/api/_as_gen/matplotlib.pyplot.scatter.html)) of age vs fare paid. Again, make sure you label your axis, add a title etc. Does it look like there is a correlation?\n",
    "5. (BONUS - A bit harder!) Adjust your code for 4. to have each point coloured by the class of the purchased ticket. Add a legend to the plot. Does that give any more information?\n",
    "6. (BONUS - A bit harder again!). Using the `stats.linregress` function, formally test to see if there is a relation between the two features. Comment on the R squared value."
   ]
  },
  {
   "cell_type": "markdown",
   "metadata": {
    "id": "WuBiSuey305T"
   },
   "source": [
    "## You Get What You Pay For - did the fare paid affect the ticket class or survival chance?\n",
    "\n",
    "1. How many passengers were in each class?\n",
    "2. What was the average fare paid per class?\n",
    "3. Group the data by class, and using the `ax.boxplot()` function ([example](https://matplotlib.org/3.1.1/gallery/pyplots/boxplot_demo_pyplot.html#sphx-glr-gallery-pyplots-boxplot-demo-pyplot-py), [documentation](https://matplotlib.org/3.1.1/api/_as_gen/matplotlib.pyplot.boxplot.html)) create a box plot for the distribution of fares paid vs ticket class. Make sure you label axis, title etc.\n",
    "4. What percentage of first class passengers survived?\n",
    "5. What percentage of passengers who paid under £10 for their ticket survived?\n",
    "6. Again using the `ax.boxplot()` function, create a new boxplot showing the distribution of fare paid for both surviving and non-surviving passengers. Add labels and a title. Does it look like there is a correlation?\n",
    "7. (BONUS) Using `scipy.stats`, formally test to see if there is a difference in fare paid between the surviving and non surviving groups. Remember, you will need to perform a `stats.shapiro` test on each of the groups before using a `ttest_ind()` test if they are normally distributed, or a `mannwhitneyu()` test if they are not! "
   ]
  },
  {
   "cell_type": "markdown",
   "metadata": {
    "id": "ykm27rMk3dB7"
   },
   "source": [
    "## Women and Children First! Did being a woman or child affect survival rate?\n",
    "\n",
    "1. What percentage of women and children (age < 18) survived? What about men?\n",
    "2. Did women/children have on average a better class of ticket than men?\n",
    "3. Using the `pd.crosstab()` function (or otherwise!), create a table giving the survived/not survived and men/women and children frequencies.\n",
    "4. (BONUS - Hard!) Using `ax.implot`, [this example](https://matplotlib.org/stable/gallery/images_contours_and_fields/image_annotated_heatmap.html) and the previous output, create a heatmap visualisation of the previous data.\n",
    "5. (BONUS - Hard!) Using `stats.chi2_contingency()`, formally test if there is a correlation between being a woman/child and surviving the titanic."
   ]
  }
 ],
 "metadata": {
  "colab": {
   "collapsed_sections": [],
   "name": "Titanic Workbook.ipynb",
   "provenance": []
  },
  "kernelspec": {
   "display_name": "Python 3",
   "language": "python",
   "name": "python3"
  },
  "language_info": {
   "codemirror_mode": {
    "name": "ipython",
    "version": 3
   },
   "file_extension": ".py",
   "mimetype": "text/x-python",
   "name": "python",
   "nbconvert_exporter": "python",
   "pygments_lexer": "ipython3",
   "version": "3.9.1"
  }
 },
 "nbformat": 4,
 "nbformat_minor": 4
}
