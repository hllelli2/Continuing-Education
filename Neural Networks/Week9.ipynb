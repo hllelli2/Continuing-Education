{
  "nbformat": 4,
  "nbformat_minor": 0,
  "metadata": {
    "colab": {
      "name": "Week9.ipynb",
      "provenance": [],
      "collapsed_sections": []
    },
    "kernelspec": {
      "name": "python3",
      "display_name": "Python 3"
    },
    "language_info": {
      "name": "python"
    }
  },
  "cells": [
    {
      "cell_type": "markdown",
      "metadata": {
        "id": "0SV3L6Un8CHc"
      },
      "source": [
        "# Week 9 - Neural Networks\n",
        "\n",
        "Neural networks are the latest *big thing* and work best with lots of data. There are many, many ways to interact with neural networks in Python, including `tensorflow`, `pytorch`, `keras` (a tensorflow API), `theano` and more. All of these do functionally the same thing, but with varying degrees of needing more/less code at the tradeoff of having less/more control over what the model is doing.\n",
        "\n",
        "We will be using the `keras` framework to build our models - this is built upon the `tensorflow` framework but gives us more convinient \"high level\" functions to work with to build and train models quickly and easily.\n",
        "\n",
        "Let's look at how to build 3 types of models - a simple fully connected model, a recurrent neural network, and a convolutional neural network.\n"
      ]
    },
    {
      "cell_type": "code",
      "metadata": {
        "id": "TjBifd198Ai9"
      },
      "source": [
        "# Import tensorflow and keras\n",
        "import tensorflow as tf\n",
        "from tensorflow import keras\n",
        "from tensorflow.keras.layers import Dense, Conv2D, Flatten, MaxPooling2D, InputLayer\n",
        "from tensorflow.keras.utils import to_categorical\n",
        "\n",
        "# Commonly used modules\n",
        "import numpy as np\n",
        "import pandas as pd\n",
        "import matplotlib.pyplot as plt\n",
        "\n",
        "# sklearn tools\n",
        "from sklearn.preprocessing import MinMaxScaler\n",
        "from sklearn.model_selection import train_test_split\n",
        "from sklearn.metrics import mean_absolute_error, f1_score"
      ],
      "execution_count": null,
      "outputs": []
    },
    {
      "cell_type": "code",
      "metadata": {
        "colab": {
          "base_uri": "https://localhost:8080/"
        },
        "id": "g5nDZZVLmkLM",
        "outputId": "bf20d833-54df-4579-acce-9fd6b7d3766e"
      },
      "source": [
        "print(tf.__version__)"
      ],
      "execution_count": null,
      "outputs": [
        {
          "output_type": "stream",
          "text": [
            "2.5.0\n"
          ],
          "name": "stdout"
        }
      ]
    },
    {
      "cell_type": "markdown",
      "metadata": {
        "id": "uMPTEXPsm5HY"
      },
      "source": [
        "This function will tell us if we have gpu acceleration available.\n",
        "Colab doesn't, hence we can't do too much deep learning.\n",
        "Getting GPU acceleration will cost some money (either buying a \n",
        "dedicated GPU or renting one from the cloud), so we will try to\n",
        "work without.\n",
        "\n"
      ]
    },
    {
      "cell_type": "code",
      "metadata": {
        "colab": {
          "base_uri": "https://localhost:8080/"
        },
        "id": "Iap-Y4YbmmPX",
        "outputId": "d4516680-ce6d-4a81-d9bd-89a364506922"
      },
      "source": [
        "print(tf.test.is_gpu_available())"
      ],
      "execution_count": null,
      "outputs": [
        {
          "output_type": "stream",
          "text": [
            "WARNING:tensorflow:From <ipython-input-5-ae932be897c3>:1: is_gpu_available (from tensorflow.python.framework.test_util) is deprecated and will be removed in a future version.\n",
            "Instructions for updating:\n",
            "Use `tf.config.list_physical_devices('GPU')` instead.\n",
            "False\n"
          ],
          "name": "stdout"
        }
      ]
    },
    {
      "cell_type": "markdown",
      "metadata": {
        "id": "vSa-DD0unftx"
      },
      "source": [
        "Let's start with the housing dataset to try and obtain a house price prediction method."
      ]
    },
    {
      "cell_type": "code",
      "metadata": {
        "colab": {
          "base_uri": "https://localhost:8080/"
        },
        "id": "3B55KpKjmqEY",
        "outputId": "5f8f55ae-8f4f-4bb6-b52e-21f9f585865d"
      },
      "source": [
        "!wget https://raw.githubusercontent.com/stmball/PracticalPython/main/Numpy%2C%20Pandas%20and%20Scipy/housing.csv"
      ],
      "execution_count": null,
      "outputs": [
        {
          "output_type": "stream",
          "text": [
            "--2021-06-14 18:27:00--  https://raw.githubusercontent.com/stmball/PracticalPython/main/Numpy%2C%20Pandas%20and%20Scipy/housing.csv\n",
            "Resolving raw.githubusercontent.com (raw.githubusercontent.com)... 185.199.108.133, 185.199.109.133, 185.199.110.133, ...\n",
            "Connecting to raw.githubusercontent.com (raw.githubusercontent.com)|185.199.108.133|:443... connected.\n",
            "HTTP request sent, awaiting response... 200 OK\n",
            "Length: 24632 (24K) [text/plain]\n",
            "Saving to: ‘housing.csv.1’\n",
            "\n",
            "\rhousing.csv.1         0%[                    ]       0  --.-KB/s               \rhousing.csv.1       100%[===================>]  24.05K  --.-KB/s    in 0.002s  \n",
            "\n",
            "2021-06-14 18:27:00 (13.4 MB/s) - ‘housing.csv.1’ saved [24632/24632]\n",
            "\n"
          ],
          "name": "stdout"
        }
      ]
    },
    {
      "cell_type": "markdown",
      "metadata": {
        "id": "3cSicVMazybV"
      },
      "source": [
        "Let's import the dataset - we've done this many times now!"
      ]
    },
    {
      "cell_type": "code",
      "metadata": {
        "colab": {
          "base_uri": "https://localhost:8080/",
          "height": 206
        },
        "id": "eggzS2G4nJ6Q",
        "outputId": "4e01f1d3-ad3d-45d0-b627-0c7f100e4fe7"
      },
      "source": [
        "housing = pd.read_csv(\"./housing.csv\", index_col=0)\n",
        "\n",
        "housing.head()"
      ],
      "execution_count": null,
      "outputs": [
        {
          "output_type": "execute_result",
          "data": {
            "text/html": [
              "<div>\n",
              "<style scoped>\n",
              "    .dataframe tbody tr th:only-of-type {\n",
              "        vertical-align: middle;\n",
              "    }\n",
              "\n",
              "    .dataframe tbody tr th {\n",
              "        vertical-align: top;\n",
              "    }\n",
              "\n",
              "    .dataframe thead th {\n",
              "        text-align: right;\n",
              "    }\n",
              "</style>\n",
              "<table border=\"1\" class=\"dataframe\">\n",
              "  <thead>\n",
              "    <tr style=\"text-align: right;\">\n",
              "      <th></th>\n",
              "      <th>price</th>\n",
              "      <th>lotsize</th>\n",
              "      <th>bedrooms</th>\n",
              "      <th>bathrms</th>\n",
              "      <th>stories</th>\n",
              "      <th>driveway</th>\n",
              "      <th>recroom</th>\n",
              "      <th>fullbase</th>\n",
              "      <th>gashw</th>\n",
              "      <th>airco</th>\n",
              "      <th>garagepl</th>\n",
              "      <th>prefarea</th>\n",
              "    </tr>\n",
              "  </thead>\n",
              "  <tbody>\n",
              "    <tr>\n",
              "      <th>1</th>\n",
              "      <td>42000.0</td>\n",
              "      <td>5850</td>\n",
              "      <td>3</td>\n",
              "      <td>1</td>\n",
              "      <td>2</td>\n",
              "      <td>yes</td>\n",
              "      <td>no</td>\n",
              "      <td>yes</td>\n",
              "      <td>no</td>\n",
              "      <td>no</td>\n",
              "      <td>1</td>\n",
              "      <td>no</td>\n",
              "    </tr>\n",
              "    <tr>\n",
              "      <th>2</th>\n",
              "      <td>38500.0</td>\n",
              "      <td>4000</td>\n",
              "      <td>2</td>\n",
              "      <td>1</td>\n",
              "      <td>1</td>\n",
              "      <td>yes</td>\n",
              "      <td>no</td>\n",
              "      <td>no</td>\n",
              "      <td>no</td>\n",
              "      <td>no</td>\n",
              "      <td>0</td>\n",
              "      <td>no</td>\n",
              "    </tr>\n",
              "    <tr>\n",
              "      <th>3</th>\n",
              "      <td>49500.0</td>\n",
              "      <td>3060</td>\n",
              "      <td>3</td>\n",
              "      <td>1</td>\n",
              "      <td>1</td>\n",
              "      <td>yes</td>\n",
              "      <td>no</td>\n",
              "      <td>no</td>\n",
              "      <td>no</td>\n",
              "      <td>no</td>\n",
              "      <td>0</td>\n",
              "      <td>no</td>\n",
              "    </tr>\n",
              "    <tr>\n",
              "      <th>4</th>\n",
              "      <td>60500.0</td>\n",
              "      <td>6650</td>\n",
              "      <td>3</td>\n",
              "      <td>1</td>\n",
              "      <td>2</td>\n",
              "      <td>yes</td>\n",
              "      <td>yes</td>\n",
              "      <td>no</td>\n",
              "      <td>no</td>\n",
              "      <td>no</td>\n",
              "      <td>0</td>\n",
              "      <td>no</td>\n",
              "    </tr>\n",
              "    <tr>\n",
              "      <th>5</th>\n",
              "      <td>61000.0</td>\n",
              "      <td>6360</td>\n",
              "      <td>2</td>\n",
              "      <td>1</td>\n",
              "      <td>1</td>\n",
              "      <td>yes</td>\n",
              "      <td>no</td>\n",
              "      <td>no</td>\n",
              "      <td>no</td>\n",
              "      <td>no</td>\n",
              "      <td>0</td>\n",
              "      <td>no</td>\n",
              "    </tr>\n",
              "  </tbody>\n",
              "</table>\n",
              "</div>"
            ],
            "text/plain": [
              "     price  lotsize  bedrooms  bathrms  ...  gashw airco garagepl prefarea\n",
              "1  42000.0     5850         3        1  ...     no    no        1       no\n",
              "2  38500.0     4000         2        1  ...     no    no        0       no\n",
              "3  49500.0     3060         3        1  ...     no    no        0       no\n",
              "4  60500.0     6650         3        1  ...     no    no        0       no\n",
              "5  61000.0     6360         2        1  ...     no    no        0       no\n",
              "\n",
              "[5 rows x 12 columns]"
            ]
          },
          "metadata": {
            "tags": []
          },
          "execution_count": 8
        }
      ]
    },
    {
      "cell_type": "markdown",
      "metadata": {
        "id": "ceFHMP2DoBMA"
      },
      "source": [
        "We have a problem here, which we have seen before. Since a nerual network model only accepts numeric inputs, we have to map the yes/no values to 1/0."
      ]
    },
    {
      "cell_type": "code",
      "metadata": {
        "id": "ekJfLyPcnpyn"
      },
      "source": [
        "def yes_no_mapper(string):\n",
        "    if string == \"yes\":\n",
        "        return 1\n",
        "    else:\n",
        "        return 0\n",
        "\n",
        "# Apply the above function to the columns we want.\n",
        "housing[[\"driveway\", \"recroom\", \"fullbase\", \"gashw\", \"airco\", \"prefarea\"]] = housing[[\"driveway\", \"recroom\", \"fullbase\", \"gashw\", \"airco\", \"prefarea\"]].applymap(yes_no_mapper)"
      ],
      "execution_count": null,
      "outputs": []
    },
    {
      "cell_type": "markdown",
      "metadata": {
        "id": "fG0TGLwCz3u6"
      },
      "source": [
        "Let's double check the output:"
      ]
    },
    {
      "cell_type": "code",
      "metadata": {
        "colab": {
          "base_uri": "https://localhost:8080/",
          "height": 419
        },
        "id": "-vUEQ3LZoqDo",
        "outputId": "9c836f93-207f-4067-8d25-7b6dd334bfce"
      },
      "source": [
        "housing"
      ],
      "execution_count": null,
      "outputs": [
        {
          "output_type": "execute_result",
          "data": {
            "text/html": [
              "<div>\n",
              "<style scoped>\n",
              "    .dataframe tbody tr th:only-of-type {\n",
              "        vertical-align: middle;\n",
              "    }\n",
              "\n",
              "    .dataframe tbody tr th {\n",
              "        vertical-align: top;\n",
              "    }\n",
              "\n",
              "    .dataframe thead th {\n",
              "        text-align: right;\n",
              "    }\n",
              "</style>\n",
              "<table border=\"1\" class=\"dataframe\">\n",
              "  <thead>\n",
              "    <tr style=\"text-align: right;\">\n",
              "      <th></th>\n",
              "      <th>price</th>\n",
              "      <th>lotsize</th>\n",
              "      <th>bedrooms</th>\n",
              "      <th>bathrms</th>\n",
              "      <th>stories</th>\n",
              "      <th>driveway</th>\n",
              "      <th>recroom</th>\n",
              "      <th>fullbase</th>\n",
              "      <th>gashw</th>\n",
              "      <th>airco</th>\n",
              "      <th>garagepl</th>\n",
              "      <th>prefarea</th>\n",
              "    </tr>\n",
              "  </thead>\n",
              "  <tbody>\n",
              "    <tr>\n",
              "      <th>1</th>\n",
              "      <td>42000.0</td>\n",
              "      <td>5850</td>\n",
              "      <td>3</td>\n",
              "      <td>1</td>\n",
              "      <td>2</td>\n",
              "      <td>1</td>\n",
              "      <td>0</td>\n",
              "      <td>1</td>\n",
              "      <td>0</td>\n",
              "      <td>0</td>\n",
              "      <td>1</td>\n",
              "      <td>0</td>\n",
              "    </tr>\n",
              "    <tr>\n",
              "      <th>2</th>\n",
              "      <td>38500.0</td>\n",
              "      <td>4000</td>\n",
              "      <td>2</td>\n",
              "      <td>1</td>\n",
              "      <td>1</td>\n",
              "      <td>1</td>\n",
              "      <td>0</td>\n",
              "      <td>0</td>\n",
              "      <td>0</td>\n",
              "      <td>0</td>\n",
              "      <td>0</td>\n",
              "      <td>0</td>\n",
              "    </tr>\n",
              "    <tr>\n",
              "      <th>3</th>\n",
              "      <td>49500.0</td>\n",
              "      <td>3060</td>\n",
              "      <td>3</td>\n",
              "      <td>1</td>\n",
              "      <td>1</td>\n",
              "      <td>1</td>\n",
              "      <td>0</td>\n",
              "      <td>0</td>\n",
              "      <td>0</td>\n",
              "      <td>0</td>\n",
              "      <td>0</td>\n",
              "      <td>0</td>\n",
              "    </tr>\n",
              "    <tr>\n",
              "      <th>4</th>\n",
              "      <td>60500.0</td>\n",
              "      <td>6650</td>\n",
              "      <td>3</td>\n",
              "      <td>1</td>\n",
              "      <td>2</td>\n",
              "      <td>1</td>\n",
              "      <td>1</td>\n",
              "      <td>0</td>\n",
              "      <td>0</td>\n",
              "      <td>0</td>\n",
              "      <td>0</td>\n",
              "      <td>0</td>\n",
              "    </tr>\n",
              "    <tr>\n",
              "      <th>5</th>\n",
              "      <td>61000.0</td>\n",
              "      <td>6360</td>\n",
              "      <td>2</td>\n",
              "      <td>1</td>\n",
              "      <td>1</td>\n",
              "      <td>1</td>\n",
              "      <td>0</td>\n",
              "      <td>0</td>\n",
              "      <td>0</td>\n",
              "      <td>0</td>\n",
              "      <td>0</td>\n",
              "      <td>0</td>\n",
              "    </tr>\n",
              "    <tr>\n",
              "      <th>...</th>\n",
              "      <td>...</td>\n",
              "      <td>...</td>\n",
              "      <td>...</td>\n",
              "      <td>...</td>\n",
              "      <td>...</td>\n",
              "      <td>...</td>\n",
              "      <td>...</td>\n",
              "      <td>...</td>\n",
              "      <td>...</td>\n",
              "      <td>...</td>\n",
              "      <td>...</td>\n",
              "      <td>...</td>\n",
              "    </tr>\n",
              "    <tr>\n",
              "      <th>542</th>\n",
              "      <td>91500.0</td>\n",
              "      <td>4800</td>\n",
              "      <td>3</td>\n",
              "      <td>2</td>\n",
              "      <td>4</td>\n",
              "      <td>1</td>\n",
              "      <td>1</td>\n",
              "      <td>0</td>\n",
              "      <td>0</td>\n",
              "      <td>1</td>\n",
              "      <td>0</td>\n",
              "      <td>0</td>\n",
              "    </tr>\n",
              "    <tr>\n",
              "      <th>543</th>\n",
              "      <td>94000.0</td>\n",
              "      <td>6000</td>\n",
              "      <td>3</td>\n",
              "      <td>2</td>\n",
              "      <td>4</td>\n",
              "      <td>1</td>\n",
              "      <td>0</td>\n",
              "      <td>0</td>\n",
              "      <td>0</td>\n",
              "      <td>1</td>\n",
              "      <td>0</td>\n",
              "      <td>0</td>\n",
              "    </tr>\n",
              "    <tr>\n",
              "      <th>544</th>\n",
              "      <td>103000.0</td>\n",
              "      <td>6000</td>\n",
              "      <td>3</td>\n",
              "      <td>2</td>\n",
              "      <td>4</td>\n",
              "      <td>1</td>\n",
              "      <td>1</td>\n",
              "      <td>0</td>\n",
              "      <td>0</td>\n",
              "      <td>1</td>\n",
              "      <td>1</td>\n",
              "      <td>0</td>\n",
              "    </tr>\n",
              "    <tr>\n",
              "      <th>545</th>\n",
              "      <td>105000.0</td>\n",
              "      <td>6000</td>\n",
              "      <td>3</td>\n",
              "      <td>2</td>\n",
              "      <td>2</td>\n",
              "      <td>1</td>\n",
              "      <td>1</td>\n",
              "      <td>0</td>\n",
              "      <td>0</td>\n",
              "      <td>1</td>\n",
              "      <td>1</td>\n",
              "      <td>0</td>\n",
              "    </tr>\n",
              "    <tr>\n",
              "      <th>546</th>\n",
              "      <td>105000.0</td>\n",
              "      <td>6000</td>\n",
              "      <td>3</td>\n",
              "      <td>1</td>\n",
              "      <td>2</td>\n",
              "      <td>1</td>\n",
              "      <td>0</td>\n",
              "      <td>0</td>\n",
              "      <td>0</td>\n",
              "      <td>1</td>\n",
              "      <td>1</td>\n",
              "      <td>0</td>\n",
              "    </tr>\n",
              "  </tbody>\n",
              "</table>\n",
              "<p>546 rows × 12 columns</p>\n",
              "</div>"
            ],
            "text/plain": [
              "        price  lotsize  bedrooms  bathrms  ...  gashw  airco  garagepl  prefarea\n",
              "1     42000.0     5850         3        1  ...      0      0         1         0\n",
              "2     38500.0     4000         2        1  ...      0      0         0         0\n",
              "3     49500.0     3060         3        1  ...      0      0         0         0\n",
              "4     60500.0     6650         3        1  ...      0      0         0         0\n",
              "5     61000.0     6360         2        1  ...      0      0         0         0\n",
              "..        ...      ...       ...      ...  ...    ...    ...       ...       ...\n",
              "542   91500.0     4800         3        2  ...      0      1         0         0\n",
              "543   94000.0     6000         3        2  ...      0      1         0         0\n",
              "544  103000.0     6000         3        2  ...      0      1         1         0\n",
              "545  105000.0     6000         3        2  ...      0      1         1         0\n",
              "546  105000.0     6000         3        1  ...      0      1         1         0\n",
              "\n",
              "[546 rows x 12 columns]"
            ]
          },
          "metadata": {
            "tags": []
          },
          "execution_count": 7
        }
      ]
    },
    {
      "cell_type": "markdown",
      "metadata": {
        "id": "PIg8R3npz7mD"
      },
      "source": [
        "Neural networks love to have normalised inputs - the type of scaler you use will depend on the inputs you have - finding this will take some experimentation but either MinMax or StandardScaler seem to be the best. Let's scale the data and do some reshaping to make Tensorflow happy. 99% of errors come from shape issues with Tensorflow!"
      ]
    },
    {
      "cell_type": "code",
      "metadata": {
        "id": "GSKIVVNXorQm"
      },
      "source": [
        "y = housing['price'].values\n",
        "y = y.reshape(-1, 1)\n",
        "x = housing.drop('price', axis=1).values\n",
        "\n",
        "x_scaler = MinMaxScaler()\n",
        "x = x_scaler.fit_transform(x)\n",
        "\n",
        "# It is very common to force it to have one sample per line in this way\n",
        "x = x.reshape(-1, 1, 11)\n",
        "\n",
        "y_scaler = MinMaxScaler()\n",
        "y = y_scaler.fit_transform(y)\n"
      ],
      "execution_count": null,
      "outputs": []
    },
    {
      "cell_type": "markdown",
      "metadata": {
        "id": "1r_fpki6pwbH"
      },
      "source": [
        "Now we have our data split into x and y, and somewhat scaled, let's train test split and continue:"
      ]
    },
    {
      "cell_type": "code",
      "metadata": {
        "colab": {
          "base_uri": "https://localhost:8080/"
        },
        "id": "OcUoDszTpTlI",
        "outputId": "da539623-9ef0-4c1b-e58c-f6842d1361bc"
      },
      "source": [
        "x_train, x_test, y_train, y_test = train_test_split(x, y, test_size=0.2)\n",
        "print(x_train.shape)"
      ],
      "execution_count": null,
      "outputs": [
        {
          "output_type": "stream",
          "text": [
            "(436, 1, 11)\n"
          ],
          "name": "stdout"
        }
      ]
    },
    {
      "cell_type": "markdown",
      "metadata": {
        "id": "4r3egjyQqQwr"
      },
      "source": [
        "Now let's define a model. Keras has a few ways to do this, depending on how advanced we want to build our model. For now, let's look at the Sequential API; this is the power of Keras - Tensorflow doesn't have syntax this \"abstracted\"!"
      ]
    },
    {
      "cell_type": "code",
      "metadata": {
        "colab": {
          "base_uri": "https://localhost:8080/"
        },
        "id": "qHGsFrVRqGEt",
        "outputId": "be4cc662-b5cc-47bb-9a21-92141c0448d4"
      },
      "source": [
        "model = keras.Sequential(\n",
        "    [\n",
        "        Dense(8, activation='relu', input_shape=(1, 11)),\n",
        "        Dense(8, activation='relu'),\n",
        "        Dense(1)\n",
        "    ]\n",
        ")\n",
        "\n",
        "# Two callback functions to control the learning rate of the model. Will be clear\n",
        "# later!\n",
        "lr_reduct = tf.keras.callbacks.ReduceLROnPlateau(verbose=1)\n",
        "early_stopping = tf.keras.callbacks.EarlyStopping(patience=20, verbose=1)\n",
        "\n",
        "# Actually compile the model with the optimizer function, loss function, any\n",
        "# metrics we want to track etc.\n",
        "model.compile(optimizer=tf.keras.optimizers.Adam(), loss='mse', metrics=['mae'])\n",
        "model.summary()\n"
      ],
      "execution_count": null,
      "outputs": [
        {
          "output_type": "stream",
          "text": [
            "Model: \"sequential_1\"\n",
            "_________________________________________________________________\n",
            "Layer (type)                 Output Shape              Param #   \n",
            "=================================================================\n",
            "dense_3 (Dense)              (None, 1, 8)              96        \n",
            "_________________________________________________________________\n",
            "dense_4 (Dense)              (None, 1, 8)              72        \n",
            "_________________________________________________________________\n",
            "dense_5 (Dense)              (None, 1, 1)              9         \n",
            "=================================================================\n",
            "Total params: 177\n",
            "Trainable params: 177\n",
            "Non-trainable params: 0\n",
            "_________________________________________________________________\n"
          ],
          "name": "stdout"
        }
      ]
    },
    {
      "cell_type": "markdown",
      "metadata": {
        "id": "OJz7YczRwVdj"
      },
      "source": [
        "Now it's time to actually fit our model to the data. There's a lot more hyperparameters to set up here - the `batch_size` dictates how many samples the model should go through before changing the weights of the model. `validation_split` will automatically create a validation dataset that the model will use at the end of each epoch to test for overfitting. Using the callback functions from earlier, the learning rate of the model will decrease if no progress is made in the *validation* dataset, and will stop altogether if still no progress is made after."
      ]
    },
    {
      "cell_type": "code",
      "metadata": {
        "colab": {
          "base_uri": "https://localhost:8080/"
        },
        "id": "JtPSOgA7rTLf",
        "outputId": "517608a7-7823-4421-8c68-ce7ba8c3063a"
      },
      "source": [
        "history = model.fit(x_train, \n",
        "                    y_train, \n",
        "                    epochs=100, \n",
        "                    verbose=1, \n",
        "                    batch_size=10, \n",
        "                    validation_split=0.2,\n",
        "                    callbacks=[lr_reduct, early_stopping])"
      ],
      "execution_count": null,
      "outputs": [
        {
          "output_type": "stream",
          "text": [
            "Epoch 1/100\n",
            "35/35 [==============================] - 1s 8ms/step - loss: 0.0929 - mae: 0.2360 - val_loss: 0.0486 - val_mae: 0.1677\n",
            "Epoch 2/100\n",
            "35/35 [==============================] - 0s 2ms/step - loss: 0.0422 - mae: 0.1584 - val_loss: 0.0333 - val_mae: 0.1377\n",
            "Epoch 3/100\n",
            "35/35 [==============================] - 0s 2ms/step - loss: 0.0335 - mae: 0.1412 - val_loss: 0.0269 - val_mae: 0.1217\n",
            "Epoch 4/100\n",
            "35/35 [==============================] - 0s 2ms/step - loss: 0.0280 - mae: 0.1265 - val_loss: 0.0226 - val_mae: 0.1102\n",
            "Epoch 5/100\n",
            "35/35 [==============================] - 0s 2ms/step - loss: 0.0241 - mae: 0.1158 - val_loss: 0.0199 - val_mae: 0.1027\n",
            "Epoch 6/100\n",
            "35/35 [==============================] - 0s 2ms/step - loss: 0.0215 - mae: 0.1063 - val_loss: 0.0178 - val_mae: 0.0962\n",
            "Epoch 7/100\n",
            "35/35 [==============================] - 0s 2ms/step - loss: 0.0194 - mae: 0.0991 - val_loss: 0.0163 - val_mae: 0.0908\n",
            "Epoch 8/100\n",
            "35/35 [==============================] - 0s 2ms/step - loss: 0.0171 - mae: 0.0938 - val_loss: 0.0150 - val_mae: 0.0883\n",
            "Epoch 9/100\n",
            "35/35 [==============================] - 0s 2ms/step - loss: 0.0157 - mae: 0.0911 - val_loss: 0.0139 - val_mae: 0.0868\n",
            "Epoch 10/100\n",
            "35/35 [==============================] - 0s 3ms/step - loss: 0.0147 - mae: 0.0868 - val_loss: 0.0135 - val_mae: 0.0873\n",
            "Epoch 11/100\n",
            "35/35 [==============================] - 0s 2ms/step - loss: 0.0139 - mae: 0.0868 - val_loss: 0.0130 - val_mae: 0.0845\n",
            "Epoch 12/100\n",
            "35/35 [==============================] - 0s 2ms/step - loss: 0.0133 - mae: 0.0831 - val_loss: 0.0129 - val_mae: 0.0854\n",
            "Epoch 13/100\n",
            "35/35 [==============================] - 0s 3ms/step - loss: 0.0130 - mae: 0.0835 - val_loss: 0.0126 - val_mae: 0.0839\n",
            "Epoch 14/100\n",
            "35/35 [==============================] - 0s 2ms/step - loss: 0.0126 - mae: 0.0823 - val_loss: 0.0125 - val_mae: 0.0835\n",
            "Epoch 15/100\n",
            "35/35 [==============================] - 0s 2ms/step - loss: 0.0123 - mae: 0.0817 - val_loss: 0.0125 - val_mae: 0.0829\n",
            "Epoch 16/100\n",
            "35/35 [==============================] - 0s 2ms/step - loss: 0.0120 - mae: 0.0801 - val_loss: 0.0122 - val_mae: 0.0818\n",
            "Epoch 17/100\n",
            "35/35 [==============================] - 0s 2ms/step - loss: 0.0117 - mae: 0.0808 - val_loss: 0.0119 - val_mae: 0.0799\n",
            "Epoch 18/100\n",
            "35/35 [==============================] - 0s 2ms/step - loss: 0.0115 - mae: 0.0781 - val_loss: 0.0119 - val_mae: 0.0807\n",
            "Epoch 19/100\n",
            "35/35 [==============================] - 0s 2ms/step - loss: 0.0113 - mae: 0.0786 - val_loss: 0.0118 - val_mae: 0.0808\n",
            "Epoch 20/100\n",
            "35/35 [==============================] - 0s 2ms/step - loss: 0.0111 - mae: 0.0782 - val_loss: 0.0116 - val_mae: 0.0795\n",
            "Epoch 21/100\n",
            "35/35 [==============================] - 0s 2ms/step - loss: 0.0109 - mae: 0.0772 - val_loss: 0.0115 - val_mae: 0.0790\n",
            "Epoch 22/100\n",
            "35/35 [==============================] - 0s 2ms/step - loss: 0.0108 - mae: 0.0769 - val_loss: 0.0120 - val_mae: 0.0831\n",
            "Epoch 23/100\n",
            "35/35 [==============================] - 0s 3ms/step - loss: 0.0107 - mae: 0.0773 - val_loss: 0.0115 - val_mae: 0.0792\n",
            "Epoch 24/100\n",
            "35/35 [==============================] - 0s 3ms/step - loss: 0.0105 - mae: 0.0768 - val_loss: 0.0114 - val_mae: 0.0785\n",
            "Epoch 25/100\n",
            "35/35 [==============================] - 0s 2ms/step - loss: 0.0103 - mae: 0.0759 - val_loss: 0.0114 - val_mae: 0.0783\n",
            "Epoch 26/100\n",
            "35/35 [==============================] - 0s 2ms/step - loss: 0.0101 - mae: 0.0744 - val_loss: 0.0118 - val_mae: 0.0820\n",
            "Epoch 27/100\n",
            "35/35 [==============================] - 0s 2ms/step - loss: 0.0102 - mae: 0.0758 - val_loss: 0.0114 - val_mae: 0.0784\n",
            "Epoch 28/100\n",
            "35/35 [==============================] - 0s 2ms/step - loss: 0.0099 - mae: 0.0750 - val_loss: 0.0113 - val_mae: 0.0787\n",
            "Epoch 29/100\n",
            "35/35 [==============================] - 0s 2ms/step - loss: 0.0099 - mae: 0.0745 - val_loss: 0.0111 - val_mae: 0.0777\n",
            "Epoch 30/100\n",
            "35/35 [==============================] - 0s 2ms/step - loss: 0.0098 - mae: 0.0733 - val_loss: 0.0111 - val_mae: 0.0784\n",
            "Epoch 31/100\n",
            "35/35 [==============================] - 0s 3ms/step - loss: 0.0098 - mae: 0.0746 - val_loss: 0.0111 - val_mae: 0.0771\n",
            "Epoch 32/100\n",
            "35/35 [==============================] - 0s 2ms/step - loss: 0.0096 - mae: 0.0739 - val_loss: 0.0112 - val_mae: 0.0787\n",
            "Epoch 33/100\n",
            "35/35 [==============================] - 0s 2ms/step - loss: 0.0096 - mae: 0.0730 - val_loss: 0.0110 - val_mae: 0.0771\n",
            "Epoch 34/100\n",
            "35/35 [==============================] - 0s 2ms/step - loss: 0.0094 - mae: 0.0722 - val_loss: 0.0109 - val_mae: 0.0772\n",
            "Epoch 35/100\n",
            "35/35 [==============================] - 0s 3ms/step - loss: 0.0093 - mae: 0.0731 - val_loss: 0.0109 - val_mae: 0.0772\n",
            "Epoch 36/100\n",
            "35/35 [==============================] - 0s 3ms/step - loss: 0.0093 - mae: 0.0719 - val_loss: 0.0110 - val_mae: 0.0775\n",
            "Epoch 37/100\n",
            "35/35 [==============================] - 0s 3ms/step - loss: 0.0093 - mae: 0.0725 - val_loss: 0.0109 - val_mae: 0.0756\n",
            "Epoch 38/100\n",
            "35/35 [==============================] - 0s 2ms/step - loss: 0.0090 - mae: 0.0707 - val_loss: 0.0109 - val_mae: 0.0780\n",
            "Epoch 39/100\n",
            "35/35 [==============================] - 0s 3ms/step - loss: 0.0090 - mae: 0.0717 - val_loss: 0.0108 - val_mae: 0.0768\n",
            "Epoch 40/100\n",
            "35/35 [==============================] - 0s 2ms/step - loss: 0.0091 - mae: 0.0710 - val_loss: 0.0108 - val_mae: 0.0760\n",
            "Epoch 41/100\n",
            "35/35 [==============================] - 0s 3ms/step - loss: 0.0090 - mae: 0.0715 - val_loss: 0.0108 - val_mae: 0.0772\n",
            "Epoch 42/100\n",
            "35/35 [==============================] - 0s 2ms/step - loss: 0.0089 - mae: 0.0705 - val_loss: 0.0108 - val_mae: 0.0776\n",
            "Epoch 43/100\n",
            "35/35 [==============================] - 0s 4ms/step - loss: 0.0088 - mae: 0.0704 - val_loss: 0.0106 - val_mae: 0.0760\n",
            "Epoch 44/100\n",
            "35/35 [==============================] - 0s 3ms/step - loss: 0.0087 - mae: 0.0700 - val_loss: 0.0108 - val_mae: 0.0784\n",
            "Epoch 45/100\n",
            "35/35 [==============================] - 0s 2ms/step - loss: 0.0089 - mae: 0.0706 - val_loss: 0.0106 - val_mae: 0.0767\n",
            "Epoch 46/100\n",
            "35/35 [==============================] - 0s 2ms/step - loss: 0.0088 - mae: 0.0700 - val_loss: 0.0107 - val_mae: 0.0765\n",
            "Epoch 47/100\n",
            "35/35 [==============================] - 0s 2ms/step - loss: 0.0087 - mae: 0.0696 - val_loss: 0.0107 - val_mae: 0.0774\n",
            "Epoch 48/100\n",
            "35/35 [==============================] - 0s 2ms/step - loss: 0.0087 - mae: 0.0705 - val_loss: 0.0105 - val_mae: 0.0761\n",
            "Epoch 49/100\n",
            "35/35 [==============================] - 0s 2ms/step - loss: 0.0087 - mae: 0.0696 - val_loss: 0.0106 - val_mae: 0.0772\n",
            "Epoch 50/100\n",
            "35/35 [==============================] - 0s 2ms/step - loss: 0.0087 - mae: 0.0708 - val_loss: 0.0104 - val_mae: 0.0754\n",
            "Epoch 51/100\n",
            "35/35 [==============================] - 0s 2ms/step - loss: 0.0086 - mae: 0.0693 - val_loss: 0.0105 - val_mae: 0.0760\n",
            "Epoch 52/100\n",
            "35/35 [==============================] - 0s 2ms/step - loss: 0.0086 - mae: 0.0691 - val_loss: 0.0107 - val_mae: 0.0780\n",
            "Epoch 53/100\n",
            "35/35 [==============================] - 0s 3ms/step - loss: 0.0084 - mae: 0.0702 - val_loss: 0.0104 - val_mae: 0.0750\n",
            "Epoch 54/100\n",
            "35/35 [==============================] - 0s 3ms/step - loss: 0.0086 - mae: 0.0699 - val_loss: 0.0105 - val_mae: 0.0762\n",
            "Epoch 55/100\n",
            "35/35 [==============================] - 0s 3ms/step - loss: 0.0084 - mae: 0.0690 - val_loss: 0.0103 - val_mae: 0.0753\n",
            "Epoch 56/100\n",
            "35/35 [==============================] - 0s 3ms/step - loss: 0.0085 - mae: 0.0685 - val_loss: 0.0105 - val_mae: 0.0752\n",
            "Epoch 57/100\n",
            "35/35 [==============================] - 0s 2ms/step - loss: 0.0084 - mae: 0.0692 - val_loss: 0.0105 - val_mae: 0.0769\n",
            "Epoch 58/100\n",
            "35/35 [==============================] - 0s 2ms/step - loss: 0.0083 - mae: 0.0692 - val_loss: 0.0105 - val_mae: 0.0766\n",
            "Epoch 59/100\n",
            "35/35 [==============================] - 0s 3ms/step - loss: 0.0083 - mae: 0.0682 - val_loss: 0.0105 - val_mae: 0.0766\n",
            "Epoch 60/100\n",
            "35/35 [==============================] - 0s 3ms/step - loss: 0.0083 - mae: 0.0685 - val_loss: 0.0108 - val_mae: 0.0787\n",
            "Epoch 61/100\n",
            "35/35 [==============================] - 0s 2ms/step - loss: 0.0083 - mae: 0.0683 - val_loss: 0.0107 - val_mae: 0.0777\n",
            "Epoch 62/100\n",
            "35/35 [==============================] - 0s 3ms/step - loss: 0.0082 - mae: 0.0686 - val_loss: 0.0104 - val_mae: 0.0757\n",
            "Epoch 63/100\n",
            "35/35 [==============================] - 0s 2ms/step - loss: 0.0082 - mae: 0.0683 - val_loss: 0.0104 - val_mae: 0.0758\n",
            "Epoch 64/100\n",
            "35/35 [==============================] - 0s 2ms/step - loss: 0.0082 - mae: 0.0681 - val_loss: 0.0108 - val_mae: 0.0783\n",
            "Epoch 65/100\n",
            "35/35 [==============================] - 0s 2ms/step - loss: 0.0081 - mae: 0.0678 - val_loss: 0.0103 - val_mae: 0.0755\n",
            "\n",
            "Epoch 00065: ReduceLROnPlateau reducing learning rate to 0.00010000000474974513.\n",
            "Epoch 66/100\n",
            "35/35 [==============================] - 0s 2ms/step - loss: 0.0079 - mae: 0.0669 - val_loss: 0.0103 - val_mae: 0.0757\n",
            "Epoch 67/100\n",
            "35/35 [==============================] - 0s 2ms/step - loss: 0.0079 - mae: 0.0671 - val_loss: 0.0104 - val_mae: 0.0760\n",
            "Epoch 68/100\n",
            "35/35 [==============================] - 0s 2ms/step - loss: 0.0079 - mae: 0.0669 - val_loss: 0.0104 - val_mae: 0.0760\n",
            "Epoch 69/100\n",
            "35/35 [==============================] - 0s 3ms/step - loss: 0.0079 - mae: 0.0670 - val_loss: 0.0104 - val_mae: 0.0761\n",
            "Epoch 70/100\n",
            "35/35 [==============================] - 0s 3ms/step - loss: 0.0079 - mae: 0.0669 - val_loss: 0.0104 - val_mae: 0.0761\n",
            "Epoch 71/100\n",
            "35/35 [==============================] - 0s 2ms/step - loss: 0.0079 - mae: 0.0669 - val_loss: 0.0104 - val_mae: 0.0761\n",
            "Epoch 72/100\n",
            "35/35 [==============================] - 0s 3ms/step - loss: 0.0079 - mae: 0.0670 - val_loss: 0.0104 - val_mae: 0.0761\n",
            "Epoch 73/100\n",
            "35/35 [==============================] - 0s 3ms/step - loss: 0.0079 - mae: 0.0669 - val_loss: 0.0104 - val_mae: 0.0760\n",
            "Epoch 74/100\n",
            "35/35 [==============================] - 0s 2ms/step - loss: 0.0079 - mae: 0.0669 - val_loss: 0.0104 - val_mae: 0.0762\n",
            "Epoch 75/100\n",
            "35/35 [==============================] - 0s 2ms/step - loss: 0.0079 - mae: 0.0671 - val_loss: 0.0104 - val_mae: 0.0763\n",
            "\n",
            "Epoch 00075: ReduceLROnPlateau reducing learning rate to 1.0000000474974514e-05.\n",
            "Epoch 76/100\n",
            "35/35 [==============================] - 0s 2ms/step - loss: 0.0079 - mae: 0.0669 - val_loss: 0.0104 - val_mae: 0.0762\n",
            "Epoch 77/100\n",
            "35/35 [==============================] - 0s 2ms/step - loss: 0.0079 - mae: 0.0669 - val_loss: 0.0104 - val_mae: 0.0762\n",
            "Epoch 78/100\n",
            "35/35 [==============================] - 0s 2ms/step - loss: 0.0079 - mae: 0.0669 - val_loss: 0.0104 - val_mae: 0.0762\n",
            "Epoch 79/100\n",
            "35/35 [==============================] - 0s 2ms/step - loss: 0.0079 - mae: 0.0669 - val_loss: 0.0104 - val_mae: 0.0762\n",
            "Epoch 80/100\n",
            "35/35 [==============================] - 0s 2ms/step - loss: 0.0079 - mae: 0.0669 - val_loss: 0.0104 - val_mae: 0.0762\n",
            "Epoch 81/100\n",
            "35/35 [==============================] - 0s 2ms/step - loss: 0.0079 - mae: 0.0669 - val_loss: 0.0104 - val_mae: 0.0762\n",
            "Epoch 82/100\n",
            "35/35 [==============================] - 0s 3ms/step - loss: 0.0079 - mae: 0.0669 - val_loss: 0.0104 - val_mae: 0.0762\n",
            "Epoch 83/100\n",
            "35/35 [==============================] - 0s 3ms/step - loss: 0.0079 - mae: 0.0669 - val_loss: 0.0104 - val_mae: 0.0762\n",
            "Epoch 84/100\n",
            "35/35 [==============================] - 0s 2ms/step - loss: 0.0079 - mae: 0.0669 - val_loss: 0.0104 - val_mae: 0.0762\n",
            "Epoch 85/100\n",
            "35/35 [==============================] - 0s 2ms/step - loss: 0.0079 - mae: 0.0669 - val_loss: 0.0104 - val_mae: 0.0762\n",
            "\n",
            "Epoch 00085: ReduceLROnPlateau reducing learning rate to 1.0000000656873453e-06.\n",
            "Epoch 00085: early stopping\n"
          ],
          "name": "stdout"
        }
      ]
    },
    {
      "cell_type": "markdown",
      "metadata": {
        "id": "IjL_HfAYw0kX"
      },
      "source": [
        "Now we have a trained model - but let's do something very common with deep learning and take a look at the historical metrics of our model:"
      ]
    },
    {
      "cell_type": "code",
      "metadata": {
        "id": "Oa-RjVGlrmzD",
        "colab": {
          "base_uri": "https://localhost:8080/",
          "height": 419
        },
        "outputId": "9c566fd5-271d-4148-cf29-86c746419591"
      },
      "source": [
        "history_df = pd.DataFrame(history.history)\n",
        "history_df"
      ],
      "execution_count": null,
      "outputs": [
        {
          "output_type": "execute_result",
          "data": {
            "text/html": [
              "<div>\n",
              "<style scoped>\n",
              "    .dataframe tbody tr th:only-of-type {\n",
              "        vertical-align: middle;\n",
              "    }\n",
              "\n",
              "    .dataframe tbody tr th {\n",
              "        vertical-align: top;\n",
              "    }\n",
              "\n",
              "    .dataframe thead th {\n",
              "        text-align: right;\n",
              "    }\n",
              "</style>\n",
              "<table border=\"1\" class=\"dataframe\">\n",
              "  <thead>\n",
              "    <tr style=\"text-align: right;\">\n",
              "      <th></th>\n",
              "      <th>loss</th>\n",
              "      <th>mae</th>\n",
              "      <th>val_loss</th>\n",
              "      <th>val_mae</th>\n",
              "      <th>lr</th>\n",
              "    </tr>\n",
              "  </thead>\n",
              "  <tbody>\n",
              "    <tr>\n",
              "      <th>0</th>\n",
              "      <td>0.092914</td>\n",
              "      <td>0.235968</td>\n",
              "      <td>0.048563</td>\n",
              "      <td>0.167736</td>\n",
              "      <td>0.00100</td>\n",
              "    </tr>\n",
              "    <tr>\n",
              "      <th>1</th>\n",
              "      <td>0.042183</td>\n",
              "      <td>0.158375</td>\n",
              "      <td>0.033340</td>\n",
              "      <td>0.137716</td>\n",
              "      <td>0.00100</td>\n",
              "    </tr>\n",
              "    <tr>\n",
              "      <th>2</th>\n",
              "      <td>0.033502</td>\n",
              "      <td>0.141198</td>\n",
              "      <td>0.026944</td>\n",
              "      <td>0.121729</td>\n",
              "      <td>0.00100</td>\n",
              "    </tr>\n",
              "    <tr>\n",
              "      <th>3</th>\n",
              "      <td>0.027968</td>\n",
              "      <td>0.126505</td>\n",
              "      <td>0.022640</td>\n",
              "      <td>0.110169</td>\n",
              "      <td>0.00100</td>\n",
              "    </tr>\n",
              "    <tr>\n",
              "      <th>4</th>\n",
              "      <td>0.024097</td>\n",
              "      <td>0.115816</td>\n",
              "      <td>0.019879</td>\n",
              "      <td>0.102747</td>\n",
              "      <td>0.00100</td>\n",
              "    </tr>\n",
              "    <tr>\n",
              "      <th>...</th>\n",
              "      <td>...</td>\n",
              "      <td>...</td>\n",
              "      <td>...</td>\n",
              "      <td>...</td>\n",
              "      <td>...</td>\n",
              "    </tr>\n",
              "    <tr>\n",
              "      <th>80</th>\n",
              "      <td>0.007862</td>\n",
              "      <td>0.066872</td>\n",
              "      <td>0.010439</td>\n",
              "      <td>0.076231</td>\n",
              "      <td>0.00001</td>\n",
              "    </tr>\n",
              "    <tr>\n",
              "      <th>81</th>\n",
              "      <td>0.007861</td>\n",
              "      <td>0.066870</td>\n",
              "      <td>0.010439</td>\n",
              "      <td>0.076230</td>\n",
              "      <td>0.00001</td>\n",
              "    </tr>\n",
              "    <tr>\n",
              "      <th>82</th>\n",
              "      <td>0.007862</td>\n",
              "      <td>0.066855</td>\n",
              "      <td>0.010434</td>\n",
              "      <td>0.076206</td>\n",
              "      <td>0.00001</td>\n",
              "    </tr>\n",
              "    <tr>\n",
              "      <th>83</th>\n",
              "      <td>0.007861</td>\n",
              "      <td>0.066854</td>\n",
              "      <td>0.010437</td>\n",
              "      <td>0.076218</td>\n",
              "      <td>0.00001</td>\n",
              "    </tr>\n",
              "    <tr>\n",
              "      <th>84</th>\n",
              "      <td>0.007860</td>\n",
              "      <td>0.066857</td>\n",
              "      <td>0.010438</td>\n",
              "      <td>0.076222</td>\n",
              "      <td>0.00001</td>\n",
              "    </tr>\n",
              "  </tbody>\n",
              "</table>\n",
              "<p>85 rows × 5 columns</p>\n",
              "</div>"
            ],
            "text/plain": [
              "        loss       mae  val_loss   val_mae       lr\n",
              "0   0.092914  0.235968  0.048563  0.167736  0.00100\n",
              "1   0.042183  0.158375  0.033340  0.137716  0.00100\n",
              "2   0.033502  0.141198  0.026944  0.121729  0.00100\n",
              "3   0.027968  0.126505  0.022640  0.110169  0.00100\n",
              "4   0.024097  0.115816  0.019879  0.102747  0.00100\n",
              "..       ...       ...       ...       ...      ...\n",
              "80  0.007862  0.066872  0.010439  0.076231  0.00001\n",
              "81  0.007861  0.066870  0.010439  0.076230  0.00001\n",
              "82  0.007862  0.066855  0.010434  0.076206  0.00001\n",
              "83  0.007861  0.066854  0.010437  0.076218  0.00001\n",
              "84  0.007860  0.066857  0.010438  0.076222  0.00001\n",
              "\n",
              "[85 rows x 5 columns]"
            ]
          },
          "metadata": {
            "tags": []
          },
          "execution_count": 12
        }
      ]
    },
    {
      "cell_type": "markdown",
      "metadata": {
        "id": "l1iQx88Ew7uI"
      },
      "source": [
        "Now let's plot them:"
      ]
    },
    {
      "cell_type": "code",
      "metadata": {
        "colab": {
          "base_uri": "https://localhost:8080/",
          "height": 592
        },
        "id": "o_00wDi2wvfo",
        "outputId": "92257703-8aa7-47dd-9484-2948cb501a98"
      },
      "source": [
        "fig, (ax1, ax2) = plt.subplots(2, 1, figsize=(10, 10))\n",
        "\n",
        "ax1.plot(history_df['loss'], label=\"Training Loss/MSE\")\n",
        "ax1.plot(history_df['val_loss'], label='Validation Loss/MSE')\n",
        "ax1.legend()\n",
        "\n",
        "ax2.plot(history_df['mae'], label=\"Training MAE\")\n",
        "ax2.plot(history_df['val_mae'], label=\"Validation MAE\")\n",
        "ax2.legend()\n",
        "\n",
        "plt.show()\n"
      ],
      "execution_count": null,
      "outputs": [
        {
          "output_type": "display_data",
          "data": {
            "image/png": "[encoded data removed]",
            "text/plain": [
              "<Figure size 720x720 with 2 Axes>"
            ]
          },
          "metadata": {
            "tags": [],
            "needs_background": "light"
          }
        }
      ]
    },
    {
      "cell_type": "markdown",
      "metadata": {
        "id": "eiUyMkH2w9Jf"
      },
      "source": [
        "So how do we read these plots? Essentially, the validation metrics are the best reflection of our model's performance, since the training metrics are prone to overfitting. The point at which the validation metrics stop improving is usually a good place to stop training, as everything after is making the model over-specific to the training data.\n",
        "\n",
        "Let's get a final, interpretable performance metric for our model using our test dataset"
      ]
    },
    {
      "cell_type": "code",
      "metadata": {
        "id": "8CkXyPeJxQmy"
      },
      "source": [
        "y_predict = model.predict(x_test)"
      ],
      "execution_count": null,
      "outputs": []
    },
    {
      "cell_type": "code",
      "metadata": {
        "colab": {
          "base_uri": "https://localhost:8080/"
        },
        "id": "DAoc6fOhx-V3",
        "outputId": "b0b40634-7de0-4d5a-fb51-c9c24b704f38"
      },
      "source": [
        "# Since our data was transformed, we have to transform it back to\n",
        "# something that makes sense.\n",
        "y_predict = y_scaler.inverse_transform(y_predict.reshape(-1, 1))\n",
        "y_test = y_scaler.inverse_transform(y_test.reshape(-1, 1))\n",
        "\n",
        "# Here we use mean absolute error to get an intepretable value.\n",
        "print(\"RMSE for test dataset:\", mean_absolute_error(y_predict, y_test))"
      ],
      "execution_count": null,
      "outputs": [
        {
          "output_type": "stream",
          "text": [
            "RMSE for test dataset: 11846.700337357952\n"
          ],
          "name": "stdout"
        }
      ]
    },
    {
      "cell_type": "markdown",
      "metadata": {
        "id": "MV4aPRuqxhG1"
      },
      "source": [
        "So on average, our model is wrong by about 12000 USD. The mean house price is about 68000 USD, so not awful for a small model!"
      ]
    },
    {
      "cell_type": "markdown",
      "metadata": {
        "id": "rbNQBUnZzZ96"
      },
      "source": [
        "# Convolutional Neural Networks\n",
        "\n",
        "CNNs are the current \"big thing\" in AI, and are typically used from video analysis to studying genomic data. Even though the mechanism by which they work is most like the vision system in many animals, it turns out that same system is quite useful for a lot of other tasks! For now though, let's keep it simple and look at a benchmark dataset, called \"Fashion MNIST\". `keras` comes with this dataset built in, with everything preprocessed nicely for us, so let's take a look: "
      ]
    },
    {
      "cell_type": "code",
      "metadata": {
        "id": "o6F_fKFO2zbc"
      },
      "source": [
        "from keras.datasets import fashion_mnist\n",
        "\n",
        "(x_train, y_train), (x_test, y_test) = fashion_mnist.load_data()"
      ],
      "execution_count": null,
      "outputs": []
    },
    {
      "cell_type": "code",
      "metadata": {
        "colab": {
          "base_uri": "https://localhost:8080/",
          "height": 729
        },
        "id": "V-9l2HcT25wT",
        "outputId": "55d303b2-1191-45a7-b41a-9c887f24cc34"
      },
      "source": [
        "# Plot some images\n",
        "fig, axes = plt.subplots(3, 3, figsize=(10, 10))\n",
        "\n",
        "for idx, ax in enumerate(axes.flatten()):\n",
        "    ax.imshow(x_train[idx], cmap='Greys')\n",
        "    ax.set_title(y_train[idx])\n",
        "\n",
        "plt.tight_layout()\n",
        "plt.show()"
      ],
      "execution_count": null,
      "outputs": [
        {
          "output_type": "display_data",
          "data": {
            "image/png": "[encoded data removed]",
            "text/plain": [
              "<Figure size 720x720 with 9 Axes>"
            ]
          },
          "metadata": {
            "tags": [],
            "needs_background": "light"
          }
        }
      ]
    },
    {
      "cell_type": "markdown",
      "metadata": {
        "id": "vPvJ-bm84PEN"
      },
      "source": [
        "The class labels might not make much sense since they have been pre-factored, but here they are from the dataset specification:\n",
        "\n",
        "| Label | Meaning |\n",
        "| ---- | ---- |\n",
        "|0|\tT-shirt/top |\n",
        "|1|\tTrouser |\n",
        "|2|\tPullover |\n",
        "|3|\tDress |\n",
        "|4|\tCoat |\n",
        "|5|\tSandal |\n",
        "|6|\tShirt |\n",
        "|7|\tSneaker |\n",
        "|8|\tBag |\n",
        "|9|\tAnkle boot |"
      ]
    },
    {
      "cell_type": "code",
      "metadata": {
        "id": "8Ux7lmcReuNx"
      },
      "source": [
        "# One hot encode y_train, y_test\n",
        "y_train = to_categorical(y_train)\n",
        "y_test = to_categorical(y_test)"
      ],
      "execution_count": null,
      "outputs": []
    },
    {
      "cell_type": "code",
      "metadata": {
        "colab": {
          "base_uri": "https://localhost:8080/"
        },
        "id": "4aYSjIb35ZpR",
        "outputId": "a34c40a1-c3e8-4623-e0f3-931bb4ba3dac"
      },
      "source": [
        "# Reshape so 1 image is one sample\n",
        "x_train = x_train.reshape(-1, 28, 28, 1)\n",
        "x_test = x_test.reshape(-1, 28, 28, 1)\n",
        "\n",
        "print(x_train.shape)\n",
        "print(x_test.shape)"
      ],
      "execution_count": null,
      "outputs": [
        {
          "output_type": "stream",
          "text": [
            "(60000, 28, 28, 1)\n",
            "(10000, 28, 28, 1)\n"
          ],
          "name": "stdout"
        }
      ]
    },
    {
      "cell_type": "code",
      "metadata": {
        "id": "EB8ie9BuZ3im"
      },
      "source": [
        "# Finally scale to (0, 1)\n",
        "x_train = x_train.astype(\"float32\") / 255\n",
        "x_test = x_test.astype(\"float32\") / 255"
      ],
      "execution_count": null,
      "outputs": []
    },
    {
      "cell_type": "code",
      "metadata": {
        "colab": {
          "base_uri": "https://localhost:8080/"
        },
        "id": "fJelMJuo526U",
        "outputId": "a9ed357b-616c-4cab-a496-34ffe89f2ab9"
      },
      "source": [
        "model = keras.Sequential(\n",
        "    [\n",
        "        Conv2D(32, (3, 3), activation='relu', input_shape=(28, 28, 1)),\n",
        "        MaxPooling2D((2, 2)),\n",
        "        Conv2D(64, (3, 3), activation='relu'),\n",
        "        MaxPooling2D((2, 2)),\n",
        "        Flatten(),\n",
        "\t    Dense(100, activation='relu'),\n",
        "\t    Dense(10, activation='softmax')\n",
        "    ]\n",
        ")\n",
        "\n",
        "model.compile(optimizer=tf.keras.optimizers.Adam(), \n",
        "              loss='categorical_crossentropy', \n",
        "              metrics=['accuracy'])\n",
        "\n",
        "model.summary()"
      ],
      "execution_count": null,
      "outputs": [
        {
          "output_type": "stream",
          "text": [
            "Model: \"sequential_38\"\n",
            "_________________________________________________________________\n",
            "Layer (type)                 Output Shape              Param #   \n",
            "=================================================================\n",
            "conv2d_76 (Conv2D)           (None, 26, 26, 32)        320       \n",
            "_________________________________________________________________\n",
            "max_pooling2d_76 (MaxPooling (None, 13, 13, 32)        0         \n",
            "_________________________________________________________________\n",
            "conv2d_77 (Conv2D)           (None, 11, 11, 64)        18496     \n",
            "_________________________________________________________________\n",
            "max_pooling2d_77 (MaxPooling (None, 5, 5, 64)          0         \n",
            "_________________________________________________________________\n",
            "flatten_38 (Flatten)         (None, 1600)              0         \n",
            "_________________________________________________________________\n",
            "dense_76 (Dense)             (None, 100)               160100    \n",
            "_________________________________________________________________\n",
            "dense_77 (Dense)             (None, 10)                1010      \n",
            "=================================================================\n",
            "Total params: 179,926\n",
            "Trainable params: 179,926\n",
            "Non-trainable params: 0\n",
            "_________________________________________________________________\n"
          ],
          "name": "stdout"
        }
      ]
    },
    {
      "cell_type": "code",
      "metadata": {
        "colab": {
          "base_uri": "https://localhost:8080/"
        },
        "id": "kCbSc0gAPTYv",
        "outputId": "3d3f6651-20ac-4b29-a99b-6417f863700b"
      },
      "source": [
        "history = model.fit(x_train, \n",
        "                    y_train, \n",
        "                    epochs=5, \n",
        "                    batch_size=100,\n",
        "                    verbose=1, \n",
        "                    validation_split=0.)"
      ],
      "execution_count": null,
      "outputs": [
        {
          "output_type": "stream",
          "text": [
            "480/480 [==============================] - 42s 86ms/step - loss: 0.5686 - accuracy: 0.7973 - val_loss: 0.4071 - val_accuracy: 0.8556\n"
          ],
          "name": "stdout"
        }
      ]
    },
    {
      "cell_type": "markdown",
      "metadata": {
        "id": "VSTxuDvTfPR_"
      },
      "source": [
        "As before, let's check out the historical data:"
      ]
    },
    {
      "cell_type": "code",
      "metadata": {
        "colab": {
          "base_uri": "https://localhost:8080/",
          "height": 81
        },
        "id": "hn1fPbarfMOg",
        "outputId": "b41036d2-dd41-4c92-8286-c675752c5175"
      },
      "source": [
        "history_df = pd.DataFrame(history.history)\n",
        "history_df"
      ],
      "execution_count": null,
      "outputs": [
        {
          "output_type": "execute_result",
          "data": {
            "text/html": [
              "<div>\n",
              "<style scoped>\n",
              "    .dataframe tbody tr th:only-of-type {\n",
              "        vertical-align: middle;\n",
              "    }\n",
              "\n",
              "    .dataframe tbody tr th {\n",
              "        vertical-align: top;\n",
              "    }\n",
              "\n",
              "    .dataframe thead th {\n",
              "        text-align: right;\n",
              "    }\n",
              "</style>\n",
              "<table border=\"1\" class=\"dataframe\">\n",
              "  <thead>\n",
              "    <tr style=\"text-align: right;\">\n",
              "      <th></th>\n",
              "      <th>loss</th>\n",
              "      <th>accuracy</th>\n",
              "      <th>val_loss</th>\n",
              "      <th>val_accuracy</th>\n",
              "      <th>lr</th>\n",
              "    </tr>\n",
              "  </thead>\n",
              "  <tbody>\n",
              "    <tr>\n",
              "      <th>0</th>\n",
              "      <td>0.568636</td>\n",
              "      <td>0.797333</td>\n",
              "      <td>0.407143</td>\n",
              "      <td>0.855583</td>\n",
              "      <td>0.001</td>\n",
              "    </tr>\n",
              "  </tbody>\n",
              "</table>\n",
              "</div>"
            ],
            "text/plain": [
              "       loss  accuracy  val_loss  val_accuracy     lr\n",
              "0  0.568636  0.797333  0.407143      0.855583  0.001"
            ]
          },
          "metadata": {
            "tags": []
          },
          "execution_count": 154
        }
      ]
    },
    {
      "cell_type": "code",
      "metadata": {
        "colab": {
          "base_uri": "https://localhost:8080/",
          "height": 592
        },
        "id": "7WrWuIyIfOno",
        "outputId": "d9796e4c-9b4c-438a-fdbe-8113a32f6c91"
      },
      "source": [
        "fig, (ax1, ax2) = plt.subplots(2, 1, figsize=(10, 10))\n",
        "\n",
        "ax1.plot(history_df['loss'], label=\"Training CCE\")\n",
        "ax1.plot(history_df['val_loss'], label='Validation CCE')\n",
        "ax1.legend()\n",
        "\n",
        "ax2.plot(history_df['accuracy'], label=\"Training Accuracy\")\n",
        "ax2.plot(history_df['val_accuracy'], label=\"Validation Accuracy\")\n",
        "ax2.legend()\n",
        "\n",
        "plt.show()"
      ],
      "execution_count": null,
      "outputs": [
        {
          "output_type": "display_data",
          "data": {
            "image/png": "[encoded data removed]",
            "text/plain": [
              "<Figure size 720x720 with 2 Axes>"
            ]
          },
          "metadata": {
            "tags": [],
            "needs_background": "light"
          }
        }
      ]
    },
    {
      "cell_type": "code",
      "metadata": {
        "colab": {
          "base_uri": "https://localhost:8080/"
        },
        "id": "k-tQcIjCfVyR",
        "outputId": "ac2a1e11-78d8-4607-c607-e6934c2b0196"
      },
      "source": [
        "y_predict = model.predict(x_test)\n",
        "\n",
        "# Let's take a look at y_predict\n",
        "print(y_predict[0])\n",
        "\n",
        "# Argmax along the rows\n",
        "y_predict = np.argmax(y_predict, axis=1)\n",
        "y_test = np.argmax(y_test, axis=1)\n",
        "\n",
        "print(y_predict[0])\n",
        "# Here we use mean absolute error to get an intepretable value.\n",
        "print(\"F1 Score:\", f1_score(y_predict, y_test, average='macro'))"
      ],
      "execution_count": null,
      "outputs": [
        {
          "output_type": "stream",
          "text": [
            "[1.3463508e-04 3.7318148e-06 1.3289032e-05 2.4937190e-05 7.3905903e-05\n",
            " 2.1110097e-02 4.0555489e-05 8.7404765e-02 4.7426182e-03 8.8645148e-01]\n",
            "9\n",
            "F1 Score: 0.8452614579563951\n"
          ],
          "name": "stdout"
        }
      ]
    },
    {
      "cell_type": "markdown",
      "metadata": {
        "id": "0CFs0WgtzchJ"
      },
      "source": [
        "# Activity 1.1\n",
        "\n",
        "It's the last time we're going to use our good friend, the `iris` dataset - but deep learning has so many things that can go wrong, if we have a familiar dataset it can be very helpful! Build a fully connected deep learning model for predicting the species of a iris plant given its attributes. Perform proper scaling, train/test splitting, and find the best metric to use to measure performance (hint: this is a classification task so mean squared error won't work!)."
      ]
    },
    {
      "cell_type": "markdown",
      "metadata": {
        "id": "ZeSE7iTsz_kI"
      },
      "source": [
        "# Activity 1.2\n",
        "\n",
        "An alternative to the Fashion MNIST dataset is the Digit MNIST dataset which we have seen from another example. Your task is to load the dataset using the function below, and using a CNN build a classifier for judging the digit of an input using proper model validation, scaling and metrics.\n",
        "\n",
        "Then, try creating an image yourself to test the model out! You will need to use Microsoft Paint (or equivilent) and ensure the size of the image is correct with the input! "
      ]
    },
    {
      "cell_type": "code",
      "metadata": {
        "colab": {
          "base_uri": "https://localhost:8080/"
        },
        "id": "69UZIncd0op8",
        "outputId": "88e42a9f-90d7-4c98-ff4e-7c62432c82e7"
      },
      "source": [
        "# The function below will load the dataset.\n",
        "# For information about the dataset, go to the url below:\n",
        "# https://keras.io/api/datasets/mnist/\n",
        "(x_train, y_train), (x_test, y_test) = keras.datasets.mnist.load_data()\n"
      ],
      "execution_count": null,
      "outputs": [
        {
          "output_type": "stream",
          "text": [
            "Downloading data from https://storage.googleapis.com/tensorflow/tf-keras-datasets/mnist.npz\n",
            "11493376/11490434 [==============================] - 0s 0us/step\n"
          ],
          "name": "stdout"
        }
      ]
    },
    {
      "cell_type": "markdown",
      "metadata": {
        "id": "LdqM2mw-0iyT"
      },
      "source": [
        "# Activity 1.3 (VERY TOUGH!)\n",
        "\n",
        "Remember the [Birmingham Car Parking dataset](https://archive.ics.uci.edu/ml/datasets/Parking+Birmingham)? Download this dataset and compare the model performance between a fully connected network and a recurrent network for predicting the next car park spaces reading. Some notes to help out (this is a very hard task!)\n",
        "\n",
        "* You will need to preprocess the data so that you have an array of windows (say hours 1am, 2am, 3am, 4am) and an array of \"next hours\" (5am for the example above). Note that we know the value of 5am - this is essential for training but we can also shift the window by one and use  that value as an *input* for the next training step (for 6am).\n",
        "* You have many car parking locations in the dataset - you have two choices, either use the car parking location as another input to your model (you will need to factor that so it is numeric), or treat all car parks in Birmingham as the same and create one large aggregate dataset. Can you think of the pros/cons of each method?\n",
        "\n"
      ]
    }
  ]
}
